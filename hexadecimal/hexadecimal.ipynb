{
 "cells": [
  {
   "cell_type": "code",
   "execution_count": 1,
   "metadata": {},
   "outputs": [],
   "source": [
    "# !pip3 install tabulate --quiet"
   ]
  },
  {
   "cell_type": "code",
   "execution_count": 2,
   "metadata": {},
   "outputs": [],
   "source": [
    "from tabulate import tabulate"
   ]
  },
  {
   "attachments": {},
   "cell_type": "markdown",
   "metadata": {},
   "source": [
    "# Binary vs Hexadecimal vs Decimal\n",
    "\n",
    "- ##### Both binary and hexadecimal can be used to represent the same numbers as the decimal system, but they have different advantages and disadvantages depending on the application. \n",
    "\n",
    "- ##### Binary is useful for low-level operations in digital electronics, while hexadecimal is more compact and easier to read for humans. \n",
    "\n",
    "- ##### In programming, hexadecimal is often used to represent memory addresses and machine code instructions."
   ]
  },
  {
   "attachments": {},
   "cell_type": "markdown",
   "metadata": {},
   "source": [
    "## Binary\n",
    "\n",
    "- The binary numeral system uses only two symbols, typically represented by `0` and `1`, to represent any number. \n",
    "\n",
    "- It is used in `digital circuits` and `computer processors` to represent and manipulate data. \n",
    "\n",
    "- Each binary digit is called a `bit`, and a group of 8 bits is called a `byte`."
   ]
  },
  {
   "cell_type": "code",
   "execution_count": 3,
   "metadata": {},
   "outputs": [
    {
     "name": "stdout",
     "output_type": "stream",
     "text": [
      "+-----------+----------+\n",
      "|   Decimal |   Binary |\n",
      "+===========+==========+\n",
      "|         0 | 00000000 |\n",
      "+-----------+----------+\n",
      "|         1 | 00000001 |\n",
      "+-----------+----------+\n",
      "|         2 | 00000010 |\n",
      "+-----------+----------+\n",
      "|         3 | 00000011 |\n",
      "+-----------+----------+\n",
      "|         4 | 00000100 |\n",
      "+-----------+----------+\n",
      "|         5 | 00000101 |\n",
      "+-----------+----------+\n",
      "|         6 | 00000110 |\n",
      "+-----------+----------+\n",
      "|         7 | 00000111 |\n",
      "+-----------+----------+\n",
      "|         8 | 00001000 |\n",
      "+-----------+----------+\n",
      "|         9 | 00001001 |\n",
      "+-----------+----------+\n",
      "|        10 | 00001010 |\n",
      "+-----------+----------+\n",
      "|        11 | 00001011 |\n",
      "+-----------+----------+\n",
      "|        12 | 00001100 |\n",
      "+-----------+----------+\n",
      "|        13 | 00001101 |\n",
      "+-----------+----------+\n",
      "|        14 | 00001110 |\n",
      "+-----------+----------+\n",
      "|        15 | 00001111 |\n",
      "+-----------+----------+\n"
     ]
    }
   ],
   "source": [
    "def decimal_to_binary(num):\n",
    "    \"\"\"Convert a decimal number to its binary representation\"\"\"\n",
    "    # Convert the number to binary and remove the prefix '0b'\n",
    "    binary = bin(num)[2:]\n",
    "    # Add leading zeros to make the binary string 8 bits long\n",
    "    binary = binary.rjust(8, '0')\n",
    "    return binary\n",
    "\n",
    "# Define the table headers and data\n",
    "headers = [\"Decimal\", \"Binary\"]\n",
    "data = [(i, decimal_to_binary(i)) for i in range(16)]\n",
    "\n",
    "# Print the table using the tabulate package\n",
    "print(tabulate(data, headers=headers, tablefmt=\"grid\"))\n"
   ]
  },
  {
   "attachments": {},
   "cell_type": "markdown",
   "metadata": {},
   "source": [
    "## Hexadecimal\n",
    "\n",
    "- The `hexadecimal` numeral system uses `16` symbols, typically represented by the digits `0-9` and the letters `A-F`, to represent any number. \n",
    "\n",
    "- It is often used as a shorthand for binary numbers in computer programming and networking. \n",
    "\n",
    "- Each hexadecimal digit represents 4 bits, and a group of 2 hexadecimal digits represents a byte."
   ]
  },
  {
   "cell_type": "code",
   "execution_count": 4,
   "metadata": {},
   "outputs": [
    {
     "name": "stdout",
     "output_type": "stream",
     "text": [
      "+-----------+---------------+\n",
      "|   Decimal | Hexadecimal   |\n",
      "+===========+===============+\n",
      "|         0 | 00            |\n",
      "+-----------+---------------+\n",
      "|         1 | 01            |\n",
      "+-----------+---------------+\n",
      "|         2 | 02            |\n",
      "+-----------+---------------+\n",
      "|         3 | 03            |\n",
      "+-----------+---------------+\n",
      "|         4 | 04            |\n",
      "+-----------+---------------+\n",
      "|         5 | 05            |\n",
      "+-----------+---------------+\n",
      "|         6 | 06            |\n",
      "+-----------+---------------+\n",
      "|         7 | 07            |\n",
      "+-----------+---------------+\n",
      "|         8 | 08            |\n",
      "+-----------+---------------+\n",
      "|         9 | 09            |\n",
      "+-----------+---------------+\n",
      "|        10 | 0A            |\n",
      "+-----------+---------------+\n",
      "|        11 | 0B            |\n",
      "+-----------+---------------+\n",
      "|        12 | 0C            |\n",
      "+-----------+---------------+\n",
      "|        13 | 0D            |\n",
      "+-----------+---------------+\n",
      "|        14 | 0E            |\n",
      "+-----------+---------------+\n",
      "|        15 | 0F            |\n",
      "+-----------+---------------+\n",
      "|        16 | 10            |\n",
      "+-----------+---------------+\n",
      "|        17 | 11            |\n",
      "+-----------+---------------+\n",
      "|        18 | 12            |\n",
      "+-----------+---------------+\n",
      "|        19 | 13            |\n",
      "+-----------+---------------+\n",
      "|        20 | 14            |\n",
      "+-----------+---------------+\n"
     ]
    }
   ],
   "source": [
    "def decimal_to_hexadecimal(num):\n",
    "    \"\"\"Convert a decimal number to its hexadecimal representation\"\"\"\n",
    "    # Convert the number to hexadecimal and remove the prefix '0x'\n",
    "    hexadecimal = hex(num)[2:]\n",
    "    # Add leading zeros to make the hexadecimal string 2 characters long\n",
    "    hexadecimal = hexadecimal.rjust(2, '0')\n",
    "    return hexadecimal.upper()\n",
    "\n",
    "# Define the table headers and data\n",
    "headers = [\"Decimal\", \"Hexadecimal\"]\n",
    "data = [(i, decimal_to_hexadecimal(i)) for i in range(21)]\n",
    "\n",
    "# Print the table using the tabulate package\n",
    "print(tabulate(data, headers=headers, tablefmt=\"grid\"))\n"
   ]
  }
 ],
 "metadata": {
  "kernelspec": {
   "display_name": "Python 3",
   "language": "python",
   "name": "python3"
  },
  "language_info": {
   "codemirror_mode": {
    "name": "ipython",
    "version": 3
   },
   "file_extension": ".py",
   "mimetype": "text/x-python",
   "name": "python",
   "nbconvert_exporter": "python",
   "pygments_lexer": "ipython3",
   "version": "3.11.2"
  },
  "orig_nbformat": 4
 },
 "nbformat": 4,
 "nbformat_minor": 2
}
