{
 "cells": [
  {
   "cell_type": "code",
   "execution_count": 2,
   "metadata": {},
   "outputs": [
    {
     "data": {
      "text/plain": [
       "6484"
      ]
     },
     "execution_count": 2,
     "metadata": {},
     "output_type": "execute_result"
    }
   ],
   "source": [
    "# calculate the total count of packages in the response \n",
    "\n",
    "import requests\n",
    "import json \n",
    "# import importlib\n",
    "# importlib.reload(json)\n",
    "\n",
    "# url containing metadata about all packages\n",
    "url = \"https://formulae.brew.sh/api/formula.json\"\n",
    "\n",
    "r = requests.get(url)\n",
    "\n",
    "# using the json decoder of the requests module, read the JSON response \n",
    "packages_json = r.json()\n",
    "\n",
    "len(packages_json)"
   ]
  },
  {
   "cell_type": "code",
   "execution_count": 3,
   "metadata": {},
   "outputs": [
    {
     "name": "stdout",
     "output_type": "stream",
     "text": [
      "a2ps Any-to-PostScript filter 71 301 1283\n"
     ]
    }
   ],
   "source": [
    "# put in a delay between each request in case the API may have a request limit\n",
    "# i.e Google Analytics has max 10 requests per second limit.\n",
    "\n",
    "for package in packages_json:\n",
    "    package_name = package['name']\n",
    "    package_desciption = package['desc']\n",
    "\n",
    "    package_url = f\"https://formulae.brew.sh/api/formula/{package_name}.json\"\n",
    "\n",
    "    r = requests.get(package_url)\n",
    "    package_json = r.json()\n",
    "\n",
    "    installs_30 = package_json['analytics']['install_on_request']['30d'][package_name]\n",
    "    installs_90 = package_json['analytics']['install_on_request']['90d'][package_name]\n",
    "    installs_365 = package_json['analytics']['install_on_request']['365d'][package_name]\n",
    "\n",
    "    print(package_name, package_desciption, installs_30, installs_90, installs_365)\n",
    "    break         # test out the connection once again\n"
   ]
  },
  {
   "cell_type": "code",
   "execution_count": 4,
   "metadata": {},
   "outputs": [
    {
     "name": "stdout",
     "output_type": "stream",
     "text": [
      "[{'name': 'a2ps', 'desc': 'Any-to-PostScript filter', 'analytics': {'30d': 71, '90d': 301, '365d': 1283}}]\n"
     ]
    }
   ],
   "source": [
    "# create a dictionary named data to save the response locally \n",
    "# in json format for future analytics\n",
    "\n",
    "# import time module to put a sleep in between each request \n",
    "import time \n",
    "\n",
    "results = []\n",
    "\n",
    "for package in packages_json:\n",
    "    package_name = package['name']\n",
    "    package_desciption = package['desc']\n",
    "\n",
    "    package_url = f\"https://formulae.brew.sh/api/formula/{package_name}.json\"\n",
    "\n",
    "    r = requests.get(package_url)\n",
    "    package_json = r.json()\n",
    "\n",
    "    installs_30 = package_json['analytics']['install_on_request']['30d'][package_name]\n",
    "    installs_90 = package_json['analytics']['install_on_request']['90d'][package_name]\n",
    "    installs_365 = package_json['analytics']['install_on_request']['365d'][package_name]\n",
    "\n",
    "    data = {\n",
    "        'name': package_name,\n",
    "        'desc': package_desciption,\n",
    "        'analytics': {\n",
    "            '30d': installs_30,\n",
    "            '90d': installs_90,\n",
    "            '365d': installs_365\n",
    "        }\n",
    "    }\n",
    "\n",
    "    results.append(data)\n",
    "\n",
    "    # set the sleeper using the elapsed value of the response, which is a timedelta\n",
    "    # that offerse total_seconds() method\n",
    "    time.sleep(r.elapsed.total_seconds())\n",
    "\n",
    "    break # test out \n",
    "    \n",
    "\n",
    "print(results)\n",
    "\n",
    "\n"
   ]
  },
  {
   "cell_type": "code",
   "execution_count": 7,
   "metadata": {},
   "outputs": [
    {
     "name": "stdout",
     "output_type": "stream",
     "text": [
      "Finished in 672.2766696659965 seconds\n"
     ]
    }
   ],
   "source": [
    "# start a timer to time how long it will take in total to finish the process\n",
    "# timer starts\n",
    "t1 = time.perf_counter()\n",
    "\n",
    "results = []\n",
    "\n",
    "for package in packages_json:\n",
    "    package_name = package['name']\n",
    "    package_desciption = package['desc']\n",
    "\n",
    "    package_url = f\"https://formulae.brew.sh/api/formula/{package_name}.json\"\n",
    "\n",
    "    r = requests.get(package_url)\n",
    "    package_json = r.json()\n",
    "\n",
    "    installs_30 = package_json['analytics']['install_on_request']['30d'][package_name]\n",
    "    installs_90 = package_json['analytics']['install_on_request']['90d'][package_name]\n",
    "    installs_365 = package_json['analytics']['install_on_request']['365d'][package_name]\n",
    "\n",
    "    data = {\n",
    "        'name': package_name,\n",
    "        'desc': package_desciption,\n",
    "        'analytics': {\n",
    "            '30d': installs_30,\n",
    "            '90d': installs_90,\n",
    "            '365d': installs_365\n",
    "        }\n",
    "    }\n",
    "\n",
    "    results.append(data)\n",
    "\n",
    "    # set the sleeper using the elapsed value of the response, which is a timedelta\n",
    "    # that offerse total_seconds() method\n",
    "    # time.sleep(r.elapsed.total_seconds())\n",
    "\n",
    "    # print(f\"Got the {package_name} in {r.elapsed.total_seconds()}\")\n",
    "\n",
    "    # break          # test out \n",
    "\n",
    "# timer finishes\n",
    "t2 = time.perf_counter()\n",
    "\n",
    "print(f\"Finished in {t2-t1} seconds\")\n",
    "\n",
    "# get the results printed to a json file\n",
    "with open('package_info.json', 'w') as f:\n",
    "    json.dump(results, f, indent=2)"
   ]
  }
 ],
 "metadata": {
  "kernelspec": {
   "display_name": "Python 3",
   "language": "python",
   "name": "python3"
  },
  "language_info": {
   "codemirror_mode": {
    "name": "ipython",
    "version": 3
   },
   "file_extension": ".py",
   "mimetype": "text/x-python",
   "name": "python",
   "nbconvert_exporter": "python",
   "pygments_lexer": "ipython3",
   "version": "3.10.4"
  },
  "orig_nbformat": 4,
  "vscode": {
   "interpreter": {
    "hash": "aee8b7b246df8f9039afb4144a1f6fd8d2ca17a180786b69acc140d282b71a49"
   }
  }
 },
 "nbformat": 4,
 "nbformat_minor": 2
}
