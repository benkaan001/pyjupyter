{
 "cells": [
  {
   "cell_type": "code",
   "execution_count": 1,
   "metadata": {},
   "outputs": [
    {
     "data": {
      "text/plain": [
       "<Response [200]>"
      ]
     },
     "execution_count": 1,
     "metadata": {},
     "output_type": "execute_result"
    }
   ],
   "source": [
    "import requests\n",
    "\n",
    "# url containing detailed info about all packages\n",
    "url = \"https://formulae.brew.sh/api/formula.json\"\n",
    "\n",
    "# response object\n",
    "r = requests.get(url)\n",
    "\n",
    "\n",
    "r"
   ]
  },
  {
   "cell_type": "code",
   "execution_count": 3,
   "metadata": {},
   "outputs": [
    {
     "data": {
      "text/plain": [
       "200"
      ]
     },
     "execution_count": 3,
     "metadata": {},
     "output_type": "execute_result"
    }
   ],
   "source": [
    "r.status_code"
   ]
  },
  {
   "cell_type": "code",
   "execution_count": 6,
   "metadata": {},
   "outputs": [
    {
     "data": {
      "text/plain": [
       "{'name': 'a2ps',\n",
       " 'full_name': 'a2ps',\n",
       " 'tap': 'homebrew/core',\n",
       " 'oldname': None,\n",
       " 'aliases': [],\n",
       " 'versioned_formulae': [],\n",
       " 'desc': 'Any-to-PostScript filter',\n",
       " 'license': 'GPL-3.0-or-later',\n",
       " 'homepage': 'https://www.gnu.org/software/a2ps/',\n",
       " 'versions': {'stable': '4.14', 'head': None, 'bottle': True},\n",
       " 'urls': {'stable': {'url': 'https://ftp.gnu.org/gnu/a2ps/a2ps-4.14.tar.gz',\n",
       "   'tag': None,\n",
       "   'revision': None,\n",
       "   'checksum': 'f3ae8d3d4564a41b6e2a21f237d2f2b104f48108591e8b83497500182a3ab3a4'}},\n",
       " 'revision': 0,\n",
       " 'version_scheme': 0,\n",
       " 'bottle': {'stable': {'rebuild': 4,\n",
       "   'root_url': 'https://ghcr.io/v2/homebrew/core',\n",
       "   'files': {'arm64_ventura': {'cellar': '/opt/homebrew/Cellar',\n",
       "     'url': 'https://ghcr.io/v2/homebrew/core/a2ps/blobs/sha256:adf71e909a31762f566a32be68297e0ed7b43faa0e386e5b90b199896dcd5884',\n",
       "     'sha256': 'adf71e909a31762f566a32be68297e0ed7b43faa0e386e5b90b199896dcd5884'},\n",
       "    'arm64_monterey': {'cellar': '/opt/homebrew/Cellar',\n",
       "     'url': 'https://ghcr.io/v2/homebrew/core/a2ps/blobs/sha256:b92375f7cc49a7440b431d2248cad0d97c96fcca127dace6efdeb0b2f3faa08c',\n",
       "     'sha256': 'b92375f7cc49a7440b431d2248cad0d97c96fcca127dace6efdeb0b2f3faa08c'},\n",
       "    'arm64_big_sur': {'cellar': '/opt/homebrew/Cellar',\n",
       "     'url': 'https://ghcr.io/v2/homebrew/core/a2ps/blobs/sha256:8ac02041dbec3966b6a695dfc4215b90b9e331ae6eb8c6698cbbfa0175154c9f',\n",
       "     'sha256': '8ac02041dbec3966b6a695dfc4215b90b9e331ae6eb8c6698cbbfa0175154c9f'},\n",
       "    'ventura': {'cellar': '/usr/local/Cellar',\n",
       "     'url': 'https://ghcr.io/v2/homebrew/core/a2ps/blobs/sha256:9d729c98415a5953f0c8ef4f6dbb9ce9a7864bcf7aeda3b3dc8473130fddbc42',\n",
       "     'sha256': '9d729c98415a5953f0c8ef4f6dbb9ce9a7864bcf7aeda3b3dc8473130fddbc42'},\n",
       "    'monterey': {'cellar': '/usr/local/Cellar',\n",
       "     'url': 'https://ghcr.io/v2/homebrew/core/a2ps/blobs/sha256:c0347849efe7486dfa2c5cfd35fae4c87e194fdcd9a10c6ce8758c99e8cf144c',\n",
       "     'sha256': 'c0347849efe7486dfa2c5cfd35fae4c87e194fdcd9a10c6ce8758c99e8cf144c'},\n",
       "    'big_sur': {'cellar': '/usr/local/Cellar',\n",
       "     'url': 'https://ghcr.io/v2/homebrew/core/a2ps/blobs/sha256:e87da2b47386fc7e3c6f20b3ff90c4bbe37b9e0aaa884440ffa216492dbc150b',\n",
       "     'sha256': 'e87da2b47386fc7e3c6f20b3ff90c4bbe37b9e0aaa884440ffa216492dbc150b'},\n",
       "    'catalina': {'cellar': '/usr/local/Cellar',\n",
       "     'url': 'https://ghcr.io/v2/homebrew/core/a2ps/blobs/sha256:82e64b2008971430d160a3f564e32593e98fb55c43d7748c7deb9d6f546e1102',\n",
       "     'sha256': '82e64b2008971430d160a3f564e32593e98fb55c43d7748c7deb9d6f546e1102'},\n",
       "    'mojave': {'cellar': '/usr/local/Cellar',\n",
       "     'url': 'https://ghcr.io/v2/homebrew/core/a2ps/blobs/sha256:8ca49b4797277f79e87e48ab4c6794601b64d1dde35b9eac556d4153b8237a51',\n",
       "     'sha256': '8ca49b4797277f79e87e48ab4c6794601b64d1dde35b9eac556d4153b8237a51'},\n",
       "    'x86_64_linux': {'cellar': '/home/linuxbrew/.linuxbrew/Cellar',\n",
       "     'url': 'https://ghcr.io/v2/homebrew/core/a2ps/blobs/sha256:063b4b31a62c4d5bd905bc4faab09ac2a50c77291de52ab216fc6a7a56f8e406',\n",
       "     'sha256': '063b4b31a62c4d5bd905bc4faab09ac2a50c77291de52ab216fc6a7a56f8e406'}}}},\n",
       " 'keg_only': False,\n",
       " 'keg_only_reason': None,\n",
       " 'options': [],\n",
       " 'build_dependencies': [],\n",
       " 'dependencies': [],\n",
       " 'test_dependencies': [],\n",
       " 'recommended_dependencies': [],\n",
       " 'optional_dependencies': [],\n",
       " 'uses_from_macos': ['gperf'],\n",
       " 'requirements': [],\n",
       " 'conflicts_with': [],\n",
       " 'caveats': None,\n",
       " 'installed': [],\n",
       " 'linked_keg': None,\n",
       " 'pinned': False,\n",
       " 'outdated': False,\n",
       " 'deprecated': False,\n",
       " 'deprecation_date': None,\n",
       " 'deprecation_reason': None,\n",
       " 'disabled': False,\n",
       " 'disable_date': None,\n",
       " 'disable_reason': None,\n",
       " 'variations': {'x86_64_linux': {'dependencies': ['gperf']}}}"
      ]
     },
     "execution_count": 6,
     "metadata": {},
     "output_type": "execute_result"
    }
   ],
   "source": [
    "# using builtin JSON decoder, printing the first JSON object in the response list\n",
    "r.json()[0]"
   ]
  }
 ],
 "metadata": {
  "kernelspec": {
   "display_name": "Python 3",
   "language": "python",
   "name": "python3"
  },
  "language_info": {
   "codemirror_mode": {
    "name": "ipython",
    "version": 3
   },
   "file_extension": ".py",
   "mimetype": "text/x-python",
   "name": "python",
   "nbconvert_exporter": "python",
   "pygments_lexer": "ipython3",
   "version": "3.10.4"
  },
  "orig_nbformat": 4,
  "vscode": {
   "interpreter": {
    "hash": "aee8b7b246df8f9039afb4144a1f6fd8d2ca17a180786b69acc140d282b71a49"
   }
  }
 },
 "nbformat": 4,
 "nbformat_minor": 2
}
