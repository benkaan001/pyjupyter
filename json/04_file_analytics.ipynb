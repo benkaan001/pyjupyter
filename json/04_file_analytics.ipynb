{
 "cells": [
  {
   "cell_type": "code",
   "execution_count": 2,
   "metadata": {},
   "outputs": [
    {
     "name": "stdout",
     "output_type": "stream",
     "text": [
      "{'name': 'a2ps', 'desc': 'Any-to-PostScript filter', 'analytics': {'30d': 71, '90d': 301, '365d': 1283}}\n"
     ]
    }
   ],
   "source": [
    "import json \n",
    "\n",
    "with open(\"package_info.json\", 'r') as f:\n",
    "    data = json.load(f)\n",
    "\n",
    "# print a sample - first object in the data list\n",
    "print(data[0])"
   ]
  },
  {
   "attachments": {},
   "cell_type": "markdown",
   "metadata": {},
   "source": [
    "`Sample Sorting`"
   ]
  },
  {
   "cell_type": "code",
   "execution_count": 3,
   "metadata": {},
   "outputs": [
    {
     "data": {
      "text/plain": [
       "[{'name': 'node',\n",
       "  'desc': 'Platform built on V8 to build network applications',\n",
       "  'analytics': {'30d': 348683, '90d': 1162971, '365d': 4774320}},\n",
       " {'name': 'python@3.10',\n",
       "  'desc': 'Interpreted, interactive, object-oriented programming language',\n",
       "  'analytics': {'30d': 333670, '90d': 919815, '365d': 2328284}},\n",
       " {'name': 'git',\n",
       "  'desc': 'Distributed revision control system',\n",
       "  'analytics': {'30d': 276314, '90d': 990617, '365d': 3557207}},\n",
       " {'name': 'awscli',\n",
       "  'desc': 'Official Amazon AWS command-line interface',\n",
       "  'analytics': {'30d': 226289, '90d': 756978, '365d': 2804247}},\n",
       " {'name': 'python@3.9',\n",
       "  'desc': 'Interpreted, interactive, object-oriented programming language',\n",
       "  'analytics': {'30d': 219568, '90d': 765268, '365d': 4140394}},\n",
       " {'name': 'wget',\n",
       "  'desc': 'Internet file retriever',\n",
       "  'analytics': {'30d': 216852, '90d': 425709, '365d': 1646922}},\n",
       " {'name': 'glib',\n",
       "  'desc': 'Core application library for C',\n",
       "  'analytics': {'30d': 179694, '90d': 475955, '365d': 2253858}},\n",
       " {'name': 'pyenv',\n",
       "  'desc': 'Python version management',\n",
       "  'analytics': {'30d': 177294, '90d': 560090, '365d': 1995097}},\n",
       " {'name': 'imagemagick',\n",
       "  'desc': 'Tools and libraries to manipulate images in many formats',\n",
       "  'analytics': {'30d': 138739, '90d': 398896, '365d': 1761831}},\n",
       " {'name': 'gnutls',\n",
       "  'desc': 'GNU Transport Layer Security (TLS) Library',\n",
       "  'analytics': {'30d': 135712, '90d': 392260, '365d': 1611629}}]"
      ]
     },
     "execution_count": 3,
     "metadata": {},
     "output_type": "execute_result"
    }
   ],
   "source": [
    "# sort data based on 30d install_on_request in DESC order\n",
    "\n",
    "# data.sort(key=lambda x: x['analytics']['30d'], reverse=True)\n",
    "\n",
    "sorted_data = sorted(data, key=lambda x: x['analytics']['30d'], reverse=True)[0:10]\n",
    "\n",
    "sorted_data\n",
    "\n",
    "\n"
   ]
  },
  {
   "cell_type": "code",
   "execution_count": 4,
   "metadata": {},
   "outputs": [
    {
     "name": "stdout",
     "output_type": "stream",
     "text": [
      "[\n",
      "  {\n",
      "    \"name\": \"node\",\n",
      "    \"desc\": \"Platform built on V8 to build network applications\",\n",
      "    \"analytics\": {\n",
      "      \"30d\": 348683,\n",
      "      \"90d\": 1162971,\n",
      "      \"365d\": 4774320\n",
      "    }\n",
      "  },\n",
      "  {\n",
      "    \"name\": \"python@3.10\",\n",
      "    \"desc\": \"Interpreted, interactive, object-oriented programming language\",\n",
      "    \"analytics\": {\n",
      "      \"30d\": 333670,\n",
      "      \"90d\": 919815,\n",
      "      \"365d\": 2328284\n",
      "    }\n",
      "  },\n",
      "  {\n",
      "    \"name\": \"git\",\n",
      "    \"desc\": \"Distributed revision control system\",\n",
      "    \"analytics\": {\n",
      "      \"30d\": 276314,\n",
      "      \"90d\": 990617,\n",
      "      \"365d\": 3557207\n",
      "    }\n",
      "  },\n",
      "  {\n",
      "    \"name\": \"awscli\",\n",
      "    \"desc\": \"Official Amazon AWS command-line interface\",\n",
      "    \"analytics\": {\n",
      "      \"30d\": 226289,\n",
      "      \"90d\": 756978,\n",
      "      \"365d\": 2804247\n",
      "    }\n",
      "  },\n",
      "  {\n",
      "    \"name\": \"python@3.9\",\n",
      "    \"desc\": \"Interpreted, interactive, object-oriented programming language\",\n",
      "    \"analytics\": {\n",
      "      \"30d\": 219568,\n",
      "      \"90d\": 765268,\n",
      "      \"365d\": 4140394\n",
      "    }\n",
      "  },\n",
      "  {\n",
      "    \"name\": \"wget\",\n",
      "    \"desc\": \"Internet file retriever\",\n",
      "    \"analytics\": {\n",
      "      \"30d\": 216852,\n",
      "      \"90d\": 425709,\n",
      "      \"365d\": 1646922\n",
      "    }\n",
      "  },\n",
      "  {\n",
      "    \"name\": \"glib\",\n",
      "    \"desc\": \"Core application library for C\",\n",
      "    \"analytics\": {\n",
      "      \"30d\": 179694,\n",
      "      \"90d\": 475955,\n",
      "      \"365d\": 2253858\n",
      "    }\n",
      "  },\n",
      "  {\n",
      "    \"name\": \"pyenv\",\n",
      "    \"desc\": \"Python version management\",\n",
      "    \"analytics\": {\n",
      "      \"30d\": 177294,\n",
      "      \"90d\": 560090,\n",
      "      \"365d\": 1995097\n",
      "    }\n",
      "  },\n",
      "  {\n",
      "    \"name\": \"imagemagick\",\n",
      "    \"desc\": \"Tools and libraries to manipulate images in many formats\",\n",
      "    \"analytics\": {\n",
      "      \"30d\": 138739,\n",
      "      \"90d\": 398896,\n",
      "      \"365d\": 1761831\n",
      "    }\n",
      "  },\n",
      "  {\n",
      "    \"name\": \"gnutls\",\n",
      "    \"desc\": \"GNU Transport Layer Security (TLS) Library\",\n",
      "    \"analytics\": {\n",
      "      \"30d\": 135712,\n",
      "      \"90d\": 392260,\n",
      "      \"365d\": 1611629\n",
      "    }\n",
      "  }\n",
      "]\n"
     ]
    }
   ],
   "source": [
    "sorted_data_str = json.dumps(sorted_data, indent=2)\n",
    "print(sorted_data_str)"
   ]
  }
 ],
 "metadata": {
  "kernelspec": {
   "display_name": "Python 3",
   "language": "python",
   "name": "python3"
  },
  "language_info": {
   "codemirror_mode": {
    "name": "ipython",
    "version": 3
   },
   "file_extension": ".py",
   "mimetype": "text/x-python",
   "name": "python",
   "nbconvert_exporter": "python",
   "pygments_lexer": "ipython3",
   "version": "3.10.4"
  },
  "orig_nbformat": 4,
  "vscode": {
   "interpreter": {
    "hash": "aee8b7b246df8f9039afb4144a1f6fd8d2ca17a180786b69acc140d282b71a49"
   }
  }
 },
 "nbformat": 4,
 "nbformat_minor": 2
}
