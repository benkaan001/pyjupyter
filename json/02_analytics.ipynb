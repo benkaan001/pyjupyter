{
 "cells": [
  {
   "attachments": {},
   "cell_type": "markdown",
   "metadata": {},
   "source": [
    "- Objective -> Access:\n",
    "    - package name, \n",
    "    - package desciption, \n",
    "    - install_on_request data for 30d, 90d, and 365d"
   ]
  },
  {
   "cell_type": "code",
   "execution_count": 15,
   "metadata": {},
   "outputs": [
    {
     "data": {
      "text/plain": [
       "('a2ps', 'Any-to-PostScript filter')"
      ]
     },
     "execution_count": 15,
     "metadata": {},
     "output_type": "execute_result"
    }
   ],
   "source": [
    "import requests\n",
    "import json \n",
    "# import importlib\n",
    "# importlib.reload(json)\n",
    "\n",
    "# url containing metadata about all packages\n",
    "url = \"https://formulae.brew.sh/api/formula.json\"\n",
    "\n",
    "r = requests.get(url)\n",
    "\n",
    "# using the json decoder of the requests module, read the JSON response \n",
    "packages_json = r.json()\n",
    "\n",
    "# access the package name of the first package\n",
    "package_name = packages_json[0][\"name\"]\n",
    "\n",
    "# access the package description of the first package\n",
    "package_desciption = packages_json[0][\"desc\"]\n",
    "\n",
    "package_name, package_desciption"
   ]
  },
  {
   "cell_type": "code",
   "execution_count": 14,
   "metadata": {},
   "outputs": [
    {
     "name": "stdout",
     "output_type": "stream",
     "text": [
      "{\n",
      "  \"name\": \"a2ps\",\n",
      "  \"full_name\": \"a2ps\",\n",
      "  \"tap\": \"homebrew/core\",\n",
      "  \"oldname\": null,\n",
      "  \"aliases\": [],\n",
      "  \"versioned_formulae\": [],\n",
      "  \"desc\": \"Any-to-PostScript filter\",\n",
      "  \"license\": \"GPL-3.0-or-later\",\n",
      "  \"homepage\": \"https://www.gnu.org/software/a2ps/\",\n",
      "  \"versions\": {\n",
      "    \"stable\": \"4.14\",\n",
      "    \"head\": null,\n",
      "    \"bottle\": true\n",
      "  },\n",
      "  \"urls\": {\n",
      "    \"stable\": {\n",
      "      \"url\": \"https://ftp.gnu.org/gnu/a2ps/a2ps-4.14.tar.gz\",\n",
      "      \"tag\": null,\n",
      "      \"revision\": null,\n",
      "      \"checksum\": \"f3ae8d3d4564a41b6e2a21f237d2f2b104f48108591e8b83497500182a3ab3a4\"\n",
      "    }\n",
      "  },\n",
      "  \"revision\": 0,\n",
      "  \"version_scheme\": 0,\n",
      "  \"bottle\": {\n",
      "    \"stable\": {\n",
      "      \"rebuild\": 4,\n",
      "      \"root_url\": \"https://ghcr.io/v2/homebrew/core\",\n",
      "      \"files\": {\n",
      "        \"arm64_ventura\": {\n",
      "          \"cellar\": \"/opt/homebrew/Cellar\",\n",
      "          \"url\": \"https://ghcr.io/v2/homebrew/core/a2ps/blobs/sha256:adf71e909a31762f566a32be68297e0ed7b43faa0e386e5b90b199896dcd5884\",\n",
      "          \"sha256\": \"adf71e909a31762f566a32be68297e0ed7b43faa0e386e5b90b199896dcd5884\"\n",
      "        },\n",
      "        \"arm64_monterey\": {\n",
      "          \"cellar\": \"/opt/homebrew/Cellar\",\n",
      "          \"url\": \"https://ghcr.io/v2/homebrew/core/a2ps/blobs/sha256:b92375f7cc49a7440b431d2248cad0d97c96fcca127dace6efdeb0b2f3faa08c\",\n",
      "          \"sha256\": \"b92375f7cc49a7440b431d2248cad0d97c96fcca127dace6efdeb0b2f3faa08c\"\n",
      "        },\n",
      "        \"arm64_big_sur\": {\n",
      "          \"cellar\": \"/opt/homebrew/Cellar\",\n",
      "          \"url\": \"https://ghcr.io/v2/homebrew/core/a2ps/blobs/sha256:8ac02041dbec3966b6a695dfc4215b90b9e331ae6eb8c6698cbbfa0175154c9f\",\n",
      "          \"sha256\": \"8ac02041dbec3966b6a695dfc4215b90b9e331ae6eb8c6698cbbfa0175154c9f\"\n",
      "        },\n",
      "        \"ventura\": {\n",
      "          \"cellar\": \"/usr/local/Cellar\",\n",
      "          \"url\": \"https://ghcr.io/v2/homebrew/core/a2ps/blobs/sha256:9d729c98415a5953f0c8ef4f6dbb9ce9a7864bcf7aeda3b3dc8473130fddbc42\",\n",
      "          \"sha256\": \"9d729c98415a5953f0c8ef4f6dbb9ce9a7864bcf7aeda3b3dc8473130fddbc42\"\n",
      "        },\n",
      "        \"monterey\": {\n",
      "          \"cellar\": \"/usr/local/Cellar\",\n",
      "          \"url\": \"https://ghcr.io/v2/homebrew/core/a2ps/blobs/sha256:c0347849efe7486dfa2c5cfd35fae4c87e194fdcd9a10c6ce8758c99e8cf144c\",\n",
      "          \"sha256\": \"c0347849efe7486dfa2c5cfd35fae4c87e194fdcd9a10c6ce8758c99e8cf144c\"\n",
      "        },\n",
      "        \"big_sur\": {\n",
      "          \"cellar\": \"/usr/local/Cellar\",\n",
      "          \"url\": \"https://ghcr.io/v2/homebrew/core/a2ps/blobs/sha256:e87da2b47386fc7e3c6f20b3ff90c4bbe37b9e0aaa884440ffa216492dbc150b\",\n",
      "          \"sha256\": \"e87da2b47386fc7e3c6f20b3ff90c4bbe37b9e0aaa884440ffa216492dbc150b\"\n",
      "        },\n",
      "        \"catalina\": {\n",
      "          \"cellar\": \"/usr/local/Cellar\",\n",
      "          \"url\": \"https://ghcr.io/v2/homebrew/core/a2ps/blobs/sha256:82e64b2008971430d160a3f564e32593e98fb55c43d7748c7deb9d6f546e1102\",\n",
      "          \"sha256\": \"82e64b2008971430d160a3f564e32593e98fb55c43d7748c7deb9d6f546e1102\"\n",
      "        },\n",
      "        \"mojave\": {\n",
      "          \"cellar\": \"/usr/local/Cellar\",\n",
      "          \"url\": \"https://ghcr.io/v2/homebrew/core/a2ps/blobs/sha256:8ca49b4797277f79e87e48ab4c6794601b64d1dde35b9eac556d4153b8237a51\",\n",
      "          \"sha256\": \"8ca49b4797277f79e87e48ab4c6794601b64d1dde35b9eac556d4153b8237a51\"\n",
      "        },\n",
      "        \"x86_64_linux\": {\n",
      "          \"cellar\": \"/home/linuxbrew/.linuxbrew/Cellar\",\n",
      "          \"url\": \"https://ghcr.io/v2/homebrew/core/a2ps/blobs/sha256:063b4b31a62c4d5bd905bc4faab09ac2a50c77291de52ab216fc6a7a56f8e406\",\n",
      "          \"sha256\": \"063b4b31a62c4d5bd905bc4faab09ac2a50c77291de52ab216fc6a7a56f8e406\"\n",
      "        }\n",
      "      }\n",
      "    }\n",
      "  },\n",
      "  \"keg_only\": false,\n",
      "  \"keg_only_reason\": null,\n",
      "  \"options\": [],\n",
      "  \"build_dependencies\": [],\n",
      "  \"dependencies\": [],\n",
      "  \"test_dependencies\": [],\n",
      "  \"recommended_dependencies\": [],\n",
      "  \"optional_dependencies\": [],\n",
      "  \"uses_from_macos\": [\n",
      "    \"gperf\"\n",
      "  ],\n",
      "  \"requirements\": [],\n",
      "  \"conflicts_with\": [],\n",
      "  \"caveats\": null,\n",
      "  \"installed\": [],\n",
      "  \"linked_keg\": null,\n",
      "  \"pinned\": false,\n",
      "  \"outdated\": false,\n",
      "  \"deprecated\": false,\n",
      "  \"deprecation_date\": null,\n",
      "  \"deprecation_reason\": null,\n",
      "  \"disabled\": false,\n",
      "  \"disable_date\": null,\n",
      "  \"disable_reason\": null,\n",
      "  \"variations\": {\n",
      "    \"x86_64_linux\": {\n",
      "      \"dependencies\": [\n",
      "        \"gperf\"\n",
      "      ]\n",
      "    }\n",
      "  },\n",
      "  \"analytics\": {\n",
      "    \"install\": {\n",
      "      \"30d\": {\n",
      "        \"a2ps\": 71\n",
      "      },\n",
      "      \"90d\": {\n",
      "        \"a2ps\": 301\n",
      "      },\n",
      "      \"365d\": {\n",
      "        \"a2ps\": 1283\n",
      "      }\n",
      "    },\n",
      "    \"install_on_request\": {\n",
      "      \"30d\": {\n",
      "        \"a2ps\": 71\n",
      "      },\n",
      "      \"90d\": {\n",
      "        \"a2ps\": 301\n",
      "      },\n",
      "      \"365d\": {\n",
      "        \"a2ps\": 1283\n",
      "      }\n",
      "    },\n",
      "    \"build_error\": {\n",
      "      \"30d\": {\n",
      "        \"a2ps\": 0\n",
      "      }\n",
      "    }\n",
      "  },\n",
      "  \"analytics-linux\": {\n",
      "    \"install\": {\n",
      "      \"30d\": {\n",
      "        \"a2ps\": 0\n",
      "      },\n",
      "      \"90d\": {\n",
      "        \"a2ps\": 3\n",
      "      },\n",
      "      \"365d\": {\n",
      "        \"a2ps\": 22\n",
      "      }\n",
      "    },\n",
      "    \"install_on_request\": {\n",
      "      \"30d\": {\n",
      "        \"a2ps\": 0\n",
      "      },\n",
      "      \"90d\": {\n",
      "        \"a2ps\": 3\n",
      "      },\n",
      "      \"365d\": {\n",
      "        \"a2ps\": 22\n",
      "      }\n",
      "    },\n",
      "    \"build_error\": {\n",
      "      \"30d\": {\n",
      "        \"a2ps\": 0\n",
      "      }\n",
      "    }\n",
      "  },\n",
      "  \"generated_date\": \"2023-01-17\"\n",
      "}\n"
     ]
    }
   ],
   "source": [
    "# package url for a given package\n",
    "package_url = f\"https://formulae.brew.sh/api/formula/{package_name}.json\"\n",
    "\n",
    "# make a request to the given package\n",
    "r = requests.get(package_url)\n",
    "\n",
    "# using the json decoder of the requests module, read the JSON response \n",
    "package_json = r.json()\n",
    "\n",
    "\n",
    "# json string\n",
    "package_str = json.dumps(package_json, indent=2)\n",
    "\n",
    "print(package_str)"
   ]
  },
  {
   "attachments": {},
   "cell_type": "markdown",
   "metadata": {},
   "source": [
    "- analytics -> install_on_request -> 30d[`package_name`] -->\n",
    "\n",
    "    - <i>number of installs on request in the past 30 days."
   ]
  },
  {
   "cell_type": "code",
   "execution_count": 8,
   "metadata": {},
   "outputs": [
    {
     "data": {
      "text/plain": [
       "71"
      ]
     },
     "execution_count": 8,
     "metadata": {},
     "output_type": "execute_result"
    }
   ],
   "source": [
    "# access the 30-day install on request analytics data in the response\n",
    "installs_30 = package_json['analytics']['install_on_request']['30d'][package_name]\n",
    "installs_30"
   ]
  },
  {
   "cell_type": "code",
   "execution_count": 9,
   "metadata": {},
   "outputs": [
    {
     "data": {
      "text/plain": [
       "301"
      ]
     },
     "execution_count": 9,
     "metadata": {},
     "output_type": "execute_result"
    }
   ],
   "source": [
    "# access the 90-day install on request analytics data in the response\n",
    "installs_90 = package_json['analytics']['install_on_request']['90d'][package_name]\n",
    "installs_90"
   ]
  },
  {
   "cell_type": "code",
   "execution_count": 10,
   "metadata": {},
   "outputs": [
    {
     "data": {
      "text/plain": [
       "1283"
      ]
     },
     "execution_count": 10,
     "metadata": {},
     "output_type": "execute_result"
    }
   ],
   "source": [
    "# access the 365-day install on request analytics data in the response\n",
    "installs_365 = package_json['analytics']['install_on_request']['365d'][package_name]\n",
    "installs_365"
   ]
  },
  {
   "cell_type": "code",
   "execution_count": 12,
   "metadata": {},
   "outputs": [
    {
     "name": "stdout",
     "output_type": "stream",
     "text": [
      "a2ps Any-to-PostScript filter 71 301 1283\n"
     ]
    }
   ],
   "source": [
    "# print package name, description, 30d, 90d, and 365d install_on_request info\n",
    "print(package_name, package_desciption, installs_30, installs_90, installs_365)"
   ]
  }
 ],
 "metadata": {
  "kernelspec": {
   "display_name": "Python 3",
   "language": "python",
   "name": "python3"
  },
  "language_info": {
   "codemirror_mode": {
    "name": "ipython",
    "version": 3
   },
   "file_extension": ".py",
   "mimetype": "text/x-python",
   "name": "python",
   "nbconvert_exporter": "python",
   "pygments_lexer": "ipython3",
   "version": "3.10.4"
  },
  "orig_nbformat": 4,
  "vscode": {
   "interpreter": {
    "hash": "aee8b7b246df8f9039afb4144a1f6fd8d2ca17a180786b69acc140d282b71a49"
   }
  }
 },
 "nbformat": 4,
 "nbformat_minor": 2
}
