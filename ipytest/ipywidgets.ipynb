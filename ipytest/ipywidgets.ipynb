{
 "cells": [
  {
   "cell_type": "code",
   "execution_count": 1,
   "metadata": {},
   "outputs": [],
   "source": [
    "import ipytest\n",
    "ipytest.autoconfig()\n",
    "import pytest\n",
    "import ipywidgets as widgets\n",
    "from IPython.display import HTML"
   ]
  },
  {
   "cell_type": "code",
   "execution_count": 2,
   "metadata": {},
   "outputs": [],
   "source": [
    "def count_vowels(word):\n",
    "    if not isinstance(word, str):\n",
    "        raise AttributeError\n",
    "    return sum(word.lower().count(char) for char in 'aeiou') "
   ]
  },
  {
   "cell_type": "code",
   "execution_count": 4,
   "metadata": {},
   "outputs": [
    {
     "data": {
      "application/vnd.jupyter.widget-view+json": {
       "model_id": "53cd0fdbe8ea4d608996e9537a21047e",
       "version_major": 2,
       "version_minor": 0
      },
      "text/plain": [
       "Button(description='Check Your Work', style=ButtonStyle())"
      ]
     },
     "metadata": {},
     "output_type": "display_data"
    },
    {
     "name": "stdout",
     "output_type": "stream",
     "text": [
      "\u001b[32m.\u001b[0m\u001b[32m.\u001b[0m\u001b[32m.\u001b[0m\u001b[32m                                                                                          [100%]\u001b[0m\n"
     ]
    },
    {
     "data": {
      "text/plain": [
       "<ExitCode.OK: 0>"
      ]
     },
     "execution_count": 4,
     "metadata": {},
     "output_type": "execute_result"
    },
    {
     "name": "stdout",
     "output_type": "stream",
     "text": [
      "\u001b[32m.\u001b[0m\u001b[32m.\u001b[0m\u001b[32m.\u001b[0m\u001b[32m                                                                                          [100%]\u001b[0m\n",
      "\u001b[32m\u001b[32m\u001b[1m3 passed\u001b[0m\u001b[32m in 0.02s\u001b[0m\u001b[0m\n"
     ]
    },
    {
     "data": {
      "text/html": [
       "<div style=\"background-color: #f5c1c1;                             padding: 10px;                             color: gray\">             <strong>Congratulations!</strong> All tests passed.            </div>"
      ],
      "text/plain": [
       "<IPython.core.display.HTML object>"
      ]
     },
     "metadata": {},
     "output_type": "display_data"
    }
   ],
   "source": [
    "def on_button_click(b):\n",
    "    results = ipytest.run()\n",
    "    if str(results) == 'ExitCode.OK':\n",
    "        message = '<div style=\"background-color: #f5c1c1; \\\n",
    "                            padding: 10px; \\\n",
    "                            color: gray\"> \\\n",
    "            <strong>Congratulations!</strong> All tests passed.\\\n",
    "            </div>'\n",
    "        display(HTML(message))\n",
    "\n",
    "button = widgets.Button(description='Check Your Work')\n",
    "button.on_click(on_button_click)\n",
    "display(button)\n",
    "\n",
    "# Group Test Code\n",
    "class TestClass:\n",
    "    def test_one(self):\n",
    "        input = 'aloha'\n",
    "        output = count_vowels(input)\n",
    "        expected = 3\n",
    "        assert output == expected, f'Expected {expected}, but got {output} instead.'\n",
    "        \n",
    "    def test_two(self):\n",
    "        input = 'ABCDEFGHIJKLMNOPQRSTUVWXYZ123456789'\n",
    "        output = count_vowels(input)\n",
    "        expected = 5\n",
    "        assert output == expected, f'Expected {expected}, but got {output} instead.'\n",
    "    \n",
    "    def test_three(self):\n",
    "        input = 12\n",
    "        with pytest.raises(AttributeError):\n",
    "            count_vowels(input)\n",
    "            \n",
    "    \n",
    "ipytest.run('-qq') # Run the tests silently\n"
   ]
  }
 ],
 "metadata": {
  "kernelspec": {
   "display_name": "Python 3",
   "language": "python",
   "name": "python3"
  },
  "language_info": {
   "codemirror_mode": {
    "name": "ipython",
    "version": 3
   },
   "file_extension": ".py",
   "mimetype": "text/x-python",
   "name": "python",
   "nbconvert_exporter": "python",
   "pygments_lexer": "ipython3",
   "version": "3.10.4"
  },
  "orig_nbformat": 4
 },
 "nbformat": 4,
 "nbformat_minor": 2
}
