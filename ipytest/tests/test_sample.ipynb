{
 "cells": [
  {
   "cell_type": "code",
   "execution_count": 1,
   "metadata": {},
   "outputs": [],
   "source": [
    "# Retrieve the dictionary using %store -r\n",
    "%store -r my_dict\n",
    "\n",
    "\n",
    "# Define a test for the dictionary using nbval\n",
    "# Expected output\n",
    "# {'key1': 'value1', 'key2': 'value2', 'key3': 'value3'}\n",
    "    \n",
    "def test_my_dict():\n",
    "    expected_dict = {\n",
    "        \"key1\": \"value1\",\n",
    "        \"key2\": \"value2\",\n",
    "        \"key3\": \"value3\"\n",
    "    }\n",
    "    if my_dict != expected_dict:\n",
    "        error_msg = f\"Expected: {expected_dict}, but got {my_dict}\"\n",
    "        raise AssertionError(error_msg)"
   ]
  }
 ],
 "metadata": {
  "kernelspec": {
   "display_name": "Python 3",
   "language": "python",
   "name": "python3"
  },
  "language_info": {
   "codemirror_mode": {
    "name": "ipython",
    "version": 3
   },
   "file_extension": ".py",
   "mimetype": "text/x-python",
   "name": "python",
   "nbconvert_exporter": "python",
   "pygments_lexer": "ipython3",
   "version": "3.10.4"
  },
  "orig_nbformat": 4
 },
 "nbformat": 4,
 "nbformat_minor": 2
}
