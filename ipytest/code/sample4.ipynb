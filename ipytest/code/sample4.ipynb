{
 "cells": [
  {
   "cell_type": "code",
   "execution_count": null,
   "metadata": {},
   "outputs": [],
   "source": [
    "def square(n):\n",
    "    \"\"\"\n",
    "    Returns the square of the given number.\n",
    "\n",
    "    Parameters:\n",
    "    n (int): The number to be squared.\n",
    "\n",
    "    Returns:\n",
    "    int: The square of the given number.\n",
    "\n",
    "    Raises:\n",
    "    TypeError: If the input is not a number.\n",
    "    \"\"\"\n",
    "\n",
    "    if not isinstance(n, (int, float)):\n",
    "        raise TypeError(\"Input must be a number\")\n",
    "    return n ** 2"
   ]
  }
 ],
 "metadata": {
  "language_info": {
   "name": "python"
  },
  "orig_nbformat": 4
 },
 "nbformat": 4,
 "nbformat_minor": 2
}
