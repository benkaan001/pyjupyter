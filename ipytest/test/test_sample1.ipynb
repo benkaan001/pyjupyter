{
 "cells": [
  {
   "cell_type": "code",
   "execution_count": 1,
   "metadata": {},
   "outputs": [],
   "source": [
    "# per docs\n",
    "import ipytest\n",
    "ipytest.autoconfig()"
   ]
  },
  {
   "cell_type": "code",
   "execution_count": 2,
   "metadata": {},
   "outputs": [],
   "source": [
    "# activate cell with the function to be tested\n",
    "%run ../code/sample1.ipynb import addition"
   ]
  },
  {
   "attachments": {},
   "cell_type": "markdown",
   "metadata": {},
   "source": [
    "- Can use either `%%ipytest` magic command which should be on top of the cell after the import or `pytest.run()`, which should be run after the test functions are defined."
   ]
  },
  {
   "cell_type": "code",
   "execution_count": 3,
   "metadata": {},
   "outputs": [
    {
     "name": "stdout",
     "output_type": "stream",
     "text": [
      "\u001b[32m.\u001b[0m\u001b[31mF\u001b[0m\u001b[31m                                                                                           [100%]\u001b[0m\n",
      "============================================= FAILURES =============================================\n",
      "\u001b[31m\u001b[1m________________________________________ test_addition_fail ________________________________________\u001b[0m\n",
      "\n",
      "    \u001b[94mdef\u001b[39;49;00m \u001b[92mtest_addition_fail\u001b[39;49;00m():\n",
      "        expected = \u001b[94m11\u001b[39;49;00m\n",
      "        output = addition(\u001b[94m5\u001b[39;49;00m, \u001b[94m5\u001b[39;49;00m)\n",
      ">       \u001b[94massert\u001b[39;49;00m expected == output, \u001b[33m\"\u001b[39;49;00m\u001b[33mFailed as expected!\u001b[39;49;00m\u001b[33m\"\u001b[39;49;00m\n",
      "\u001b[1m\u001b[31mE       AssertionError: Failed as expected!\u001b[0m\n",
      "\u001b[1m\u001b[31mE       assert 11 == 10\u001b[0m\n",
      "\n",
      "\u001b[1m\u001b[31m/var/folders/2w/g1xqblv11xdc789plh7y3tsw0000gn/T/ipykernel_10721/3680805234.py\u001b[0m:9: AssertionError\n",
      "===================================== short test summary info ======================================\n",
      "FAILED t_241a5e826c7d4f72bcd2dfee621064c4.py::test_addition_fail - AssertionError: Failed as expe...\n",
      "\u001b[31m\u001b[31m\u001b[1m1 failed\u001b[0m, \u001b[32m1 passed\u001b[0m\u001b[31m in 0.09s\u001b[0m\u001b[0m\n"
     ]
    }
   ],
   "source": [
    "%%ipytest\n",
    "\n",
    "def test_addition_pass():\n",
    "    expected = 10\n",
    "    output = addition(5, 5)\n",
    "    assert expected == output \n",
    "\n",
    "def test_addition_fail():\n",
    "    expected = 11 \n",
    "    output = addition(5, 5)\n",
    "    assert expected == output, \"Failed as expected!\""
   ]
  }
 ],
 "metadata": {
  "kernelspec": {
   "display_name": "Python 3",
   "language": "python",
   "name": "python3"
  },
  "language_info": {
   "codemirror_mode": {
    "name": "ipython",
    "version": 3
   },
   "file_extension": ".py",
   "mimetype": "text/x-python",
   "name": "python",
   "nbconvert_exporter": "python",
   "pygments_lexer": "ipython3",
   "version": "3.10.4"
  },
  "orig_nbformat": 4
 },
 "nbformat": 4,
 "nbformat_minor": 2
}
