{
 "cells": [
  {
   "cell_type": "code",
   "execution_count": 1,
   "metadata": {},
   "outputs": [],
   "source": [
    "import ipytest\n",
    "ipytest.autoconfig()\n",
    "import pytest"
   ]
  },
  {
   "cell_type": "code",
   "execution_count": 2,
   "metadata": {},
   "outputs": [],
   "source": [
    "%run ../code/sample4.ipynb import square"
   ]
  },
  {
   "attachments": {},
   "cell_type": "markdown",
   "metadata": {},
   "source": [
    "- Confirm that square function raises a TypeError when a string is passed as an argument - instead of float or int."
   ]
  },
  {
   "cell_type": "code",
   "execution_count": 4,
   "metadata": {},
   "outputs": [
    {
     "name": "stdout",
     "output_type": "stream",
     "text": [
      "\u001b[32m.\u001b[0m\u001b[32m                                                                                            [100%]\u001b[0m\n",
      "\u001b[32m\u001b[32m\u001b[1m1 passed\u001b[0m\u001b[32m in 0.02s\u001b[0m\u001b[0m\n"
     ]
    },
    {
     "data": {
      "text/plain": [
       "<ExitCode.OK: 0>"
      ]
     },
     "execution_count": 4,
     "metadata": {},
     "output_type": "execute_result"
    }
   ],
   "source": [
    "# assert that a certain exception is raised \n",
    "\n",
    "def test_square():\n",
    "    with pytest.raises(TypeError):\n",
    "        square('2')\n",
    "\n",
    "ipytest.run()"
   ]
  },
  {
   "attachments": {},
   "cell_type": "markdown",
   "metadata": {},
   "source": [
    "- Failing test to trigger the TypeError during testing."
   ]
  },
  {
   "cell_type": "code",
   "execution_count": 8,
   "metadata": {},
   "outputs": [
    {
     "name": "stdout",
     "output_type": "stream",
     "text": [
      "\u001b[31mF\u001b[0m\u001b[31m                                                                                            [100%]\u001b[0m\n",
      "============================================= FAILURES =============================================\n",
      "\u001b[31m\u001b[1m_________________________________________ test_square_fail _________________________________________\u001b[0m\n",
      "\n",
      "    \u001b[94mdef\u001b[39;49;00m \u001b[92mtest_square_fail\u001b[39;49;00m():\n",
      ">       \u001b[94massert\u001b[39;49;00m square(\u001b[33m'\u001b[39;49;00m\u001b[33m2\u001b[39;49;00m\u001b[33m'\u001b[39;49;00m) == \u001b[94m4\u001b[39;49;00m \u001b[90m# must raise a TypeError\u001b[39;49;00m\n",
      "\n",
      "\u001b[1m\u001b[31m/var/folders/2w/g1xqblv11xdc789plh7y3tsw0000gn/T/ipykernel_11687/4230132936.py\u001b[0m:2: \n",
      "_ _ _ _ _ _ _ _ _ _ _ _ _ _ _ _ _ _ _ _ _ _ _ _ _ _ _ _ _ _ _ _ _ _ _ _ _ _ _ _ _ _ _ _ _ _ _ _ _ _ \n",
      "\n",
      "n = '2'\n",
      "\n",
      "    \u001b[94mdef\u001b[39;49;00m \u001b[92msquare\u001b[39;49;00m(n):\n",
      "        \u001b[33m\"\"\"\u001b[39;49;00m\n",
      "    \u001b[33m    Returns the square of the given number.\u001b[39;49;00m\n",
      "    \u001b[33m\u001b[39;49;00m\n",
      "    \u001b[33m    Parameters:\u001b[39;49;00m\n",
      "    \u001b[33m    n (int): The number to be squared.\u001b[39;49;00m\n",
      "    \u001b[33m\u001b[39;49;00m\n",
      "    \u001b[33m    Returns:\u001b[39;49;00m\n",
      "    \u001b[33m    int: The square of the given number.\u001b[39;49;00m\n",
      "    \u001b[33m\u001b[39;49;00m\n",
      "    \u001b[33m    Raises:\u001b[39;49;00m\n",
      "    \u001b[33m    TypeError: If the input is not a number.\u001b[39;49;00m\n",
      "    \u001b[33m    \"\"\"\u001b[39;49;00m\n",
      "    \n",
      "        \u001b[94mif\u001b[39;49;00m \u001b[95mnot\u001b[39;49;00m \u001b[96misinstance\u001b[39;49;00m(n, (\u001b[96mint\u001b[39;49;00m, \u001b[96mfloat\u001b[39;49;00m)):\n",
      ">           \u001b[94mraise\u001b[39;49;00m \u001b[96mTypeError\u001b[39;49;00m(\u001b[33m\"\u001b[39;49;00m\u001b[33mInput must be a number\u001b[39;49;00m\u001b[33m\"\u001b[39;49;00m)\n",
      "\u001b[1m\u001b[31mE           TypeError: Input must be a number\u001b[0m\n",
      "\n",
      "\u001b[1m\u001b[31m/var/folders/2w/g1xqblv11xdc789plh7y3tsw0000gn/T/ipykernel_11687/349850093.py\u001b[0m:16: TypeError\n",
      "===================================== short test summary info ======================================\n",
      "FAILED t_73f9d0fecf3541c49d9ac7ae308af51a.py::test_square_fail - TypeError: Input must be a number\n",
      "\u001b[31m\u001b[31m\u001b[1m1 failed\u001b[0m\u001b[31m in 0.02s\u001b[0m\u001b[0m\n"
     ]
    }
   ],
   "source": [
    "%%ipytest \n",
    "\n",
    "def test_square_fail():\n",
    "    assert square('2') == 4 # must raise a TypeError"
   ]
  }
 ],
 "metadata": {
  "kernelspec": {
   "display_name": "Python 3",
   "language": "python",
   "name": "python3"
  },
  "language_info": {
   "codemirror_mode": {
    "name": "ipython",
    "version": 3
   },
   "file_extension": ".py",
   "mimetype": "text/x-python",
   "name": "python",
   "nbconvert_exporter": "python",
   "pygments_lexer": "ipython3",
   "version": "3.10.4"
  },
  "orig_nbformat": 4
 },
 "nbformat": 4,
 "nbformat_minor": 2
}
