{
 "cells": [
  {
   "cell_type": "markdown",
   "metadata": {},
   "source": [
    "<h5 align = \"center\" style=\"color:orange\">Python is <u>dynamically-typed</u> language, as the data assigned to a varible decides the data type. </h5>"
   ]
  },
  {
   "cell_type": "code",
   "execution_count": 1,
   "metadata": {},
   "outputs": [
    {
     "data": {
      "text/plain": [
       "int"
      ]
     },
     "execution_count": 1,
     "metadata": {},
     "output_type": "execute_result"
    }
   ],
   "source": [
    "x = 100\n",
    "type(x)"
   ]
  },
  {
   "cell_type": "code",
   "execution_count": 2,
   "metadata": {},
   "outputs": [
    {
     "data": {
      "text/plain": [
       "str"
      ]
     },
     "execution_count": 2,
     "metadata": {},
     "output_type": "execute_result"
    }
   ],
   "source": [
    "x = \"my string\"\n",
    "type(x)"
   ]
  },
  {
   "cell_type": "markdown",
   "metadata": {},
   "source": [
    "<h5 align = \"center\" style=\"color:orange\">Python interpreter assigns a unique identifier to each object. <br> The built-in <i> id() </i> function points to the memory address of the object created. </h5>"
   ]
  },
  {
   "cell_type": "code",
   "execution_count": 3,
   "metadata": {},
   "outputs": [
    {
     "data": {
      "text/plain": [
       "4598641456"
      ]
     },
     "execution_count": 3,
     "metadata": {},
     "output_type": "execute_result"
    }
   ],
   "source": [
    "id(x)\n"
   ]
  },
  {
   "cell_type": "code",
   "execution_count": 4,
   "metadata": {},
   "outputs": [
    {
     "data": {
      "text/plain": [
       "4598641456"
      ]
     },
     "execution_count": 4,
     "metadata": {},
     "output_type": "execute_result"
    }
   ],
   "source": [
    "y = x\n",
    "id(y)"
   ]
  },
  {
   "cell_type": "markdown",
   "metadata": {},
   "source": [
    "<h5 align = \"center\" style=\"color:orange\">As a result, actual and formal arguments in a function call have the same id value.</h5>"
   ]
  },
  {
   "cell_type": "code",
   "execution_count": 5,
   "metadata": {},
   "outputs": [
    {
     "name": "stdout",
     "output_type": "stream",
     "text": [
      "Value sent 100 has id 4379512144\n",
      "Value received 100 has id 4379512144 \n"
     ]
    }
   ],
   "source": [
    "def func(arg):\n",
    "    print(f\"Value received {arg} has id {id(arg)} \")\n",
    "\n",
    "x = 100\n",
    "print(f\"Value sent {x} has id {id(x)}\")\n",
    "\n",
    "func(x)"
   ]
  },
  {
   "cell_type": "markdown",
   "metadata": {},
   "source": [
    "<h5 align = \"center\" style=\"color:orange\"> \n",
    "Key difference is the type of object being sent as an argument.<br>\n",
    "Immutable object types such as <i> int, float, tuple, string</i> will result in <br> the creation of different objects insdie the function</h5>\n"
   ]
  },
  {
   "cell_type": "code",
   "execution_count": 2,
   "metadata": {},
   "outputs": [
    {
     "name": "stdout",
     "output_type": "stream",
     "text": [
      " 1) Value sent 100 has id 4370107728\n",
      " 2) Value received 100 has id 4370107728 \n",
      " 3) After tranformation insdie the func value is now 300 and has id 4434192752 \n",
      " 4) Value returned from func 300 has id 4434192752\n",
      " 5) After function call original value 100 still has the same initial id 4370107728\n"
     ]
    }
   ],
   "source": [
    "def func(num):\n",
    "    print(f\" 2) Value received {num} has id {id(num)} \")\n",
    "    num += 200\n",
    "    print(f\" 3) After tranformation insdie the func value is now {num} and has id {id(num)} \")\n",
    "    return num \n",
    "    \n",
    "\n",
    "num = 100\n",
    "print(f\" 1) Value sent {num} has id {id(num)}\")\n",
    "\n",
    "num_from_func = func(num)\n",
    "print(f\" 4) Value returned from func {num_from_func} has id {id(num_from_func)}\")\n",
    "\n",
    "print(f\" 5) After function call original value {num} still has the same initial id {id(num)}\")"
   ]
  },
  {
   "cell_type": "markdown",
   "metadata": {},
   "source": [
    "<h5 align = \"center\" style=\"color:orange\"> When a mutable object such as <i><b>list</b></i> is passed, modifications inside the function will be reflected after the function call as well.</h5>"
   ]
  },
  {
   "cell_type": "code",
   "execution_count": 18,
   "metadata": {},
   "outputs": [
    {
     "name": "stdout",
     "output_type": "stream",
     "text": [
      "List sent [10, 20, 30] has id 4587692416\n",
      "List received [10, 20, 30] has id 4587692416\n",
      "List changed [10, 20, 30, 40] has id 4587692416\n",
      "List after function call [10, 20, 30, 40] has id 4587692416\n"
     ]
    }
   ],
   "source": [
    "def func(l1):\n",
    "    print (f\"List received {l1} has id {id(l1)}\")\n",
    "    l1.append(40)\n",
    "    print (f\"List changed {l1} has id {id(l1)}\")\n",
    "\n",
    "l1 = [10,20,30]\n",
    "print (f\"List sent {l1} has id {id(l1)}\")\n",
    "func(l1)\n",
    "print (f\"List after function call {l1} has id {id(l1)}\")"
   ]
  },
  {
   "cell_type": "markdown",
   "metadata": {},
   "source": [
    "<h5 align = \"center\" style=\"color:orange\"> Custom class object example </h5>"
   ]
  },
  {
   "cell_type": "code",
   "execution_count": 5,
   "metadata": {},
   "outputs": [
    {
     "name": "stdout",
     "output_type": "stream",
     "text": [
      "Object sent -> name: Orchid , color: White, id: 4593612016\n",
      "Inside change function -> name: Rose, color: Red, id: 4593613552\n",
      "After change function invoked -> name: Orchid, color: White, id: 4593612016\n"
     ]
    }
   ],
   "source": [
    "class Flower:\n",
    "    def __init__(self, name, color) -> None:\n",
    "        self.name = name \n",
    "        self.color = color \n",
    "\n",
    "def change_obj(obj):\n",
    "    obj = Flower(\"Rose\", \"Red\")\n",
    "    print(f\"Inside change function -> name: {obj.name}, color: {obj.color}, id: {id(obj)}\")\n",
    "\n",
    "f1 = Flower(\"Orchid\", \"White\")\n",
    "print(f\"Object sent -> name: {f1.name} , color: {f1.color}, id: {id(f1)}\")\n",
    "\n",
    "change_obj(f1)\n",
    "print(f\"After change function invoked -> name: {f1.name}, color: {f1.color}, id: {id(f1)}\")"
   ]
  }
 ],
 "metadata": {
  "kernelspec": {
   "display_name": "Python 3.10.4 64-bit",
   "language": "python",
   "name": "python3"
  },
  "language_info": {
   "codemirror_mode": {
    "name": "ipython",
    "version": 3
   },
   "file_extension": ".py",
   "mimetype": "text/x-python",
   "name": "python",
   "nbconvert_exporter": "python",
   "pygments_lexer": "ipython3",
   "version": "3.10.4"
  },
  "orig_nbformat": 4,
  "vscode": {
   "interpreter": {
    "hash": "aee8b7b246df8f9039afb4144a1f6fd8d2ca17a180786b69acc140d282b71a49"
   }
  }
 },
 "nbformat": 4,
 "nbformat_minor": 2
}
