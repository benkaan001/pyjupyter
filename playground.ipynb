{
 "cells": [
  {
   "cell_type": "markdown",
   "metadata": {},
   "source": [
    "<h1><center> DIFFERENT WAYS TO CENTER A DIV </center></h1>\n",
    "<center> PLAYGROUND </center>\n",
    "<h2 align= \"center\"> Centering a div using html </h2>\n",
    "<center> Centering a div using html </center>"
   ]
  }
 ],
 "metadata": {
  "language_info": {
   "name": "python"
  },
  "orig_nbformat": 4
 },
 "nbformat": 4,
 "nbformat_minor": 2
}
