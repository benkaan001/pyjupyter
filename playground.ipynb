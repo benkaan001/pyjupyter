{
 "cells": [
  {
   "cell_type": "markdown",
   "metadata": {},
   "source": [
    "<h1><center> DIFFERENT WAYS TO CENTER A DIV </center></h1>\n",
    "<center> PLAYGROUND </center>\n",
    "<h2 align= \"center\" style=\"color:orange\"> Centering a div using html </h2>\n",
    "<center> Centering a div using html </center>\n",
    "<h3 align=\"center\" style=\"color:brown\">Exampled of an <ins>underlined text</ins></h3>\n",
    "\n",
    "> ⛔️ **Warning** You have been warned!\n",
    "\n",
    "> 💡 **Tip:** Remember it is the little things that make a big difference.\n",
    "\n",
    "> $$ success = effort * attitude"
   ]
  },
  {
   "cell_type": "markdown",
   "metadata": {},
   "source": [
    "### Table of Contents\n",
    "\n",
    "- [Why?](https://www.markdownguide.org/hacks/)\n",
    "- [Google](https://www.google.com)"
   ]
  }
 ],
 "metadata": {
  "kernelspec": {
   "display_name": "Python 3.10.4 64-bit",
   "language": "python",
   "name": "python3"
  },
  "language_info": {
   "name": "python",
   "version": "3.10.4"
  },
  "orig_nbformat": 4,
  "vscode": {
   "interpreter": {
    "hash": "aee8b7b246df8f9039afb4144a1f6fd8d2ca17a180786b69acc140d282b71a49"
   }
  }
 },
 "nbformat": 4,
 "nbformat_minor": 2
}
