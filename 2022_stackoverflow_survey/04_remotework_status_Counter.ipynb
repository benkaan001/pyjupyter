{
 "cells": [
  {
   "cell_type": "code",
   "execution_count": 3,
   "metadata": {},
   "outputs": [
    {
     "name": "stdout",
     "output_type": "stream",
     "text": [
      "Total: 73268\n",
      "Counter({'remote_count': 25341, 'hybrid_count': 25021, 'na_count': 14310, 'in_person_count': 8596})\n"
     ]
    }
   ],
   "source": [
    "from csv import DictReader\n",
    "from path import survey_path\n",
    "from collections import defaultdict, Counter\n",
    "\n",
    "# initiate a dictionary\n",
    "counts = Counter()\n",
    "\n",
    "with open(survey_path) as f:\n",
    "    csv_reader = DictReader(f)\n",
    "\n",
    "    for row in csv_reader:\n",
    "        if row['RemoteWork'] == 'Fully remote':\n",
    "            counts['remote_count'] += 1\n",
    "        elif row['RemoteWork'][0:6] == 'Hybrid':\n",
    "            counts['hybrid_count'] += 1\n",
    "        elif row['RemoteWork'] == 'Full in-person':\n",
    "            counts['in_person_count'] += 1\n",
    "        else:\n",
    "            counts['na_count'] += 1\n",
    "\n",
    "total_count = sum(value for value in counts.values())\n",
    "\n",
    "\n",
    "print(f\"Total: {total_count}\")\n",
    "print(counts)\n",
    "\n",
    "# for k,v in counts.items():\n",
    "#     print(f\"\\t{k}:{v} -> {round(v/total_count*100, 2)}%\")"
   ]
  }
 ],
 "metadata": {
  "kernelspec": {
   "display_name": "Python 3",
   "language": "python",
   "name": "python3"
  },
  "language_info": {
   "codemirror_mode": {
    "name": "ipython",
    "version": 3
   },
   "file_extension": ".py",
   "mimetype": "text/x-python",
   "name": "python",
   "nbconvert_exporter": "python",
   "pygments_lexer": "ipython3",
   "version": "3.10.4 (v3.10.4:9d38120e33, Mar 23 2022, 17:29:05) [Clang 13.0.0 (clang-1300.0.29.30)]"
  },
  "orig_nbformat": 4,
  "vscode": {
   "interpreter": {
    "hash": "aee8b7b246df8f9039afb4144a1f6fd8d2ca17a180786b69acc140d282b71a49"
   }
  }
 },
 "nbformat": 4,
 "nbformat_minor": 2
}
