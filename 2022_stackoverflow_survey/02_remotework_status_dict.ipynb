{
 "cells": [
  {
   "cell_type": "code",
   "execution_count": 4,
   "metadata": {},
   "outputs": [
    {
     "name": "stdout",
     "output_type": "stream",
     "text": [
      "Total: 73268\n",
      "\tremote_count:25341 -> 34.59%\n",
      "\thybrid_count:25021 -> 34.15%\n",
      "\tin_person_count:8596 -> 11.73%\n",
      "\tna_count:14310 -> 19.53%\n"
     ]
    }
   ],
   "source": [
    "from csv import DictReader\n",
    "from path import survey_path\n",
    "\n",
    "# initiate a dictionary\n",
    "counts = {\n",
    "    'remote_count': 0,\n",
    "    'hybrid_count': 0,\n",
    "    'in_person_count': 0,\n",
    "    'na_count': 0,\n",
    "}\n",
    "\n",
    "with open(survey_path) as f:\n",
    "    csv_reader = DictReader(f)\n",
    "\n",
    "    for row in csv_reader:\n",
    "        if row['RemoteWork'] == 'Fully remote':\n",
    "            counts['remote_count'] += 1\n",
    "        elif row['RemoteWork'][0:6] == 'Hybrid':\n",
    "            counts['hybrid_count'] += 1\n",
    "        elif row['RemoteWork'] == 'Full in-person':\n",
    "            counts['in_person_count'] += 1\n",
    "        else:\n",
    "            counts['na_count'] += 1\n",
    "\n",
    "total_count = sum(value for value in counts.values())\n",
    "\n",
    "\n",
    "print(f\"Total: {total_count}\")\n",
    "\n",
    "for k,v in counts.items():\n",
    "    print(f\"\\t{k}:{v} -> {round(v/total_count*100, 2)}%\")\n",
    "\n",
    "\n",
    "\n",
    "\n",
    "\n",
    "# counts['total_count'] = counts['remote_count'] + \\\n",
    "#     counts['hybrid_count'] + \\\n",
    "#     counts['in_person_count'] + \\\n",
    "#     counts['na_count']\n",
    "\n",
    "\n",
    "# print(f\"Remote: {counts['remote_count']}\")\n",
    "# print(f\"Hybrid: {counts['hybrid_count']}\")\n",
    "# print(f\"In-person: {counts['in_person_count']}\")\n",
    "# print(f\"N/A: {counts['na_count']}\")\n",
    "\n",
    "# remote_percentage = round(counts['remote_count'] / counts['total_count'] * 100, 2)\n",
    "# hybrid_percentage = round(counts['hybrid_count'] / counts['total_count'] * 100, 2)\n",
    "# in_person_percentage = round(counts['in_person_count'] / counts['total_count'] *  100, 2)\n",
    "# na_percentage = round(counts['na_count'] / counts['total_count'] * 100, 2)\n",
    "\n",
    "# print(f\"\\tRemote: {remote_percentage}%\")\n",
    "# print(f\"\\tHybrid: {hybrid_percentage}%\")\n",
    "# print(f\"\\tIn-person: {in_person_percentage}%\")\n",
    "# print(f\"\\tN/A: {na_percentage}%\")"
   ]
  }
 ],
 "metadata": {
  "kernelspec": {
   "display_name": "Python 3",
   "language": "python",
   "name": "python3"
  },
  "language_info": {
   "codemirror_mode": {
    "name": "ipython",
    "version": 3
   },
   "file_extension": ".py",
   "mimetype": "text/x-python",
   "name": "python",
   "nbconvert_exporter": "python",
   "pygments_lexer": "ipython3",
   "version": "3.10.4"
  },
  "orig_nbformat": 4,
  "vscode": {
   "interpreter": {
    "hash": "aee8b7b246df8f9039afb4144a1f6fd8d2ca17a180786b69acc140d282b71a49"
   }
  }
 },
 "nbformat": 4,
 "nbformat_minor": 2
}
