{
 "cells": [
  {
   "attachments": {},
   "cell_type": "markdown",
   "metadata": {},
   "source": [
    "-- Using Counter() object methods, print out years of expereince count `total` along with percentage by overall years of experience count in `descending` order."
   ]
  },
  {
   "cell_type": "code",
   "execution_count": 9,
   "metadata": {},
   "outputs": [
    {
     "name": "stdout",
     "output_type": "stream",
     "text": [
      "Counter({'10': 5217, '5': 5193, '6': 4651, '4': 4480, '7': 4237, '8': 4227, '3': 4122, '2': 3351, '12': 2995, '15': 2962, '20': 2659, '9': 2581, 'NA': 1937, '11': 1819, '14': 1811, '13': 1624, '25': 1582, '1': 1566, 'Less than 1 year': 1413, '16': 1406, '30': 1330, '22': 1176, '18': 1150, '17': 1080, '40': 777, '24': 752, '35': 742, '23': 644, '19': 563, '26': 489, '27': 485, '21': 483, '28': 425, '32': 371, '38': 288, '37': 277, '34': 241, '36': 236, '33': 229, '42': 216, '29': 208, 'More than 50 years': 172, '31': 170, '45': 167, '39': 159, '41': 143, '43': 115, '44': 104, '50': 68, '46': 57, '47': 42, '48': 41, '49': 35})\n"
     ]
    }
   ],
   "source": [
    "from csv import DictReader\n",
    "from path import survey_path\n",
    "from collections import Counter\n",
    "\n",
    "# initiate a dictionary\n",
    "counts = Counter()\n",
    "\n",
    "with open(survey_path) as f:\n",
    "    csv_reader = DictReader(f)\n",
    "\n",
    "    for row in csv_reader:\n",
    "        key = row['YearsCode']\n",
    "        counts[key] += 1\n",
    "\n",
    "\n",
    "\n",
    "print(counts)\n",
    "\n",
    "\n"
   ]
  },
  {
   "cell_type": "code",
   "execution_count": null,
   "metadata": {},
   "outputs": [],
   "source": []
  },
  {
   "cell_type": "code",
   "execution_count": 10,
   "metadata": {},
   "outputs": [
    {
     "data": {
      "text/plain": [
       "73268"
      ]
     },
     "execution_count": 10,
     "metadata": {},
     "output_type": "execute_result"
    }
   ],
   "source": [
    "# get the total \n",
    "counts.total()"
   ]
  },
  {
   "cell_type": "code",
   "execution_count": 11,
   "metadata": {},
   "outputs": [
    {
     "data": {
      "text/plain": [
       "[('10', 5217), ('5', 5193), ('6', 4651), ('4', 4480), ('7', 4237)]"
      ]
     },
     "execution_count": 11,
     "metadata": {},
     "output_type": "execute_result"
    }
   ],
   "source": [
    "# find the most common top 5 years of coding experience group\n",
    "counts.most_common(5)"
   ]
  },
  {
   "cell_type": "code",
   "execution_count": 17,
   "metadata": {},
   "outputs": [
    {
     "name": "stdout",
     "output_type": "stream",
     "text": [
      "10: 5217 -> 7.12%\n",
      "5: 5193 -> 7.09%\n",
      "6: 4651 -> 6.35%\n",
      "4: 4480 -> 6.11%\n",
      "7: 4237 -> 5.78%\n",
      "8: 4227 -> 5.77%\n",
      "3: 4122 -> 5.63%\n",
      "2: 3351 -> 4.57%\n",
      "12: 2995 -> 4.09%\n",
      "15: 2962 -> 4.04%\n",
      "20: 2659 -> 3.63%\n",
      "9: 2581 -> 3.52%\n",
      "NA: 1937 -> 2.64%\n",
      "11: 1819 -> 2.48%\n",
      "14: 1811 -> 2.47%\n",
      "13: 1624 -> 2.22%\n",
      "25: 1582 -> 2.16%\n",
      "1: 1566 -> 2.14%\n",
      "Less than 1 year: 1413 -> 1.93%\n",
      "16: 1406 -> 1.92%\n",
      "30: 1330 -> 1.82%\n",
      "22: 1176 -> 1.61%\n",
      "18: 1150 -> 1.57%\n",
      "17: 1080 -> 1.47%\n",
      "40: 777 -> 1.06%\n",
      "24: 752 -> 1.03%\n",
      "35: 742 -> 1.01%\n",
      "23: 644 -> 0.88%\n",
      "19: 563 -> 0.77%\n",
      "26: 489 -> 0.67%\n",
      "27: 485 -> 0.66%\n",
      "21: 483 -> 0.66%\n",
      "28: 425 -> 0.58%\n",
      "32: 371 -> 0.51%\n",
      "38: 288 -> 0.39%\n",
      "37: 277 -> 0.38%\n",
      "34: 241 -> 0.33%\n",
      "36: 236 -> 0.32%\n",
      "33: 229 -> 0.31%\n",
      "42: 216 -> 0.29%\n",
      "29: 208 -> 0.28%\n",
      "More than 50 years: 172 -> 0.23%\n",
      "31: 170 -> 0.23%\n",
      "45: 167 -> 0.23%\n",
      "39: 159 -> 0.22%\n",
      "41: 143 -> 0.2%\n",
      "43: 115 -> 0.16%\n",
      "44: 104 -> 0.14%\n",
      "50: 68 -> 0.09%\n",
      "46: 57 -> 0.08%\n",
      "47: 42 -> 0.06%\n",
      "48: 41 -> 0.06%\n",
      "49: 35 -> 0.05%\n"
     ]
    }
   ],
   "source": [
    "# print percentage\n",
    "for k,v in counts.most_common():\n",
    "    print(f\"{k}: {v} -> {round(v/counts.total() * 100, 2)}%\")"
   ]
  }
 ],
 "metadata": {
  "kernelspec": {
   "display_name": "Python 3",
   "language": "python",
   "name": "python3"
  },
  "language_info": {
   "codemirror_mode": {
    "name": "ipython",
    "version": 3
   },
   "file_extension": ".py",
   "mimetype": "text/x-python",
   "name": "python",
   "nbconvert_exporter": "python",
   "pygments_lexer": "ipython3",
   "version": "3.10.4 (v3.10.4:9d38120e33, Mar 23 2022, 17:29:05) [Clang 13.0.0 (clang-1300.0.29.30)]"
  },
  "orig_nbformat": 4,
  "vscode": {
   "interpreter": {
    "hash": "aee8b7b246df8f9039afb4144a1f6fd8d2ca17a180786b69acc140d282b71a49"
   }
  }
 },
 "nbformat": 4,
 "nbformat_minor": 2
}
