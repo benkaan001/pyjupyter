{
 "cells": [
  {
   "attachments": {},
   "cell_type": "markdown",
   "metadata": {},
   "source": [
    "-- Get the count of participants by `RemoteWork` status - including `NA` fields."
   ]
  },
  {
   "cell_type": "code",
   "execution_count": 1,
   "metadata": {},
   "outputs": [
    {
     "name": "stdout",
     "output_type": "stream",
     "text": [
      "Total: 73268\n",
      "Remote: 25341\n",
      "Hybrid: 25021\n",
      "In-person: 8596\n",
      "N/A: 14310\n",
      "\tRemote: 34.59%\n",
      "\tHybrid: 34.15%\n",
      "\tIn-person: 11.73%\n",
      "\tN/A: 19.53%\n"
     ]
    }
   ],
   "source": [
    "from csv import DictReader\n",
    "from path import survey_path\n",
    "\n",
    "# start a counter\n",
    "remote_count = 0\n",
    "hybrid_count = 0\n",
    "in_person_count = 0\n",
    "na_count = 0\n",
    "total_count = 0\n",
    "\n",
    "with open(survey_path) as f:\n",
    "    csv_reader = DictReader(f)\n",
    "\n",
    "    for row in csv_reader:\n",
    "        if row['RemoteWork'] == 'Fully remote':\n",
    "            remote_count += 1\n",
    "        elif row['RemoteWork'][0:6] == 'Hybrid':\n",
    "            hybrid_count += 1\n",
    "        elif row['RemoteWork'] == 'Full in-person':\n",
    "            in_person_count += 1\n",
    "        else:\n",
    "            na_count += 1\n",
    "\n",
    "total_count = remote_count + hybrid_count + in_person_count + na_count\n",
    "\n",
    "print(f\"Total: {total_count}\")\n",
    "print(f\"Remote: {remote_count}\")\n",
    "print(f\"Hybrid: {hybrid_count}\")\n",
    "print(f\"In-person: {in_person_count}\")\n",
    "print(f\"N/A: {na_count}\")\n",
    "\n",
    "remote_percentage = round(remote_count/total_count * 100, 2)\n",
    "hybrid_percentage = round(hybrid_count/total_count * 100, 2)\n",
    "in_person_percentage = round(in_person_count/total_count *  100, 2)\n",
    "na_percentage = round(na_count/total_count * 100, 2)\n",
    "\n",
    "print(f\"\\tRemote: {remote_percentage}%\")\n",
    "print(f\"\\tHybrid: {hybrid_percentage}%\")\n",
    "print(f\"\\tIn-person: {in_person_percentage}%\")\n",
    "print(f\"\\tN/A: {na_percentage}%\")\n",
    "\n"
   ]
  }
 ],
 "metadata": {
  "kernelspec": {
   "display_name": "Python 3",
   "language": "python",
   "name": "python3"
  },
  "language_info": {
   "codemirror_mode": {
    "name": "ipython",
    "version": 3
   },
   "file_extension": ".py",
   "mimetype": "text/x-python",
   "name": "python",
   "nbconvert_exporter": "python",
   "pygments_lexer": "ipython3",
   "version": "3.10.4 (v3.10.4:9d38120e33, Mar 23 2022, 17:29:05) [Clang 13.0.0 (clang-1300.0.29.30)]"
  },
  "orig_nbformat": 4,
  "vscode": {
   "interpreter": {
    "hash": "aee8b7b246df8f9039afb4144a1f6fd8d2ca17a180786b69acc140d282b71a49"
   }
  }
 },
 "nbformat": 4,
 "nbformat_minor": 2
}
