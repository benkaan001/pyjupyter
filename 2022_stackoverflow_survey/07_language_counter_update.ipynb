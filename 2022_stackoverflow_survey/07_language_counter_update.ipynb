{
 "cells": [
  {
   "cell_type": "code",
   "execution_count": 1,
   "metadata": {},
   "outputs": [
    {
     "name": "stdout",
     "output_type": "stream",
     "text": [
      "Counter({'JavaScript': 46443, 'HTML/CSS': 39142, 'SQL': 35127, 'Python': 34155, 'TypeScript': 24752, 'Java': 23644, 'Bash/Shell': 20656, 'C#': 19883, 'C++': 16024, 'PHP': 14827, 'C': 13692, 'PowerShell': 8575, 'Go': 7922, 'Rust': 6625, 'Kotlin': 6507, 'Dart': 4648, 'Ruby': 4299, 'Assembly': 3887, 'Swift': 3489, 'R': 3308, 'VBA': 3185, 'MATLAB': 2913, 'Lua': 2867, 'Groovy': 2357, 'Delphi': 2311, 'NA': 2293, 'Scala': 1837, 'Objective-C': 1698, 'Perl': 1644, 'Haskell': 1577, 'Elixir': 1528, 'Julia': 1084, 'Clojure': 1070, 'Solidity': 1031, 'LISP': 932, 'F#': 730, 'Fortran': 646, 'Erlang': 641, 'APL': 504, 'COBOL': 464, 'SAS': 435, 'OCaml': 422, 'Crystal': 340})\n"
     ]
    }
   ],
   "source": [
    "from csv import DictReader\n",
    "from path import survey_path\n",
    "from collections import Counter\n",
    "\n",
    "# initiate a language counter object\n",
    "language_counter = Counter()\n",
    "\n",
    "with open(survey_path) as f:\n",
    "    csv_reader = DictReader(f)\n",
    "\n",
    "    for row in csv_reader:\n",
    "        languages = row['LanguageHaveWorkedWith'].split(\";\")\n",
    "        language_counter.update(languages)\n",
    "        \n",
    "\n",
    "print(language_counter)"
   ]
  },
  {
   "cell_type": "code",
   "execution_count": 4,
   "metadata": {},
   "outputs": [
    {
     "data": {
      "text/plain": [
       "[('JavaScript', 46443),\n",
       " ('HTML/CSS', 39142),\n",
       " ('SQL', 35127),\n",
       " ('Python', 34155),\n",
       " ('TypeScript', 24752),\n",
       " ('Java', 23644),\n",
       " ('Bash/Shell', 20656),\n",
       " ('C#', 19883),\n",
       " ('C++', 16024),\n",
       " ('PHP', 14827)]"
      ]
     },
     "execution_count": 4,
     "metadata": {},
     "output_type": "execute_result"
    }
   ],
   "source": [
    "language_counter.most_common(10)"
   ]
  }
 ],
 "metadata": {
  "kernelspec": {
   "display_name": "Python 3",
   "language": "python",
   "name": "python3"
  },
  "language_info": {
   "codemirror_mode": {
    "name": "ipython",
    "version": 3
   },
   "file_extension": ".py",
   "mimetype": "text/x-python",
   "name": "python",
   "nbconvert_exporter": "python",
   "pygments_lexer": "ipython3",
   "version": "3.10.4"
  },
  "orig_nbformat": 4,
  "vscode": {
   "interpreter": {
    "hash": "aee8b7b246df8f9039afb4144a1f6fd8d2ca17a180786b69acc140d282b71a49"
   }
  }
 },
 "nbformat": 4,
 "nbformat_minor": 2
}
