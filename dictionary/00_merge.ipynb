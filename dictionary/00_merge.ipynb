{
 "cells": [
  {
   "cell_type": "markdown",
   "metadata": {},
   "source": [
    "<p align = \"center\"> Unordered collection of key-value pairs with key being unique. <br>\n",
    "Dictionaries do <b> not </b> have <u> append </u> method.\n",
    "</p>"
   ]
  },
  {
   "cell_type": "markdown",
   "metadata": {},
   "source": [
    "<h3 align = \"center\" style = \"color:orange\"> MERGE</h3>\n",
    "<p align= \"center\"> 📌 If key exists, the value will be updated with the value from the added dictionary.</p>"
   ]
  },
  {
   "cell_type": "markdown",
   "metadata": {},
   "source": [
    "<h3 align=\"center\" style=\"color:orange\"> using <i>loop</i> </h3>"
   ]
  },
  {
   "cell_type": "code",
   "execution_count": 6,
   "metadata": {},
   "outputs": [
    {
     "data": {
      "text/plain": [
       "{'A1': 20,\n",
       " 'B1': 25,\n",
       " 'C1': 'Four Hundred',\n",
       " 'D1': ('apple', 'orange'),\n",
       " 'a1': 200,\n",
       " 'b1': 250,\n",
       " 'd1': None}"
      ]
     },
     "execution_count": 6,
     "metadata": {},
     "output_type": "execute_result"
    }
   ],
   "source": [
    "d1 = {'A1': 20, 'B1': 25, 'C1': 40, 'D1': 50}\n",
    "d2 = { 'a1': 200, 'b1': 250, 'C1': \"Four Hundred\", 'd1': None, 'D1': ('apple', 'orange') }\n",
    "\n",
    "for k,v in d2.items():\n",
    "    d1[k] = v \n",
    "\n",
    "d1"
   ]
  },
  {
   "cell_type": "markdown",
   "metadata": {},
   "source": [
    "<h3 align=\"center\" style=\"color:orange\"> using <i>comprehension</i> </h3>\n",
    "<p align=\"center\"> ❌ not readable </p>"
   ]
  },
  {
   "cell_type": "code",
   "execution_count": 14,
   "metadata": {},
   "outputs": [
    {
     "data": {
      "text/plain": [
       "{'A1': 20,\n",
       " 'B1': 25,\n",
       " 'C1': 'Four Hundred',\n",
       " 'D1': ('apple', 'orange'),\n",
       " 'a1': 200,\n",
       " 'b1': 250,\n",
       " 'd1': None}"
      ]
     },
     "execution_count": 14,
     "metadata": {},
     "output_type": "execute_result"
    }
   ],
   "source": [
    "d1 = {'A1': 20, 'B1': 25, 'C1': 40, 'D1': 50}\n",
    "d2 = { 'a1': 200, 'b1': 250, 'C1': \"Four Hundred\", 'd1': None, 'D1': ('apple', 'orange') }\n",
    "\n",
    "d3 = {k:v for combined in [d1,d2] for k,v in combined.items() }\n",
    "\n",
    "d3"
   ]
  },
  {
   "cell_type": "markdown",
   "metadata": {},
   "source": [
    "<h3 align=\"center\" style=\"color:orange\"> using <i>dict.update()</i> </h3>"
   ]
  },
  {
   "cell_type": "code",
   "execution_count": 7,
   "metadata": {},
   "outputs": [
    {
     "data": {
      "text/plain": [
       "{'A1': 20,\n",
       " 'B1': 25,\n",
       " 'C1': 'Four Hundred',\n",
       " 'D1': ('apple', 'orange'),\n",
       " 'a1': 200,\n",
       " 'b1': 250,\n",
       " 'd1': None}"
      ]
     },
     "execution_count": 7,
     "metadata": {},
     "output_type": "execute_result"
    }
   ],
   "source": [
    "d1 = {'A1': 20, 'B1': 25, 'C1': 40, 'D1': 50}\n",
    "d2 = { 'a1': 200, 'b1': 250, 'C1': \"Four Hundred\", 'd1': None, 'D1': ('apple', 'orange') }\n",
    "\n",
    "d1.update(d2)\n",
    "\n",
    "d1"
   ]
  },
  {
   "cell_type": "markdown",
   "metadata": {},
   "source": [
    "<h3 align=\"center\" style=\"color:orange\"> using <i>unpacking operator **</i> </h3>"
   ]
  },
  {
   "cell_type": "code",
   "execution_count": 8,
   "metadata": {},
   "outputs": [
    {
     "data": {
      "text/plain": [
       "{'A1': 20,\n",
       " 'B1': 25,\n",
       " 'C1': 'Four Hundred',\n",
       " 'D1': ('apple', 'orange'),\n",
       " 'a1': 200,\n",
       " 'b1': 250,\n",
       " 'd1': None}"
      ]
     },
     "execution_count": 8,
     "metadata": {},
     "output_type": "execute_result"
    }
   ],
   "source": [
    "d1 = {'A1': 20, 'B1': 25, 'C1': 40, 'D1': 50}\n",
    "d2 = { 'a1': 200, 'b1': 250, 'C1': \"Four Hundred\", 'd1': None, 'D1': ('apple', 'orange') }\n",
    "\n",
    "d3 = {**d1, **d2}\n",
    "\n",
    "d3"
   ]
  },
  {
   "cell_type": "markdown",
   "metadata": {},
   "source": [
    "<h3 align=\"center\" style=\"color:orange\"> using <i>Union Operator</i> ( | ) </h3>"
   ]
  },
  {
   "cell_type": "code",
   "execution_count": 5,
   "metadata": {},
   "outputs": [
    {
     "data": {
      "text/plain": [
       "{'A1': 20,\n",
       " 'B1': 25,\n",
       " 'C1': 'Four Hundred',\n",
       " 'D1': ('apple', 'orange'),\n",
       " 'a1': 200,\n",
       " 'b1': 250,\n",
       " 'd1': None}"
      ]
     },
     "execution_count": 5,
     "metadata": {},
     "output_type": "execute_result"
    }
   ],
   "source": [
    "d1 = {'A1': 20, 'B1': 25, 'C1': 40, 'D1': 50}\n",
    "d2 = { 'a1': 200, 'b1': 250, 'C1': \"Four Hundred\", 'd1': None, 'D1': ('apple', 'orange') }\n",
    "\n",
    "d3 = d1 | d2\n",
    "\n",
    "d3"
   ]
  },
  {
   "cell_type": "markdown",
   "metadata": {},
   "source": [
    "<p align=\"center\" style = \"color:gray\"> ❓ Create a program that takes unlimited number of dictionaries and returns a merged dictionary </p>"
   ]
  },
  {
   "cell_type": "code",
   "execution_count": 3,
   "metadata": {},
   "outputs": [
    {
     "data": {
      "text/plain": [
       "{'A1': 20,\n",
       " 'B1': 25,\n",
       " 'C1': 'Four Hundred',\n",
       " 'D1': ('apple', 'orange'),\n",
       " 'a1': 200,\n",
       " 'b1': 250,\n",
       " 'd1': None,\n",
       " 'key1': ['cantalope', 'watermelon', 'papaya'],\n",
       " 'key2': None,\n",
       " 'key3': True}"
      ]
     },
     "execution_count": 3,
     "metadata": {},
     "output_type": "execute_result"
    }
   ],
   "source": [
    "def merge_dicts(*dicts):\n",
    "    \n",
    "    merged_dicts = dict()\n",
    "    for d in dicts:\n",
    "        merged_dicts |= d\n",
    "\n",
    "    return merged_dicts\n",
    "\n",
    "d1 = {'A1': 20, 'B1': 25, 'C1': 40, 'D1': 50}\n",
    "d2 = { 'a1': 200, 'b1': 250, 'C1': \"Four Hundred\", 'd1': None, 'D1': ('apple', 'orange') }\n",
    "d3 = {'key1': ['cantalope', 'watermelon', 'papaya'], 'key2': None, 'key3': True}\n",
    "\n",
    "merge_dicts(d1,d2,d3)"
   ]
  }
 ],
 "metadata": {
  "kernelspec": {
   "display_name": "Python 3.10.4 64-bit",
   "language": "python",
   "name": "python3"
  },
  "language_info": {
   "codemirror_mode": {
    "name": "ipython",
    "version": 3
   },
   "file_extension": ".py",
   "mimetype": "text/x-python",
   "name": "python",
   "nbconvert_exporter": "python",
   "pygments_lexer": "ipython3",
   "version": "3.10.4"
  },
  "orig_nbformat": 4,
  "vscode": {
   "interpreter": {
    "hash": "aee8b7b246df8f9039afb4144a1f6fd8d2ca17a180786b69acc140d282b71a49"
   }
  }
 },
 "nbformat": 4,
 "nbformat_minor": 2
}
