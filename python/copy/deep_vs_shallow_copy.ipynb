{
 "cells": [
  {
   "cell_type": "markdown",
   "metadata": {},
   "source": [
    "In Python, a shallow copy and a deep copy are two different ways of creating a new copy of an object, especially when the object is a complex data structure like a list or a dictionary that contains nested objects. The main difference between them lies in how they handle the nested objects during the copy process.\n",
    "\n",
    "1. Shallow Copy:\n",
    "A shallow copy creates a new object, but it does not create new copies of the nested objects inside the original object. Instead, it copies references to the nested objects. In other words, the shallow copy creates a new top-level object, but the elements inside it still refer to the same objects in memory as the original object.\n",
    "\n",
    "Example of shallow copy using `copy()` method from the `copy` module:\n",
    "\n",
    "```python\n",
    "import copy\n",
    "\n",
    "original_list = [1, [2, 3], 4]\n",
    "\n",
    "# Creating a shallow copy of the original_list\n",
    "shallow_copied_list = copy.copy(original_list)\n",
    "\n",
    "# Modify the nested list in the shallow copy\n",
    "shallow_copied_list[1][0] = 999\n",
    "\n",
    "print(original_list)         # Output: [1, [999, 3], 4]\n",
    "print(shallow_copied_list)   # Output: [1, [999, 3], 4]\n",
    "```\n",
    "\n",
    "As you can see, changing the nested list inside the shallow copy also affects the nested list inside the original list because both the original and shallow copied lists share the same reference to the nested list.\n",
    "\n",
    "2. Deep Copy:\n",
    "A deep copy, on the other hand, creates a completely independent new object with its own copies of all the nested objects inside the original object. It recursively copies all nested objects, ensuring that any changes made to the deep copy do not affect the original object.\n",
    "\n",
    "Example of deep copy using `deepcopy()` method from the `copy` module:\n",
    "\n",
    "```python\n",
    "import copy\n",
    "\n",
    "original_list = [1, [2, 3], 4]\n",
    "\n",
    "# Creating a deep copy of the original_list\n",
    "deep_copied_list = copy.deepcopy(original_list)\n",
    "\n",
    "# Modify the nested list in the deep copy\n",
    "deep_copied_list[1][0] = 999\n",
    "\n",
    "print(original_list)       # Output: [1, [2, 3], 4]\n",
    "print(deep_copied_list)    # Output: [1, [999, 3], 4]\n",
    "```\n",
    "\n",
    "In this case, changing the nested list inside the deep copy does not affect the nested list inside the original list because they are completely independent copies.\n",
    "\n",
    "In summary, a shallow copy creates a new object but shares references to nested objects with the original, while a deep copy creates a new object and recursively creates independent copies of all nested objects, ensuring complete independence from the original object. "
   ]
  },
  {
   "cell_type": "markdown",
   "metadata": {},
   "source": [
    "## Using List Comprehension"
   ]
  },
  {
   "cell_type": "code",
   "execution_count": 1,
   "metadata": {},
   "outputs": [
    {
     "name": "stdout",
     "output_type": "stream",
     "text": [
      "original_list = [1, [2, 3], 4]\n",
      "deep_copy_list = [1, [999, 3], 4]\n"
     ]
    }
   ],
   "source": [
    "original_list = [1, [2, 3], 4]\n",
    "\n",
    "deep_copy_list = [x if not isinstance(x, list) else x[:] for x in original_list]\n",
    "\n",
    "deep_copy_list[1][0] = 999\n",
    "\n",
    "print(f\"{original_list = }\\n{deep_copy_list = }\")"
   ]
  }
 ],
 "metadata": {
  "kernelspec": {
   "display_name": "Python 3",
   "language": "python",
   "name": "python3"
  },
  "language_info": {
   "codemirror_mode": {
    "name": "ipython",
    "version": 3
   },
   "file_extension": ".py",
   "mimetype": "text/x-python",
   "name": "python",
   "nbconvert_exporter": "python",
   "pygments_lexer": "ipython3",
   "version": "3.11.2"
  },
  "orig_nbformat": 4
 },
 "nbformat": 4,
 "nbformat_minor": 2
}
