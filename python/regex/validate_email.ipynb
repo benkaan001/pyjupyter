{
 "cells": [
  {
   "attachments": {},
   "cell_type": "markdown",
   "metadata": {},
   "source": [
    "# The regular expression pattern used in this function checks for the following:\n",
    "\n",
    "- The email address starts with one or more alphanumeric characters, dots, underscores, percentage signs, plus signs, or hyphens.\n",
    "- The \"@\" symbol follows the username part of the email.\n",
    "- The domain name of the email contains one or more alphanumeric characters, dots, or hyphens.\n",
    "- The domain extension contains two or more alphabetical characters."
   ]
  },
  {
   "cell_type": "code",
   "execution_count": 1,
   "metadata": {},
   "outputs": [],
   "source": [
    "import re "
   ]
  },
  {
   "cell_type": "code",
   "execution_count": 5,
   "metadata": {},
   "outputs": [
    {
     "data": {
      "text/plain": [
       "['cvhgmqz2@gmail.edu',\n",
       " 'sk2ec8sd@icloud.com',\n",
       " '4wl7yexd@gmail.com',\n",
       " 'tlomc4zt@yahoo.com',\n",
       " '61sep0j3@yahoo.io',\n",
       " 'l3bl3o1w@hotmail.edu',\n",
       " 'qoaju9l8@live.net',\n",
       " 'tvt6bfai@aol.edu',\n",
       " 'xl3zpcfb@icloud.net',\n",
       " 'vcs6unz8@live.com',\n",
       " 'l9o391lg@aol.edu',\n",
       " 'iohuiz0s@gmail.io',\n",
       " '9w1ub5m8@gmail.net',\n",
       " 'poj8htd1@outlook.edu',\n",
       " 'pq32app5@yahoo.edu',\n",
       " 'a5ehuj58@icloud.edu',\n",
       " 'y8ples4u@yahoo.net',\n",
       " 'kdpzlhk7@yahoo.edu',\n",
       " 'jcqkjyui@icloud.edu',\n",
       " '3ga0i035@gmail.gov',\n",
       " 's712sa71@gmail.edu',\n",
       " 'dxsnhxus@live.gov',\n",
       " 'n507loe9@gmail.com',\n",
       " 'plgb9hrr@gmail.com',\n",
       " 'l4ulc6mq@icloud.net',\n",
       " 'v71raevh@yahoo.edu',\n",
       " 'mgey36ju@hotmail.edu',\n",
       " 'y3ujlixk@gmail.com',\n",
       " 'vynbn96c@outlook.gov',\n",
       " 'uy8st6oq@yahoo.edu',\n",
       " 'A@yahooooo.com',\n",
       " 'dlcm@notreal.none',\n",
       " 'GmaSSzek@yahooooo.com',\n",
       " 'D@geemail.net',\n",
       " 'kGgimsdx@geemail.net',\n",
       " 'bErHBPQMjL@geemail.net',\n",
       " 'IKgwT@notreal.none',\n",
       " 'ByxUrYkRc@notreal.none',\n",
       " 'dh@invalid.ion',\n",
       " 'IxCAdc@yahooooo.com']"
      ]
     },
     "execution_count": 5,
     "metadata": {},
     "output_type": "execute_result"
    }
   ],
   "source": [
    "%run ./generate_email.ipynb import generate_random_emails\n",
    "\n",
    "email_list = generate_random_emails()\n",
    "\n",
    "email_list"
   ]
  },
  {
   "attachments": {},
   "cell_type": "markdown",
   "metadata": {},
   "source": [
    "- `[a-zA-Z0-9._%+-]+`: one or more alphanumeric characters max 64 characters, underscores, dots, percent signs, plus signs, or hyphens, representing the username part of the email address.\n",
    "\n",
    "- `@`: a literal at sign, separating the username from the domain name.\n",
    "\n",
    "- `[a-zA-Z0-9.-]+`: one or more alphanumeric characters, dots, or hyphens, representing the domain name part of the email address.\n",
    "\n",
    "- `\\.`: a literal dot, separating the domain name from the top-level domain.\n",
    "\n",
    "- `[a-zA-Z]{2,}`: two or more alphabetical characters, representing the top-level domain (e.g., com, net, org)."
   ]
  },
  {
   "cell_type": "code",
   "execution_count": 10,
   "metadata": {},
   "outputs": [],
   "source": [
    "def validate_email(email):\n",
    "    pattern = r'[a-zA-Z0-9._%+-]{1,64}@[a-zA-Z0-9.-]+\\.[a-zA-Z]{2,}'\n",
    "    return re.match(pattern, email) is not None"
   ]
  },
  {
   "cell_type": "code",
   "execution_count": 11,
   "metadata": {},
   "outputs": [
    {
     "data": {
      "text/plain": [
       "['cvhgmqz2@gmail.edu',\n",
       " 'sk2ec8sd@icloud.com',\n",
       " '4wl7yexd@gmail.com',\n",
       " 'tlomc4zt@yahoo.com',\n",
       " '61sep0j3@yahoo.io',\n",
       " 'l3bl3o1w@hotmail.edu',\n",
       " 'qoaju9l8@live.net',\n",
       " 'tvt6bfai@aol.edu',\n",
       " 'xl3zpcfb@icloud.net',\n",
       " 'vcs6unz8@live.com',\n",
       " 'l9o391lg@aol.edu',\n",
       " 'iohuiz0s@gmail.io',\n",
       " '9w1ub5m8@gmail.net',\n",
       " 'poj8htd1@outlook.edu',\n",
       " 'pq32app5@yahoo.edu',\n",
       " 'a5ehuj58@icloud.edu',\n",
       " 'y8ples4u@yahoo.net',\n",
       " 'kdpzlhk7@yahoo.edu',\n",
       " 'jcqkjyui@icloud.edu',\n",
       " '3ga0i035@gmail.gov',\n",
       " 's712sa71@gmail.edu',\n",
       " 'dxsnhxus@live.gov',\n",
       " 'n507loe9@gmail.com',\n",
       " 'plgb9hrr@gmail.com',\n",
       " 'l4ulc6mq@icloud.net',\n",
       " 'v71raevh@yahoo.edu',\n",
       " 'mgey36ju@hotmail.edu',\n",
       " 'y3ujlixk@gmail.com',\n",
       " 'vynbn96c@outlook.gov',\n",
       " 'uy8st6oq@yahoo.edu',\n",
       " 'A@yahooooo.com',\n",
       " 'dlcm@notreal.none',\n",
       " 'GmaSSzek@yahooooo.com',\n",
       " 'D@geemail.net',\n",
       " 'kGgimsdx@geemail.net',\n",
       " 'bErHBPQMjL@geemail.net',\n",
       " 'IKgwT@notreal.none',\n",
       " 'ByxUrYkRc@notreal.none',\n",
       " 'dh@invalid.ion',\n",
       " 'IxCAdc@yahooooo.com']"
      ]
     },
     "execution_count": 11,
     "metadata": {},
     "output_type": "execute_result"
    }
   ],
   "source": [
    "# filter out the valid emails\n",
    "output = [email for email in email_list if validate_email(email)]\n",
    "output"
   ]
  },
  {
   "cell_type": "code",
   "execution_count": 15,
   "metadata": {},
   "outputs": [],
   "source": [
    "# invalid email examples from Wikipedia\n",
    "invalid_emails=[\n",
    "'Abc.example.com',\n",
    "'A@b@c@example.com',\n",
    "'a\"b(c)d,e:f;g<h>i[j\\k]l@example.com', \n",
    "'just\"not\"right@example.com', \n",
    "'this is\"not\\allowed@example.com',\n",
    "'this\\ still\\\"not\\\\allowed@example.com',\n",
    "'1234567890123456789012345678901234567890123456789012345678901234+x@example.com',\n",
    "'i_like_underscore@but_its_not_allowed_in_this_part.example.com',\n",
    "'QA[icon]CHOCOLATE[icon]@test.com',\n",
    "]"
   ]
  },
  {
   "cell_type": "code",
   "execution_count": 20,
   "metadata": {},
   "outputs": [
    {
     "data": {
      "text/plain": [
       "['invalid',\n",
       " 'invalid',\n",
       " 'invalid',\n",
       " 'invalid',\n",
       " 'invalid',\n",
       " 'invalid',\n",
       " 'invalid',\n",
       " 'invalid',\n",
       " 'invalid']"
      ]
     },
     "execution_count": 20,
     "metadata": {},
     "output_type": "execute_result"
    }
   ],
   "source": [
    "result = ['valid' if validate_email(email) else 'invalid' for email in invalid_emails]\n",
    "result"
   ]
  }
 ],
 "metadata": {
  "kernelspec": {
   "display_name": "Python 3",
   "language": "python",
   "name": "python3"
  },
  "language_info": {
   "codemirror_mode": {
    "name": "ipython",
    "version": 3
   },
   "file_extension": ".py",
   "mimetype": "text/x-python",
   "name": "python",
   "nbconvert_exporter": "python",
   "pygments_lexer": "ipython3",
   "version": "3.10.4"
  },
  "orig_nbformat": 4
 },
 "nbformat": 4,
 "nbformat_minor": 2
}
