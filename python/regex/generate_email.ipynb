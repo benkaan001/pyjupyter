{
 "cells": [
  {
   "cell_type": "code",
   "execution_count": 1,
   "metadata": {},
   "outputs": [],
   "source": [
    "import re \n",
    "import random \n",
    "import string "
   ]
  },
  {
   "cell_type": "code",
   "execution_count": 2,
   "metadata": {},
   "outputs": [],
   "source": [
    "def generate_random_emails(num_valid=30, num_invalid=10):\n",
    "    \"\"\"\n",
    "    Generate a list of random valid and invalid email addresses.\n",
    "\n",
    "    Args:\n",
    "        num_valid (int): The number of valid email addresses to generate. Defaults to 30.\n",
    "        num_invalid (int): The number of invalid email addresses to generate. Defaults to 10.\n",
    "\n",
    "    Returns:\n",
    "        list: A list of valid and invalid email addresses.\n",
    "    \"\"\"\n",
    "    \n",
    "    # Regular expression pattern for validating email addresses\n",
    "    pattern = r'^[a-zA-Z0-9._%+-]+@[a-zA-Z0-9.-]+\\.[a-zA-Z]{2,}$'\n",
    "    \n",
    "    # List of domain names\n",
    "    domains = ['gmail', 'yahoo', 'hotmail', 'outlook','aol', 'icloud', 'live']\n",
    "    \n",
    "    # List of extensions\n",
    "    extensions = ['com', 'net', 'org', 'io', 'edu', 'gov']\n",
    "    \n",
    "    # Generate valid emails\n",
    "    valid_emails = []\n",
    "    for i in range(num_valid):\n",
    "        username = ''.join(random.choice(string.ascii_lowercase + string.digits) \n",
    "                           for _ in range(8))\n",
    "        domain = random.choice(domains)\n",
    "        extension = random.choice(extensions)\n",
    "        email = f\"{username}@{domain}.{extension}\"\n",
    "        valid_emails.append(email)\n",
    "        \n",
    "    # Generate invalid emails\n",
    "    invalid_emails = []\n",
    "    while len(invalid_emails) < num_invalid:\n",
    "        email = ''.join(random.choice(string.ascii_letters)\n",
    "                        for _ in range(random.randint(1, 10)))\n",
    "        if not re.match(pattern, email):\n",
    "            invalid_domains = ['@notreal.none', '@invalid.ion', '@yahooooo.com', '@geemail.net']\n",
    "            invalid_emails.append(email+random.choice(invalid_domains))\n",
    "    \n",
    "    # Combine all emails\n",
    "    return valid_emails + invalid_emails\n",
    "                        \n"
   ]
  },
  {
   "cell_type": "code",
   "execution_count": 3,
   "metadata": {},
   "outputs": [
    {
     "data": {
      "text/plain": [
       "['ao973aia@outlook.net',\n",
       " 'jq2voly2@outlook.gov',\n",
       " 'z7tqz2pk@hotmail.io',\n",
       " 'ip4h8ttc@aol.edu',\n",
       " 'y89jv7iq@yahoo.edu',\n",
       " 'ple9ias1@aol.edu',\n",
       " 'rothd6ux@gmail.gov',\n",
       " '5oywdi8o@gmail.net',\n",
       " 'bs2kjxvi@yahoo.org',\n",
       " 'ikdgfzd4@outlook.net',\n",
       " 'tkjv0q8q@aol.net',\n",
       " 'nz4hp7nb@aol.gov',\n",
       " 'xl06jago@live.edu',\n",
       " 'uy9liorc@icloud.io',\n",
       " 'eu0bdhe6@gmail.com',\n",
       " 'xwqtghwo@hotmail.edu',\n",
       " '4ya5yabz@yahoo.com',\n",
       " 'gw40ka73@outlook.io',\n",
       " '8sdc6zia@yahoo.gov',\n",
       " 'lpem6l24@hotmail.com',\n",
       " 'f2fgqbkj@gmail.net',\n",
       " 'zs1b39rw@yahoo.io',\n",
       " 'hoh84jr0@icloud.org',\n",
       " 'hzaip2z1@yahoo.edu',\n",
       " 'ksygjn0f@aol.gov',\n",
       " 'wa2hvm4q@outlook.org',\n",
       " 'ttu5j6st@yahoo.io',\n",
       " '2b26kdyq@aol.gov',\n",
       " '0inoshbh@live.com',\n",
       " 'c6qsqh7j@outlook.org',\n",
       " 'fxcPsFa@geemail.net',\n",
       " 'lMcc@notreal.none',\n",
       " 'auNIDXqAe@notreal.none',\n",
       " 'My@yahooooo.com',\n",
       " 'UmoZ@geemail.net',\n",
       " 'YCk@invalid.ion',\n",
       " 'LGHa@notreal.none',\n",
       " 'gpfWOP@yahooooo.com',\n",
       " 'k@invalid.ion',\n",
       " 'DHl@yahooooo.com']"
      ]
     },
     "execution_count": 3,
     "metadata": {},
     "output_type": "execute_result"
    }
   ],
   "source": [
    "generate_random_emails()"
   ]
  }
 ],
 "metadata": {
  "kernelspec": {
   "display_name": "Python 3",
   "language": "python",
   "name": "python3"
  },
  "language_info": {
   "codemirror_mode": {
    "name": "ipython",
    "version": 3
   },
   "file_extension": ".py",
   "mimetype": "text/x-python",
   "name": "python",
   "nbconvert_exporter": "python",
   "pygments_lexer": "ipython3",
   "version": "3.10.4"
  },
  "orig_nbformat": 4
 },
 "nbformat": 4,
 "nbformat_minor": 2
}
