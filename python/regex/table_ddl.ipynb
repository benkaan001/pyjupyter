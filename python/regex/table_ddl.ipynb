{
 "cells": [
  {
   "cell_type": "code",
   "execution_count": 1,
   "metadata": {},
   "outputs": [],
   "source": [
    "mapping = {\n",
    "    'DECIMAL\\(\\d+,\\d+\\)': 'DECIMAL(38, 18)',\n",
    "    'INT': 'INTEGER',\n",
    "    'SMALLINT': 'INTEGER',\n",
    "    'TIMESTAMP\\(\\d+\\)': 'VARCHAR(26) CHARACTER SET UNICODE NOT CASESPECIFIC',\n",
    "    'DATE': 'VARCHAR(10) CHARACTER SET UNICODE NOT CASESPECIFIC',\n",
    "    r'(CHAR|VARCHAR)\\((\\d+)\\)': lambda match: f'VARCHAR({match.group(2)}) ',\n",
    "    'BOOLEAN': 'VARCHAR(1) CHARACTER SET UNICODE NOT CASESPECIFIC',\n",
    "    'BYTE': 'VARCHAR(1) CHARACTER SET UNICODE NOT CASESPECIFIC'\n",
    "}"
   ]
  },
  {
   "cell_type": "markdown",
   "metadata": {},
   "source": [
    "1. `r'(CHAR|VARCHAR)\\((\\d+)\\)'`:\n",
    "   - `r` before the string denotes a raw string, which means that backslashes(`\\`) are treated as literal characters, not escape characters.\n",
    "   - `(CHAR|VARCHAR)` is a group that matches either the word 'CHAR' or 'VARCHAR'.\n",
    "   - `\\(` matches an opening parenthesis.\n",
    "   - `(\\d+)` is another group that matches one or more digits.\n",
    "   - ` \\)` matches a closing parenthesis.\n",
    "   - Altogether, this pattern is used to match data types like 'CHAR(20)' or 'VARCHAR(50)' where the numbers inside the parentheses represent the length.\n",
    "\n",
    "2. `lambda match: f'VARCHAR({match.group(2)})'`:\n",
    "   - `match` is a variable that represents the match found when the regular expression pattern matches a part of the input string.\n",
    "   - `match.group(2)` is used to extract the content of the second group within the regular expression (the one that matched one or more digits).\n",
    "   - `f'VARCHAR({match.group(2)})'` is an f-string that constructs a new string using the extracted digits.\n",
    "     - For example, if the input is 'VARCHAR(50)', the lambda function will return 'VARCHAR(50)', essentially converting 'VARCHAR(50)' to 'VARCHAR(50)'."
   ]
  }
 ],
 "metadata": {
  "kernelspec": {
   "display_name": "Python 3",
   "language": "python",
   "name": "python3"
  },
  "language_info": {
   "codemirror_mode": {
    "name": "ipython",
    "version": 3
   },
   "file_extension": ".py",
   "mimetype": "text/x-python",
   "name": "python",
   "nbconvert_exporter": "python",
   "pygments_lexer": "ipython3",
   "version": "3.11.2"
  }
 },
 "nbformat": 4,
 "nbformat_minor": 2
}
