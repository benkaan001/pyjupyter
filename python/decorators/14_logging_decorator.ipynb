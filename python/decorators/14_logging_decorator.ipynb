{
 "cells": [
  {
   "cell_type": "code",
   "execution_count": 1,
   "metadata": {},
   "outputs": [],
   "source": [
    "import logging\n",
    "import traceback # to format traceback message\n",
    "from functools import wraps\n",
    "from typing import Any, Callable\n",
    "\n",
    "def create_logger(log_file_path: str = 'logs/default_logger.log', log_level: int = logging.INFO) -> logging.Logger:\n",
    "    \n",
    "    logger = logging.getLogger(__name__)\n",
    "    logger.setLevel(log_level)\n",
    "\n",
    "    formatter = logging.Formatter('%(asctime)s:%(name)s:%(levelname)s:%(message)s')\n",
    "\n",
    "    file_handler = logging.FileHandler(log_file_path)\n",
    "    file_handler.setLevel(log_level)\n",
    "    file_handler.setFormatter(formatter)\n",
    "\n",
    "    logger.addHandler(file_handler)\n",
    "\n",
    "    return logger"
   ]
  },
  {
   "cell_type": "code",
   "execution_count": 3,
   "metadata": {},
   "outputs": [],
   "source": [
    "# create a Logger object\n",
    "logger = create_logger('logs/ipynb_test_logs.log')  "
   ]
  },
  {
   "cell_type": "code",
   "execution_count": 4,
   "metadata": {},
   "outputs": [],
   "source": [
    "def log_exceptions(logger: logging.Logger) -> Callable[[Any], Any]:\n",
    "    \n",
    "    def decorator_log_exceptions(func):\n",
    "        @wraps(func)\n",
    "        def wrapper_log_exceptions(*args, **kwargs):\n",
    "            try:\n",
    "                return func(*args, **kwargs)\n",
    "            except Exception as e:\n",
    "                traceback_message = traceback.format_exc()\n",
    "                modified_traceback_message = traceback_message.split(',')[:3]\n",
    "                error_message = f\"Exception in {func.__name__}: {e}\\\n",
    "                                \\n{modified_traceback_message}\"\n",
    "                logger.error(error_message)\n",
    "                # raise # would halt the application\n",
    "        return wrapper_log_exceptions\n",
    "    return decorator_log_exceptions"
   ]
  },
  {
   "cell_type": "code",
   "execution_count": 5,
   "metadata": {},
   "outputs": [],
   "source": [
    "@log_exceptions(logger)\n",
    "def test_divide(num1, num2):\n",
    "    return num1 / num2\n",
    "\n",
    "test_divide(5, 0)"
   ]
  }
 ],
 "metadata": {
  "kernelspec": {
   "display_name": "Python 3",
   "language": "python",
   "name": "python3"
  },
  "language_info": {
   "codemirror_mode": {
    "name": "ipython",
    "version": 3
   },
   "file_extension": ".py",
   "mimetype": "text/x-python",
   "name": "python",
   "nbconvert_exporter": "python",
   "pygments_lexer": "ipython3",
   "version": "3.11.2"
  },
  "orig_nbformat": 4
 },
 "nbformat": 4,
 "nbformat_minor": 2
}
