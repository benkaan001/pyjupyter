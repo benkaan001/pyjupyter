{
 "cells": [
  {
   "attachments": {},
   "cell_type": "markdown",
   "metadata": {},
   "source": [
    "## Caching Return Values"
   ]
  },
  {
   "attachments": {},
   "cell_type": "markdown",
   "metadata": {},
   "source": [
    "<span style=\"color:orange\">**Note:**</span> \n",
    "Use the `Least Recently Used (LRU) cache` available as `@functools.lru_cache`instead of writing your own cache decorator."
   ]
  },
  {
   "attachments": {},
   "cell_type": "markdown",
   "metadata": {},
   "source": [
    "### Example 1:\n",
    "\n",
    "- In this example, the `add_cache` function is a class method decorator that takes a method as its argument, adds caching functionality to it by storing the results of each method call in a dictionary, and returns a wrapper function that either returns the cached result or calculates the result and caches it.\n",
    "\n",
    "- The `Calculator` class has a single method, `add`, which simply adds two numbers together and prints a message to indicate that it's performing the calculation. \n",
    "\n",
    "- The `@add_cache decorator` is applied to this method, which means that the results of each call to add will be cached.\n",
    "\n",
    "- Then two different instances of `Calculator` is created, `calculator1` and `calculator2`.\n",
    "    - The first time `add` method is called on `calculator1`, the method performs the calculation and caches the result. \n",
    "\n",
    "    - The second time it's called, the method simply returns the cached result without performing the calculation again. \n",
    "    \n",
    "    - This demonstrates how the caching functionality works."
   ]
  },
  {
   "cell_type": "code",
   "execution_count": 1,
   "metadata": {},
   "outputs": [
    {
     "name": "stdout",
     "output_type": "stream",
     "text": [
      "Calculating 10 + 10.\n",
      "Caching result for add(10, 10).\n",
      "20\n",
      "Calculating 2 + 2.\n",
      "Caching result for add(2, 2).\n",
      "4\n",
      "Using cached result for add(10, 10).\n",
      "20\n"
     ]
    }
   ],
   "source": [
    "import functools\n",
    "\n",
    "def add_cache(method):\n",
    "    \"\"\"\n",
    "    This decorator takes a class method as an argument and returns a wrapped function that adds caching\n",
    "    functionality to the method. The wrapped function caches the results of previous method calls, and \n",
    "    returns the cached result if the same arguments are used again. This can improve performance by \n",
    "    avoiding unnecessary repeated computation.\n",
    "\n",
    "    The cache is stored in a dictionary within the decorator function, and is only accessible within the\n",
    "    scope of the decorator. The decorator returns the wrapped function, which can be used in place of the \n",
    "    original method.\n",
    "\n",
    "    Args:\n",
    "        method: The class method to be wrapped with caching functionality.\n",
    "\n",
    "    Returns:\n",
    "        The wrapped function that adds caching functionality to the original method.\n",
    "    \"\"\"\n",
    "    cache = {}  \n",
    "    \n",
    "    @functools.wraps(method)\n",
    "    def wrapper_add_cache(self, *args):\n",
    "        if args in cache: # check if the arguments are in the cache\n",
    "            print(f\"Using cached result for {method.__name__}{args}.\")\n",
    "            return cache[args]\n",
    "        result = method(self, *args) # if the args are not in the cache, call the method\n",
    "        cache[args] = result # store the results from the method call\n",
    "        print(f\"Caching result for {method.__name__}{args}.\")\n",
    "        return result \n",
    "    return wrapper_add_cache\n",
    "\n",
    "\n",
    "class Calculator:\n",
    "    @add_cache\n",
    "    def add(self, x, y):\n",
    "        print(f\"Calculating {x} + {y}.\")\n",
    "        return x + y\n",
    "\n",
    "calculator1 = Calculator() # define a new instance of the Calculator class\n",
    "result = calculator1.add(10, 10)\n",
    "print(result)\n",
    "result = calculator1.add(2, 2)\n",
    "print(result)\n",
    "\n",
    "calculator2 = Calculator() \n",
    "result = calculator2.add(10, 10) # this is already cached\n",
    "print(result)"
   ]
  },
  {
   "attachments": {},
   "cell_type": "markdown",
   "metadata": {},
   "source": [
    "### Example 2"
   ]
  },
  {
   "cell_type": "code",
   "execution_count": 2,
   "metadata": {},
   "outputs": [],
   "source": [
    "from decorators import count_calls\n",
    "\n",
    "def cache(func):\n",
    "    \"\"\"\n",
    "    cache(func)\n",
    "    -----------\n",
    "\n",
    "    A decorator function that caches the result of the given function \n",
    "    for future calls with the same arguments.\n",
    "\n",
    "    Parameters\n",
    "    ----------\n",
    "    func : callable\n",
    "    The function to be decorated.\n",
    "\n",
    "    Returns\n",
    "    -------\n",
    "    wrapper_cache : callable\n",
    "    A new function that wraps around the given function and caches its results \n",
    "    for future calls with the same arguments.\n",
    "\n",
    "    Example\n",
    "    -------\n",
    "    Consider the following example:\n",
    "\n",
    "    @cache\n",
    "    def fibonacci(n):\n",
    "        if n <= 1:\n",
    "            return n\n",
    "        return fibonacci(n-1) + fibonacci(n-2)\n",
    "\n",
    "    print(fibonacci(10))  # the result is computed and cached\n",
    "    print(fibonacci(10))  # the cached result is returned\n",
    "\n",
    "    In this example, the `fibonacci` function is decorated with `cache`, \n",
    "    which allows the function to be called with the same argument multiple times \n",
    "    without having to recompute the result each time. \n",
    "    The first call to `fibonacci(10)` computes the result and caches it,\n",
    "    while the second call returns the cached result without recomputing it, \n",
    "    resulting in a faster execution time.\n",
    "    \"\"\"\n",
    "    @functools.wraps(func)\n",
    "    def wrapper_cache(*args, **kwargs):\n",
    "        cache_key = args + tuple(kwargs.items())\n",
    "        if cache_key not in wrapper_cache.cache:\n",
    "            wrapper_cache.cache[cache_key] = func(*args, **kwargs)\n",
    "        return wrapper_cache.cache[cache_key]\n",
    "    wrapper_cache.cache = dict()\n",
    "    return wrapper_cache\n",
    "\n",
    "@cache\n",
    "@count_calls\n",
    "def fibonacci(num):\n",
    "    if num < 2:\n",
    "        return num \n",
    "    return fibonacci(num - 1) + fibonacci(num - 2)    "
   ]
  },
  {
   "cell_type": "code",
   "execution_count": 3,
   "metadata": {},
   "outputs": [
    {
     "name": "stdout",
     "output_type": "stream",
     "text": [
      "Call 1 of 'fibonacci'\n",
      "Call 2 of 'fibonacci'\n",
      "Call 3 of 'fibonacci'\n",
      "Call 4 of 'fibonacci'\n",
      "Call 5 of 'fibonacci'\n",
      "Call 6 of 'fibonacci'\n",
      "Call 7 of 'fibonacci'\n",
      "Call 8 of 'fibonacci'\n",
      "Call 9 of 'fibonacci'\n",
      "Call 10 of 'fibonacci'\n",
      "Call 11 of 'fibonacci'\n"
     ]
    },
    {
     "data": {
      "text/plain": [
       "55"
      ]
     },
     "execution_count": 3,
     "metadata": {},
     "output_type": "execute_result"
    }
   ],
   "source": [
    "fibonacci(10)"
   ]
  },
  {
   "cell_type": "code",
   "execution_count": 4,
   "metadata": {},
   "outputs": [
    {
     "data": {
      "text/plain": [
       "21"
      ]
     },
     "execution_count": 4,
     "metadata": {},
     "output_type": "execute_result"
    }
   ],
   "source": [
    "fibonacci(8)"
   ]
  },
  {
   "cell_type": "code",
   "execution_count": 5,
   "metadata": {},
   "outputs": [
    {
     "name": "stdout",
     "output_type": "stream",
     "text": [
      "Call 12 of 'fibonacci'\n",
      "Call 13 of 'fibonacci'\n",
      "Call 14 of 'fibonacci'\n"
     ]
    },
    {
     "data": {
      "text/plain": [
       "233"
      ]
     },
     "execution_count": 5,
     "metadata": {},
     "output_type": "execute_result"
    }
   ],
   "source": [
    "fibonacci(13)"
   ]
  },
  {
   "attachments": {},
   "cell_type": "markdown",
   "metadata": {},
   "source": [
    "## Example 3"
   ]
  },
  {
   "attachments": {},
   "cell_type": "markdown",
   "metadata": {},
   "source": [
    "- The `maxsize` parameter specifies how many recent calls are cached - default 128.\n",
    "\n",
    "- The `.cache_info()` method shows how the cache performs - great for tuning the logic. \n",
    "\n",
    "- The artificially small maxsize in the example shows the side effect of elements being removed from the cache."
   ]
  },
  {
   "cell_type": "code",
   "execution_count": 6,
   "metadata": {},
   "outputs": [],
   "source": [
    "@functools.lru_cache(maxsize=4)\n",
    "def fibonacci(num):\n",
    "    print(f\"Calculating fibonacci({num})\")\n",
    "    if num < 2:\n",
    "        return num \n",
    "    return fibonacci(num - 1) + fibonacci(num - 2)"
   ]
  },
  {
   "cell_type": "code",
   "execution_count": 7,
   "metadata": {},
   "outputs": [
    {
     "name": "stdout",
     "output_type": "stream",
     "text": [
      "Calculating fibonacci(10)\n",
      "Calculating fibonacci(9)\n",
      "Calculating fibonacci(8)\n",
      "Calculating fibonacci(7)\n",
      "Calculating fibonacci(6)\n",
      "Calculating fibonacci(5)\n",
      "Calculating fibonacci(4)\n",
      "Calculating fibonacci(3)\n",
      "Calculating fibonacci(2)\n",
      "Calculating fibonacci(1)\n",
      "Calculating fibonacci(0)\n"
     ]
    },
    {
     "data": {
      "text/plain": [
       "55"
      ]
     },
     "execution_count": 7,
     "metadata": {},
     "output_type": "execute_result"
    }
   ],
   "source": [
    "fibonacci(10)"
   ]
  },
  {
   "cell_type": "code",
   "execution_count": 8,
   "metadata": {},
   "outputs": [
    {
     "data": {
      "text/plain": [
       "21"
      ]
     },
     "execution_count": 8,
     "metadata": {},
     "output_type": "execute_result"
    }
   ],
   "source": [
    "fibonacci(8)"
   ]
  },
  {
   "cell_type": "code",
   "execution_count": 9,
   "metadata": {},
   "outputs": [
    {
     "name": "stdout",
     "output_type": "stream",
     "text": [
      "Calculating fibonacci(5)\n",
      "Calculating fibonacci(4)\n",
      "Calculating fibonacci(3)\n",
      "Calculating fibonacci(2)\n",
      "Calculating fibonacci(1)\n",
      "Calculating fibonacci(0)\n"
     ]
    },
    {
     "data": {
      "text/plain": [
       "5"
      ]
     },
     "execution_count": 9,
     "metadata": {},
     "output_type": "execute_result"
    }
   ],
   "source": [
    "fibonacci(5)"
   ]
  },
  {
   "cell_type": "code",
   "execution_count": 10,
   "metadata": {},
   "outputs": [
    {
     "name": "stdout",
     "output_type": "stream",
     "text": [
      "Calculating fibonacci(8)\n",
      "Calculating fibonacci(7)\n",
      "Calculating fibonacci(6)\n"
     ]
    },
    {
     "data": {
      "text/plain": [
       "21"
      ]
     },
     "execution_count": 10,
     "metadata": {},
     "output_type": "execute_result"
    }
   ],
   "source": [
    "fibonacci(8)"
   ]
  },
  {
   "cell_type": "code",
   "execution_count": 11,
   "metadata": {},
   "outputs": [
    {
     "data": {
      "text/plain": [
       "5"
      ]
     },
     "execution_count": 11,
     "metadata": {},
     "output_type": "execute_result"
    }
   ],
   "source": [
    "fibonacci(5)"
   ]
  },
  {
   "cell_type": "code",
   "execution_count": 12,
   "metadata": {},
   "outputs": [
    {
     "data": {
      "text/plain": [
       "CacheInfo(hits=17, misses=20, maxsize=4, currsize=4)"
      ]
     },
     "execution_count": 12,
     "metadata": {},
     "output_type": "execute_result"
    }
   ],
   "source": [
    "fibonacci.cache_info()"
   ]
  }
 ],
 "metadata": {
  "kernelspec": {
   "display_name": "Python 3",
   "language": "python",
   "name": "python3"
  },
  "language_info": {
   "codemirror_mode": {
    "name": "ipython",
    "version": 3
   },
   "file_extension": ".py",
   "mimetype": "text/x-python",
   "name": "python",
   "nbconvert_exporter": "python",
   "pygments_lexer": "ipython3",
   "version": "3.10.4"
  },
  "orig_nbformat": 4
 },
 "nbformat": 4,
 "nbformat_minor": 2
}
