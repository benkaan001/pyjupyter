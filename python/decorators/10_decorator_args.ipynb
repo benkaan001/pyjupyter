{
 "cells": [
  {
   "attachments": {},
   "cell_type": "markdown",
   "metadata": {},
   "source": [
    "# Decorators With Arguments\n",
    "\n",
    "- The `wrapper_repeat()` function takes arbitrary arguments and returns the value of the decorated function, `func()`. It also contains the `loop` that calls the decorated function `num_times` times.\n",
    "\n",
    "- There are a few subtle things happening in the `repeat()` function:\n",
    "\n",
    "    - Defining `decorator_repeat()` as an inner function means that `repeat()` will refer to a function object — `decorator_repeat`. \n",
    "\n",
    "    - The added parentheses `()` are necessary when defining decorators that take arguments.\n",
    "\n",
    "    - The `num_times` argument is seemingly not used in `repeat()` itself. But by passing `num_times` a `CLOSURE` is created where the value of `num_times` is stored until it will be used later by `wrapper_repeat()`."
   ]
  },
  {
   "cell_type": "code",
   "execution_count": 1,
   "metadata": {},
   "outputs": [
    {
     "name": "stdout",
     "output_type": "stream",
     "text": [
      "Hello Chicken\n",
      "Hello Chicken\n",
      "Hello Chicken\n",
      "Hello Chicken\n"
     ]
    }
   ],
   "source": [
    "import functools\n",
    "\n",
    "def repeat(num_times):\n",
    "    def decorator_repeat(func):\n",
    "        @functools.wraps(func)\n",
    "        def wrapper_repeat(*args, **kwargs):\n",
    "            for _ in range(num_times):\n",
    "                value = func(*args, **kwargs)\n",
    "            return value\n",
    "        return wrapper_repeat\n",
    "    return decorator_repeat\n",
    "\n",
    "@repeat(num_times=4)\n",
    "def greet(name):\n",
    "    print(f\"Hello {name}\")\n",
    "    \n",
    "greet(\"Chicken\")"
   ]
  }
 ],
 "metadata": {
  "kernelspec": {
   "display_name": "Python 3",
   "language": "python",
   "name": "python3"
  },
  "language_info": {
   "codemirror_mode": {
    "name": "ipython",
    "version": 3
   },
   "file_extension": ".py",
   "mimetype": "text/x-python",
   "name": "python",
   "nbconvert_exporter": "python",
   "pygments_lexer": "ipython3",
   "version": "3.10.4"
  },
  "orig_nbformat": 4
 },
 "nbformat": 4,
 "nbformat_minor": 2
}
