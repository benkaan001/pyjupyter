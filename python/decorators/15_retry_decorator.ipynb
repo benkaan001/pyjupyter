{
 "cells": [
  {
   "cell_type": "code",
   "execution_count": 1,
   "metadata": {},
   "outputs": [],
   "source": [
    "import time\n",
    "from functools import wraps\n",
    "\n",
    "def retry(ExceptionToCheck, tries=4, delay=3, backoff=2, logger=None):\n",
    "    \"\"\" \n",
    "    A decorator that allows retrying a function call in case of a specified exception.\n",
    "\n",
    "    Parameters:\n",
    "    -----------\n",
    "    ExceptionToCheck : Exception or tuple of Exceptions\n",
    "        The exception(s) that should trigger a retry of the decorated function.\n",
    "    tries : int, optional\n",
    "        The maximum number of times the function should be retried, defaults to 4.\n",
    "    delay : int, optional\n",
    "        The delay in seconds between retries, defaults to 3.\n",
    "    backoff : int, optional\n",
    "        The factor by which the delay should increase after each retry, defaults to 2.\n",
    "    logger : logging.Logger, optional\n",
    "        A logger object to be used for logging retry attempts, defaults to None. \n",
    "\n",
    "    Returns:\n",
    "    --------\n",
    "    The wrapped function.\n",
    "\n",
    "    Example:\n",
    "    --------\n",
    "    >>> @retry(ValueError, tries=3, delay=2, backoff=2)\n",
    "    ... def my_function():\n",
    "    ...     print(\"Calling my_function\")\n",
    "    ...     raise ValueError(\"oops!\")\n",
    "    ...\n",
    "    >>> my_function()\n",
    "    # waits 2 seconds and retries up to 3 times before failing with the ValueError exception\n",
    "    \"\"\"\n",
    "    \n",
    "    def decorator_retry(f):\n",
    "\n",
    "        @wraps(f)\n",
    "        def wrapper_retry(*args, **kwargs):\n",
    "            mtries, mdelay = tries, delay\n",
    "            while mtries > 1:\n",
    "                try:\n",
    "                    return f(*args, **kwargs)\n",
    "                except ExceptionToCheck as e:\n",
    "                    msg = f\"{str(e)}, Retrying in {mdelay} seconds...\"\n",
    "                    if logger:\n",
    "                        logger.warning(msg)\n",
    "                    else:\n",
    "                        print(msg)\n",
    "                    time.sleep(mdelay)\n",
    "                    mtries -= 1\n",
    "                    mdelay *= backoff\n",
    "                    \n",
    "            return f(*args, **kwargs)\n",
    "\n",
    "        return wrapper_retry  # true decorator\n",
    "\n",
    "    return decorator_retry"
   ]
  },
  {
   "attachments": {},
   "cell_type": "markdown",
   "metadata": {},
   "source": [
    "### Try a \"success\" case"
   ]
  },
  {
   "cell_type": "code",
   "execution_count": 2,
   "metadata": {},
   "outputs": [
    {
     "name": "stdout",
     "output_type": "stream",
     "text": [
      "Success: it works!\n"
     ]
    }
   ],
   "source": [
    "@retry(Exception, tries=4)\n",
    "def test_success(text):\n",
    "    print (f\"Success: {text}\")\n",
    "\n",
    "test_success(\"it works!\")"
   ]
  },
  {
   "attachments": {},
   "cell_type": "markdown",
   "metadata": {},
   "source": [
    "### Try an \"always fail\" case"
   ]
  },
  {
   "cell_type": "code",
   "execution_count": 3,
   "metadata": {},
   "outputs": [
    {
     "name": "stdout",
     "output_type": "stream",
     "text": [
      "Fail, Retrying in 3 seconds...\n",
      "Fail, Retrying in 6 seconds...\n",
      "Fail, Retrying in 12 seconds...\n"
     ]
    },
    {
     "ename": "Exception",
     "evalue": "Fail",
     "output_type": "error",
     "traceback": [
      "\u001b[0;31m---------------------------------------------------------------------------\u001b[0m",
      "\u001b[0;31mException\u001b[0m                                 Traceback (most recent call last)",
      "Cell \u001b[0;32mIn[3], line 5\u001b[0m\n\u001b[1;32m      1\u001b[0m \u001b[39m@retry\u001b[39m(\u001b[39mException\u001b[39;00m, tries\u001b[39m=\u001b[39m\u001b[39m4\u001b[39m)\n\u001b[1;32m      2\u001b[0m \u001b[39mdef\u001b[39;00m \u001b[39mtest_fail\u001b[39m(text):\n\u001b[1;32m      3\u001b[0m     \u001b[39mraise\u001b[39;00m \u001b[39mException\u001b[39;00m(\u001b[39m\"\u001b[39m\u001b[39mFail\u001b[39m\u001b[39m\"\u001b[39m)\n\u001b[0;32m----> 5\u001b[0m test_fail(\u001b[39m\"\u001b[39;49m\u001b[39mit works!\u001b[39;49m\u001b[39m\"\u001b[39;49m)\n",
      "Cell \u001b[0;32mIn[1], line 54\u001b[0m, in \u001b[0;36mretry.<locals>.deco_retry.<locals>.f_retry\u001b[0;34m(*args, **kwargs)\u001b[0m\n\u001b[1;32m     51\u001b[0m         mtries \u001b[39m-\u001b[39m\u001b[39m=\u001b[39m \u001b[39m1\u001b[39m\n\u001b[1;32m     52\u001b[0m         mdelay \u001b[39m*\u001b[39m\u001b[39m=\u001b[39m backoff\n\u001b[0;32m---> 54\u001b[0m \u001b[39mreturn\u001b[39;00m f(\u001b[39m*\u001b[39;49margs, \u001b[39m*\u001b[39;49m\u001b[39m*\u001b[39;49mkwargs)\n",
      "Cell \u001b[0;32mIn[3], line 3\u001b[0m, in \u001b[0;36mtest_fail\u001b[0;34m(text)\u001b[0m\n\u001b[1;32m      1\u001b[0m \u001b[39m@retry\u001b[39m(\u001b[39mException\u001b[39;00m, tries\u001b[39m=\u001b[39m\u001b[39m4\u001b[39m)\n\u001b[1;32m      2\u001b[0m \u001b[39mdef\u001b[39;00m \u001b[39mtest_fail\u001b[39m(text):\n\u001b[0;32m----> 3\u001b[0m     \u001b[39mraise\u001b[39;00m \u001b[39mException\u001b[39;00m(\u001b[39m\"\u001b[39m\u001b[39mFail\u001b[39m\u001b[39m\"\u001b[39m)\n",
      "\u001b[0;31mException\u001b[0m: Fail"
     ]
    }
   ],
   "source": [
    "@retry(Exception, tries=4)\n",
    "def test_fail(text):\n",
    "    raise Exception(\"Fail\")\n",
    "\n",
    "test_fail(\"it works!\")"
   ]
  }
 ],
 "metadata": {
  "kernelspec": {
   "display_name": "Python 3",
   "language": "python",
   "name": "python3"
  },
  "language_info": {
   "codemirror_mode": {
    "name": "ipython",
    "version": 3
   },
   "file_extension": ".py",
   "mimetype": "text/x-python",
   "name": "python",
   "nbconvert_exporter": "python",
   "pygments_lexer": "ipython3",
   "version": "3.11.2"
  },
  "orig_nbformat": 4
 },
 "nbformat": 4,
 "nbformat_minor": 2
}
