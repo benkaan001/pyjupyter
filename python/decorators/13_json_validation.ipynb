{
 "cells": [
  {
   "cell_type": "code",
   "execution_count": 1,
   "metadata": {},
   "outputs": [],
   "source": [
    "from flask import Flask, request, abort \n",
    "import functools\n",
    "app = Flask(__name__)\n",
    "\n",
    "def validate_json(*expected_args):\n",
    "    \"\"\"\n",
    "A decorator function that validates a Flask request's JSON payload against expected arguments.\n",
    "\n",
    "Parameters:\n",
    "*expected_args: str - variable length argument list of expected JSON arguments.\n",
    "\n",
    "Returns:\n",
    "decorator_validate_json: function - a decorator function that accepts a Flask route function.\n",
    "\n",
    "Example usage:\n",
    "@validate_json('name', 'email')\n",
    "def create_user():\n",
    "    # the route function will only be called if the JSON payload contains the 'name' and 'email' fields\n",
    "    user_data = request.get_json()\n",
    "    # create a new user with the provided data\n",
    "    ...\n",
    "\"\"\"\n",
    "\n",
    "    def decorator_validate_json(func):\n",
    "        @functools.wraps(func)\n",
    "        def wrapper_validate_json(*args, **kwargs):\n",
    "            json_object = request.get_json()\n",
    "            for expected_arg in expected_args:\n",
    "                if expected_arg not in json_object:\n",
    "                    abort(400)\n",
    "            return func(*args, **kwargs)\n",
    "        return wrapper_validate_json\n",
    "    return decorator_validate_json"
   ]
  },
  {
   "cell_type": "code",
   "execution_count": 2,
   "metadata": {},
   "outputs": [],
   "source": [
    "@app.route(\"/grade\", methods=[\"POST\"])\n",
    "@validate_json(\"student_id\")\n",
    "def update_grade():\n",
    "    json_data = request.get_json()\n",
    "    # update database\n",
    "    return \"Success!\""
   ]
  }
 ],
 "metadata": {
  "kernelspec": {
   "display_name": "Python 3",
   "language": "python",
   "name": "python3"
  },
  "language_info": {
   "codemirror_mode": {
    "name": "ipython",
    "version": 3
   },
   "file_extension": ".py",
   "mimetype": "text/x-python",
   "name": "python",
   "nbconvert_exporter": "python",
   "pygments_lexer": "ipython3",
   "version": "3.10.4"
  },
  "orig_nbformat": 4
 },
 "nbformat": 4,
 "nbformat_minor": 2
}
