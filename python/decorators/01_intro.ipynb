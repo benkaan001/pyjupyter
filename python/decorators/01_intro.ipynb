{
 "cells": [
  {
   "attachments": {},
   "cell_type": "markdown",
   "metadata": {},
   "source": [
    "# DECORATORS"
   ]
  },
  {
   "attachments": {},
   "cell_type": "markdown",
   "metadata": {},
   "source": [
    "- Similar to JavaScript, functions are first-class objects. Therefore, they have the ability to take another function as an argument and return it.\n",
    "\n",
    "- A decorator is a function that takes a call back function and extends the behavior of that callback function wihtout explicitly modifying the behavior.\n",
    "\n",
    "- There are two types of decorators:\n",
    "\n",
    "    - Function decorators\n",
    "    \n",
    "    - Class decorators"
   ]
  },
  {
   "attachments": {},
   "cell_type": "markdown",
   "metadata": {},
   "source": [
    "# Function Decorators"
   ]
  },
  {
   "attachments": {},
   "cell_type": "markdown",
   "metadata": {},
   "source": [
    "### Example 1"
   ]
  },
  {
   "attachments": {},
   "cell_type": "markdown",
   "metadata": {},
   "source": [
    "- In this example, the `timer_decorator` function is a decorator that takes another function as input and returns a new function that adds a timer to the original function. \n",
    "\n",
    "    - The `wrapper` function is the new function that actually runs the original function and adds the timer. \n",
    "\n",
    "    - The `*args` and `**kwargs` parameters allow the wrapper function to accept any number of arguments and keyword arguments, which are then passed on to the original function.\n",
    "    \n",
    "- The `@timer_decorator` syntax is a shorthand way of applying the decorator to the `my_function` function. This is equivalent to writing `my_function = timer_decorator(my_function)`.\n",
    "\n",
    "- When we call `my_function()`, the wrapper function is called instead, which first starts the timer, then calls the original function, and finally stops the timer and prints the elapsed time."
   ]
  },
  {
   "cell_type": "code",
   "execution_count": 1,
   "metadata": {},
   "outputs": [
    {
     "name": "stdout",
     "output_type": "stream",
     "text": [
      "Elapsed time: 2.00 seconds\n"
     ]
    },
    {
     "data": {
      "text/plain": [
       "'Today is an amazing day!'"
      ]
     },
     "execution_count": 1,
     "metadata": {},
     "output_type": "execute_result"
    }
   ],
   "source": [
    "import time \n",
    "\n",
    "def timer_decorator(func):\n",
    "    \"\"\"\n",
    "A decorator that adds timing functionality to a given function.\n",
    "\n",
    "Args:\n",
    "    func: The function to be timed.\n",
    "\n",
    "Returns:\n",
    "    The wrapped function.\n",
    "\n",
    "Usage:\n",
    "    @timer_decorator\n",
    "    def my_function():\n",
    "        time.sleep(2)\n",
    "        message = \"Today is an amazing day!\"\n",
    "        return message\n",
    "\n",
    "    my_function()\n",
    "\n",
    "Output:\n",
    "    Elapsed time: <time elapsed in seconds> seconds\n",
    "    'Today is an amazing day!'\n",
    "\"\"\"\n",
    "\n",
    "    def wrapper(*args, **kwargs):\n",
    "        start_time = time.time()\n",
    "        result = func(*args, **kwargs)\n",
    "        end_time = time.time()\n",
    "        print(f\"Elapsed time: {end_time - start_time:.2f} seconds\")\n",
    "        return result \n",
    "    return wrapper \n",
    "\n",
    "@timer_decorator\n",
    "def my_function():\n",
    "    # sleep for 2 seconds\n",
    "    time.sleep(2)\n",
    "    message = \"Today is an amazing day!\"\n",
    "    return message\n",
    "\n",
    "my_function()"
   ]
  },
  {
   "attachments": {},
   "cell_type": "markdown",
   "metadata": {},
   "source": [
    "### Example 2"
   ]
  },
  {
   "attachments": {},
   "cell_type": "markdown",
   "metadata": {},
   "source": [
    "- In this example, the `logger_decorator` function is a decorator that logs the arguments and return value of the original function. \n",
    "\n",
    "- The `wrapper` function is the new function that actually runs the original function and logs the information.\n",
    "\n",
    "- When we call `add_numbers(2, 3)`, the wrapper function is called instead, which first logs the arguments and then calls the original function to compute the result. \n",
    "\n",
    "- After the result is computed, the wrapper function logs the return value and returns it."
   ]
  },
  {
   "cell_type": "code",
   "execution_count": 2,
   "metadata": {},
   "outputs": [
    {
     "name": "stdout",
     "output_type": "stream",
     "text": [
      "Calling add_numbers with args=(2, 3), kwargs={}\n",
      "add_numbers returned 5\n"
     ]
    },
    {
     "data": {
      "text/plain": [
       "5"
      ]
     },
     "execution_count": 2,
     "metadata": {},
     "output_type": "execute_result"
    }
   ],
   "source": [
    "def logger_decorator(func):\n",
    "    \"\"\"\n",
    "A decorator that logs information about a given function.\n",
    "\n",
    "Args:\n",
    "    func: The function to be logged.\n",
    "\n",
    "Returns:\n",
    "    The wrapped function.\n",
    "\n",
    "Usage:\n",
    "    @logger_decorator\n",
    "    def add_numbers(a, b):\n",
    "        return a + b\n",
    "\n",
    "    add_numbers(2, 3)\n",
    "\n",
    "Output:\n",
    "    Calling add_numbers with args=(2, 3), kwargs={}\n",
    "    add_numbers returned 5\n",
    "    5\n",
    "\"\"\"\n",
    "    def wrapper(*args, **kwargs):\n",
    "        print(f\"Calling {func.__name__} with args={args}, kwargs={kwargs}\")\n",
    "        result = func(*args, **kwargs)\n",
    "        print(f\"{func.__name__} returned {result}\")\n",
    "        return result \n",
    "    return wrapper \n",
    "\n",
    "@logger_decorator\n",
    "def add_numbers(a, b):\n",
    "    return a + b\n",
    "\n",
    "add_numbers(2, 3)"
   ]
  },
  {
   "cell_type": "code",
   "execution_count": 3,
   "metadata": {},
   "outputs": [
    {
     "name": "stdout",
     "output_type": "stream",
     "text": [
      "Calling print_dict with args=(), kwargs={'name': 'Jason', 'city': 'Austin', 'age': '30'}\n",
      "Name: Jason\n",
      "City: Austin\n",
      "Age: 30\n",
      "print_dict returned Jason is a lucky man!\n"
     ]
    },
    {
     "data": {
      "text/plain": [
       "'Jason is a lucky man!'"
      ]
     },
     "execution_count": 3,
     "metadata": {},
     "output_type": "execute_result"
    }
   ],
   "source": [
    "@logger_decorator\n",
    "def print_dict(**kwargs):\n",
    "    \"\"\"\n",
    "    Prints a dictionary of key-value pairs and returns a message.\n",
    "    \"\"\"\n",
    "    for k, v in kwargs.items():\n",
    "        print(f\"{k.capitalize()}: {v}\")\n",
    "    return f\"{kwargs.get('name', 'Someone')} is a lucky man!\"\n",
    "\n",
    "\n",
    "print_dict(name='Jason', city='Austin', age='30')\n"
   ]
  },
  {
   "attachments": {},
   "cell_type": "markdown",
   "metadata": {},
   "source": [
    "# Class Decorators"
   ]
  },
  {
   "attachments": {},
   "cell_type": "markdown",
   "metadata": {},
   "source": [
    "### Example 3"
   ]
  },
  {
   "attachments": {},
   "cell_type": "markdown",
   "metadata": {},
   "source": [
    "- In this example, the `add_cache` function is a class method decorator that takes a method as its argument, adds caching functionality to it by storing the results of each method call in a dictionary, and returns a wrapper function that either returns the cached result or calculates the result and caches it.\n",
    "\n",
    "- The `Calculator` class has a single method, `add`, which simply adds two numbers together and prints a message to indicate that it's performing the calculation. \n",
    "\n",
    "- The `@add_cache decorator` is applied to this method, which means that the results of each call to add will be cached.\n",
    "\n",
    "- Then two different instances of `Calculator` is created, `calculator1` and `calculator2`.\n",
    "    - The first time `add` method is called on `calculator1`, the method performs the calculation and caches the result. \n",
    "\n",
    "    - The second time it's called, the method simply returns the cached result without performing the calculation again. \n",
    "    \n",
    "    - This demonstrates how the caching functionality works."
   ]
  },
  {
   "cell_type": "code",
   "execution_count": 4,
   "metadata": {},
   "outputs": [
    {
     "name": "stdout",
     "output_type": "stream",
     "text": [
      "Calculating 10 + 10.\n",
      "Caching result for add((10, 10)).\n",
      "20\n",
      "Calculating 2 + 2.\n",
      "Caching result for add((2, 2)).\n",
      "4\n",
      "Using cached result for add((10, 10)).\n",
      "20\n"
     ]
    }
   ],
   "source": [
    "def add_cache(method):\n",
    "    \"\"\"\n",
    "    A decorator that ads caching functionality to a class method.\n",
    "    \"\"\"\n",
    "    cache = {}    # create an empty dict to store cached results\n",
    "    def wrapper(self, *args):\n",
    "        if args in cache: # check if the arguments are in the cache\n",
    "            print(f\"Using cached result for {method.__name__}({args}).\")\n",
    "            return cache[args]\n",
    "        result = method(self, *args) # if the args are not in the cache, call the method\n",
    "        cache[args] = result # store the results from the method call\n",
    "        print(f\"Caching result for {method.__name__}({args}).\")\n",
    "        return result \n",
    "    return wrapper \n",
    "\n",
    "class Calculator:\n",
    "    @add_cache\n",
    "    def add(self, x, y):\n",
    "        print(f\"Calculating {x} + {y}.\")\n",
    "        return x + y\n",
    "\n",
    "calculator1 = Calculator() # define a new instance of the Calculator class\n",
    "result = calculator1.add(10, 10)\n",
    "print(result)\n",
    "result = calculator1.add(2, 2)\n",
    "print(result)\n",
    "\n",
    "calculator2 = Calculator() \n",
    "result = calculator2.add(10, 10) # this is already cached\n",
    "print(result)"
   ]
  },
  {
   "attachments": {},
   "cell_type": "markdown",
   "metadata": {},
   "source": [
    "### Example 4"
   ]
  },
  {
   "attachments": {},
   "cell_type": "markdown",
   "metadata": {},
   "source": [
    "- In this example, the `authenticate_wrapper` decorator function takes in a function `func` as its parameter. \n",
    "\n",
    "- It returns a `wrapper` function that checks if the instance variable `is_authenticated` of the object that func is being called on is True. \n",
    "\n",
    "    - If it is not True, the function prints an error message and returns None. \n",
    "\n",
    "    - If is_authenticated is True, the wrapper function calls func with the object that it is being called on and its arguments and returns its output."
   ]
  },
  {
   "cell_type": "code",
   "execution_count": 5,
   "metadata": {},
   "outputs": [],
   "source": [
    "def authenticate_wrapper(func):\n",
    "    def wrapper(self, *args, **kwargs):\n",
    "        if not self.is_authenticated:\n",
    "            print(\"******************************************************\")\n",
    "            print('You must be authenticated to perform this transaction!')\n",
    "            print(\"******************************************************\")\n",
    "            return None \n",
    "        else:\n",
    "            return func(self, *args, **kwargs)\n",
    "    \n",
    "    return wrapper "
   ]
  },
  {
   "attachments": {},
   "cell_type": "markdown",
   "metadata": {},
   "source": [
    "- The `BankAccount` class is a class that simulates a bank account. \n",
    "\n",
    "- It has instance variables `account_number` and `balance`, and a class variable `accounts` that is a list of valid account numbers. \n",
    "\n",
    "- It also has methods `deposit`, `withdraw`, and `transfer` that each take in an amount and modify the balance of the account. \n",
    "\n",
    "- Each of these methods is decorated with the authenticate_wrapper decorator function, which ensures that the method can only be called if the `is_authenticated` instance variable of the object that the method is being called on is True. \n",
    "\n",
    "- The BankAccount class also has a method `authenticate` that takes in a password and sets the is_authenticated instance variable to True if the password is correct.\n",
    "\n",
    "- The `__str__` method of the BankAccount class returns a string representation of the account that includes its account number and balance.\n",
    "\n",
    "- The code:\n",
    "\n",
    "    - creates two instances of the BankAccount class, `account1` and `account2`, and calls the authenticate, deposit, withdraw, and transfer methods on account1. \n",
    "\n",
    "    - prints the string representations of account1 and account2."
   ]
  },
  {
   "cell_type": "code",
   "execution_count": 6,
   "metadata": {},
   "outputs": [
    {
     "name": "stdout",
     "output_type": "stream",
     "text": [
      "Authentication successful. You are in!\n",
      "Deposited 2000. New balance: 3000.\n",
      "Withdrew $200. New balance: $2800.\n",
      "Withdrew $1000. New balance: $1800.\n",
      "Transferred $1000 to account 000101.\n",
      "Account 000100: $1800\n",
      "Account 000101: $9000\n"
     ]
    }
   ],
   "source": [
    "class BankAccount:\n",
    "    \n",
    "    accounts = ['000100', '000101', '000200', '000201'] # list of valid accounts\n",
    "    \n",
    "    def __init__(self, account_number, balance):\n",
    "        self.account_number = account_number\n",
    "        self.balance = balance \n",
    "        self.is_authenticated = False \n",
    "        \n",
    "    @authenticate_wrapper\n",
    "    def deposit(self, amount):\n",
    "        self.balance += amount \n",
    "        print(f\"Deposited {amount}. New balance: {self.balance}.\")\n",
    "    \n",
    "    @authenticate_wrapper\n",
    "    def withdraw(self, amount):\n",
    "        if self.balance >= amount:\n",
    "            self.balance -= amount \n",
    "            print(f\"Withdrew ${amount}. New balance: ${self.balance}.\")\n",
    "        else:\n",
    "            print(\"Insufficient funds!\")\n",
    "    \n",
    "    @authenticate_wrapper\n",
    "    def transfer(self, amount, recipient):\n",
    "        if self.balance >= amount and recipient.account_number in BankAccount.accounts:\n",
    "            self.withdraw(amount)\n",
    "            recipient.balance += amount\n",
    "            print(f\"Transferred ${amount} to account {recipient.account_number}.\")\n",
    "        else: \n",
    "            print('Insufficient funds!')\n",
    "            \n",
    "    def __str__(self):\n",
    "        return f\"Account {self.account_number}: ${self.balance}\"\n",
    "    \n",
    "    def authenticate(self, password):\n",
    "        if password in ['secret', 'password']:\n",
    "            self.is_authenticated = True \n",
    "            print(\"Authentication successful. You are in!\")\n",
    "        else:\n",
    "            print(\"Authetication failed.\")\n",
    "            \n",
    "\n",
    "account1 = BankAccount('000100', 1_000)\n",
    "account2 = BankAccount('000101', 8_000)\n",
    "\n",
    "account1.authenticate('secret')\n",
    "account1.deposit(2_000)\n",
    "account1.withdraw(200)\n",
    "account1.transfer(1_000, account2)\n",
    "\n",
    "print(account1)\n",
    "print(account2)\n"
   ]
  },
  {
   "attachments": {},
   "cell_type": "markdown",
   "metadata": {},
   "source": [
    "### `When authentication fails...`"
   ]
  },
  {
   "cell_type": "code",
   "execution_count": 7,
   "metadata": {},
   "outputs": [
    {
     "name": "stdout",
     "output_type": "stream",
     "text": [
      "Authetication failed.\n",
      "******************************************************\n",
      "You must be authenticated to perform this transaction!\n",
      "******************************************************\n",
      "******************************************************\n",
      "You must be authenticated to perform this transaction!\n",
      "******************************************************\n",
      "******************************************************\n",
      "You must be authenticated to perform this transaction!\n",
      "******************************************************\n",
      "Account 000100: $1000\n",
      "Account 000101: $8000\n"
     ]
    }
   ],
   "source": [
    "account1 = BankAccount('000100', 1_000)\n",
    "account2 = BankAccount('000101', 8_000)\n",
    "\n",
    "account1.authenticate('wrong secret')\n",
    "account1.deposit(2_000)\n",
    "account1.withdraw(200)\n",
    "account1.transfer(1_000, account2)\n",
    "\n",
    "print(account1)\n",
    "print(account2)"
   ]
  },
  {
   "attachments": {},
   "cell_type": "markdown",
   "metadata": {},
   "source": [
    "# Nested Decorators"
   ]
  },
  {
   "cell_type": "code",
   "execution_count": 10,
   "metadata": {},
   "outputs": [
    {
     "data": {
      "text/plain": [
       "230"
      ]
     },
     "execution_count": 10,
     "metadata": {},
     "output_type": "execute_result"
    }
   ],
   "source": [
    "def add_30(func):\n",
    "    def wrapper():\n",
    "        output = func()\n",
    "        return output + 30\n",
    "    return wrapper \n",
    "\n",
    "def add_100(func):\n",
    "    def wrapper():\n",
    "        output = func()\n",
    "        return output + 100\n",
    "    return wrapper\n",
    "\n",
    "@add_30\n",
    "@add_100\n",
    "def return_100():\n",
    "    return 100\n",
    "\n",
    "return_100()"
   ]
  }
 ],
 "metadata": {
  "kernelspec": {
   "display_name": "Python 3",
   "language": "python",
   "name": "python3"
  },
  "language_info": {
   "codemirror_mode": {
    "name": "ipython",
    "version": 3
   },
   "file_extension": ".py",
   "mimetype": "text/x-python",
   "name": "python",
   "nbconvert_exporter": "python",
   "pygments_lexer": "ipython3",
   "version": "3.10.4"
  },
  "orig_nbformat": 4
 },
 "nbformat": 4,
 "nbformat_minor": 2
}
