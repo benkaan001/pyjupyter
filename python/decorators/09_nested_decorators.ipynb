{
 "cells": [
  {
   "attachments": {},
   "cell_type": "markdown",
   "metadata": {},
   "source": [
    "# Nesting Decorators:\n",
    "\n",
    "- #### You can apply several decorators to a function.\n",
    "- #### The order in which decorators are listed does matter."
   ]
  },
  {
   "cell_type": "code",
   "execution_count": 1,
   "metadata": {},
   "outputs": [
    {
     "name": "stdout",
     "output_type": "stream",
     "text": [
      "Calling wrapper_do_twice('Chicken')\n",
      "Hello Chicken\n",
      "Hello Chicken\n",
      "'wrapper_do_twice' returned None\n"
     ]
    }
   ],
   "source": [
    "from decorators import do_twice_updated, debug \n",
    "\n",
    "@debug\n",
    "@do_twice_updated\n",
    "def greet(name):\n",
    "    print(f\"Hello {name}\")\n",
    "\n",
    "greet(\"Chicken\")"
   ]
  },
  {
   "cell_type": "code",
   "execution_count": 2,
   "metadata": {},
   "outputs": [
    {
     "name": "stdout",
     "output_type": "stream",
     "text": [
      "Calling greet('Chicken')\n",
      "Hello Chicken\n",
      "'greet' returned None\n",
      "Calling greet('Chicken')\n",
      "Hello Chicken\n",
      "'greet' returned None\n"
     ]
    }
   ],
   "source": [
    "# debug will be run twice if we swap the order of decorators\n",
    "\n",
    "@do_twice_updated\n",
    "@debug\n",
    "def greet(name):\n",
    "    print(f\"Hello {name}\")\n",
    "    \n",
    "greet(\"Chicken\") "
   ]
  }
 ],
 "metadata": {
  "kernelspec": {
   "display_name": "Python 3",
   "language": "python",
   "name": "python3"
  },
  "language_info": {
   "codemirror_mode": {
    "name": "ipython",
    "version": 3
   },
   "file_extension": ".py",
   "mimetype": "text/x-python",
   "name": "python",
   "nbconvert_exporter": "python",
   "pygments_lexer": "ipython3",
   "version": "3.10.4"
  },
  "orig_nbformat": 4
 },
 "nbformat": 4,
 "nbformat_minor": 2
}
