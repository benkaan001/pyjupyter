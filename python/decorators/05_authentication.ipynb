{
 "cells": [
  {
   "attachments": {},
   "cell_type": "markdown",
   "metadata": {},
   "source": [
    "### Authentication Wrapper"
   ]
  },
  {
   "attachments": {},
   "cell_type": "markdown",
   "metadata": {},
   "source": [
    "- In this example, the `authenticate` decorator function takes in a function `func` as its parameter. \n",
    "\n",
    "- It returns a `wrapper_authenticate` function that checks if the instance variable `is_authenticated` of the object that func is being called on is True. \n",
    "\n",
    "    - If it is not True, the function prints an error message and returns None. \n",
    "\n",
    "    - If is_authenticated is True, the wrapper function calls func with the object that it is being called on and its arguments and returns its output."
   ]
  },
  {
   "cell_type": "code",
   "execution_count": 1,
   "metadata": {},
   "outputs": [],
   "source": [
    "import functools\n",
    "\n",
    "def authenticate(func):\n",
    "    \"\"\"\n",
    "    A decorator that requires authentication for a class method.\n",
    "\n",
    "    This decorator takes a class method as an argument and returns a wrapped function that requires \n",
    "    authentication to be performed before the method is executed. The wrapped function checks whether \n",
    "    the class instance has the `is_authenticated` attribute set to True. If it is, the wrapped function \n",
    "    calls the original method with the given arguments. If not, it prints an error message and returns None.\n",
    "\n",
    "    The decorator uses the functools.wraps() function to ensure that the wrapped function has the same\n",
    "    name, documentation, and other attributes as the original method. \n",
    "\n",
    "    Args:\n",
    "        func: The class method to be wrapped with authentication functionality.\n",
    "\n",
    "    Returns:\n",
    "        The wrapped function that requires authentication to be performed before the original method \n",
    "        is executed. If authentication fails, it prints an error message and returns None. Otherwise, \n",
    "        it calls the original method with the given arguments.\n",
    "    \"\"\"\n",
    "    @functools.wraps(func)\n",
    "    def wrapper_authenticate(self, *args, **kwargs):\n",
    "        if not self.is_authenticated:\n",
    "            print(\"******************************************************\")\n",
    "            print('You must be authenticated to perform this transaction!')\n",
    "            print(\"******************************************************\")\n",
    "            return None \n",
    "        else:\n",
    "            return func(self, *args, **kwargs)\n",
    "    \n",
    "    return wrapper_authenticate\n"
   ]
  },
  {
   "attachments": {},
   "cell_type": "markdown",
   "metadata": {},
   "source": [
    "- The `BankAccount` class is a class that simulates a bank account. \n",
    "\n",
    "- It has instance variables `account_number` and `balance`, and a class variable `accounts` that is a list of valid account numbers. \n",
    "\n",
    "- It also has methods `deposit`, `withdraw`, and `transfer` that each take in an amount and modify the balance of the account. \n",
    "\n",
    "- Each of these methods is decorated with the authenticate_wrapper decorator function, which ensures that the method can only be called if the `is_authenticated` instance variable of the object that the method is being called on is True. \n",
    "\n",
    "- The BankAccount class also has a method `authenticate` that takes in a password and sets the is_authenticated instance variable to True if the password is correct.\n",
    "\n",
    "- The `__str__` method of the BankAccount class returns a string representation of the account that includes its account number and balance.\n",
    "\n",
    "- The code:\n",
    "\n",
    "    - creates two instances of the BankAccount class, `account1` and `account2`, and calls the authenticate, deposit, withdraw, and transfer methods on account1. \n",
    "\n",
    "    - prints the string representations of account1 and account2."
   ]
  },
  {
   "cell_type": "code",
   "execution_count": 2,
   "metadata": {},
   "outputs": [
    {
     "name": "stdout",
     "output_type": "stream",
     "text": [
      "Authentication successful. You are in!\n",
      "Deposited 2000. New balance: 3000.\n",
      "Withdrew $200. New balance: $2800.\n",
      "Withdrew $1000. New balance: $1800.\n",
      "Transferred $1000 to account 000101.\n",
      "Account 000100: $1800\n",
      "Account 000101: $9000\n"
     ]
    }
   ],
   "source": [
    "class BankAccount:\n",
    "    \"\"\"\n",
    "    A class representing a bank account.\n",
    "\n",
    "    This class provides methods for depositing, withdrawing, and transferring funds between accounts, \n",
    "    as well as an authentication method to ensure that only authorized users can perform transactions. \n",
    "\n",
    "    Attributes:\n",
    "        accounts (list): A list of valid account numbers.\n",
    "        account_number (str): The account number associated with the account.\n",
    "        balance (float): The current balance of the account.\n",
    "        is_authenticated (bool): A flag indicating whether the user is authenticated.\n",
    "\n",
    "    Methods:\n",
    "        __init__(self, account_number, balance): Initializes a new BankAccount instance with the given \n",
    "            account number and balance.\n",
    "        deposit(self, amount): Deposits the given amount into the account.\n",
    "        withdraw(self, amount): Withdraws the given amount from the account.\n",
    "        transfer(self, amount, recipient): Transfers the given amount from the account to the recipient's \n",
    "            account.\n",
    "        __str__(self): Returns a string representation of the BankAccount instance.\n",
    "        authenticate(self, password): Authenticates the user with the given password.\n",
    "\n",
    "    \"\"\"\n",
    "    \n",
    "    accounts = ['000100', '000101', '000200', '000201'] # list of valid accounts\n",
    "    \n",
    "    def __init__(self, account_number, balance):\n",
    "        self.account_number = account_number\n",
    "        self.balance = balance \n",
    "        self.is_authenticated = False \n",
    "        \n",
    "    @authenticate\n",
    "    def deposit(self, amount):\n",
    "        self.balance += amount \n",
    "        print(f\"Deposited {amount}. New balance: {self.balance}.\")\n",
    "    \n",
    "    @authenticate\n",
    "    def withdraw(self, amount):\n",
    "        if self.balance >= amount:\n",
    "            self.balance -= amount \n",
    "            print(f\"Withdrew ${amount}. New balance: ${self.balance}.\")\n",
    "        else:\n",
    "            print(\"Insufficient funds!\")\n",
    "    \n",
    "    @authenticate\n",
    "    def transfer(self, amount, recipient):\n",
    "        if self.balance >= amount and recipient.account_number in BankAccount.accounts:\n",
    "            self.withdraw(amount)\n",
    "            recipient.balance += amount\n",
    "            print(f\"Transferred ${amount} to account {recipient.account_number}.\")\n",
    "        else: \n",
    "            print('Insufficient funds!')\n",
    "            \n",
    "    def __str__(self):\n",
    "        return f\"Account {self.account_number}: ${self.balance}\"\n",
    "    \n",
    "    def authenticate(self, password):\n",
    "        if password in ['secret', 'password']:\n",
    "            self.is_authenticated = True \n",
    "            print(\"Authentication successful. You are in!\")\n",
    "        else:\n",
    "            print(\"Authetication failed.\")\n",
    "            \n",
    "\n",
    "account1 = BankAccount('000100', 1_000)\n",
    "account2 = BankAccount('000101', 8_000)\n",
    "\n",
    "account1.authenticate('secret')\n",
    "account1.deposit(2_000)\n",
    "account1.withdraw(200)\n",
    "account1.transfer(1_000, account2)\n",
    "\n",
    "print(account1)\n",
    "print(account2)\n"
   ]
  },
  {
   "attachments": {},
   "cell_type": "markdown",
   "metadata": {},
   "source": [
    "### `When authentication fails...`"
   ]
  },
  {
   "cell_type": "code",
   "execution_count": 3,
   "metadata": {},
   "outputs": [
    {
     "name": "stdout",
     "output_type": "stream",
     "text": [
      "Authetication failed.\n",
      "******************************************************\n",
      "You must be authenticated to perform this transaction!\n",
      "******************************************************\n",
      "******************************************************\n",
      "You must be authenticated to perform this transaction!\n",
      "******************************************************\n",
      "******************************************************\n",
      "You must be authenticated to perform this transaction!\n",
      "******************************************************\n",
      "Account 000100: $1000\n",
      "Account 000101: $8000\n"
     ]
    }
   ],
   "source": [
    "account1 = BankAccount('000100', 1_000)\n",
    "account2 = BankAccount('000101', 8_000)\n",
    "\n",
    "account1.authenticate('wrong secret')\n",
    "account1.deposit(2_000)\n",
    "account1.withdraw(200)\n",
    "account1.transfer(1_000, account2)\n",
    "\n",
    "print(account1)\n",
    "print(account2)"
   ]
  }
 ],
 "metadata": {
  "kernelspec": {
   "display_name": "Python 3",
   "language": "python",
   "name": "python3"
  },
  "language_info": {
   "codemirror_mode": {
    "name": "ipython",
    "version": 3
   },
   "file_extension": ".py",
   "mimetype": "text/x-python",
   "name": "python",
   "nbconvert_exporter": "python",
   "pygments_lexer": "ipython3",
   "version": "3.10.4"
  },
  "orig_nbformat": 4
 },
 "nbformat": 4,
 "nbformat_minor": 2
}
