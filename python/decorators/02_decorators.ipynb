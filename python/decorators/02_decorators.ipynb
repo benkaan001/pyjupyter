{
 "cells": [
  {
   "attachments": {},
   "cell_type": "markdown",
   "metadata": {},
   "source": [
    "## Simple Decorators"
   ]
  },
  {
   "cell_type": "code",
   "execution_count": 1,
   "metadata": {},
   "outputs": [
    {
     "name": "stdout",
     "output_type": "stream",
     "text": [
      "Be quiet! It is 22:00 o'clock. The neighbors are asleep!\n"
     ]
    }
   ],
   "source": [
    "from datetime import datetime\n",
    "\n",
    "def not_during_the_night(func):\n",
    "    def wrapper():\n",
    "        current_hour = datetime.now().hour \n",
    "        if 7 <= current_hour < 22:\n",
    "            print(f\"It is {datetime.now().hour}o'clock. You can scream!\")\n",
    "            func()\n",
    "        else:\n",
    "            print(f\"Be quiet! It is {datetime.now().hour}:00 o'clock. The neighbors are asleep!\")\n",
    "            pass \n",
    "    return wrapper \n",
    "\n",
    "def scream_yay():\n",
    "    print(\"YAAAAYYY!!!!\")\n",
    "    \n",
    "try_screaming_yay = not_during_the_night(scream_yay)\n",
    "\n",
    "try_screaming_yay()\n",
    "            "
   ]
  },
  {
   "attachments": {},
   "cell_type": "markdown",
   "metadata": {},
   "source": [
    "###  Python allows you to use decorators in a simpler way with the `@` symbol, which is also called `\"PIE\" syntax`"
   ]
  },
  {
   "cell_type": "code",
   "execution_count": 2,
   "metadata": {},
   "outputs": [
    {
     "name": "stdout",
     "output_type": "stream",
     "text": [
      "Be quiet! It is 22:00 o'clock. The neighbors are asleep!\n"
     ]
    }
   ],
   "source": [
    "@not_during_the_night\n",
    "def say_whee():\n",
    "    print(\"Wheeee!!!!!\")\n",
    "    \n",
    "say_whee()"
   ]
  },
  {
   "attachments": {},
   "cell_type": "markdown",
   "metadata": {},
   "source": [
    "## Reuse decorators.\n",
    "\n",
    "- #### Since decorators are regular Python function, they can have their own `modules` and imported/reused."
   ]
  },
  {
   "cell_type": "code",
   "execution_count": 3,
   "metadata": {},
   "outputs": [
    {
     "name": "stdout",
     "output_type": "stream",
     "text": [
      "Thinking carefully...\n",
      "Thinking carefully...\n"
     ]
    }
   ],
   "source": [
    "from decorators import do_twice\n",
    "\n",
    "@do_twice \n",
    "def think_carefully():\n",
    "    print(\"Thinking carefully...\")\n",
    "\n",
    "think_carefully()"
   ]
  },
  {
   "attachments": {},
   "cell_type": "markdown",
   "metadata": {},
   "source": [
    "## Add arguments."
   ]
  },
  {
   "cell_type": "code",
   "execution_count": 4,
   "metadata": {},
   "outputs": [
    {
     "name": "stdout",
     "output_type": "stream",
     "text": [
      "do_twice.<locals>.wrapper_do_twice() takes 0 positional arguments but 1 was given\n"
     ]
    }
   ],
   "source": [
    "# the issue is the wrapper_do_twice does not take any arguments\n",
    "# hence passing an argument to greet function will result in TypeError\n",
    "@do_twice\n",
    "def greet(name):\n",
    "    print(f\"Hello {name}.\")\n",
    "\n",
    "try:\n",
    "    greet(\"Chicken\")  \n",
    "except Exception as e:\n",
    "    print(e)"
   ]
  },
  {
   "cell_type": "code",
   "execution_count": 5,
   "metadata": {},
   "outputs": [
    {
     "name": "stdout",
     "output_type": "stream",
     "text": [
      "Hello Chicken!\n",
      "Hello Chicken!\n"
     ]
    }
   ],
   "source": [
    "# update wrapper_do_twice so it take additional arg, and kwarg parameters\n",
    "def do_twice_updated(func):\n",
    "    def wrapper_do_twice(*args, **kwargs):\n",
    "        func(*args, **kwargs)\n",
    "        func(*args, **kwargs)\n",
    "    return wrapper_do_twice\n",
    "\n",
    "@do_twice_updated\n",
    "def greet(name):\n",
    "    print(f\"Hello {name}!\")\n",
    "    \n",
    "\n",
    "greet(\"Chicken\")"
   ]
  },
  {
   "attachments": {},
   "cell_type": "markdown",
   "metadata": {},
   "source": [
    "## Returning Values From Decorated Functions\n",
    "\n",
    "- #### Decorator function determines what will happen to the return value."
   ]
  },
  {
   "cell_type": "code",
   "execution_count": 6,
   "metadata": {},
   "outputs": [
    {
     "name": "stdout",
     "output_type": "stream",
     "text": [
      "Creating greeting.\n",
      "Creating greeting.\n"
     ]
    }
   ],
   "source": [
    "@do_twice_updated\n",
    "def return_greeting(name):\n",
    "    print(\"Creating greeting.\")\n",
    "    return f\"Hi {name}\"\n",
    "\n",
    "hi_chicken = return_greeting(\"Chicken\")\n",
    "\n",
    "hi_chicken"
   ]
  },
  {
   "cell_type": "code",
   "execution_count": 7,
   "metadata": {},
   "outputs": [
    {
     "name": "stdout",
     "output_type": "stream",
     "text": [
      "None\n"
     ]
    }
   ],
   "source": [
    "# because the do_twice_wrapper() does not explicitly return a value,\n",
    "# the call return_greeting(\"Chicken\") ends up returning None.\n",
    "print(hi_chicken)"
   ]
  },
  {
   "cell_type": "code",
   "execution_count": 8,
   "metadata": {},
   "outputs": [
    {
     "name": "stdout",
     "output_type": "stream",
     "text": [
      "Creating greeting.\n",
      "Creating greeting.\n"
     ]
    },
    {
     "data": {
      "text/plain": [
       "'Hi Chicken'"
      ]
     },
     "execution_count": 8,
     "metadata": {},
     "output_type": "execute_result"
    }
   ],
   "source": [
    "# update the wrapper so it returns the return value of the decorated function\n",
    "\n",
    "def do_twice_updated(func):\n",
    "    def wrapper_do_twice(*args, **kwargs):\n",
    "        func(*args, **kwargs)\n",
    "        return func(*args, **kwargs)\n",
    "    return wrapper_do_twice\n",
    "\n",
    "@do_twice_updated\n",
    "def return_greeting(name):\n",
    "    print(\"Creating greeting.\")\n",
    "    return f\"Hi {name}\"\n",
    "\n",
    "\n",
    "return_greeting(\"Chicken\")"
   ]
  }
 ],
 "metadata": {
  "kernelspec": {
   "display_name": "Python 3",
   "language": "python",
   "name": "python3"
  },
  "language_info": {
   "codemirror_mode": {
    "name": "ipython",
    "version": 3
   },
   "file_extension": ".py",
   "mimetype": "text/x-python",
   "name": "python",
   "nbconvert_exporter": "python",
   "pygments_lexer": "ipython3",
   "version": "3.10.4"
  },
  "orig_nbformat": 4
 },
 "nbformat": 4,
 "nbformat_minor": 2
}
