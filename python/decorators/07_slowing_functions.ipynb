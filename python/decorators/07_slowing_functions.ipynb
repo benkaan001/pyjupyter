{
 "cells": [
  {
   "attachments": {},
   "cell_type": "markdown",
   "metadata": {},
   "source": [
    "# Slow Down Decorator\n",
    "- This is espcially useful when you want to `rate-limit` a function that continuously checks wheter a resource like a web page has changed."
   ]
  },
  {
   "cell_type": "code",
   "execution_count": 1,
   "metadata": {},
   "outputs": [
    {
     "name": "stdout",
     "output_type": "stream",
     "text": [
      "About to doze off for a sec!\n",
      "3\n",
      "2\n",
      "1\n",
      "Take off!!!\n"
     ]
    }
   ],
   "source": [
    "import functools\n",
    "import time \n",
    "\n",
    "def slow_down(func):\n",
    "    \"\"\" Sleep 1 second before calling the function\"\"\"\n",
    "    print(\"About to doze off for a sec!\")\n",
    "    @functools.wraps(func)\n",
    "    def wrapper_slow_down(*args, **kwargs):\n",
    "        time.sleep(1)\n",
    "        return func(*args, **kwargs)\n",
    "    return wrapper_slow_down\n",
    "\n",
    "@slow_down\n",
    "def countdown(from_number):\n",
    "    if from_number < 1:\n",
    "        print(\"Take off!!!\")\n",
    "    else:\n",
    "        print(from_number)\n",
    "        countdown(from_number - 1)\n",
    "        \n",
    "countdown(3)"
   ]
  },
  {
   "attachments": {},
   "cell_type": "markdown",
   "metadata": {},
   "source": [
    "## Version 2 With Optional Arguments"
   ]
  },
  {
   "cell_type": "code",
   "execution_count": 2,
   "metadata": {},
   "outputs": [
    {
     "name": "stdout",
     "output_type": "stream",
     "text": [
      "About to doze off for 2 sec!\n",
      "Wait 2 sec...\n",
      "3\n",
      "Wait 2 sec...\n",
      "2\n",
      "Wait 2 sec...\n",
      "1\n",
      "Wait 2 sec...\n",
      "Take off!!!\n"
     ]
    }
   ],
   "source": [
    "def slow_down(_func=None, *, rate=1):\n",
    "    \"\"\" Sleep 1 second before calling the function\"\"\"\n",
    "    print(f\"About to doze off for {rate} sec!\")\n",
    "    def decorator_slow_down(func):\n",
    "        @functools.wraps(func)\n",
    "        def wrapper_slow_down(*args, **kwargs):\n",
    "            time.sleep(rate)\n",
    "            print(f\"Wait {rate} sec...\")\n",
    "            return func(*args, **kwargs)\n",
    "        return wrapper_slow_down\n",
    "    if _func is None:\n",
    "        return decorator_slow_down\n",
    "    else:\n",
    "        return decorator_slow_down(_func)\n",
    "    \n",
    "@slow_down(rate=2)\n",
    "def countdown(from_number):\n",
    "    if from_number < 1:\n",
    "        print(\"Take off!!!\")\n",
    "    else:\n",
    "        print(from_number)\n",
    "        countdown(from_number - 1)\n",
    "        \n",
    "countdown(3)"
   ]
  }
 ],
 "metadata": {
  "kernelspec": {
   "display_name": "Python 3",
   "language": "python",
   "name": "python3"
  },
  "language_info": {
   "codemirror_mode": {
    "name": "ipython",
    "version": 3
   },
   "file_extension": ".py",
   "mimetype": "text/x-python",
   "name": "python",
   "nbconvert_exporter": "python",
   "pygments_lexer": "ipython3",
   "version": "3.10.4"
  },
  "orig_nbformat": 4
 },
 "nbformat": 4,
 "nbformat_minor": 2
}
