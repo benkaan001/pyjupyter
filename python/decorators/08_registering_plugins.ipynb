{
 "cells": [
  {
   "attachments": {},
   "cell_type": "markdown",
   "metadata": {},
   "source": [
    "# Registering Plugins\n",
    "- ##### Decorators don't have to wrap the function they are decorating. \n",
    "- ##### They can simply register that `a function exists` and return it unwrapped.\n",
    "- ##### This can be used to create a `light-weight plug-in architecture`."
   ]
  },
  {
   "cell_type": "code",
   "execution_count": 1,
   "metadata": {},
   "outputs": [],
   "source": [
    "import random \n",
    "\n",
    "PLUGINS = {}\n",
    "\n",
    "def register(func):\n",
    "    \"\"\" Register a function as a plug-in\"\"\"\n",
    "    PLUGINS[func.__name__] = func \n",
    "    return func \n",
    "\n",
    "@register\n",
    "def add(a, b):\n",
    "    return a + b \n",
    "\n",
    "@register \n",
    "def subtract(a, b):\n",
    "    return a - b \n",
    "\n",
    "@register\n",
    "def multiply(a, b):\n",
    "    return a * b \n",
    "\n",
    "@register\n",
    "def divide(a, b):\n",
    "    try:\n",
    "        return a / b \n",
    "    except ZeroDivisionError as e:\n",
    "        print(f'Error: {e}')\n",
    "        return None\n",
    "    \n",
    "def random_operation(*args):\n",
    "    operator, operator_func = random.choice(list(PLUGINS.items()))\n",
    "    print(f\"Using {operator!r}\")\n",
    "    return operator_func(*args)\n"
   ]
  },
  {
   "cell_type": "code",
   "execution_count": 2,
   "metadata": {},
   "outputs": [
    {
     "data": {
      "text/plain": [
       "{'add': <function __main__.add(a, b)>,\n",
       " 'subtract': <function __main__.subtract(a, b)>,\n",
       " 'multiply': <function __main__.multiply(a, b)>,\n",
       " 'divide': <function __main__.divide(a, b)>}"
      ]
     },
     "execution_count": 2,
     "metadata": {},
     "output_type": "execute_result"
    }
   ],
   "source": [
    "PLUGINS"
   ]
  },
  {
   "cell_type": "code",
   "execution_count": 3,
   "metadata": {},
   "outputs": [
    {
     "name": "stdout",
     "output_type": "stream",
     "text": [
      "Using 'multiply'\n"
     ]
    },
    {
     "data": {
      "text/plain": [
       "0"
      ]
     },
     "execution_count": 3,
     "metadata": {},
     "output_type": "execute_result"
    }
   ],
   "source": [
    "random_operation(10, 0)"
   ]
  },
  {
   "cell_type": "code",
   "execution_count": 4,
   "metadata": {},
   "outputs": [
    {
     "name": "stdout",
     "output_type": "stream",
     "text": [
      "Using 'divide'\n",
      "Error: division by zero\n"
     ]
    }
   ],
   "source": [
    "random_operation(10, 0)"
   ]
  },
  {
   "cell_type": "code",
   "execution_count": 5,
   "metadata": {},
   "outputs": [
    {
     "name": "stdout",
     "output_type": "stream",
     "text": [
      "Using 'add'\n"
     ]
    },
    {
     "data": {
      "text/plain": [
       "10"
      ]
     },
     "execution_count": 5,
     "metadata": {},
     "output_type": "execute_result"
    }
   ],
   "source": [
    "random_operation(10, 0)"
   ]
  }
 ],
 "metadata": {
  "kernelspec": {
   "display_name": "Python 3",
   "language": "python",
   "name": "python3"
  },
  "language_info": {
   "codemirror_mode": {
    "name": "ipython",
    "version": 3
   },
   "file_extension": ".py",
   "mimetype": "text/x-python",
   "name": "python",
   "nbconvert_exporter": "python",
   "pygments_lexer": "ipython3",
   "version": "3.10.4"
  },
  "orig_nbformat": 4
 },
 "nbformat": 4,
 "nbformat_minor": 2
}
