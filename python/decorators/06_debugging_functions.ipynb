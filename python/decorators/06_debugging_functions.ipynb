{
 "cells": [
  {
   "attachments": {},
   "cell_type": "markdown",
   "metadata": {},
   "source": [
    "# Debug Wrapper"
   ]
  },
  {
   "attachments": {},
   "cell_type": "markdown",
   "metadata": {},
   "source": [
    "### Background Info:\n",
    "\n",
    "- #### The built-in `repr()` function returns a string that represents the printable version of an object."
   ]
  },
  {
   "cell_type": "code",
   "execution_count": 1,
   "metadata": {},
   "outputs": [
    {
     "data": {
      "text/plain": [
       "str"
      ]
     },
     "execution_count": 1,
     "metadata": {},
     "output_type": "execute_result"
    }
   ],
   "source": [
    "# string object\n",
    "str "
   ]
  },
  {
   "cell_type": "code",
   "execution_count": 2,
   "metadata": {},
   "outputs": [
    {
     "data": {
      "text/plain": [
       "\"<class 'str'>\""
      ]
     },
     "execution_count": 2,
     "metadata": {},
     "output_type": "execute_result"
    }
   ],
   "source": [
    "# string object \n",
    "repr(str)"
   ]
  },
  {
   "cell_type": "code",
   "execution_count": 12,
   "metadata": {},
   "outputs": [
    {
     "data": {
      "text/plain": [
       "Person(name=John, age=30)"
      ]
     },
     "execution_count": 12,
     "metadata": {},
     "output_type": "execute_result"
    }
   ],
   "source": [
    "# repr in a custom object\n",
    "class Person:\n",
    "    def __init__(self, name, age):\n",
    "        self.name = name \n",
    "        self.age = age \n",
    "    \n",
    "    def __repr__(self):\n",
    "        return f\"Person(name={self.name}, age={self.age})\"\n",
    "\n",
    "p = Person(\"John\", 30)\n",
    "\n",
    "p\n"
   ]
  },
  {
   "cell_type": "code",
   "execution_count": 4,
   "metadata": {},
   "outputs": [
    {
     "data": {
      "text/plain": [
       "'Person(name=John, age=30)'"
      ]
     },
     "execution_count": 4,
     "metadata": {},
     "output_type": "execute_result"
    }
   ],
   "source": [
    "# __repr__() method returns a string representing the 'Person' object in string form \" \" \n",
    "p_str = repr(p)\n",
    "p_str"
   ]
  },
  {
   "cell_type": "code",
   "execution_count": null,
   "metadata": {},
   "outputs": [],
   "source": [
    "import functools\n",
    "\n",
    "def debug(func):\n",
    "    \"\"\" Print the function signature and return value\"\"\"\n",
    "    @functools.wraps(func)\n",
    "    def wrapper_debug(*args, **kwargs):\n",
    "        args_repr =[repr(arg) for arg in args ] # create a list of positional args with tehir string representation using repr()\n",
    "        kwargs_repr = [f\"{k}={v!r}\" for k,v in kwargs.items()] # do the same for kwargs\n",
    "        signature = \", \".join(args_repr + kwargs_repr)\n",
    "        print(f\"Calling {func.__name__}({signature})\")\n",
    "        value = func(*args, **kwargs)\n",
    "        print(f\"{func.__name__!r} returned {value!r}\")\n",
    "        return value \n",
    "    return wrapper_debug\n",
    "\n",
    "@debug\n",
    "def make_greeting(name, age=None):\n",
    "    if age is None:\n",
    "        return f\"Howdy {name}!\"\n",
    "    else: \n",
    "        return f\"Whoa {name}! {age} already, you are growing up!\""
   ]
  },
  {
   "cell_type": "code",
   "execution_count": null,
   "metadata": {},
   "outputs": [],
   "source": [
    "make_greeting(\"Chicken\")"
   ]
  },
  {
   "cell_type": "code",
   "execution_count": null,
   "metadata": {},
   "outputs": [],
   "source": [
    "make_greeting(\"Rosalinda\", age=101)"
   ]
  },
  {
   "attachments": {},
   "cell_type": "markdown",
   "metadata": {},
   "source": [
    "## Example 2\n",
    "\n",
    "- #### The `analyze_data` function reads data from a CSV file, `sales_data.csv`, which contains information about the sales of five different products, including the name of the product and the total sales amount. \n",
    "\n",
    "- #### The function performs some analysis on the data. Suppose that you want to see the function signature and the return value to help you debug any issues that might come up.\n",
    "\n",
    "- #### The `debug` wrapper helps see the function signature and return value, which can be useful for debugging any issues that might arise while reading and analyzing the data."
   ]
  },
  {
   "cell_type": "code",
   "execution_count": null,
   "metadata": {},
   "outputs": [],
   "source": [
    "import csv\n",
    "\n",
    "@debug\n",
    "def analyze_data(file_path):\n",
    "    # Read data from CSV file\n",
    "    with open(file_path, 'r') as csvfile:\n",
    "        csvreader = csv.reader(csvfile)\n",
    "        # Skip header row\n",
    "        next(csvreader)\n",
    "        \n",
    "        # Perform analysis\n",
    "        total_sales = 0\n",
    "        num_sales = 0\n",
    "        for row in csvreader:\n",
    "            num_sales += 1\n",
    "            total_sales += float(row[1])\n",
    "        \n",
    "        avg_sale = total_sales / num_sales\n",
    "    \n",
    "    return {'total_sales': total_sales, 'num_sales': num_sales, 'avg_sale': avg_sale}\n",
    "\n",
    "result = analyze_data('sales_data.csv')\n",
    "print(result)\n",
    "        "
   ]
  },
  {
   "attachments": {},
   "cell_type": "markdown",
   "metadata": {},
   "source": [
    "## Example 3"
   ]
  },
  {
   "cell_type": "code",
   "execution_count": null,
   "metadata": {},
   "outputs": [],
   "source": [
    "import random \n",
    "\n",
    "# apply a decorator to a standard library function\n",
    "@debug \n",
    "def calculate_sum(numbers):\n",
    "    \"\"\" Calculate the sum of a list of numbers\"\"\"\n",
    "    return sum(numbers)\n",
    "\n",
    "# generate a list of 10 random numbers between 1 and 100\n",
    "nums = [random.randint(1, 100) for _ in range(10)]\n",
    "\n",
    "result = calculate_sum(nums)\n",
    "\n",
    "result\n",
    "    "
   ]
  }
 ],
 "metadata": {
  "kernelspec": {
   "display_name": "Python 3",
   "language": "python",
   "name": "python3"
  },
  "language_info": {
   "codemirror_mode": {
    "name": "ipython",
    "version": 3
   },
   "file_extension": ".py",
   "mimetype": "text/x-python",
   "name": "python",
   "nbconvert_exporter": "python",
   "pygments_lexer": "ipython3",
   "version": "3.10.4"
  },
  "orig_nbformat": 4
 },
 "nbformat": 4,
 "nbformat_minor": 2
}
