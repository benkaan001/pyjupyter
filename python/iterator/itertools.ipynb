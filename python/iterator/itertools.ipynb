{
 "cells": [
  {
   "attachments": {},
   "cell_type": "markdown",
   "metadata": {},
   "source": [
    "The itertools module is a powerful library in Python that provides a collection of tools for working with iterators and iterable objects in a memory-efficient way. Here are some advantages of using the itertools library:\n",
    "\n",
    "1. `Memory efficiency`: The itertools module provides many functions that allow you to work with large or infinite sequences without creating new data structures in memory. This can be useful when working with data that is too large to fit into memory all at once.\n",
    "\n",
    "2. `Efficiency in terms of execution time`: The itertools functions are implemented in `C`, making them faster than pure Python implementations.\n",
    "\n",
    "3. `Readability and simplicity`: The itertools module provides a wide range of functions that are easy to read and understand, which can make your code more concise and easier to maintain.\n",
    "\n",
    "4. `Flexibility`: The itertools module provides many functions that can be combined in various ways to produce complex sequences or to solve complex problems. This can make your code more flexible and adaptable to different use cases.\n",
    "\n",
    "5. `Support for functional programming`: The itertools module provides many functions that support functional programming concepts such as lazy evaluation, currying, and higher-order functions.\n",
    "\n",
    "Overall, the itertools module provides a powerful and flexible set of tools for working with iterators and iterable objects in Python. Its memory efficiency, execution speed, simplicity, and flexibility make it a popular choice for data processing and analysis tasks."
   ]
  },
  {
   "cell_type": "code",
   "execution_count": 1,
   "metadata": {},
   "outputs": [],
   "source": [
    "import itertools"
   ]
  },
  {
   "cell_type": "code",
   "execution_count": 2,
   "metadata": {},
   "outputs": [
    {
     "name": "stdout",
     "output_type": "stream",
     "text": [
      "1\n",
      "101\n",
      "201\n",
      "301\n",
      "401\n",
      "501\n"
     ]
    }
   ],
   "source": [
    "for counter_value in itertools.count(start=1, step=100):\n",
    "    print(counter_value)\n",
    "    if counter_value > 500:\n",
    "        break"
   ]
  },
  {
   "cell_type": "code",
   "execution_count": 3,
   "metadata": {},
   "outputs": [
    {
     "name": "stdout",
     "output_type": "stream",
     "text": [
      "YAY!\n",
      "YAY!\n",
      "YAY!\n"
     ]
    }
   ],
   "source": [
    "for item_to_repeat in itertools.repeat('YAY!', times=3):\n",
    "    print(item_to_repeat)"
   ]
  },
  {
   "cell_type": "code",
   "execution_count": 4,
   "metadata": {},
   "outputs": [
    {
     "name": "stdout",
     "output_type": "stream",
     "text": [
      "1\n",
      "3\n",
      "6\n",
      "10\n",
      "15\n",
      "21\n",
      "28\n",
      "36\n",
      "45\n"
     ]
    }
   ],
   "source": [
    "for accumulated_value in itertools.accumulate(iterable=range(1, 10)):\n",
    "    print(accumulated_value)"
   ]
  },
  {
   "cell_type": "code",
   "execution_count": 5,
   "metadata": {},
   "outputs": [
    {
     "data": {
      "text/plain": [
       "[1, 4, 9, 16, 25]"
      ]
     },
     "execution_count": 5,
     "metadata": {},
     "output_type": "execute_result"
    }
   ],
   "source": [
    "filter_evens = lambda x: x % 2 == 0\n",
    "evens = itertools.filterfalse(filter_evens,range(1, 10)) # filterfalse object\n",
    "accumulated_values = itertools.accumulate(evens)\n",
    "result = [accumulated_value for accumulated_value in accumulated_values] \n",
    "result\n"
   ]
  },
  {
   "cell_type": "code",
   "execution_count": 6,
   "metadata": {},
   "outputs": [
    {
     "data": {
      "text/plain": [
       "\"type(evens)= <class 'itertools.filterfalse'>\""
      ]
     },
     "execution_count": 6,
     "metadata": {},
     "output_type": "execute_result"
    }
   ],
   "source": [
    "f'{type(evens)= }'"
   ]
  },
  {
   "cell_type": "code",
   "execution_count": 7,
   "metadata": {},
   "outputs": [
    {
     "data": {
      "text/plain": [
       "\"type(accumulated_values)= <class 'itertools.accumulate'>\""
      ]
     },
     "execution_count": 7,
     "metadata": {},
     "output_type": "execute_result"
    }
   ],
   "source": [
    "f'{type(accumulated_values)= }'"
   ]
  },
  {
   "attachments": {},
   "cell_type": "markdown",
   "metadata": {},
   "source": [
    "## PERMUTATIONS"
   ]
  },
  {
   "cell_type": "code",
   "execution_count": 8,
   "metadata": {},
   "outputs": [
    {
     "data": {
      "text/plain": [
       "[('a', 'b', 'c'),\n",
       " ('a', 'c', 'b'),\n",
       " ('b', 'a', 'c'),\n",
       " ('b', 'c', 'a'),\n",
       " ('c', 'a', 'b'),\n",
       " ('c', 'b', 'a')]"
      ]
     },
     "execution_count": 8,
     "metadata": {},
     "output_type": "execute_result"
    }
   ],
   "source": [
    "letters = ['a', 'b', 'c']\n",
    "permutations = itertools.permutations(iterable=letters)\n",
    "result = [permutation for permutation in permutations] # using list comprehension\n",
    "result"
   ]
  },
  {
   "cell_type": "code",
   "execution_count": 9,
   "metadata": {},
   "outputs": [
    {
     "data": {
      "text/plain": [
       "[('a', 'b'), ('a', 'c'), ('b', 'a'), ('b', 'c'), ('c', 'a'), ('c', 'b')]"
      ]
     },
     "execution_count": 9,
     "metadata": {},
     "output_type": "execute_result"
    }
   ],
   "source": [
    "# return all permutations of a certain length\n",
    "length = 2\n",
    "permutations = itertools.permutations(iterable=letters, r=length)\n",
    "list(permutations) # simply wrapping the iterable inside a list\n"
   ]
  },
  {
   "attachments": {},
   "cell_type": "markdown",
   "metadata": {},
   "source": [
    "## COMBINATIONS"
   ]
  },
  {
   "cell_type": "code",
   "execution_count": 10,
   "metadata": {},
   "outputs": [
    {
     "data": {
      "text/plain": [
       "[('a', 'b'), ('a', 'c'), ('b', 'c')]"
      ]
     },
     "execution_count": 10,
     "metadata": {},
     "output_type": "execute_result"
    }
   ],
   "source": [
    "combinations = itertools.combinations(iterable=letters, r=length)\n",
    "list(combinations)"
   ]
  },
  {
   "attachments": {},
   "cell_type": "markdown",
   "metadata": {},
   "source": [
    "## CHAIN"
   ]
  },
  {
   "cell_type": "code",
   "execution_count": 11,
   "metadata": {},
   "outputs": [
    {
     "data": {
      "text/plain": [
       "(1, 2, 3, 'a', 'b', 'c', 'a', 'b', 'c', 'd', 'red', 'green', 'blue')"
      ]
     },
     "execution_count": 11,
     "metadata": {},
     "output_type": "execute_result"
    }
   ],
   "source": [
    "numbers = [1, 2, 3]\n",
    "letters = ['a', 'b', 'c', 'a', 'b', 'c', 'd']\n",
    "colors = ['red', 'green', 'blue']\n",
    "\n",
    "combined_iterable = itertools.chain(numbers, letters, colors)\n",
    "result_as_tuple = tuple(combined_iterable)\n",
    "result_as_tuple"
   ]
  },
  {
   "cell_type": "code",
   "execution_count": 12,
   "metadata": {},
   "outputs": [
    {
     "data": {
      "text/plain": [
       "set()"
      ]
     },
     "execution_count": 12,
     "metadata": {},
     "output_type": "execute_result"
    }
   ],
   "source": [
    "# remember the iterable is already exhausted by the tuple\n",
    "result_as_set = set(combined_iterable)\n",
    "result_as_set"
   ]
  },
  {
   "attachments": {},
   "cell_type": "markdown",
   "metadata": {},
   "source": [
    "## STAR MAP"
   ]
  },
  {
   "cell_type": "code",
   "execution_count": 13,
   "metadata": {},
   "outputs": [
    {
     "data": {
      "text/plain": [
       "((40, 100), (28, 90), (36, 70), (55, 80))"
      ]
     },
     "execution_count": 13,
     "metadata": {},
     "output_type": "execute_result"
    }
   ],
   "source": [
    "hours_worked = [40, 28, 36, 55]\n",
    "contractor_wage = [100, 90, 70, 80]\n",
    "\n",
    "payout_tuple = tuple((hour,wage) for hour, wage in zip(hours_worked, contractor_wage))\n",
    "payout_tuple\n"
   ]
  },
  {
   "cell_type": "code",
   "execution_count": 14,
   "metadata": {},
   "outputs": [
    {
     "data": {
      "text/plain": [
       "[4000, 2520, 2520, 4400]"
      ]
     },
     "execution_count": 14,
     "metadata": {},
     "output_type": "execute_result"
    }
   ],
   "source": [
    "calculate_total_wage = lambda hour, wage: hour * wage \n",
    "\n",
    "list(itertools.starmap(calculate_total_wage, payout_tuple))\n"
   ]
  }
 ],
 "metadata": {
  "kernelspec": {
   "display_name": "Python 3",
   "language": "python",
   "name": "python3"
  },
  "language_info": {
   "codemirror_mode": {
    "name": "ipython",
    "version": 3
   },
   "file_extension": ".py",
   "mimetype": "text/x-python",
   "name": "python",
   "nbconvert_exporter": "python",
   "pygments_lexer": "ipython3",
   "version": "3.11.2"
  },
  "orig_nbformat": 4
 },
 "nbformat": 4,
 "nbformat_minor": 2
}
