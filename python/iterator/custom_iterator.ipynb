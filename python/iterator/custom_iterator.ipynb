{
 "cells": [
  {
   "cell_type": "code",
   "execution_count": 1,
   "metadata": {},
   "outputs": [],
   "source": [
    "from dataclasses import dataclass\n",
    "from typing import Sequence, Any, Self # requires python 3.11 +"
   ]
  },
  {
   "attachments": {},
   "cell_type": "markdown",
   "metadata": {},
   "source": [
    "- An iterator is an object that implements the iterator protocol, which consists of two methods: `__iter__()` and `__next__()`.\n",
    "\n",
    "    - The `__iter__()` method returns the iterator object itself.\n",
    "    - The `__next__()` method returns the next value in the sequence. `\n",
    "    - When there are no more items to return, the `__next__()` method should raise the `StopIteration` exception to signal the end of the sequence."
   ]
  },
  {
   "cell_type": "code",
   "execution_count": 2,
   "metadata": {},
   "outputs": [
    {
     "name": "stdout",
     "output_type": "stream",
     "text": [
      "Canada\n",
      "USA\n",
      "Mexico\n",
      "Chile\n",
      "Peru\n",
      "Brazil\n",
      "Canada\n",
      "USA\n",
      "Mexico\n",
      "Chile\n",
      "Peru\n",
      "Brazil\n",
      "Canada\n"
     ]
    }
   ],
   "source": [
    "@dataclass\n",
    "class InfiniteIterator:\n",
    "    \"\"\"\n",
    "    An iterator that infinitely iterates over a sequence of any type of elements.\n",
    "    \n",
    "    Attributes:\n",
    "    -----------\n",
    "    data : Sequence[Any]\n",
    "        The sequence of elements to iterate over.\n",
    "    index : int\n",
    "        The current index of the iterator in the sequence.\n",
    "    \n",
    "    Methods:\n",
    "    --------\n",
    "    __iter__() -> InfiniteIterator:\n",
    "        Returns the iterator object itself.\n",
    "    \n",
    "    __next__() -> Any:\n",
    "        Returns the next element in the sequence. If the end of the sequence is reached, \n",
    "        the iterator resets to the beginning and starts iterating again from the start.\n",
    "    \"\"\"\n",
    "    \n",
    "    data: Sequence[Any]\n",
    "    index: int = 0\n",
    "    \n",
    "    def __iter__(self) -> Self:\n",
    "        return self \n",
    "    \n",
    "    def __next__(self) -> Any:\n",
    "        if self.index >= len(self.data):\n",
    "            self.index = 0 # reset\n",
    "        value = self.data[self.index]\n",
    "        self.index += 1\n",
    "        return value \n",
    "    \n",
    "# using with list \n",
    "countries = ['Canada', 'USA', 'Mexico', 'Chile', 'Peru', 'Brazil']\n",
    "\n",
    "infinite_iterator = InfiniteIterator(countries)\n",
    "for index,value in enumerate(infinite_iterator):\n",
    "    print(value)\n",
    "    if index == len(countries) * 2:\n",
    "        break # after two rounds break out of the infitine iteration"
   ]
  },
  {
   "cell_type": "code",
   "execution_count": 3,
   "metadata": {},
   "outputs": [],
   "source": [
    "@dataclass\n",
    "class FiniteIterator:\n",
    "    data: Sequence[Any]\n",
    "    index: int = 0\n",
    "    \n",
    "    def __iter__(self) -> Self:\n",
    "        return self \n",
    "    \n",
    "    def __next__(self) -> Any:\n",
    "        if self.index >= len(self.data):\n",
    "            raise StopIteration\n",
    "        \n",
    "        value = self.data[self.index]\n",
    "        self.index += 1\n",
    "        return value "
   ]
  },
  {
   "cell_type": "code",
   "execution_count": 4,
   "metadata": {},
   "outputs": [
    {
     "name": "stdout",
     "output_type": "stream",
     "text": [
      "shorts\n",
      "shoes\n",
      "tshirt\n",
      "pants\n",
      "sweatshirt\n"
     ]
    }
   ],
   "source": [
    "cart_items = ('shorts', 'shoes', 'tshirt', 'pants', 'sweatshirt')\n",
    "\n",
    "my_iterator = FiniteIterator(cart_items)\n",
    "\n",
    "for item in my_iterator:\n",
    "    print(item)"
   ]
  }
 ],
 "metadata": {
  "kernelspec": {
   "display_name": "Python 3",
   "language": "python",
   "name": "python3"
  },
  "language_info": {
   "codemirror_mode": {
    "name": "ipython",
    "version": 3
   },
   "file_extension": ".py",
   "mimetype": "text/x-python",
   "name": "python",
   "nbconvert_exporter": "python",
   "pygments_lexer": "ipython3",
   "version": "3.11.2"
  },
  "orig_nbformat": 4
 },
 "nbformat": 4,
 "nbformat_minor": 2
}
