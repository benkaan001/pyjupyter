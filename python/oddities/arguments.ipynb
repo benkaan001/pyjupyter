{
 "cells": [
  {
   "cell_type": "code",
   "execution_count": 4,
   "metadata": {},
   "outputs": [
    {
     "name": "stdout",
     "output_type": "stream",
     "text": [
      "this does not run unless 'do_something' is invoked.\n"
     ]
    }
   ],
   "source": [
    "def do_something():\n",
    "    print(f'this does not run unless {do_something.__name__!r} is invoked.')\n",
    "    \n",
    "do_something()"
   ]
  },
  {
   "attachments": {},
   "cell_type": "markdown",
   "metadata": {},
   "source": [
    "### Default Args\n",
    "- Default arguments are evaluated when you define the function, not when you run the function.\n",
    "- The return value of `arg` in this example is `None`.\n",
    "- Nevertheless, default arguments may have side effects such as opening a file, creating a database connection, etc."
   ]
  },
  {
   "cell_type": "code",
   "execution_count": 5,
   "metadata": {},
   "outputs": [
    {
     "name": "stdout",
     "output_type": "stream",
     "text": [
      "this runs\n"
     ]
    }
   ],
   "source": [
    "# default args run even without function call\n",
    "def do_something(arg=print('this runs')):\n",
    "    print(f'this does not run unless {do_something.__name__!r} is invoked.')"
   ]
  },
  {
   "attachments": {},
   "cell_type": "markdown",
   "metadata": {},
   "source": [
    "### Optional Parameters\n",
    "- They have the same characteristics as default arguments."
   ]
  },
  {
   "cell_type": "code",
   "execution_count": 8,
   "metadata": {},
   "outputs": [
    {
     "data": {
      "text/plain": [
       "(110.0, 110.00000000000001)"
      ]
     },
     "execution_count": 8,
     "metadata": {},
     "output_type": "execute_result"
    }
   ],
   "source": [
    "# example of an optional argument \n",
    "\n",
    "def calculate_total_price(base_price: float, tax_rate: float, opt: bool = False):\n",
    "    \"\"\"\n",
    "    Calculates the total price given the base price and tax rate.\n",
    "\n",
    "    Args:\n",
    "        base_price (float): The base price of the item.\n",
    "        tax_rate (float): The tax rate as a decimal.\n",
    "        opt (bool): Optional parameter indicating whether to round the total price to two decimal places.\n",
    "                     Default is False.\n",
    "\n",
    "    Returns:\n",
    "        float: The total price including tax.\n",
    "    \"\"\"\n",
    "    total_price = base_price * (1 + tax_rate)\n",
    "    if opt:\n",
    "        total_price = round(total_price, 2)\n",
    "    return total_price\n",
    "\n",
    "total_price1 = calculate_total_price(100, 0.1, opt=True)\n",
    "total_price2 = calculate_total_price(100, 0.1)\n",
    "total_price1, total_price2"
   ]
  },
  {
   "cell_type": "code",
   "execution_count": 6,
   "metadata": {},
   "outputs": [
    {
     "name": "stdout",
     "output_type": "stream",
     "text": [
      "this runs\n",
      "this also prints\n"
     ]
    }
   ],
   "source": [
    "def do_something(opt: print('this also prints'), arg=print('this runs')):\n",
    "    print(f'this does not run unless {do_something.__name__!r} is invoked.')\n",
    "    "
   ]
  },
  {
   "attachments": {},
   "cell_type": "markdown",
   "metadata": {},
   "source": [
    "### Return Annotation\n",
    "- They have the same characteristics as default arguments."
   ]
  },
  {
   "cell_type": "code",
   "execution_count": 10,
   "metadata": {},
   "outputs": [
    {
     "name": "stdout",
     "output_type": "stream",
     "text": [
      "this runs\n",
      "this also prints\n",
      "same here\n"
     ]
    }
   ],
   "source": [
    "def do_something(opt: print('this also prints'), arg=print('this runs')) -> print('same here'):\n",
    "    print(f'this does not run unless {do_something.__name__!r} is invoked.')"
   ]
  },
  {
   "attachments": {},
   "cell_type": "markdown",
   "metadata": {},
   "source": [
    "### `__annotations__` && `__defaults__`"
   ]
  },
  {
   "cell_type": "code",
   "execution_count": 12,
   "metadata": {},
   "outputs": [
    {
     "data": {
      "text/plain": [
       "{'opt': bool, 'return': bool}"
      ]
     },
     "execution_count": 12,
     "metadata": {},
     "output_type": "execute_result"
    }
   ],
   "source": [
    "def do_nothing(opt: bool = False, arg=100) -> bool:\n",
    "    pass\n",
    "\n",
    "do_nothing.__annotations__"
   ]
  },
  {
   "cell_type": "code",
   "execution_count": 13,
   "metadata": {},
   "outputs": [
    {
     "data": {
      "text/plain": [
       "(False, 100)"
      ]
     },
     "execution_count": 13,
     "metadata": {},
     "output_type": "execute_result"
    }
   ],
   "source": [
    "do_nothing.__defaults__"
   ]
  }
 ],
 "metadata": {
  "kernelspec": {
   "display_name": "Python 3",
   "language": "python",
   "name": "python3"
  },
  "language_info": {
   "codemirror_mode": {
    "name": "ipython",
    "version": 3
   },
   "file_extension": ".py",
   "mimetype": "text/x-python",
   "name": "python",
   "nbconvert_exporter": "python",
   "pygments_lexer": "ipython3",
   "version": "3.10.4"
  },
  "orig_nbformat": 4
 },
 "nbformat": 4,
 "nbformat_minor": 2
}
