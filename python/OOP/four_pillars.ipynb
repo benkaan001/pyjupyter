{
 "cells": [
  {
   "cell_type": "markdown",
   "metadata": {},
   "source": [
    "### The four pillars of Object-Oriented Programming (OOP) are:\n",
    "\n",
    "#### 1. **Encapsulation:** Encapsulation refers to bundling data (attributes) and methods that operate on the data within a single unit (object). It restricts direct access to some of an object's internal details and provides an interface for interacting with the object.\n",
    "\n",
    "#### 2. **Abstraction:** Abstraction involves simplifying complex reality by modeling classes based on the essential properties and behaviors of real-world entities. It hides the complex implementation details and shows only the necessary features.\n",
    "\n",
    "#### 3. **Inheritance:** Inheritance allows a class (subclass) to inherit attributes and methods from another class (superclass). It promotes code reuse, helps in creating a hierarchy of classes, and allows subclasses to extend or modify the behavior of the superclass.\n",
    "\n",
    "#### 4. **Polymorphism:** Polymorphism allows objects of different classes to be treated as objects of a common superclass. It enables the same interface (method or function) to be used for different data types or classes, promoting flexibility and extensibility."
   ]
  },
  {
   "cell_type": "markdown",
   "metadata": {},
   "source": [
    "## 1. **Encapsulation:**\n",
    "\n",
    "   Encapsulation is the practice of bundling data (attributes) and methods (functions) that operate on the data into a single unit, known as an object. It restricts direct access to some of an object's internal details, emphasizing controlled interaction with the object through well-defined methods. Encapsulation promotes data integrity, security, and the concept of a well-defined interface for interacting with an object.\n",
    "\n",
    "   ### **Benefits of Encapsulation:**\n",
    "   - **Modularity:** Objects encapsulate data and behavior, promoting modular and organized code.\n",
    "   - **Data Integrity:** Controlled access prevents accidental modification or corruption of object data.\n",
    "   - **Flexibility:** Internal details can be changed without affecting the external interface.\n",
    "   - **Security:** Sensitive data and methods can be hidden from unauthorized access.\n",
    "   - **Code Maintenance:** Changes to an object's implementation have minimal impact on other parts of the code.\n",
    "\n",
    "## 2. **Abstraction:**\n",
    "\n",
    "   Abstraction involves simplifying complex reality by modeling classes based on the essential properties and behaviors of real-world entities. It hides the intricate implementation details and presents a clear and concise interface for interacting with objects. Abstraction allows developers to focus on the high-level design of a system, ignoring irrelevant complexities.\n",
    "\n",
    "   ### **Key Aspects of Abstraction:**\n",
    "   - **Attributes and Methods:** Abstraction models the relevant attributes and methods of an entity while ignoring unnecessary details.\n",
    "   - **Black Box:** Objects are treated as \"black boxes\" with a known interface, allowing users to interact without knowing the internal workings.\n",
    "   - **Focus on Essentials:** Abstraction emphasizes what an object does rather than how it does it.\n",
    "   - **High-Level Design:** Abstraction helps developers design systems by focusing on the most important aspects."
   ]
  },
  {
   "cell_type": "markdown",
   "metadata": {},
   "source": [
    "## In the `Vehicle` class:\n",
    "#### - *Encapsulation*: The attributes `make` and `model` are encapsulated within the class. They are not accessible directly from outside the class.\n",
    "#### - *Abstraction*: The class provides an abstraction of a generic vehicle. It defines the essential attributes and methods that all vehicles have.\n",
    "\n",
    "\n",
    "## In the `Car` class:\n",
    "#### - Encapsulation: The attribute `num_doors` is encapsulated within the class.\n",
    "#### - Abstraction: The class abstracts a car, providing methods to start and stop the engine.\n",
    "\n",
    "Through encapsulation, the internal details of a vehicle (attributes) are encapsulated within the class, and users interact with the vehicle through its methods. Abstraction ensures that the interface focuses on the essential behaviors of a vehicle (starting and stopping) while hiding the complexities of how those actions are performed."
   ]
  },
  {
   "cell_type": "code",
   "execution_count": 1,
   "metadata": {},
   "outputs": [],
   "source": [
    "class Vehicle:\n",
    "    def __init__(self, make, model) -> None:\n",
    "        self.make = make \n",
    "        self.model = model \n",
    "    \n",
    "    def start(self):\n",
    "        pass \n",
    "    \n",
    "    def stop(self):\n",
    "        pass "
   ]
  },
  {
   "cell_type": "code",
   "execution_count": 2,
   "metadata": {},
   "outputs": [],
   "source": [
    "class Car(Vehicle):\n",
    "    def __init__(self, make, model, num_doors) -> None:\n",
    "        super().__init__(make, model)\n",
    "        self.num_doors = num_doors\n",
    "    \n",
    "    def start(self):\n",
    "        print(f\"{self.make} {self.model} is starting the engine.\")\n",
    "        \n",
    "    def stop(self):\n",
    "        print(f\"{self.make} {self.model} is stopping the engine.\")"
   ]
  },
  {
   "cell_type": "code",
   "execution_count": 3,
   "metadata": {},
   "outputs": [],
   "source": [
    "class Motorcycle(Vehicle):\n",
    "    def __init__(self, make, model, is_sport) -> None:\n",
    "        super().__init__(make, model)\n",
    "        self.is_sport = is_sport\n",
    "    \n",
    "    def start(self):\n",
    "        print(f\"{self.make} {self.model} is revving up the engine.\")\n",
    "        \n",
    "    def stop(self):\n",
    "        print(f\"{self.make} {self.model} is cutting the engine.\")"
   ]
  },
  {
   "cell_type": "code",
   "execution_count": 4,
   "metadata": {},
   "outputs": [],
   "source": [
    "def drive(vehicle):\n",
    "    vehicle.start()\n",
    "    print(f\"{vehicle.make} {vehicle.model} is on the move\")\n",
    "    vehicle.stop()"
   ]
  },
  {
   "cell_type": "code",
   "execution_count": 5,
   "metadata": {},
   "outputs": [
    {
     "name": "stdout",
     "output_type": "stream",
     "text": [
      "Toyota Camry is starting the engine.\n",
      "Toyota Camry is on the move\n",
      "Toyota Camry is stopping the engine.\n"
     ]
    }
   ],
   "source": [
    "camry = Car('Toyota', 'Camry', 4)\n",
    "drive(camry)"
   ]
  },
  {
   "cell_type": "code",
   "execution_count": 6,
   "metadata": {},
   "outputs": [
    {
     "name": "stdout",
     "output_type": "stream",
     "text": [
      "Harley Cruise is revving up the engine.\n",
      "Harley Cruise is on the move\n",
      "Harley Cruise is cutting the engine.\n"
     ]
    }
   ],
   "source": [
    "harley = Motorcycle('Harley', 'Cruise', False)\n",
    "drive(harley)"
   ]
  }
 ],
 "metadata": {
  "kernelspec": {
   "display_name": "Python 3",
   "language": "python",
   "name": "python3"
  },
  "language_info": {
   "codemirror_mode": {
    "name": "ipython",
    "version": 3
   },
   "file_extension": ".py",
   "mimetype": "text/x-python",
   "name": "python",
   "nbconvert_exporter": "python",
   "pygments_lexer": "ipython3",
   "version": "3.11.2"
  },
  "orig_nbformat": 4
 },
 "nbformat": 4,
 "nbformat_minor": 2
}
