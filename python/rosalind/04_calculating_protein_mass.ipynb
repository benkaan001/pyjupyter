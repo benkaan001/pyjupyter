{
 "cells": [
  {
   "attachments": {},
   "cell_type": "markdown",
   "metadata": {},
   "source": [
    "Problem: <br>\n",
    "In a weighted alphabet, every symbol is assigned a positive real number called a weight. A string formed from a weighted alphabet is called a weighted string, and its weight is equal to the sum of the weights of its symbols.\n",
    "\n",
    "The standard weight assigned to each member of the 20-symbol amino acid alphabet is the monoisotopic mass of the corresponding amino acid.\n",
    "\n",
    "Given: A protein string P of length at most 1000 aa.\n",
    "\n",
    "Return: The total weight of P. Consult the monoisotopic mass table.\n",
    "\n",
    "Sample Dataset: <br>\n",
    "SKADYEK\n",
    "\n",
    "Sample Output: <br>\n",
    "821.392"
   ]
  },
  {
   "attachments": {},
   "cell_type": "markdown",
   "metadata": {},
   "source": [
    "STEP 1 --> transform the given raw string into a dictionary of float values."
   ]
  },
  {
   "cell_type": "code",
   "execution_count": 2,
   "metadata": {},
   "outputs": [],
   "source": [
    "raw = \"\"\"\n",
    "A   71.03711\n",
    "C   103.00919\n",
    "D   115.02694\n",
    "E   129.04259\n",
    "F   147.06841\n",
    "G   57.02146\n",
    "H   137.05891\n",
    "I   113.08406\n",
    "K   128.09496\n",
    "L   113.08406\n",
    "M   131.04049\n",
    "N   114.04293\n",
    "P   97.05276\n",
    "Q   128.05858\n",
    "R   156.10111\n",
    "S   87.03203\n",
    "T   101.04768\n",
    "V   99.06841\n",
    "W   186.07931\n",
    "Y   163.06333 \n",
    "\n",
    "\"\"\""
   ]
  },
  {
   "cell_type": "code",
   "execution_count": 3,
   "metadata": {},
   "outputs": [
    {
     "data": {
      "text/plain": [
       "['A',\n",
       " '71.03711',\n",
       " 'C',\n",
       " '103.00919',\n",
       " 'D',\n",
       " '115.02694',\n",
       " 'E',\n",
       " '129.04259',\n",
       " 'F',\n",
       " '147.06841',\n",
       " 'G',\n",
       " '57.02146',\n",
       " 'H',\n",
       " '137.05891',\n",
       " 'I',\n",
       " '113.08406',\n",
       " 'K',\n",
       " '128.09496',\n",
       " 'L',\n",
       " '113.08406',\n",
       " 'M',\n",
       " '131.04049',\n",
       " 'N',\n",
       " '114.04293',\n",
       " 'P',\n",
       " '97.05276',\n",
       " 'Q',\n",
       " '128.05858',\n",
       " 'R',\n",
       " '156.10111',\n",
       " 'S',\n",
       " '87.03203',\n",
       " 'T',\n",
       " '101.04768',\n",
       " 'V',\n",
       " '99.06841',\n",
       " 'W',\n",
       " '186.07931',\n",
       " 'Y',\n",
       " '163.06333']"
      ]
     },
     "execution_count": 3,
     "metadata": {},
     "output_type": "execute_result"
    }
   ],
   "source": [
    "alphabet = [ i for i in raw.split()]"
   ]
  },
  {
   "cell_type": "code",
   "execution_count": 8,
   "metadata": {},
   "outputs": [
    {
     "data": {
      "text/plain": [
       "{'A': 71.03711,\n",
       " 'C': 103.00919,\n",
       " 'D': 115.02694,\n",
       " 'E': 129.04259,\n",
       " 'F': 147.06841,\n",
       " 'G': 57.02146,\n",
       " 'H': 137.05891,\n",
       " 'I': 113.08406,\n",
       " 'K': 128.09496,\n",
       " 'L': 113.08406,\n",
       " 'M': 131.04049,\n",
       " 'N': 114.04293,\n",
       " 'P': 97.05276,\n",
       " 'Q': 128.05858,\n",
       " 'R': 156.10111,\n",
       " 'S': 87.03203,\n",
       " 'T': 101.04768,\n",
       " 'V': 99.06841,\n",
       " 'W': 186.07931,\n",
       " 'Y': 163.06333}"
      ]
     },
     "execution_count": 8,
     "metadata": {},
     "output_type": "execute_result"
    }
   ],
   "source": [
    "alphabet_dict = {}\n",
    "\n",
    "for i in range(len(alphabet)):\n",
    "    if i % 2 == 0:\n",
    "        alphabet_dict[alphabet[i]] = float(alphabet[i+1])\n",
    "\n",
    "alphabet_dict"
   ]
  },
  {
   "cell_type": "code",
   "execution_count": 11,
   "metadata": {},
   "outputs": [
    {
     "data": {
      "text/plain": [
       "693.2969599999999"
      ]
     },
     "execution_count": 11,
     "metadata": {},
     "output_type": "execute_result"
    }
   ],
   "source": [
    "# receiving incorrect output\n",
    "s= 'SKADYEK'\n",
    "output = sum(v for k,v in alphabet_dict.items() if k in s)\n",
    "output\n"
   ]
  },
  {
   "cell_type": "code",
   "execution_count": 13,
   "metadata": {},
   "outputs": [
    {
     "name": "stdout",
     "output_type": "stream",
     "text": [
      "[71.03711, 115.02694, 129.04259, 128.09496, 87.03203, 163.06333]\n"
     ]
    }
   ],
   "source": [
    "# debug \n",
    "temp = [v for k,v in alphabet_dict.items() if k in s]\n",
    "print(temp)"
   ]
  },
  {
   "cell_type": "code",
   "execution_count": 14,
   "metadata": {},
   "outputs": [
    {
     "data": {
      "text/plain": [
       "821.3919199999999"
      ]
     },
     "execution_count": 14,
     "metadata": {},
     "output_type": "execute_result"
    }
   ],
   "source": [
    "# issue: values for repeating keys such as 'K' are excluded in the sum.\n",
    "mass = 0\n",
    "for char in s:\n",
    "    for k,v in alphabet_dict.items():\n",
    "        if char == k:\n",
    "            mass += v \n",
    "\n",
    "mass\n"
   ]
  }
 ],
 "metadata": {
  "kernelspec": {
   "display_name": "Python 3",
   "language": "python",
   "name": "python3"
  },
  "language_info": {
   "codemirror_mode": {
    "name": "ipython",
    "version": 3
   },
   "file_extension": ".py",
   "mimetype": "text/x-python",
   "name": "python",
   "nbconvert_exporter": "python",
   "pygments_lexer": "ipython3",
   "version": "3.10.4"
  },
  "orig_nbformat": 4,
  "vscode": {
   "interpreter": {
    "hash": "aee8b7b246df8f9039afb4144a1f6fd8d2ca17a180786b69acc140d282b71a49"
   }
  }
 },
 "nbformat": 4,
 "nbformat_minor": 2
}
