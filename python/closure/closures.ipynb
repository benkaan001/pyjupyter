{
 "cells": [
  {
   "attachments": {},
   "cell_type": "markdown",
   "metadata": {},
   "source": [
    "# CLOSURE\n",
    "\n",
    "In Python, a closure is a function object that has access to variables in its enclosing `lexical scope`, even when the function is called outside that scope. \n",
    "\n",
    "- A closure is created when a nested function references a value from its enclosing scope.\n",
    "     \n",
    "- The inner function is said to `\"close over\"` the variables defined in the outer function, creating a closure.\n",
    "\n",
    "## 0. COMPILED AND/OR INTERPRETED ??? (`Hint`: -> BOTH)\n",
    "\n",
    "Key to understanding the behavior of a closure is understanding the behavior of the Python interpreter during `Compile Time`. A common misperception is that Python is not a compiled language. The reality is that it is complied `and` interpreted.\n",
    "\n",
    "- A module source is first complied to `byte code`.\n",
    "- The interpreter interprets this byte code at `run time`.\n",
    "\n",
    "## 1. COMPILE TIME: \n",
    "\n",
    "During the compilation phase, the Python interpreter checks your code for syntactical errors and translates it into `bytecode`, which is a lower-level representation of your code that can be executed by the `Python Virtual Machine`.\n",
    "\n",
    "## 2. RUN TIME:\n",
    "\n",
    "During the run time phase, the Python Virtual Machine executes the bytecode generated during the compilation phase. This is when your program actually runs, and `any dynamic behavior`, such as user input, database access, or network communication occurs.\n",
    "\n",
    "## 3. CONCLUSION:\n",
    "\n",
    "Variable lookups occur at runtime, but the location of the variable in memory is determined at compile time.\n",
    "\n",
    "- In Python, a variable lookup refers to the process of finding the value of a variable in your code when it is referenced. This process happens at runtime, which means that it occurs when your code is actually being executed.\n",
    "\n",
    "- However, the location of the variable in memory where the value is stored is determined at compile time. When Python compiles your code, it creates `a table` of all the variables used in your program, along with their memory locations. This table is then used during runtime to quickly locate the memory location of a variable when it is referenced in your code.\n",
    "\n",
    "This `separation of concerns` between the compile time and runtime phases of execution allows Python to efficiently access variables during program execution without having to repeatedly search for their memory locations."
   ]
  },
  {
   "cell_type": "code",
   "execution_count": 1,
   "metadata": {},
   "outputs": [
    {
     "data": {
      "text/plain": [
       "'global x'"
      ]
     },
     "execution_count": 1,
     "metadata": {},
     "output_type": "execute_result"
    }
   ],
   "source": [
    "x = \"global x\"\n",
    "\n",
    "def level_one():\n",
    "    return x\n",
    "\n",
    "# When you call the level_one function, Python searches for x in the local scope.\n",
    "# Since x is not defined in the local scope, Python continues searching in the global scope.\n",
    "# Finally, Python finds it in the global scope and returns its value.\n",
    "level_one()"
   ]
  },
  {
   "cell_type": "code",
   "execution_count": 2,
   "metadata": {},
   "outputs": [
    {
     "data": {
      "text/plain": [
       "['__name__',\n",
       " '__doc__',\n",
       " '__package__',\n",
       " '__loader__',\n",
       " '__spec__',\n",
       " '__builtin__',\n",
       " '__builtins__',\n",
       " '_ih',\n",
       " '_oh',\n",
       " '_dh',\n",
       " 'In',\n",
       " 'Out',\n",
       " 'get_ipython',\n",
       " 'exit',\n",
       " 'quit',\n",
       " '_',\n",
       " '__',\n",
       " '___',\n",
       " '__vsc_ipynb_file__',\n",
       " '_i',\n",
       " '_ii',\n",
       " '_iii',\n",
       " '_i1',\n",
       " 'x',\n",
       " 'level_one',\n",
       " '_1',\n",
       " '_i2',\n",
       " 'say_yes']"
      ]
     },
     "execution_count": 2,
     "metadata": {},
     "output_type": "execute_result"
    }
   ],
   "source": [
    "say_yes = \"Yeash!\"\n",
    "\n",
    "globals_list = [x for x in globals()]\n",
    "globals_list"
   ]
  },
  {
   "cell_type": "code",
   "execution_count": 3,
   "metadata": {},
   "outputs": [
    {
     "data": {
      "text/plain": [
       "True"
      ]
     },
     "execution_count": 3,
     "metadata": {},
     "output_type": "execute_result"
    }
   ],
   "source": [
    "\"say_yes\" in globals()"
   ]
  },
  {
   "attachments": {},
   "cell_type": "markdown",
   "metadata": {},
   "source": [
    "## Level 1"
   ]
  },
  {
   "cell_type": "code",
   "execution_count": 4,
   "metadata": {},
   "outputs": [
    {
     "name": "stdout",
     "output_type": "stream",
     "text": [
      "arg: True, type:<class 'bool'>\n"
     ]
    },
    {
     "data": {
      "text/plain": [
       "'global x'"
      ]
     },
     "execution_count": 4,
     "metadata": {},
     "output_type": "execute_result"
    }
   ],
   "source": [
    "def level_two(v):\n",
    "    print(f\"arg: {v}, type:{type(v)}\")\n",
    "    if v: \n",
    "        x # since there is no local variable \n",
    "    return x\n",
    "\n",
    "level_two(True)"
   ]
  },
  {
   "attachments": {},
   "cell_type": "markdown",
   "metadata": {},
   "source": [
    "## Level 2"
   ]
  },
  {
   "cell_type": "code",
   "execution_count": 5,
   "metadata": {},
   "outputs": [
    {
     "name": "stdout",
     "output_type": "stream",
     "text": [
      "arg: False, type:<class 'bool'>\n",
      "UnboundLocalError happened -> local variable 'x' referenced before assignment\n"
     ]
    }
   ],
   "source": [
    "def level_two(v):\n",
    "    print(f\"arg: {v}, type:{type(v)}\")\n",
    "    if v: \n",
    "        x = \"local x\" # (1) once x is locally defined, the compiler marks that there is a local x\n",
    "    return x\n",
    "# (2) Where we need to look for x during runtime is already determined by compiler: local scope\n",
    "# The compiler does not use any information about the argument v.\n",
    "# Again, (1) The compiler simply notes that somewhere in this function x exists locally.\n",
    "try:\n",
    "    level_two(False)\n",
    "except Exception as e:\n",
    "    exception_name = e.__class__.__name__\n",
    "    print(f\"{exception_name} happened -> {e}\")"
   ]
  },
  {
   "attachments": {},
   "cell_type": "markdown",
   "metadata": {},
   "source": [
    "# Level 3"
   ]
  },
  {
   "cell_type": "code",
   "execution_count": 6,
   "metadata": {},
   "outputs": [
    {
     "data": {
      "text/plain": [
       "('global x', 'y arg', 'outer z')"
      ]
     },
     "execution_count": 6,
     "metadata": {},
     "output_type": "execute_result"
    }
   ],
   "source": [
    "def level_three():\n",
    "    z = \"outer z\"\n",
    "    \n",
    "    def inner(y):\n",
    "        return x, y, z \n",
    "    \n",
    "    return inner(\"y arg\")\n",
    "\n",
    "# compiler will first look if there is an x in the inner function\n",
    "# second, it will look if there is an x inside level_three function\n",
    "# then, it will determine to use the global x\n",
    "level_three()"
   ]
  },
  {
   "attachments": {},
   "cell_type": "markdown",
   "metadata": {},
   "source": [
    "This code below does not throw an error because all the variables used in the nested functions are defined in their respective scopes.\n",
    "\n",
    "When the function `level_three()` is called, it defines a variable `z` with the value \"outer z\". It then calls the function inner() with the argument \"y arg\". The `inner()` function takes two variables `x` and `y `as arguments, but only `y` is explicitly passed.\n",
    "\n",
    "However, since `x` is not defined in the local scope of `inner()`, Python looks for a definition of `x` in the next outer scope, which is the `level_three()` function's scope. In this scope, the variable `x` is defined as \"global x\", so the inner() function can access it and return it along with the value of y and z."
   ]
  },
  {
   "cell_type": "code",
   "execution_count": 7,
   "metadata": {},
   "outputs": [
    {
     "data": {
      "text/plain": [
       "('global x', 'y arg', 'outer z')"
      ]
     },
     "execution_count": 7,
     "metadata": {},
     "output_type": "execute_result"
    }
   ],
   "source": [
    "def level_three():\n",
    "    \n",
    "    def inner(y):\n",
    "        return x, y, z # How are we accessing 'z' !?\n",
    "    \n",
    "    z = \"outer z\" # remember 'z' gets in the memory during compile time. \n",
    "    return inner(\"y arg\") # run time variable look up happens at this point\n",
    "\n",
    "level_three() "
   ]
  },
  {
   "attachments": {},
   "cell_type": "markdown",
   "metadata": {},
   "source": [
    "## ... CLOSURE ZONE ..."
   ]
  },
  {
   "attachments": {},
   "cell_type": "markdown",
   "metadata": {},
   "source": [
    "- Closure is an object that wraps up a function with some type of an `extra environment`. \n",
    "- In this example, the environment is what is grouped together in the `inner` function. \n",
    "- The inner function keeps reference to the `z` preventing it from being `garbage collected`.\n",
    "- Some people refer to the inner function as closure, while others refer to the environment that inner is preventing from being garbage collected as closure. "
   ]
  },
  {
   "attachments": {},
   "cell_type": "markdown",
   "metadata": {},
   "source": [
    "The interesting part of this example is that ``z`` is redefined within the enclosing scope after `inner()` is defined but before it is called. This means that ``inner()`` should use the new value of `z` rather than the old value.\n",
    "\n",
    "However, when `inner()` is defined, a closure is created that captures the value of `z` from the enclosing scope at that time. This closure is stored as an attribute of the function object `inner()` in the `__closure__` attribute.\n",
    "\n",
    "So when `inner()` is called, it uses the value of `z` that was captured in the closure, not the current value of `z` in the enclosing scope.\n",
    "\n",
    "The output of the code shows this behavior. The first time `z` is printed, it has the value `\"first outer z\"`, which is the value of `z` at the time that `inner()` was defined. The second time `z` is printed, it has the value `\"second outer z\"`, which is the value of `z` at the time that `inner()` is called.\n",
    "\n",
    "This is an example of how closures work in Python. When a function is defined, it captures the values of any variables from the enclosing scope that it needs. These values are stored in a closure, which is attached to the function object. When the function is called, it uses `the values from the closure`, NOT the current values in the enclosing scope."
   ]
  },
  {
   "attachments": {},
   "cell_type": "markdown",
   "metadata": {},
   "source": [
    "## Level 4"
   ]
  },
  {
   "cell_type": "code",
   "execution_count": 8,
   "metadata": {},
   "outputs": [
    {
     "name": "stdout",
     "output_type": "stream",
     "text": [
      "Before 2nd z is defined:\n",
      "Value of z: first outer z, \n",
      "location: <cell at 0x105e847f0: str object at 0x105fa40f0>\n",
      "id:4394078544\n",
      "***********************************************************************\n",
      "After 2nd z is defined:\n",
      "Value of z: second outer z, \n",
      "location: <cell at 0x105e847f0: str object at 0x105fa5d70>\n",
      "id:4394078544\n",
      "***********************************************************************\n"
     ]
    },
    {
     "data": {
      "text/plain": [
       "('global x', 'y arg', 'second outer z')"
      ]
     },
     "execution_count": 8,
     "metadata": {},
     "output_type": "execute_result"
    }
   ],
   "source": [
    "def level_four():\n",
    "    z = \"first outer z\"\n",
    "    \n",
    "    def inner(y):\n",
    "        return x, y, z\n",
    "    \n",
    "    print(\"Before 2nd z is defined:\")\n",
    "    print(f\"Value of z: {z}, \\nlocation: {inner.__closure__[0]}\\nid:{id(inner.__closure__)}\")\n",
    "    print(\"***********************************************************************\")\n",
    "    \n",
    "    z = \"second outer z\"\n",
    "    \n",
    "    print(\"After 2nd z is defined:\")\n",
    "    print(f\"Value of z: {z}, \\nlocation: {inner.__closure__[0]}\\nid:{id(inner.__closure__)}\")\n",
    "    print(\"***********************************************************************\")\n",
    "    return inner(\"y arg\")\n",
    "\n",
    "level_four()"
   ]
  },
  {
   "cell_type": "code",
   "execution_count": 9,
   "metadata": {},
   "outputs": [
    {
     "name": "stdout",
     "output_type": "stream",
     "text": [
      "None\n"
     ]
    },
    {
     "data": {
      "text/plain": [
       "('global x', 'y arg')"
      ]
     },
     "execution_count": 9,
     "metadata": {},
     "output_type": "execute_result"
    }
   ],
   "source": [
    "# When z is not used/referenced by z\n",
    "\n",
    "def level_four():\n",
    "    \n",
    "    # no first outer z   \n",
    "    \n",
    "    def inner(y):\n",
    "        return x, y    \n",
    "      \n",
    "    z = \"second outer z\"\n",
    "    \n",
    "    print(inner.__closure__) # no closure\n",
    "    return inner(\"y arg\")\n",
    "\n",
    "level_four()"
   ]
  },
  {
   "cell_type": "code",
   "execution_count": 10,
   "metadata": {},
   "outputs": [
    {
     "name": "stdout",
     "output_type": "stream",
     "text": [
      "(<cell at 0x105e87520: empty>,)\n",
      "(<cell at 0x105e87520: str object at 0x105fa6970>,)\n"
     ]
    },
    {
     "data": {
      "text/plain": [
       "('global x', 'y arg', 'second outer z')"
      ]
     },
     "execution_count": 10,
     "metadata": {},
     "output_type": "execute_result"
    }
   ],
   "source": [
    "# When z is referenced by inner\n",
    "\n",
    "def level_four():\n",
    "    \n",
    "    # no first outer z   \n",
    "    \n",
    "    def inner(y):\n",
    "        return x, y, z  # again, we are able to reference z even though it is not yet declared   \n",
    "    \n",
    "    print(inner.__closure__) # notice the closure object has `empty` reference for the string\n",
    "    z = \"second outer z\"\n",
    "    \n",
    "    print(inner.__closure__) # no closure\n",
    "    return inner(\"y arg\")\n",
    "\n",
    "level_four()"
   ]
  },
  {
   "attachments": {},
   "cell_type": "markdown",
   "metadata": {},
   "source": [
    "## Level 5"
   ]
  },
  {
   "attachments": {},
   "cell_type": "markdown",
   "metadata": {},
   "source": [
    "### `def` keyword:\n",
    "\n",
    "- Although functions are compiled at compile time, meaning their source is compiled into byte code at compile time, the actual function objects that their byte code get hooked up to are created at run time. That is whay the `def` keyword does.\n",
    "\n",
    "- It does not compile a new function. It creates a new function object with the given name - level_five-  and connects that name to the existing byte code. \n",
    "\n",
    "- This is why every call to level_five defines its `own copy` of the inner function. Each of these copies is distinct and each copy has its own closure. In other words, every call to level_five has its own cell for its own copy of `z`. Therefore, the closures for each copy of the inner function can refer to completely different `z` values. That is why, we see the different outputs for z values below. "
   ]
  },
  {
   "cell_type": "code",
   "execution_count": 13,
   "metadata": {},
   "outputs": [
    {
     "name": "stdout",
     "output_type": "stream",
     "text": [
      "('global x', 'y arg', 'outer z 0')\n",
      "('global x', 'other y arg', 'outer z 1')\n"
     ]
    }
   ],
   "source": [
    "def level_five(n):\n",
    "    z = f\"outer z {n}\"\n",
    "    \n",
    "    def inner(y):\n",
    "        return x, y, z \n",
    "    \n",
    "    return inner \n",
    "\n",
    "\n",
    "f = level_five(0)\n",
    "g = level_five(1)\n",
    "\n",
    "print(f('y arg'))\n",
    "print(g('other y arg'))"
   ]
  },
  {
   "attachments": {},
   "cell_type": "markdown",
   "metadata": {},
   "source": [
    "## Level 6"
   ]
  },
  {
   "attachments": {},
   "cell_type": "markdown",
   "metadata": {},
   "source": [
    "The `level_six()` function returns the result of calling the `chonky()` function, which in turn calls the `donky()` function and returns the result of calling its `inner()` function.\n",
    "\n",
    "When `chonky()` is called, it defines a local variable `x` and sets its value to \"chonky x\". However, there is also a global variable `x` defined outside of `level_six()`, which has the value \"global x\". When the `inner()` function is called inside the `donky()` function, it references the `x` variable, but there is no local `x` variable defined in `inner()`, so Python looks for it in the enclosing `donky()` function and finds the value of `x` to be \"global x\".\n",
    "\n",
    "The `inner()` function also references the `z` variable, which is defined in the enclosing `level_six()` function. When the `donky()` function is defined, it defines a local variable `z` and sets its value to \"donky `z`\". However, this local `z` variable is never used, so when the `inner()` function references `z`, Python looks for it in the enclosing `level_six()` function and finds the value of `z` to be \"outer `z`\".\n",
    "\n",
    "Finally, the `inner()` function returns a tuple containing the values of x, y, and `z`. When `chonky()` calls f(\"y arg\"), f is a reference to the `inner()` function, and \"y arg\" is passed as the argument y. The `inner()` function returns the values \"global x\", \"y arg\", and \"outer `z`\", so the result of `chonky()` is (\"global x\", \"y arg\", \"outer `z`\"). Therefore, `level_six()` returns this same tuple.\n",
    "\n",
    "In summary, the `inner()` function is a closure that has access to the variables `x` and `z` defined in the enclosing `donky()` and `level_six()` functions, respectively. However, because there is a global variable `x` defined outside of `level_six()`, the value of `x` that is referenced by `inner()` is the global value rather than the local value defined in `chonky()`."
   ]
  },
  {
   "cell_type": "code",
   "execution_count": 16,
   "metadata": {},
   "outputs": [
    {
     "data": {
      "text/plain": [
       "('global x', 'y arg', 'donky z')"
      ]
     },
     "execution_count": 16,
     "metadata": {},
     "output_type": "execute_result"
    }
   ],
   "source": [
    "def level_six():\n",
    "    z = \"outer z\"\n",
    "    \n",
    "    def donky():\n",
    "        def inner(y):\n",
    "            return x, y, z \n",
    "        \n",
    "        z = \"donky z\"\n",
    "        return inner\n",
    "    \n",
    "    def chonky():\n",
    "        x = \"chonky x\"\n",
    "        f = donky()\n",
    "        return f(\"y arg\")\n",
    "    \n",
    "    return chonky()\n",
    "\n",
    "level_six()"
   ]
  },
  {
   "cell_type": "code",
   "execution_count": 15,
   "metadata": {},
   "outputs": [
    {
     "data": {
      "image/png": "[encoded data removed]",
      "text/plain": [
       "<IPython.core.display.Image object>"
      ]
     },
     "execution_count": 15,
     "metadata": {},
     "output_type": "execute_result"
    }
   ],
   "source": [
    "from IPython.display import Image\n",
    "Image('level_six.png')"
   ]
  }
 ],
 "metadata": {
  "kernelspec": {
   "display_name": "Python 3",
   "language": "python",
   "name": "python3"
  },
  "language_info": {
   "codemirror_mode": {
    "name": "ipython",
    "version": 3
   },
   "file_extension": ".py",
   "mimetype": "text/x-python",
   "name": "python",
   "nbconvert_exporter": "python",
   "pygments_lexer": "ipython3",
   "version": "3.10.4"
  },
  "orig_nbformat": 4
 },
 "nbformat": 4,
 "nbformat_minor": 2
}
