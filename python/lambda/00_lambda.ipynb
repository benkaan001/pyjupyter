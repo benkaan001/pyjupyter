{
 "cells": [
  {
   "cell_type": "markdown",
   "metadata": {},
   "source": [
    "<h2 align=\"center\" style=\"color:orange\"> lambda and beyond </h2>\n"
   ]
  },
  {
   "cell_type": "code",
   "execution_count": 2,
   "metadata": {},
   "outputs": [
    {
     "data": {
      "text/plain": [
       "109"
      ]
     },
     "execution_count": 2,
     "metadata": {},
     "output_type": "execute_result"
    }
   ],
   "source": [
    "# self invoking lambda expression\n",
    "(lambda x,y: x**2 + y**2)(3,10)"
   ]
  },
  {
   "cell_type": "code",
   "execution_count": 5,
   "metadata": {},
   "outputs": [
    {
     "data": {
      "text/plain": [
       "720"
      ]
     },
     "execution_count": 5,
     "metadata": {},
     "output_type": "execute_result"
    }
   ],
   "source": [
    "import math\n",
    "\n",
    "output = math.factorial(6)\n",
    "output"
   ]
  },
  {
   "cell_type": "code",
   "execution_count": 3,
   "metadata": {},
   "outputs": [
    {
     "data": {
      "text/plain": [
       "120"
      ]
     },
     "execution_count": 3,
     "metadata": {},
     "output_type": "execute_result"
    }
   ],
   "source": [
    "from math import factorial \n",
    "\n",
    "get_factorial = lambda x: factorial(x)\n",
    "get_factorial(5)"
   ]
  },
  {
   "cell_type": "code",
   "execution_count": 7,
   "metadata": {},
   "outputs": [
    {
     "data": {
      "text/plain": [
       "165"
      ]
     },
     "execution_count": 7,
     "metadata": {},
     "output_type": "execute_result"
    }
   ],
   "source": [
    "total = lambda a,b,c : a+b+c \n",
    "sum1 = total(10,15,20) + factorial(5)\n",
    "sum1"
   ]
  },
  {
   "cell_type": "code",
   "execution_count": 73,
   "metadata": {},
   "outputs": [
    {
     "data": {
      "text/plain": [
       "['Perfect', 'Perfect', ' Not Perfect', ' Not Perfect', 'Perfect', 'Perfect']"
      ]
     },
     "execution_count": 73,
     "metadata": {},
     "output_type": "execute_result"
    }
   ],
   "source": [
    "# return a list of values for each number in the given numbers\n",
    "nums = [1, 9, 10, 50, 81, 100]\n",
    "is_perfect = lambda x: math.sqrt(x) * math.sqrt(x) == x\n",
    "output = [ \"Perfect\" if is_perfect(x) else \" Not Perfect\" for x in nums ]\n",
    "output"
   ]
  },
  {
   "cell_type": "markdown",
   "metadata": {},
   "source": [
    "\n",
    "<h4 align= \"center\" style=\"color:orange\">Finding perfect square numbers without built-in methods</h4>\n"
   ]
  },
  {
   "cell_type": "code",
   "execution_count": 2,
   "metadata": {},
   "outputs": [
    {
     "name": "stdout",
     "output_type": "stream",
     "text": [
      "number: 10\n",
      "square root: 3.1622776601683795\n",
      "integer value: 3\n"
     ]
    }
   ],
   "source": [
    "number = 10\n",
    "print(\"number:\", number)\n",
    "s_root = number ** 0.5\n",
    "print(\"square root:\", s_root)\n",
    "int_value = int(s_root)\n",
    "print(\"integer value:\", int_value)\n"
   ]
  },
  {
   "cell_type": "code",
   "execution_count": 5,
   "metadata": {},
   "outputs": [
    {
     "data": {
      "text/plain": [
       "['PERFECT', 'PERFECT', 'NOT PERFECT', 'NOT PERFECT', 'PERFECT', 'PERFECT']"
      ]
     },
     "execution_count": 5,
     "metadata": {},
     "output_type": "execute_result"
    }
   ],
   "source": [
    "nums = [1, 9, 10, 50, 81, 100]\n",
    "\n",
    "isPerfect = lambda x: x** 0.5== int(x ** 0.5)\n",
    "output = [\"PERFECT\" if isPerfect(x) else \"NOT PERFECT\" for x in nums ]\n",
    "output"
   ]
  },
  {
   "cell_type": "markdown",
   "metadata": {},
   "source": [
    "<h4 align= \"center\" style=\"color:orange\">Another simple transformation using lambda</h4>"
   ]
  },
  {
   "cell_type": "code",
   "execution_count": 99,
   "metadata": {},
   "outputs": [
    {
     "data": {
      "text/plain": [
       "'Name: Jane Doe'"
      ]
     },
     "execution_count": 99,
     "metadata": {},
     "output_type": "execute_result"
    }
   ],
   "source": [
    "full_name = lambda first, last: f\"Name: {first.title()} {last.title()}\"\n",
    "full_name('jane', 'doe')"
   ]
  },
  {
   "cell_type": "markdown",
   "metadata": {},
   "source": [
    "<h4 align= \"center\" style=\"color:orange\">String sorting</h4>"
   ]
  },
  {
   "cell_type": "code",
   "execution_count": 7,
   "metadata": {},
   "outputs": [
    {
     "data": {
      "text/plain": [
       "['id1', 'id13', 'id160', 'id21', 'id3', 'id44', 'id50']"
      ]
     },
     "execution_count": 7,
     "metadata": {},
     "output_type": "execute_result"
    }
   ],
   "source": [
    "ids = ['id1', 'id21', 'id13', 'id44', 'id50', 'id160', 'id3']\n",
    "sorted(ids) # lexicographic sort"
   ]
  },
  {
   "cell_type": "code",
   "execution_count": 11,
   "metadata": {},
   "outputs": [
    {
     "name": "stdout",
     "output_type": "stream",
     "text": [
      "['1', '21', '13', '44', '50', '160', '3']\n"
     ]
    }
   ],
   "source": [
    "# to perform an integer sort, we need to provide the int value followed by id\n",
    "integers = [x[2:] for x in ids ]\n",
    "print(integers) "
   ]
  },
  {
   "cell_type": "code",
   "execution_count": 9,
   "metadata": {},
   "outputs": [
    {
     "data": {
      "text/plain": [
       "['id1', 'id3', 'id13', 'id21', 'id44', 'id50', 'id160']"
      ]
     },
     "execution_count": 9,
     "metadata": {},
     "output_type": "execute_result"
    }
   ],
   "source": [
    "sorted_ids = sorted(ids, key= lambda x: int(x[2:]))\n",
    "sorted_ids"
   ]
  }
 ],
 "metadata": {
  "kernelspec": {
   "display_name": "Python 3.10.4 64-bit",
   "language": "python",
   "name": "python3"
  },
  "language_info": {
   "codemirror_mode": {
    "name": "ipython",
    "version": 3
   },
   "file_extension": ".py",
   "mimetype": "text/x-python",
   "name": "python",
   "nbconvert_exporter": "python",
   "pygments_lexer": "ipython3",
   "version": "3.10.4"
  },
  "orig_nbformat": 4,
  "vscode": {
   "interpreter": {
    "hash": "aee8b7b246df8f9039afb4144a1f6fd8d2ca17a180786b69acc140d282b71a49"
   }
  }
 },
 "nbformat": 4,
 "nbformat_minor": 2
}
