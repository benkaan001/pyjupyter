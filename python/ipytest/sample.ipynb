{
 "cells": [
  {
   "cell_type": "code",
   "execution_count": 1,
   "metadata": {},
   "outputs": [],
   "source": [
    "import ipytest\n",
    "ipytest.autoconfig()"
   ]
  },
  {
   "cell_type": "code",
   "execution_count": 2,
   "metadata": {},
   "outputs": [],
   "source": [
    "def square(n):\n",
    "    \"\"\"\n",
    "    Returns the square of the given number.\n",
    "\n",
    "    Parameters:\n",
    "    n (int): The number to be squared.\n",
    "\n",
    "    Returns:\n",
    "    int: The square of the given number.\n",
    "\n",
    "    Raises:\n",
    "    TypeError: If the input is not a number.\n",
    "    \"\"\"\n",
    "\n",
    "    if not isinstance(n, (int, float)):\n",
    "        raise TypeError(\"Input must be a number\")\n",
    "    return n ** 3"
   ]
  },
  {
   "attachments": {},
   "cell_type": "markdown",
   "metadata": {},
   "source": [
    "### Using `magic` command to activate tests."
   ]
  },
  {
   "cell_type": "code",
   "execution_count": 3,
   "metadata": {},
   "outputs": [
    {
     "name": "stdout",
     "output_type": "stream",
     "text": [
      "\u001b[31mF\u001b[0m\u001b[31m                                                                                            [100%]\u001b[0m\n",
      "============================================= FAILURES =============================================\n",
      "\u001b[31m\u001b[1m___________________________________________ test_square ____________________________________________\u001b[0m\n",
      "\n",
      "    \u001b[94mdef\u001b[39;49;00m \u001b[92mtest_square\u001b[39;49;00m():\n",
      "        expected = \u001b[94m4\u001b[39;49;00m\n",
      "        output = square(\u001b[94m2\u001b[39;49;00m)\n",
      ">       \u001b[94massert\u001b[39;49;00m expected == output, \u001b[33mf\u001b[39;49;00m\u001b[33m\"\u001b[39;49;00m\u001b[33mExpected \u001b[39;49;00m\u001b[33m{\u001b[39;49;00mexpected\u001b[33m}\u001b[39;49;00m\u001b[33m, but got \u001b[39;49;00m\u001b[33m{\u001b[39;49;00moutput\u001b[33m}\u001b[39;49;00m\u001b[33m\"\u001b[39;49;00m\n",
      "\u001b[1m\u001b[31mE       AssertionError: Expected 4, but got 8\u001b[0m\n",
      "\u001b[1m\u001b[31mE       assert 4 == 8\u001b[0m\n",
      "\n",
      "\u001b[1m\u001b[31m/var/folders/2w/g1xqblv11xdc789plh7y3tsw0000gn/T/ipykernel_10340/222906425.py\u001b[0m:4: AssertionError\n",
      "===================================== short test summary info ======================================\n",
      "FAILED t_0ef6a4b3d16447cc891d23261c72a9aa.py::test_square - AssertionError: Expected 4, but got 8\n",
      "\u001b[31m\u001b[31m\u001b[1m1 failed\u001b[0m\u001b[31m in 0.09s\u001b[0m\u001b[0m\n"
     ]
    }
   ],
   "source": [
    "%%ipytest\n",
    "\n",
    "def test_square():\n",
    "    expected = 4\n",
    "    output = square(2)\n",
    "    assert expected == output, f\"Expected {expected}, but got {output}\"\n",
    "     "
   ]
  },
  {
   "cell_type": "code",
   "execution_count": 4,
   "metadata": {},
   "outputs": [],
   "source": [
    "# update the function\n",
    "def square(n):\n",
    "    \"\"\"\n",
    "    Returns the square of the given number.\n",
    "\n",
    "    Parameters:\n",
    "    n (int): The number to be squared.\n",
    "\n",
    "    Returns:\n",
    "    int: The square of the given number.\n",
    "\n",
    "    Raises:\n",
    "    TypeError: If the input is not a number.\n",
    "    \"\"\"\n",
    "\n",
    "    if not isinstance(n, (int, float)):\n",
    "        raise TypeError(\"Input must be a number\")\n",
    "    return n ** 2\n",
    "    "
   ]
  },
  {
   "attachments": {},
   "cell_type": "markdown",
   "metadata": {},
   "source": [
    "### Using `run()` method."
   ]
  },
  {
   "cell_type": "code",
   "execution_count": 5,
   "metadata": {},
   "outputs": [
    {
     "name": "stdout",
     "output_type": "stream",
     "text": [
      "\u001b[32m.\u001b[0m\u001b[32m                                                                                            [100%]\u001b[0m\n",
      "\u001b[32m\u001b[32m\u001b[1m1 passed\u001b[0m\u001b[32m in 0.02s\u001b[0m\u001b[0m\n"
     ]
    },
    {
     "data": {
      "text/plain": [
       "<ExitCode.OK: 0>"
      ]
     },
     "execution_count": 5,
     "metadata": {},
     "output_type": "execute_result"
    }
   ],
   "source": [
    "ipytest.run()"
   ]
  }
 ],
 "metadata": {
  "kernelspec": {
   "display_name": "Python 3",
   "language": "python",
   "name": "python3"
  },
  "language_info": {
   "codemirror_mode": {
    "name": "ipython",
    "version": 3
   },
   "file_extension": ".py",
   "mimetype": "text/x-python",
   "name": "python",
   "nbconvert_exporter": "python",
   "pygments_lexer": "ipython3",
   "version": "3.10.4"
  },
  "orig_nbformat": 4
 },
 "nbformat": 4,
 "nbformat_minor": 2
}
