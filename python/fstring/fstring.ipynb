{
 "cells": [
  {
   "cell_type": "code",
   "execution_count": 1,
   "metadata": {},
   "outputs": [],
   "source": [
    "import datetime"
   ]
  },
  {
   "cell_type": "code",
   "execution_count": 2,
   "metadata": {},
   "outputs": [],
   "source": [
    "my_str = \"friendly 🤗\"\n",
    "my_num = 123"
   ]
  },
  {
   "cell_type": "code",
   "execution_count": 3,
   "metadata": {},
   "outputs": [
    {
     "data": {
      "text/plain": [
       "'my_num % 2 = 1'"
      ]
     },
     "execution_count": 3,
     "metadata": {},
     "output_type": "execute_result"
    }
   ],
   "source": [
    "f'{my_num % 2 = }'"
   ]
  },
  {
   "cell_type": "code",
   "execution_count": 4,
   "metadata": {},
   "outputs": [
    {
     "data": {
      "text/plain": [
       "\"my_str.upper() = 'FRIENDLY 🤗'\""
      ]
     },
     "execution_count": 4,
     "metadata": {},
     "output_type": "execute_result"
    }
   ],
   "source": [
    "f'{my_str.upper() = }'"
   ]
  },
  {
   "attachments": {},
   "cell_type": "markdown",
   "metadata": {},
   "source": [
    "### Bang !r, !a"
   ]
  },
  {
   "cell_type": "code",
   "execution_count": 5,
   "metadata": {},
   "outputs": [
    {
     "data": {
      "text/plain": [
       "\"'friendly \\\\U0001f917'\""
      ]
     },
     "execution_count": 5,
     "metadata": {},
     "output_type": "execute_result"
    }
   ],
   "source": [
    "# bang !a replaces all non-ascii characters with ascii-safe escaped version\n",
    "f'{my_str!a}'"
   ]
  },
  {
   "cell_type": "code",
   "execution_count": 6,
   "metadata": {},
   "outputs": [
    {
     "data": {
      "text/plain": [
       "\"'friendly 🤗'\""
      ]
     },
     "execution_count": 6,
     "metadata": {},
     "output_type": "execute_result"
    }
   ],
   "source": [
    "# The `bang`` !r calls the repr() of the object, which as quotes wrapped around the object\n",
    "f'{my_str!r}'"
   ]
  },
  {
   "cell_type": "code",
   "execution_count": 7,
   "metadata": {},
   "outputs": [
    {
     "data": {
      "text/plain": [
       "\"'friendly 🤗'\""
      ]
     },
     "execution_count": 7,
     "metadata": {},
     "output_type": "execute_result"
    }
   ],
   "source": [
    "f'{repr(my_str)}'"
   ]
  },
  {
   "cell_type": "code",
   "execution_count": 8,
   "metadata": {},
   "outputs": [
    {
     "data": {
      "text/plain": [
       "datetime.datetime(2023, 3, 24, 17, 59, 51, 735144)"
      ]
     },
     "execution_count": 8,
     "metadata": {},
     "output_type": "execute_result"
    }
   ],
   "source": [
    "my_float = 123.456\n",
    "now = datetime.datetime.utcnow()\n",
    "now"
   ]
  },
  {
   "cell_type": "code",
   "execution_count": 9,
   "metadata": {},
   "outputs": [
    {
     "data": {
      "text/plain": [
       "'now=2023-03-24'"
      ]
     },
     "execution_count": 9,
     "metadata": {},
     "output_type": "execute_result"
    }
   ],
   "source": [
    "f'{now=:%Y-%m-%d}'"
   ]
  },
  {
   "cell_type": "code",
   "execution_count": 10,
   "metadata": {},
   "outputs": [
    {
     "data": {
      "text/plain": [
       "'123.46'"
      ]
     },
     "execution_count": 10,
     "metadata": {},
     "output_type": "execute_result"
    }
   ],
   "source": [
    "# instead of rounding\n",
    "f'{my_float:.2f}'"
   ]
  },
  {
   "cell_type": "code",
   "execution_count": 11,
   "metadata": {},
   "outputs": [
    {
     "data": {
      "text/plain": [
       "'123.46'"
      ]
     },
     "execution_count": 11,
     "metadata": {},
     "output_type": "execute_result"
    }
   ],
   "source": [
    "f'{round(my_float, 2)}'"
   ]
  },
  {
   "cell_type": "code",
   "execution_count": 12,
   "metadata": {},
   "outputs": [
    {
     "data": {
      "text/plain": [
       "'123.46'"
      ]
     },
     "execution_count": 12,
     "metadata": {},
     "output_type": "execute_result"
    }
   ],
   "source": [
    "nested_format = \".2f\"\n",
    "f'{my_float:{nested_format}}'"
   ]
  },
  {
   "attachments": {},
   "cell_type": "markdown",
   "metadata": {},
   "source": [
    "## FORMATTING"
   ]
  },
  {
   "cell_type": "code",
   "execution_count": 13,
   "metadata": {},
   "outputs": [
    {
     "name": "stdout",
     "output_type": "stream",
     "text": [
      "MyClass __format__ called with format_spec='blah blah %%MYFORMAT%%'\n"
     ]
    },
    {
     "data": {
      "text/plain": [
       "'MyClass()'"
      ]
     },
     "execution_count": 13,
     "metadata": {},
     "output_type": "execute_result"
    }
   ],
   "source": [
    "class MyClass:\n",
    "    def __format__(self, format_spec) -> str:\n",
    "        print(f'MyClass __format__ called with {format_spec=!r}')\n",
    "        return \"MyClass()\"\n",
    "    \n",
    "f'{MyClass():blah blah %%MYFORMAT%%}'"
   ]
  },
  {
   "cell_type": "code",
   "execution_count": 23,
   "metadata": {},
   "outputs": [
    {
     "name": "stdout",
     "output_type": "stream",
     "text": [
      "The temperature is 77.00°F\n",
      "The temperature in Celsius is 25.00°C\n",
      "The temperature is 25.00°C or 77.00°F\n",
      "The temperature is 25.00°C\n"
     ]
    }
   ],
   "source": [
    "class Temperature:\n",
    "    def __init__(self, celsius):\n",
    "        self.celsius = celsius\n",
    "\n",
    "    def __format__(self, format_spec):\n",
    "        if format_spec == \"b\":\n",
    "            return f\"{self.celsius:.2f}°C or {self.celsius * 1.8 + 32:.2f}°F\"\n",
    "        elif format_spec == \"c\":\n",
    "            return f\"{self.celsius:.2f}°C\"\n",
    "        elif format_spec == \"f\":\n",
    "            return f\"{self.celsius * 1.8 + 32:.2f}°F\"\n",
    "        else:\n",
    "            return str(self)\n",
    "\n",
    "    def __str__(self):\n",
    "        return f\"{self.celsius:.2f}°C\"\n",
    "\n",
    "# Example usage\n",
    "temp = Temperature(25)\n",
    "print(f\"The temperature is {temp:f}\") \n",
    "print(f\"The temperature in Celsius is {temp:c}\") \n",
    "print(f\"The temperature is {temp:b}\")  \n",
    "print(f\"The temperature is {temp}\")\n"
   ]
  },
  {
   "cell_type": "code",
   "execution_count": 24,
   "metadata": {},
   "outputs": [
    {
     "name": "stdout",
     "output_type": "stream",
     "text": [
      "Alice (Manager): $50000.00\n",
      "Bob (Developer): $40000.00\n",
      "Charlie (Designer): $45000.00\n",
      "Alice is a Manager earning 50000 per year.\n",
      "Employee data for CSV file: Bob,Developer,$40000.00\n"
     ]
    }
   ],
   "source": [
    "from dataclasses import dataclass\n",
    "\n",
    "@dataclass\n",
    "class Employee:\n",
    "    name: str\n",
    "    position: str\n",
    "    salary: float\n",
    "\n",
    "    def __str__(self):\n",
    "        return f\"{self.name} ({self.position}): ${self.salary:.2f}\"\n",
    "\n",
    "    def to_csv(self):\n",
    "        return f\"{self.name},{self.position},${self.salary:.2f}\"\n",
    "\n",
    "# Example usage\n",
    "employees = [\n",
    "    Employee(\"Alice\", \"Manager\", 50000),\n",
    "    Employee(\"Bob\", \"Developer\", 40000),\n",
    "    Employee(\"Charlie\", \"Designer\", 45000)\n",
    "]\n",
    "\n",
    "# Default formatting for all employees\n",
    "for employee in employees:\n",
    "    print(str(employee))\n",
    "\n",
    "# Custom formatting for individual employees\n",
    "print(f\"{employees[0].name} is a {employees[0].position} earning {employees[0].salary} per year.\")\n",
    "print(f\"Employee data for CSV file: {employees[1].to_csv()}\")\n"
   ]
  }
 ],
 "metadata": {
  "kernelspec": {
   "display_name": "Python 3",
   "language": "python",
   "name": "python3"
  },
  "language_info": {
   "codemirror_mode": {
    "name": "ipython",
    "version": 3
   },
   "file_extension": ".py",
   "mimetype": "text/x-python",
   "name": "python",
   "nbconvert_exporter": "python",
   "pygments_lexer": "ipython3",
   "version": "3.10.4"
  },
  "orig_nbformat": 4
 },
 "nbformat": 4,
 "nbformat_minor": 2
}
