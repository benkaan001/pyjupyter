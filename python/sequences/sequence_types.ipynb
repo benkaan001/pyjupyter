{
 "cells": [
  {
   "cell_type": "markdown",
   "metadata": {},
   "source": [
    "## Common Data Types\n",
    "\n",
    "| Data Type        | Sequence | Iterator | Convertible to Generator |\n",
    "|------------------|----------|----------|-------------------------|\n",
    "| Lists            | Yes      | No       | No                      |\n",
    "| Tuples           | Yes      | No       | No                      |\n",
    "| Strings          | Yes      | Yes      | No                      |\n",
    "| Sets             | No       | Yes      | No                      |\n",
    "| Dictionaries     | No       | Yes      | No                      |\n",
    "| Range objects    | Yes      | Yes      | No                      |\n",
    "| Files (e.g., `open()`)| No   | Yes      | No                      |\n",
    "| Generator functions (with `yield`) | No | Yes | Yes                     |\n",
    "| Enumerate objects (from `enumerate()`) | No | Yes | No                      |\n",
    "| Zip objects (from `zip()`) | No       | Yes      | No                      |\n",
    "\n",
    "Note:\n",
    "- A \"Sequence\" data type represents an ordered collection of items.\n",
    "- An \"Iterator\" data type is an object that allows sequential access to elements in a collection.\n",
    "- \"Convertible to Generator\" indicates whether the data type can be converted into a generator using generator functions (`yield`)."
   ]
  },
  {
   "cell_type": "code",
   "execution_count": null,
   "metadata": {},
   "outputs": [],
   "source": []
  }
 ],
 "metadata": {
  "language_info": {
   "name": "python"
  },
  "orig_nbformat": 4
 },
 "nbformat": 4,
 "nbformat_minor": 2
}
