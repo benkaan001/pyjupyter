{
 "cells": [
  {
   "cell_type": "markdown",
   "metadata": {},
   "source": [
    "# Dunder Methods in Python\n",
    "\n",
    "Dunder methods are special methods in Python that start and end with double underscores (dunders). They are also known as magic methods, special methods, or method overloads. Dunder methods are used to define and customize the behavior of classes and objects in Python.\n",
    "\n",
    "The `dir()` method in Python returns a list of all the valid attributes and methods of an object. This includes the dunder methods."
   ]
  },
  {
   "cell_type": "code",
   "execution_count": 1,
   "metadata": {},
   "outputs": [
    {
     "data": {
      "text/plain": [
       "'__add__, __class__, __contains__, __delattr__, __dir__, __doc__, __eq__, __format__, __ge__, __getattribute__, __getitem__, __getnewargs__, __getstate__, __gt__, __hash__, __init__, __init_subclass__, __iter__, __le__, __len__, __lt__, __mod__, __mul__, __ne__, __new__, __reduce__, __reduce_ex__, __repr__, __rmod__, __rmul__, __setattr__, __sizeof__, __str__, __subclasshook__'"
      ]
     },
     "execution_count": 1,
     "metadata": {},
     "output_type": "execute_result"
    }
   ],
   "source": [
    "\", \".join(method for method in dir(str) if '__' in method)"
   ]
  },
  {
   "attachments": {},
   "cell_type": "markdown",
   "metadata": {},
   "source": [
    "## Types of Dunder Methods\n",
    "\n",
    "### `__init__`\n",
    "\n",
    "The `__init__` method is one of the most commonly used dunder methods in Python. It is used to initialize the attributes of an object when it is created. The `__init__` method takes at least one argument, `self`, which refers to the instance of the class being created. Additional arguments can be added to initialize other attributes of the object."
   ]
  },
  {
   "cell_type": "code",
   "execution_count": 2,
   "metadata": {},
   "outputs": [
    {
     "name": "stdout",
     "output_type": "stream",
     "text": [
      "Toyota\n"
     ]
    }
   ],
   "source": [
    "class Car:\n",
    "    def __init__(self, make, model, year):\n",
    "        self.make = make\n",
    "        self.model = model\n",
    "        self.year = year\n",
    "\n",
    "my_car = Car(\"Toyota\", \"Corolla\", 2022)\n",
    "print(my_car.make)"
   ]
  },
  {
   "attachments": {},
   "cell_type": "markdown",
   "metadata": {},
   "source": [
    "### `__str__` & `__repr__`\n",
    "\n",
    "The `__str__` method is used to define the string representation of an object. It is called when the `str()` function is used or when an object is printed. The `__str__` method should return a string that represents the object in a human-readable format. \n",
    "\n",
    "The `__repr__` method is also used to define the string representation of an object. However, `repr()` is meant to be the unambigious representation of an object used by developers for mostly debugging and logging purposes, while `str()` is meant to be the readable representation of an object usually displayed to the end user, "
   ]
  },
  {
   "cell_type": "code",
   "execution_count": 3,
   "metadata": {},
   "outputs": [],
   "source": [
    "class Car:\n",
    "    def __init__(self, make, model, year):\n",
    "        self.make = make\n",
    "        self.model = model\n",
    "        self.year = year\n",
    "\n",
    "my_car = Car(\"Toyota\", \"Corolla\", 2022)"
   ]
  },
  {
   "cell_type": "code",
   "execution_count": 4,
   "metadata": {},
   "outputs": [
    {
     "name": "stdout",
     "output_type": "stream",
     "text": [
      "my_car = <__main__.Car object at 0x109fb7cd0> ------- repr(my_car) = '<__main__.Car object at 0x109fb7cd0>' ------- str(my_car) = '<__main__.Car object at 0x109fb7cd0>'\n"
     ]
    }
   ],
   "source": [
    "print(f\"{my_car = } ------- {repr(my_car) = } ------- {str(my_car) = }\") "
   ]
  },
  {
   "cell_type": "code",
   "execution_count": 5,
   "metadata": {},
   "outputs": [
    {
     "name": "stdout",
     "output_type": "stream",
     "text": [
      "Car('Toyota', 'Corolla', '2022')\n"
     ]
    }
   ],
   "source": [
    "class Car:\n",
    "    def __init__(self, make, model, year):\n",
    "        self.make = make\n",
    "        self.model = model\n",
    "        self.year = year\n",
    "\n",
    "    def __repr__(self):\n",
    "        return f\"Car('{self.make}', '{self.model}', '{self.year}')\"\n",
    "\n",
    "my_car = Car(\"Toyota\", \"Corolla\", 2022)\n",
    "\n",
    "print(my_car) # notice how the output is the same as how my_car was instantiated."
   ]
  },
  {
   "attachments": {},
   "cell_type": "markdown",
   "metadata": {},
   "source": [
    "- When `__str__` is not defined, and only `__repr__` is defined, the `print()` will call the `__repr__`. "
   ]
  },
  {
   "cell_type": "code",
   "execution_count": 6,
   "metadata": {},
   "outputs": [
    {
     "data": {
      "text/plain": [
       "\"Car('Toyota', 'Corolla', '2022')\""
      ]
     },
     "execution_count": 6,
     "metadata": {},
     "output_type": "execute_result"
    }
   ],
   "source": [
    "repr(my_car)"
   ]
  },
  {
   "cell_type": "code",
   "execution_count": 7,
   "metadata": {},
   "outputs": [
    {
     "data": {
      "text/plain": [
       "\"Car('Toyota', 'Corolla', '2022')\""
      ]
     },
     "execution_count": 7,
     "metadata": {},
     "output_type": "execute_result"
    }
   ],
   "source": [
    "str(my_car)"
   ]
  },
  {
   "cell_type": "code",
   "execution_count": 8,
   "metadata": {},
   "outputs": [
    {
     "name": "stdout",
     "output_type": "stream",
     "text": [
      "2022 Toyota Corolla\n"
     ]
    }
   ],
   "source": [
    "class Car:\n",
    "    def __init__(self, make, model, year):\n",
    "        self.make = make\n",
    "        self.model = model\n",
    "        self.year = year\n",
    "\n",
    "    def __repr__(self):\n",
    "        return f\"Car('{self.make}', '{self.model}', '{self.year}')\"\n",
    "    \n",
    "    def __str__(self):\n",
    "        return f\"{self.year} {self.make} {self.model}\"\n",
    "\n",
    "my_car = Car(\"Toyota\", \"Corolla\", 2022)\n",
    "print(my_car)"
   ]
  },
  {
   "cell_type": "code",
   "execution_count": 9,
   "metadata": {},
   "outputs": [
    {
     "data": {
      "text/plain": [
       "'2022 Toyota Corolla'"
      ]
     },
     "execution_count": 9,
     "metadata": {},
     "output_type": "execute_result"
    }
   ],
   "source": [
    "my_car.__str__()"
   ]
  },
  {
   "cell_type": "code",
   "execution_count": 10,
   "metadata": {},
   "outputs": [
    {
     "data": {
      "text/plain": [
       "\"Car('Toyota', 'Corolla', '2022')\""
      ]
     },
     "execution_count": 10,
     "metadata": {},
     "output_type": "execute_result"
    }
   ],
   "source": [
    "my_car.__repr__()"
   ]
  },
  {
   "attachments": {},
   "cell_type": "markdown",
   "metadata": {},
   "source": [
    "- All in all, under the hood, `str(my_car)` method invokes the `my_car.__str__()` method. "
   ]
  },
  {
   "cell_type": "code",
   "execution_count": 11,
   "metadata": {},
   "outputs": [
    {
     "name": "stdout",
     "output_type": "stream",
     "text": [
      "my_car.__str__()= '2022 Toyota Corolla' ..... str(my_car) = '2022 Toyota Corolla'\n",
      "my_car.__repr__()= \"Car('Toyota', 'Corolla', '2022')\" ...... repr(my_car) = \"Car('Toyota', 'Corolla', '2022')\"\n"
     ]
    }
   ],
   "source": [
    "print(f\"{my_car.__str__()= } ..... {str(my_car) = }\")\n",
    "print(f\"{my_car.__repr__()= } ...... {repr(my_car) = }\")"
   ]
  },
  {
   "attachments": {},
   "cell_type": "markdown",
   "metadata": {},
   "source": [
    "### `__add__`\n",
    "\n",
    "The `__add___` method usually performs an aritmetic addition, concetanation, or append operation. \n"
   ]
  },
  {
   "cell_type": "code",
   "execution_count": 12,
   "metadata": {},
   "outputs": [
    {
     "name": "stdout",
     "output_type": "stream",
     "text": [
      "str.__add__('a', 'b') = 'ab'\n"
     ]
    }
   ],
   "source": [
    "# add method for a string object\n",
    "print(f\"{str.__add__('a', 'b') = }\")"
   ]
  },
  {
   "cell_type": "code",
   "execution_count": 13,
   "metadata": {},
   "outputs": [
    {
     "name": "stdout",
     "output_type": "stream",
     "text": [
      "int.__add__(5, 10) = 15\n"
     ]
    }
   ],
   "source": [
    "# add method for an integer object\n",
    "print(f\"{int.__add__(5, 10) = }\")"
   ]
  },
  {
   "cell_type": "code",
   "execution_count": 14,
   "metadata": {},
   "outputs": [
    {
     "name": "stdout",
     "output_type": "stream",
     "text": [
      "Help on wrapper_descriptor:\n",
      "\n",
      "__add__(self, value, /)\n",
      "    Return self+value.\n",
      "\n"
     ]
    }
   ],
   "source": [
    "# when in doubt get `help`\n",
    "help(list.__add__)"
   ]
  },
  {
   "cell_type": "code",
   "execution_count": 15,
   "metadata": {},
   "outputs": [
    {
     "name": "stdout",
     "output_type": "stream",
     "text": [
      "list.__add__(first_list, second_list) = ['a', 'b', 'c', 1, 2, 3]\n"
     ]
    }
   ],
   "source": [
    "first_list = ['a', 'b', 'c']\n",
    "second_list = [1, 2, 3]\n",
    "print(f\"{list.__add__(first_list, second_list) = }\")"
   ]
  },
  {
   "attachments": {},
   "cell_type": "markdown",
   "metadata": {},
   "source": [
    "- Let's now try to add two car objects."
   ]
  },
  {
   "cell_type": "code",
   "execution_count": 16,
   "metadata": {},
   "outputs": [],
   "source": [
    "class Car:\n",
    "    def __init__(self, make, model, year):\n",
    "        self.make = make\n",
    "        self.model = model\n",
    "        self.year = year\n",
    "\n",
    "    def __repr__(self):\n",
    "        return f\"Car('{self.make}', '{self.model}', '{self.year}')\"\n",
    "    \n",
    "    def __str__(self):\n",
    "        return f\"{self.year} {self.make} {self.model}\"\n",
    "\n",
    "my_car1 = Car(\"Toyota\", \"Corolla\", 2022)\n",
    "my_car2 = Car(\"Mercedes\", \"G Class\", 2023 )"
   ]
  },
  {
   "cell_type": "code",
   "execution_count": 17,
   "metadata": {},
   "outputs": [
    {
     "name": "stdout",
     "output_type": "stream",
     "text": [
      "unsupported operand type(s) for +: 'Car' and 'Car'\n"
     ]
    }
   ],
   "source": [
    "try:\n",
    "    print(my_car1 + my_car2)\n",
    "except Exception as e:\n",
    "    print(e)"
   ]
  },
  {
   "attachments": {},
   "cell_type": "markdown",
   "metadata": {},
   "source": [
    "- That is why we need to define a special method. The custom `__add__` method will take two cars as operands and add their years together. If the operand is not an instance of the Car class, it will raise a `TypeError` with a custom error message."
   ]
  },
  {
   "cell_type": "code",
   "execution_count": 18,
   "metadata": {},
   "outputs": [],
   "source": [
    "class Car:\n",
    "    def __init__(self, make, model, year) -> None:\n",
    "        self.make = make \n",
    "        self.model = model \n",
    "        self.year = year \n",
    "    \n",
    "    def __repr__(self):\n",
    "        return f\"Car('{self.make}', '{self.model}', '{self.year}')\"\n",
    "    \n",
    "    def __str__(self):\n",
    "        return f\"{self.year} {self.make} {self.model}\"\n",
    "    \n",
    "    def __add__(self, other):\n",
    "        if isinstance(other, Car):\n",
    "            return Car(\"Unknown\", \"Unknown\", self.year + other.year)\n",
    "        else:\n",
    "            raise TypeError(f\"Expected a {type(self)}, but got {type(other)}\")\n",
    "        \n",
    "my_car1 = Car(\"Toyota\", \"Corolla\", 2022)\n",
    "my_car2 = Car(\"Mercedes\", \"G Class\", 2023 )"
   ]
  },
  {
   "cell_type": "code",
   "execution_count": 19,
   "metadata": {},
   "outputs": [
    {
     "name": "stdout",
     "output_type": "stream",
     "text": [
      "4045 Unknown Unknown\n"
     ]
    }
   ],
   "source": [
    "print(my_car1 + my_car2)"
   ]
  },
  {
   "attachments": {},
   "cell_type": "markdown",
   "metadata": {},
   "source": [
    "### `__len__`\n",
    "\n",
    "The `__len__` method is used to define the length of an object. It is called when the `len()` function is used on an object. The `__len__` method should return an integer that represents the length of the object."
   ]
  },
  {
   "cell_type": "code",
   "execution_count": 20,
   "metadata": {},
   "outputs": [
    {
     "name": "stdout",
     "output_type": "stream",
     "text": [
      "5\n"
     ]
    }
   ],
   "source": [
    "class MyList:\n",
    "    def __init__(self, *args):\n",
    "        self.data = list(args)\n",
    "\n",
    "    def __len__(self):\n",
    "        return len(self.data)\n",
    "\n",
    "my_list = MyList(1, 2, 3, 4, 5)\n",
    "print(len(my_list)) "
   ]
  },
  {
   "attachments": {},
   "cell_type": "markdown",
   "metadata": {},
   "source": [
    "- Let's try it with the mercedes car object."
   ]
  },
  {
   "cell_type": "code",
   "execution_count": 21,
   "metadata": {},
   "outputs": [
    {
     "name": "stdout",
     "output_type": "stream",
     "text": [
      "'Car' object has no attribute '__len__'\n"
     ]
    }
   ],
   "source": [
    "try:\n",
    "    print(my_car2.__len__())\n",
    "except Exception as e:\n",
    "    print(e)"
   ]
  },
  {
   "attachments": {},
   "cell_type": "markdown",
   "metadata": {},
   "source": [
    "- Similar to `add()` method, we can add a `len()` method if and when it makes sense for our object to implement that special method. "
   ]
  },
  {
   "attachments": {},
   "cell_type": "markdown",
   "metadata": {},
   "source": [
    "### `__getitem__`\n",
    "\n",
    "The `__getitem__` method is used to define the behavior of indexing on an object. It is called when an object is indexed with square brackets (`[]`). The `__getitem__` method should return the value at the specified index."
   ]
  },
  {
   "cell_type": "code",
   "execution_count": 22,
   "metadata": {},
   "outputs": [
    {
     "name": "stdout",
     "output_type": "stream",
     "text": [
      "3\n"
     ]
    }
   ],
   "source": [
    "class MyList:\n",
    "    def __init__(self, *args):\n",
    "        self.data = list(args)\n",
    "\n",
    "    def __getitem__(self, index):\n",
    "        return self.data[index]\n",
    "\n",
    "my_list = MyList(1, 2, 3, 4, 5)\n",
    "print(my_list[2])"
   ]
  },
  {
   "attachments": {},
   "cell_type": "markdown",
   "metadata": {},
   "source": [
    "### `__setitem__`\n",
    "\n",
    "The `__setitem__` method is used to define the behavior of assignment on an object. It is called when an object is assigned a value with square brackets (`[]`). The `__setitem__` method should set the value at the specified index."
   ]
  },
  {
   "cell_type": "code",
   "execution_count": 23,
   "metadata": {},
   "outputs": [
    {
     "name": "stdout",
     "output_type": "stream",
     "text": [
      "10\n"
     ]
    }
   ],
   "source": [
    "class MyList:\n",
    "    def __init__(self, *args):\n",
    "        self.data = list(args)\n",
    "\n",
    "    def __getitem__(self, index):\n",
    "        return self.data[index]\n",
    "\n",
    "    def __setitem__(self, index, value):\n",
    "        self.data[index] = value\n",
    "\n",
    "my_list = MyList(1, 2, 3, 4, 5)\n",
    "my_list[2] = 10\n",
    "print(my_list[2])"
   ]
  },
  {
   "attachments": {},
   "cell_type": "markdown",
   "metadata": {},
   "source": [
    "### `__delitem__`\n",
    "\n",
    "The `__delitem__` method is used to define the behavior of deletion on an object. It is called when an object is deleted with square brackets (`[]`). The `__delitem__` method should delete the value at the specified index."
   ]
  },
  {
   "cell_type": "code",
   "execution_count": 24,
   "metadata": {},
   "outputs": [
    {
     "name": "stdout",
     "output_type": "stream",
     "text": [
      "[1, 2, 4, 5]\n"
     ]
    }
   ],
   "source": [
    "class MyList:\n",
    "    def __init__(self, *args):\n",
    "        self.data = list(args)\n",
    "\n",
    "    def __getitem__(self, index):\n",
    "        return self.data[index]\n",
    "\n",
    "    def __setitem__(self, index, value):\n",
    "        self.data[index] = value\n",
    "\n",
    "    def __delitem__(self, index):\n",
    "        del self.data[index]\n",
    "\n",
    "my_list = MyList(1, 2, 3, 4, 5)\n",
    "del my_list[2]\n",
    "print(my_list.data)"
   ]
  },
  {
   "attachments": {},
   "cell_type": "markdown",
   "metadata": {},
   "source": [
    "### `__contains__`\n",
    "\n",
    "The `__contains__` method is used to define the behavior of the `in` operator on an object. It is called when an object is checked for membership with the `in` operator. The `__contains__` method should return a boolean value that indicates whether the specified value is in the object.\n"
   ]
  },
  {
   "cell_type": "code",
   "execution_count": 25,
   "metadata": {},
   "outputs": [
    {
     "name": "stdout",
     "output_type": "stream",
     "text": [
      "True\n"
     ]
    }
   ],
   "source": [
    "class MyList:\n",
    "    def __init__(self, *args):\n",
    "        self.data = list(args)\n",
    "\n",
    "    def __contains__(self, value):\n",
    "        return value in self.data\n",
    "\n",
    "my_list = MyList(1, 2, 3, 4, 5)\n",
    "print(3 in my_list) "
   ]
  },
  {
   "attachments": {},
   "cell_type": "markdown",
   "metadata": {},
   "source": [
    "## Conclusion\n",
    "\n",
    "Dunder methods are an important part of Python and are used to define and customize the behavior of classes and objects. They are powerful because they allow us to define the behavior of operators and built-in functions on our own objects. By using dunder methods, we can create more intuitive and user-friendly code.\n",
    "\n",
    "When in doubt always use `dir(my_object)` and/or `help(my_object)` to explore the internal behaviors of the object. "
   ]
  },
  {
   "cell_type": "code",
   "execution_count": 26,
   "metadata": {},
   "outputs": [
    {
     "name": "stdout",
     "output_type": "stream",
     "text": [
      "Help on class Car in module __main__:\n",
      "\n",
      "class Car(builtins.object)\n",
      " |  Car(make, model, year) -> None\n",
      " |  \n",
      " |  Methods defined here:\n",
      " |  \n",
      " |  __add__(self, other)\n",
      " |  \n",
      " |  __init__(self, make, model, year) -> None\n",
      " |      Initialize self.  See help(type(self)) for accurate signature.\n",
      " |  \n",
      " |  __repr__(self)\n",
      " |      Return repr(self).\n",
      " |  \n",
      " |  __str__(self)\n",
      " |      Return str(self).\n",
      " |  \n",
      " |  ----------------------------------------------------------------------\n",
      " |  Data descriptors defined here:\n",
      " |  \n",
      " |  __dict__\n",
      " |      dictionary for instance variables (if defined)\n",
      " |  \n",
      " |  __weakref__\n",
      " |      list of weak references to the object (if defined)\n",
      "\n"
     ]
    }
   ],
   "source": [
    "help(Car)"
   ]
  },
  {
   "cell_type": "code",
   "execution_count": 27,
   "metadata": {},
   "outputs": [
    {
     "data": {
      "text/plain": [
       "['__add__',\n",
       " '__class__',\n",
       " '__delattr__',\n",
       " '__dict__',\n",
       " '__dir__',\n",
       " '__doc__',\n",
       " '__eq__',\n",
       " '__format__',\n",
       " '__ge__',\n",
       " '__getattribute__',\n",
       " '__getstate__',\n",
       " '__gt__',\n",
       " '__hash__',\n",
       " '__init__',\n",
       " '__init_subclass__',\n",
       " '__le__',\n",
       " '__lt__',\n",
       " '__module__',\n",
       " '__ne__',\n",
       " '__new__',\n",
       " '__reduce__',\n",
       " '__reduce_ex__',\n",
       " '__repr__',\n",
       " '__setattr__',\n",
       " '__sizeof__',\n",
       " '__str__',\n",
       " '__subclasshook__',\n",
       " '__weakref__']"
      ]
     },
     "execution_count": 27,
     "metadata": {},
     "output_type": "execute_result"
    }
   ],
   "source": [
    "dir(Car)"
   ]
  },
  {
   "cell_type": "code",
   "execution_count": 28,
   "metadata": {},
   "outputs": [
    {
     "data": {
      "text/plain": [
       "NotImplemented"
      ]
     },
     "execution_count": 28,
     "metadata": {},
     "output_type": "execute_result"
    }
   ],
   "source": [
    "my_car.__eq__(Car(\"Toyota\", \"Corolla\", 2022))"
   ]
  },
  {
   "cell_type": "code",
   "execution_count": 29,
   "metadata": {},
   "outputs": [],
   "source": [
    "class Car:\n",
    "    def __init__(self, make, model, year):\n",
    "        self.make = make\n",
    "        self.model = model\n",
    "        self.year = year\n",
    "        \n",
    "    def __eq__(self, other):\n",
    "        if isinstance(other, Car):\n",
    "            return self.make == other.make and self.model == other.model and self.year == other.year \n",
    "        else:\n",
    "            return False \n",
    "\n",
    "my_car = Car(\"Toyota\", \"Corolla\", 2022)"
   ]
  },
  {
   "cell_type": "code",
   "execution_count": 30,
   "metadata": {},
   "outputs": [
    {
     "data": {
      "text/plain": [
       "True"
      ]
     },
     "execution_count": 30,
     "metadata": {},
     "output_type": "execute_result"
    }
   ],
   "source": [
    "my_car.__eq__(Car(\"Toyota\", \"Corolla\", 2022))"
   ]
  },
  {
   "cell_type": "code",
   "execution_count": 31,
   "metadata": {},
   "outputs": [
    {
     "data": {
      "text/plain": [
       "24"
      ]
     },
     "execution_count": 31,
     "metadata": {},
     "output_type": "execute_result"
    }
   ],
   "source": [
    "my_car.__sizeof__()"
   ]
  },
  {
   "cell_type": "code",
   "execution_count": 32,
   "metadata": {},
   "outputs": [
    {
     "data": {
      "text/plain": [
       "False"
      ]
     },
     "execution_count": 32,
     "metadata": {},
     "output_type": "execute_result"
    }
   ],
   "source": [
    "my_car.__ne__(Car(\"Toyota\", \"Corolla\", 2022))"
   ]
  },
  {
   "cell_type": "code",
   "execution_count": 33,
   "metadata": {},
   "outputs": [
    {
     "data": {
      "text/plain": [
       "True"
      ]
     },
     "execution_count": 33,
     "metadata": {},
     "output_type": "execute_result"
    }
   ],
   "source": [
    "my_car.__ne__('Potato')"
   ]
  }
 ],
 "metadata": {
  "kernelspec": {
   "display_name": "Python 3",
   "language": "python",
   "name": "python3"
  },
  "language_info": {
   "codemirror_mode": {
    "name": "ipython",
    "version": 3
   },
   "file_extension": ".py",
   "mimetype": "text/x-python",
   "name": "python",
   "nbconvert_exporter": "python",
   "pygments_lexer": "ipython3",
   "version": "3.11.2"
  },
  "orig_nbformat": 4
 },
 "nbformat": 4,
 "nbformat_minor": 2
}
