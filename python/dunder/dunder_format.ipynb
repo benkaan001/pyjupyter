{
 "cells": [
  {
   "attachments": {},
   "cell_type": "markdown",
   "metadata": {},
   "source": [
    "### `__format__()`\n",
    "\n",
    "The `__format__()` method takes a single argument, which is a format string that specifies how the object should be formatted. The format string can include placeholders for the object's attributes, as well as various formatting options.\n",
    "\n",
    "Let's add a special `__format__` method that checks the `format_spec` argument and returns a custom string representation of the `Car` instance based on the `format specifier`.\n",
    "\n",
    "The format specifier is a string that specifies how the object should be formatted, and can be used with the `format()` method. "
   ]
  },
  {
   "attachments": {},
   "cell_type": "markdown",
   "metadata": {},
   "source": [
    "## Example 1"
   ]
  },
  {
   "cell_type": "code",
   "execution_count": 1,
   "metadata": {},
   "outputs": [],
   "source": [
    "class Car:\n",
    "    def __init__(self, make, model, year):\n",
    "        self.make = make\n",
    "        self.model = model\n",
    "        self.year = year \n",
    "        \n",
    "    def __repr__(self):\n",
    "        return f\"Car('{self.make}', '{self.model}', {self.year})\"\n",
    "    \n",
    "    def __str__(self):\n",
    "        return f\"{self.year} {self.make} {self.model}\"\n",
    "    \n",
    "    def __format__(self, format_spec):\n",
    "        spec_dict = {'': str(self),\n",
    "                     'make': self.make.upper(),\n",
    "                     'model': self.model.title(),\n",
    "                     'year' : str(self.year)[-2:],\n",
    "                     'short': f\"{self.year} {self.make.upper()}\",\n",
    "                     'long': f\"{self.year} {self.make.upper()} {self.model.title()}\"          \n",
    "        }\n",
    "        try:\n",
    "            output = spec_dict[format_spec]\n",
    "        except KeyError:\n",
    "            return f\"Invalid format specifier `{format_spec}`\"\n",
    "        return output\n",
    "        \n",
    "my_car = Car(\"Toyota\", \"Corolla\", 2022)"
   ]
  },
  {
   "cell_type": "code",
   "execution_count": 2,
   "metadata": {},
   "outputs": [
    {
     "name": "stdout",
     "output_type": "stream",
     "text": [
      "spec = '' ---> 2022 Toyota Corolla\n",
      "spec = 'make' ---> TOYOTA\n",
      "spec = 'model' ---> Corolla\n",
      "spec = 'year' ---> 22\n",
      "spec = 'short' ---> 2022 TOYOTA\n",
      "spec = 'long' ---> 2022 TOYOTA Corolla\n",
      "spec = 'invalid' ---> Invalid format specifier `invalid`\n"
     ]
    }
   ],
   "source": [
    "format_specs = [\"\", \"make\", \"model\", \"year\", \"short\", \"long\", \"invalid\"]\n",
    "\n",
    "for spec in format_specs:\n",
    "    print(f'{spec = } ---> {format(my_car, spec)}')"
   ]
  },
  {
   "attachments": {},
   "cell_type": "markdown",
   "metadata": {},
   "source": [
    "## Example 2\n",
    "\n",
    "Create a class `RDBMSDateTime` that takes a datetime object and formats it based on the requirements of various DBMS systems - `Oracle`, `MySQL`, `sqlite`, `Teradata`, `MsSql`."
   ]
  },
  {
   "cell_type": "code",
   "execution_count": 3,
   "metadata": {},
   "outputs": [],
   "source": [
    "import datetime\n",
    "\n",
    "class RDBMSDateTime:\n",
    "    def __init__(self, dt):\n",
    "        if not isinstance(dt, datetime.datetime):\n",
    "            self.dt = datetime.datetime.now()\n",
    "            print(f\"Expected a datetime.datetime object,\\\n",
    "                        \\nbut got {type(dt).__name__}. \\\n",
    "                         \\nDatetime is set to {datetime.datetime.now()}\")\n",
    "        \n",
    "            self.dt = dt\n",
    "        \n",
    "    # def __str__(self):\n",
    "    #     return f\"{self.dt}\"\n",
    "    \n",
    "    def __format__(self, format_spec):\n",
    "        spec_dict = {\n",
    "            \"\": str(self.dt),\n",
    "            \"oracle\": self.dt.strftime(\"TO_TIMESTAMP('%Y-%M-%d %H:%M:%S', \\\n",
    "                                       'YYYY-MM-DD HH24:MI:SS')\"),\n",
    "            \"mysql\": self.dt.strftime(\"'%Y-%m-%d %H:%M:%S'\"),\n",
    "            \"sqlite\": self.dt.strftime(\"'%y-%m-%d %H:%M:%S'\"),\n",
    "            \"teradata\": self.dt.strftime(\"'{ts %Y-%m-%d %H:%M:%S}'\"),\n",
    "            \"mssql\": self.dt.strftime(\"CAST('%Y-%m-%d %H:%M:%S' AS DATETIME)\")\n",
    "            }\n",
    "        try:\n",
    "            output = spec_dict[format_spec]\n",
    "        except KeyError:\n",
    "            return f\"Expected one of the \\n\\t{format_specs = },\\\n",
    "                \\n\\tbut got an invalid format specifier `{format_spec}`\"\n",
    "        return output "
   ]
  },
  {
   "cell_type": "code",
   "execution_count": 4,
   "metadata": {},
   "outputs": [
    {
     "data": {
      "text/plain": [
       "datetime.datetime(2023, 3, 31, 23, 37, 12, 22725)"
      ]
     },
     "execution_count": 4,
     "metadata": {},
     "output_type": "execute_result"
    }
   ],
   "source": [
    "datetime.datetime.now()"
   ]
  },
  {
   "cell_type": "code",
   "execution_count": 5,
   "metadata": {},
   "outputs": [
    {
     "name": "stdout",
     "output_type": "stream",
     "text": [
      "spec = '' ---> 2023-03-31 23:37:12.043864\n",
      "spec = 'oracle' ---> TO_TIMESTAMP('2023-37-31 23:37:12',                                        'YYYY-MM-DD HH24:MI:SS')\n",
      "spec = 'mssql' ---> CAST('2023-03-31 23:37:12' AS DATETIME)\n",
      "spec = 'sqlite' ---> '23-03-31 23:37:12'\n",
      "spec = 'teradata' ---> '{ts 2023-03-31 23:37:12}'\n",
      "spec = 'mssql' ---> CAST('2023-03-31 23:37:12' AS DATETIME)\n",
      "spec = 'invalid' ---> Expected one of the \n",
      "\tformat_specs = ['', 'oracle', 'mssql', 'sqlite', 'teradata', 'mssql', 'invalid'],                \n",
      "\tbut got an invalid format specifier `invalid`\n"
     ]
    }
   ],
   "source": [
    "dt = datetime.datetime.now()\n",
    "rdbms_dt = RDBMSDateTime(dt)\n",
    "\n",
    "format_specs = [\"\", \"oracle\", \"mssql\", \"sqlite\", \"teradata\", \"mssql\", \"invalid\"]\n",
    "\n",
    "for spec in format_specs:\n",
    "    print(f'{spec = } ---> {format(rdbms_dt, spec)}')"
   ]
  },
  {
   "cell_type": "code",
   "execution_count": 6,
   "metadata": {},
   "outputs": [],
   "source": [
    "invalid_dt = RDBMSDateTime((2023, 3000, 31, 23, 29, 51, 897510))"
   ]
  }
 ],
 "metadata": {
  "kernelspec": {
   "display_name": "Python 3",
   "language": "python",
   "name": "python3"
  },
  "language_info": {
   "codemirror_mode": {
    "name": "ipython",
    "version": 3
   },
   "file_extension": ".py",
   "mimetype": "text/x-python",
   "name": "python",
   "nbconvert_exporter": "python",
   "pygments_lexer": "ipython3",
   "version": "3.11.2"
  },
  "orig_nbformat": 4
 },
 "nbformat": 4,
 "nbformat_minor": 2
}
