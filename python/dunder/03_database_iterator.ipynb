{
 "cells": [
  {
   "attachments": {},
   "cell_type": "markdown",
   "metadata": {},
   "source": [
    "Key takeaways about \"dunder\" methods in Python:\n",
    "\n",
    "1. \"Dunder\" methods are used to define how objects of a class behave in various situations, such as when they are instantiated, iterated over, or compared to other objects.\n",
    "\n",
    "2. \"Dunder\" methods are not called directly like regular methods, but are called implicitly when certain operations are performed on an object.\n",
    "\n",
    "3. Some of the most commonly used \"dunder\" methods include `__init__`, `__iter__`, `__next__`, `__len__`, `__getitem__`, `__reversed__`, and `__contains__`.\n",
    "\n",
    "4. You can define your own custom \"dunder\" methods in your classes by using the double underscore syntax.\n",
    "\n",
    "5. You must use the double underscore syntax to call \"dunder\" methods, even if they are not built-in methods."
   ]
  },
  {
   "cell_type": "code",
   "execution_count": 1,
   "metadata": {},
   "outputs": [],
   "source": [
    "class DatabaseIterator:\n",
    "    \"\"\" \n",
    "    An iterator class that can be used to fetch data from a database.\n",
    "\n",
    "    This class provides methods to execute a SQL query and fetch the results\n",
    "    as an iterable. It also supports fetching a single row at a time or\n",
    "    fetching all rows at once.\n",
    "    \n",
    "    Methods:\n",
    "        __init__(self, data):\n",
    "            Constructs a new DatabaseIterator object with the given data.\n",
    "        __iter__(self):\n",
    "            Returns the iterator object itself.\n",
    "        __next__(self):\n",
    "            Returns the next row of query results as a tuple.\n",
    "        execute(self, query):\n",
    "            Executes the given SQL query and stores the results in data.\n",
    "        fetchone(self):\n",
    "            Returns the next row of query results as a tuple or None if there\n",
    "            are no more rows.\n",
    "        fetchall(self):\n",
    "            Returns all query results as a list of tuples.\n",
    "        _get_data_from_database(self, query):\n",
    "            Private method that actually queries the database and returns the\n",
    "            results as a list of tuples\n",
    "    \"\"\"\n",
    "    \n",
    "    def __init__(self, data):\n",
    "        self.data = data \n",
    "        self.index = 0\n",
    "    \n",
    "    def __iter__(self):\n",
    "        return self \n",
    "    \n",
    "    def __next__(self):\n",
    "        if self.index >= len(self.data):\n",
    "            raise StopIteration\n",
    "        result = self.data[self.index]\n",
    "        self.index += 1\n",
    "        return result \n",
    "    \n",
    "    def _get_data_from_database(self, query):\n",
    "        return [row for row in self.data]\n",
    "        \n",
    "    def execute(self, query):\n",
    "        self.data = self._get_data_from_database(query)\n",
    "        self.index = 0\n",
    "    \n",
    "    def fetchone(self):\n",
    "        if self.index >= len(self.data):\n",
    "            return None \n",
    "        result = self.data[self.index]\n",
    "        self.index += 1\n",
    "        return result \n",
    "    \n",
    "    def fetchall(self):\n",
    "        return self.data \n",
    "    "
   ]
  },
  {
   "cell_type": "code",
   "execution_count": 2,
   "metadata": {},
   "outputs": [
    {
     "name": "stdout",
     "output_type": "stream",
     "text": [
      "('John', 30)\n",
      "('Jane', 28)\n",
      "('Jason', 21)\n",
      "('Jennifer', 38)\n"
     ]
    }
   ],
   "source": [
    "data = [\n",
    "            ('John', 30),\n",
    "            ('Jane', 28),\n",
    "            ('Jason', 21),\n",
    "            ('Jennifer', 38)\n",
    "        ]\n",
    "\n",
    "db_iterator = DatabaseIterator(data)\n",
    "db_iterator.execute(\"Some fake query\")\n",
    "row = db_iterator.fetchone()\n",
    "while row:\n",
    "    print(row)\n",
    "    row = db_iterator.fetchone()\n"
   ]
  },
  {
   "cell_type": "code",
   "execution_count": 3,
   "metadata": {},
   "outputs": [
    {
     "name": "stdout",
     "output_type": "stream",
     "text": [
      "('John', 30)\n",
      "('Jane', 28)\n",
      "('Jason', 21)\n",
      "('Jennifer', 38)\n"
     ]
    }
   ],
   "source": [
    "db_iterator.execute(\"Some fake query\")\n",
    "row = db_iterator.fetchone()\n",
    "while row:\n",
    "    print(row)\n",
    "    row = db_iterator.fetchone()"
   ]
  },
  {
   "cell_type": "code",
   "execution_count": 4,
   "metadata": {},
   "outputs": [
    {
     "name": "stdout",
     "output_type": "stream",
     "text": [
      "[('John', 30), ('Jane', 28), ('Jason', 21), ('Jennifer', 38)]\n"
     ]
    }
   ],
   "source": [
    "all_rows = db_iterator.fetchall()\n",
    "print(all_rows)"
   ]
  },
  {
   "cell_type": "code",
   "execution_count": 5,
   "metadata": {},
   "outputs": [
    {
     "name": "stdout",
     "output_type": "stream",
     "text": [
      "('John', 30)\n"
     ]
    }
   ],
   "source": [
    "db_iterator.execute(\"Some fake query\")\n",
    "print(db_iterator.fetchone())"
   ]
  },
  {
   "cell_type": "code",
   "execution_count": 6,
   "metadata": {},
   "outputs": [
    {
     "name": "stdout",
     "output_type": "stream",
     "text": [
      "('Jane', 28)\n"
     ]
    }
   ],
   "source": [
    "print(db_iterator.fetchone())"
   ]
  },
  {
   "cell_type": "code",
   "execution_count": 7,
   "metadata": {},
   "outputs": [
    {
     "name": "stdout",
     "output_type": "stream",
     "text": [
      "('Jason', 21)\n"
     ]
    }
   ],
   "source": [
    "print(db_iterator.fetchone())"
   ]
  },
  {
   "cell_type": "code",
   "execution_count": 8,
   "metadata": {},
   "outputs": [
    {
     "name": "stdout",
     "output_type": "stream",
     "text": [
      "('Jennifer', 38)\n"
     ]
    }
   ],
   "source": [
    "print(db_iterator.fetchone())"
   ]
  },
  {
   "cell_type": "code",
   "execution_count": 9,
   "metadata": {},
   "outputs": [
    {
     "name": "stdout",
     "output_type": "stream",
     "text": [
      "None\n"
     ]
    }
   ],
   "source": [
    "print(db_iterator.fetchone())"
   ]
  }
 ],
 "metadata": {
  "kernelspec": {
   "display_name": "Python 3",
   "language": "python",
   "name": "python3"
  },
  "language_info": {
   "codemirror_mode": {
    "name": "ipython",
    "version": 3
   },
   "file_extension": ".py",
   "mimetype": "text/x-python",
   "name": "python",
   "nbconvert_exporter": "python",
   "pygments_lexer": "ipython3",
   "version": "3.11.2"
  },
  "orig_nbformat": 4
 },
 "nbformat": 4,
 "nbformat_minor": 2
}
