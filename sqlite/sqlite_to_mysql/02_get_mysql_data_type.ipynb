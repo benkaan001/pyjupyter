{
 "cells": [
  {
   "attachments": {},
   "cell_type": "markdown",
   "metadata": {},
   "source": [
    "### Data Type Conversion\n",
    "\n",
    "- `numeric` in SQLite can be converted to `DECIMAL` in MySQL. For example, `NUMERIC(10,2)` in SQLite can be converted to `DECIMAL(10,2)` in MySQL.\n",
    "\n",
    "- `real` in SQLite can also be converted to `DECIMAL(p,s)`, `DOUBLE` or `FLOAT` in MySQL, depending on your needs.\n",
    "\n",
    "- `datetime` in SQLite can be converted to `DATETIME` in MySQL.\n",
    "\n",
    "- `boolean` in SQLite does not have an equivalent in MySQL. You can use `TINYINT(1)` or `BOOL` instead."
   ]
  },
  {
   "cell_type": "code",
   "execution_count": 1,
   "metadata": {},
   "outputs": [
    {
     "data": {
      "text/plain": [
       "'DECIMAL(15,2)'"
      ]
     },
     "execution_count": 1,
     "metadata": {},
     "output_type": "execute_result"
    }
   ],
   "source": [
    "def get_mysql_data_type(sqlite_type: str) -> str:\n",
    "    \"\"\"\n",
    "    Get the equivalent MySQL data type for a given SQLite data type\n",
    "\n",
    "    Args:\n",
    "        sqlite_type: The SQLite data type to convert\n",
    "\n",
    "    Returns:\n",
    "        The equivalent MySQL data type\n",
    "    \"\"\"\n",
    "    data_type_map = {\"integer\": \"INT\",\n",
    "                     \"real\": \"DECIMAL(15,2)\",\n",
    "                     \"numeric\": \"DECIMAL(15,2)\",\n",
    "                     \"text\": \"VARCHAR(255)\",\n",
    "                     \"datetime\": \"DATETIME\",\n",
    "                     \"boolean\": \"BOOL\",\n",
    "                     \"blob\": \"BLOB\",\n",
    "                     }\n",
    "    return data_type_map.get(sqlite_type.lower(), \"VARCHAR(255)\")\n",
    "\n",
    "\n",
    "float_col_type = get_mysql_data_type(\"real\")\n",
    "float_col_type"
   ]
  },
  {
   "cell_type": "code",
   "execution_count": 2,
   "metadata": {},
   "outputs": [
    {
     "data": {
      "text/plain": [
       "'VARCHAR(255)'"
      ]
     },
     "execution_count": 2,
     "metadata": {},
     "output_type": "execute_result"
    }
   ],
   "source": [
    "misc_type = get_mysql_data_type(\"DOUBLE PRECISION\")\n",
    "misc_type"
   ]
  }
 ],
 "metadata": {
  "kernelspec": {
   "display_name": "Python 3",
   "language": "python",
   "name": "python3"
  },
  "language_info": {
   "codemirror_mode": {
    "name": "ipython",
    "version": 3
   },
   "file_extension": ".py",
   "mimetype": "text/x-python",
   "name": "python",
   "nbconvert_exporter": "python",
   "pygments_lexer": "ipython3",
   "version": "3.11.2"
  },
  "orig_nbformat": 4
 },
 "nbformat": 4,
 "nbformat_minor": 2
}
