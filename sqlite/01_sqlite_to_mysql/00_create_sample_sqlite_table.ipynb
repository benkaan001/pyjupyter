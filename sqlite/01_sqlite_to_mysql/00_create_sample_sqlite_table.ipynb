{
 "cells": [
  {
   "cell_type": "code",
   "execution_count": 1,
   "metadata": {},
   "outputs": [],
   "source": [
    "import sqlite3\n",
    "import pandas as pd"
   ]
  },
  {
   "cell_type": "code",
   "execution_count": 2,
   "metadata": {},
   "outputs": [],
   "source": [
    "def create_sqlite_table() -> None:\n",
    "    with sqlite3.connect('./databases/employee_data.db') as conn:\n",
    "        cursor = conn.cursor()\n",
    "\n",
    "        try:\n",
    "            # Drop the employees table\n",
    "            cursor.execute('''DROP TABLE IF EXISTS employees;''')\n",
    "            \n",
    "            # Create the employees table\n",
    "            cursor.execute('''CREATE TABLE employees (\n",
    "                        id INTEGER PRIMARY KEY,\n",
    "                        name TEXT NOT NULL,\n",
    "                        age INTEGER,\n",
    "                        department TEXT,\n",
    "                        position TEXT,\n",
    "                        salary REAL\n",
    "                        );''')\n",
    "            \n",
    "            # Insert some sample data into the employees table\n",
    "            employees = [\n",
    "                (1, 'John Smith', 35, 'Sales', 'Sales Manager', 150_000.00),\n",
    "                (2, 'Jane Doe', 28, 'Marketing', 'Marketing Coordinator', 135_000.00),\n",
    "                (3, 'Bob Johnson', 42, 'IT', 'Software Engineer', 160_000.00),\n",
    "                (4, 'Sara Lee', 30, 'HR', 'HR Manager', 145_000.00),\n",
    "                (5, 'Mike Brown', 38, 'Operations', 'Operations Manager', 155_000.00),\n",
    "            ]\n",
    "        \n",
    "            cursor.executemany('INSERT INTO employees VALUES (?, ?, ?, ?, ?, ?);', employees)\n",
    "            \n",
    "            # Commit the changes\n",
    "            conn.commit()\n",
    "            \n",
    "            print('Table created successfully')\n",
    "            \n",
    "        except Exception as e:\n",
    "            print(f'Error creating table: {e}')\n",
    "            conn.rollback()"
   ]
  },
  {
   "cell_type": "code",
   "execution_count": 3,
   "metadata": {},
   "outputs": [
    {
     "name": "stdout",
     "output_type": "stream",
     "text": [
      "Table created successfully\n"
     ]
    }
   ],
   "source": [
    "create_sqlite_table()"
   ]
  },
  {
   "attachments": {},
   "cell_type": "markdown",
   "metadata": {},
   "source": [
    "## There are several different ways to fetch data from a sqlite table."
   ]
  },
  {
   "attachments": {},
   "cell_type": "markdown",
   "metadata": {},
   "source": [
    "#### Option 1: Using pandas `read_sql` method."
   ]
  },
  {
   "cell_type": "code",
   "execution_count": 4,
   "metadata": {},
   "outputs": [
    {
     "data": {
      "text/html": [
       "<div>\n",
       "<style scoped>\n",
       "    .dataframe tbody tr th:only-of-type {\n",
       "        vertical-align: middle;\n",
       "    }\n",
       "\n",
       "    .dataframe tbody tr th {\n",
       "        vertical-align: top;\n",
       "    }\n",
       "\n",
       "    .dataframe thead th {\n",
       "        text-align: right;\n",
       "    }\n",
       "</style>\n",
       "<table border=\"1\" class=\"dataframe\">\n",
       "  <thead>\n",
       "    <tr style=\"text-align: right;\">\n",
       "      <th></th>\n",
       "      <th>id</th>\n",
       "      <th>name</th>\n",
       "      <th>age</th>\n",
       "      <th>department</th>\n",
       "      <th>position</th>\n",
       "      <th>salary</th>\n",
       "    </tr>\n",
       "  </thead>\n",
       "  <tbody>\n",
       "    <tr>\n",
       "      <th>0</th>\n",
       "      <td>1</td>\n",
       "      <td>John Smith</td>\n",
       "      <td>35</td>\n",
       "      <td>Sales</td>\n",
       "      <td>Sales Manager</td>\n",
       "      <td>150000.0</td>\n",
       "    </tr>\n",
       "    <tr>\n",
       "      <th>1</th>\n",
       "      <td>2</td>\n",
       "      <td>Jane Doe</td>\n",
       "      <td>28</td>\n",
       "      <td>Marketing</td>\n",
       "      <td>Marketing Coordinator</td>\n",
       "      <td>135000.0</td>\n",
       "    </tr>\n",
       "    <tr>\n",
       "      <th>2</th>\n",
       "      <td>3</td>\n",
       "      <td>Bob Johnson</td>\n",
       "      <td>42</td>\n",
       "      <td>IT</td>\n",
       "      <td>Software Engineer</td>\n",
       "      <td>160000.0</td>\n",
       "    </tr>\n",
       "    <tr>\n",
       "      <th>3</th>\n",
       "      <td>4</td>\n",
       "      <td>Sara Lee</td>\n",
       "      <td>30</td>\n",
       "      <td>HR</td>\n",
       "      <td>HR Manager</td>\n",
       "      <td>145000.0</td>\n",
       "    </tr>\n",
       "    <tr>\n",
       "      <th>4</th>\n",
       "      <td>5</td>\n",
       "      <td>Mike Brown</td>\n",
       "      <td>38</td>\n",
       "      <td>Operations</td>\n",
       "      <td>Operations Manager</td>\n",
       "      <td>155000.0</td>\n",
       "    </tr>\n",
       "  </tbody>\n",
       "</table>\n",
       "</div>"
      ],
      "text/plain": [
       "   id         name  age  department               position    salary\n",
       "0   1   John Smith   35       Sales          Sales Manager  150000.0\n",
       "1   2     Jane Doe   28   Marketing  Marketing Coordinator  135000.0\n",
       "2   3  Bob Johnson   42          IT      Software Engineer  160000.0\n",
       "3   4     Sara Lee   30          HR             HR Manager  145000.0\n",
       "4   5   Mike Brown   38  Operations     Operations Manager  155000.0"
      ]
     },
     "execution_count": 4,
     "metadata": {},
     "output_type": "execute_result"
    }
   ],
   "source": [
    "# Connect to employees_database.db and read data into a pandas dataframe \n",
    "with sqlite3.connect('./databases/employee_data.db') as sqlite_conn:\n",
    "    df = pd.read_sql(\"SELECT * FROM employees\", con=sqlite_conn)\n",
    "\n",
    "df.head(10)"
   ]
  },
  {
   "attachments": {},
   "cell_type": "markdown",
   "metadata": {},
   "source": [
    "### Option 2: using `fetchall()` on the cursor object."
   ]
  },
  {
   "cell_type": "code",
   "execution_count": 6,
   "metadata": {},
   "outputs": [
    {
     "name": "stdout",
     "output_type": "stream",
     "text": [
      "[(1, 'John Smith', 35, 'Sales', 'Sales Manager', 150000.0), (2, 'Jane Doe', 28, 'Marketing', 'Marketing Coordinator', 135000.0), (3, 'Bob Johnson', 42, 'IT', 'Software Engineer', 160000.0), (4, 'Sara Lee', 30, 'HR', 'HR Manager', 145000.0), (5, 'Mike Brown', 38, 'Operations', 'Operations Manager', 155000.0)]\n"
     ]
    }
   ],
   "source": [
    "with sqlite3.connect('./databases/employee_data.db') as sqlite_conn:\n",
    "    cursor = sqlite_conn.cursor()\n",
    "    cursor.execute(\"SELECT * FROM employees\")\n",
    "    data = cursor.fetchall()\n",
    "    print(data)"
   ]
  },
  {
   "cell_type": "code",
   "execution_count": 7,
   "metadata": {},
   "outputs": [],
   "source": [
    "def get_all_employees():\n",
    "    \"\"\"\n",
    "    Fetches all employees data from the SQLite database and returns it as a list of tuples\n",
    "    \n",
    "    Returns:\n",
    "    list: A list of tuples representing employee data\n",
    "    \"\"\"\n",
    "    with sqlite3.connect('./databases/employee_data.db') as sqlite_conn:\n",
    "        cursor = sqlite_conn.cursor()\n",
    "        cursor.execute(\"SELECT * FROM employees\")\n",
    "        data = cursor.fetchall()\n",
    "    return data"
   ]
  },
  {
   "cell_type": "code",
   "execution_count": 8,
   "metadata": {},
   "outputs": [
    {
     "name": "stdout",
     "output_type": "stream",
     "text": [
      "[(1, 'John Smith', 35, 'Sales', 'Sales Manager', 150000.0), (2, 'Jane Doe', 28, 'Marketing', 'Marketing Coordinator', 135000.0), (3, 'Bob Johnson', 42, 'IT', 'Software Engineer', 160000.0), (4, 'Sara Lee', 30, 'HR', 'HR Manager', 145000.0), (5, 'Mike Brown', 38, 'Operations', 'Operations Manager', 155000.0)]\n"
     ]
    }
   ],
   "source": [
    "employees_data = get_all_employees()\n",
    "print(employees_data)"
   ]
  }
 ],
 "metadata": {
  "kernelspec": {
   "display_name": "Python 3",
   "language": "python",
   "name": "python3"
  },
  "language_info": {
   "codemirror_mode": {
    "name": "ipython",
    "version": 3
   },
   "file_extension": ".py",
   "mimetype": "text/x-python",
   "name": "python",
   "nbconvert_exporter": "python",
   "pygments_lexer": "ipython3",
   "version": "3.11.2"
  },
  "orig_nbformat": 4
 },
 "nbformat": 4,
 "nbformat_minor": 2
}
