{
 "cells": [
  {
   "cell_type": "code",
   "execution_count": 1,
   "metadata": {},
   "outputs": [],
   "source": [
    "import sqlite3"
   ]
  },
  {
   "cell_type": "code",
   "execution_count": 2,
   "metadata": {},
   "outputs": [
    {
     "name": "stdout",
     "output_type": "stream",
     "text": [
      "[(0, 'id', 'INTEGER', 0, None, 1), (1, 'name', 'TEXT', 1, None, 0), (2, 'age', 'INTEGER', 0, None, 0), (3, 'department', 'TEXT', 0, None, 0), (4, 'position', 'TEXT', 0, None, 0), (5, 'salary', 'REAL', 0, None, 0)]\n"
     ]
    }
   ],
   "source": [
    "\n",
    "with sqlite3.connect('./data/employee_data.db') as conn:\n",
    "    cursor = conn.cursor()\n",
    "    metadata_query = \"\"\"PRAGMA table_info(employees);\"\"\"\n",
    "    cursor.execute(metadata_query)\n",
    "    schema = cursor.fetchall()\n",
    "    cursor.close()\n",
    "    \n",
    "print(schema)"
   ]
  },
  {
   "cell_type": "code",
   "execution_count": 3,
   "metadata": {},
   "outputs": [
    {
     "data": {
      "text/plain": [
       "[(0, 'id', 'INTEGER', 0, None, 1),\n",
       " (1, 'name', 'TEXT', 1, None, 0),\n",
       " (2, 'age', 'INTEGER', 0, None, 0),\n",
       " (3, 'department', 'TEXT', 0, None, 0),\n",
       " (4, 'position', 'TEXT', 0, None, 0),\n",
       " (5, 'salary', 'REAL', 0, None, 0)]"
      ]
     },
     "execution_count": 3,
     "metadata": {},
     "output_type": "execute_result"
    }
   ],
   "source": [
    "def get_sqlite_schema(table_name: str = \"employees\") -> list:\n",
    "    \"\"\"\n",
    "    Get the schema information for a SQLite table, defaults to 'employees' table\n",
    "\n",
    "    Args:\n",
    "        table_name: The name of the table to get the schema for\n",
    "\n",
    "    Returns:\n",
    "        A list of tuples, where each tuple contains the following values for a column:\n",
    "        (id, name, type, notnull, default_value, primary_key)\n",
    "    \"\"\"\n",
    "    with sqlite3.connect('./data/employee_data.db') as conn:\n",
    "        cursor = conn.cursor()\n",
    "        metadata_query = f\"\"\"PRAGMA table_info({table_name})\"\"\"\n",
    "        cursor.execute(metadata_query)\n",
    "        schema = cursor.fetchall()\n",
    "        return schema\n",
    "    \n",
    "    \n",
    "get_sqlite_schema()"
   ]
  }
 ],
 "metadata": {
  "kernelspec": {
   "display_name": "Python 3",
   "language": "python",
   "name": "python3"
  },
  "language_info": {
   "codemirror_mode": {
    "name": "ipython",
    "version": 3
   },
   "file_extension": ".py",
   "mimetype": "text/x-python",
   "name": "python",
   "nbconvert_exporter": "python",
   "pygments_lexer": "ipython3",
   "version": "3.11.2"
  },
  "orig_nbformat": 4
 },
 "nbformat": 4,
 "nbformat_minor": 2
}
