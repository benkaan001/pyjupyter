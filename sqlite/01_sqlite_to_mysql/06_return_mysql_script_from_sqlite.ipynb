{
 "cells": [
  {
   "cell_type": "code",
   "execution_count": 1,
   "metadata": {},
   "outputs": [],
   "source": [
    "import sqlite3"
   ]
  },
  {
   "cell_type": "code",
   "execution_count": 2,
   "metadata": {},
   "outputs": [
    {
     "name": "stdout",
     "output_type": "stream",
     "text": [
      "[('employees',)]\n"
     ]
    }
   ],
   "source": [
    "with sqlite3.connect('./databases/employee_data.db') as conn:\n",
    "    cursor = conn.cursor()\n",
    "    cursor.execute(\"SELECT name FROM sqlite_master WHERE type='table'\")\n",
    "    tables = cursor.fetchall()\n",
    "    print(tables)\n",
    "    cursor.close()"
   ]
  },
  {
   "cell_type": "code",
   "execution_count": 3,
   "metadata": {},
   "outputs": [
    {
     "name": "stdout",
     "output_type": "stream",
     "text": [
      "CREATE TABLE employees (id INT PRIMARY KEY, name VARCHAR(255), age INT, department VARCHAR(255), position VARCHAR(255), salary DECIMAL(10,2));\n"
     ]
    }
   ],
   "source": [
    "with sqlite3.connect('./databases/employee_data.db') as conn:\n",
    "    cursor = conn.cursor()\n",
    "    table_name = \"employees\"\n",
    "    \n",
    "    script_query = \"\"\"SELECT 'CREATE TABLE ' || ? || ' (' || \n",
    "                  group_concat(name || ' ' || \n",
    "                               CASE lower(type)\n",
    "                                 WHEN 'integer' THEN 'INT'\n",
    "                                 WHEN 'text' THEN 'VARCHAR(255)'\n",
    "                                 WHEN 'real' THEN 'DECIMAL(10,2)'\n",
    "                                 ELSE ''\n",
    "                               END || \n",
    "                               CASE pk \n",
    "                                 WHEN 1 THEN ' PRIMARY KEY'\n",
    "                                 ELSE ''\n",
    "                               END,\n",
    "                               ', '\n",
    "                              ) || ');'\n",
    "                  FROM pragma_table_info(?);\"\"\"\n",
    "    \n",
    "  \n",
    "    cursor.execute(script_query, (table_name, table_name))\n",
    "    schema = cursor.fetchone()[0]\n",
    "    print(schema)\n",
    "    cursor.close()\n"
   ]
  }
 ],
 "metadata": {
  "kernelspec": {
   "display_name": "Python 3",
   "language": "python",
   "name": "python3"
  },
  "language_info": {
   "codemirror_mode": {
    "name": "ipython",
    "version": 3
   },
   "file_extension": ".py",
   "mimetype": "text/x-python",
   "name": "python",
   "nbconvert_exporter": "python",
   "pygments_lexer": "ipython3",
   "version": "3.11.2"
  },
  "orig_nbformat": 4
 },
 "nbformat": 4,
 "nbformat_minor": 2
}
