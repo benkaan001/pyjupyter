{
 "cells": [
  {
   "cell_type": "code",
   "execution_count": 1,
   "metadata": {},
   "outputs": [
    {
     "data": {
      "text/plain": [
       "'FLOAT'"
      ]
     },
     "execution_count": 1,
     "metadata": {},
     "output_type": "execute_result"
    }
   ],
   "source": [
    "def get_mysql_data_type(sqlite_type: str) -> str:\n",
    "    \"\"\"\n",
    "    Get the equivalent MySQL data type for a given SQLite data type\n",
    "\n",
    "    Args:\n",
    "        sqlite_type: The SQLite data type to convert\n",
    "\n",
    "    Returns:\n",
    "        The equivalent MySQL data type\n",
    "    \"\"\"\n",
    "    data_type_map = {\"integer\": \"INT\",\n",
    "                     \"real\": \"FLOAT\",\n",
    "                     \"text\": \"VARCHAR(255)\",\n",
    "                     \"blob\": \"BLOB\",\n",
    "                     }\n",
    "    return data_type_map.get(sqlite_type.lower(), \"VARCHAR(255)\")\n",
    "\n",
    "\n",
    "float_col_type = get_mysql_data_type(\"real\")\n",
    "float_col_type"
   ]
  },
  {
   "cell_type": "code",
   "execution_count": 2,
   "metadata": {},
   "outputs": [
    {
     "data": {
      "text/plain": [
       "'VARCHAR(255)'"
      ]
     },
     "execution_count": 2,
     "metadata": {},
     "output_type": "execute_result"
    }
   ],
   "source": [
    "misc_type = get_mysql_data_type(\"DOUBLE PRECISION\")\n",
    "misc_type"
   ]
  }
 ],
 "metadata": {
  "kernelspec": {
   "display_name": "Python 3",
   "language": "python",
   "name": "python3"
  },
  "language_info": {
   "codemirror_mode": {
    "name": "ipython",
    "version": 3
   },
   "file_extension": ".py",
   "mimetype": "text/x-python",
   "name": "python",
   "nbconvert_exporter": "python",
   "pygments_lexer": "ipython3",
   "version": "3.11.2"
  },
  "orig_nbformat": 4
 },
 "nbformat": 4,
 "nbformat_minor": 2
}
