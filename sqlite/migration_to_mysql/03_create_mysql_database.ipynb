{
 "cells": [
  {
   "cell_type": "code",
   "execution_count": 1,
   "metadata": {},
   "outputs": [],
   "source": [
    "import sqlite3\n",
    "import mysql.connector\n",
    "import pandas as pd\n",
    "from datetime import datetime\n",
    "import os\n",
    "import warnings\n",
    "\n",
    "HOST = os.getenv(\"HOST\")\n",
    "PASSWORD = os.getenv(\"PASSWORD\")\n",
    "USER = os.getenv(\"USER\")\n",
    "DATABASE = \"sqlite_employees\"\n",
    "\n",
    "# suppress the connection warning regarding swithing to sqlalchemy\n",
    "warnings.filterwarnings('ignore')"
   ]
  },
  {
   "cell_type": "code",
   "execution_count": 4,
   "metadata": {},
   "outputs": [
    {
     "name": "stdout",
     "output_type": "stream",
     "text": [
      "`SQLITE_EMPLOYEES` database has been created sucessfully!\n"
     ]
    }
   ],
   "source": [
    "def create_mysql_database(query):\n",
    "    try:\n",
    "        with mysql.connector.connect(host=HOST, user=USER, password=PASSWORD) as mysql_conn:\n",
    "            with mysql_conn.cursor() as cursor:\n",
    "                cursor.execute(query)\n",
    "                print(f\"`{query.split()[-1].upper()}` database has been created sucessfully!\")\n",
    "    except mysql.connector.Error as e:\n",
    "        print(f\"Error creating database: {e}\")\n",
    "\n",
    "database_query = '''CREATE DATABASE IF NOT EXISTS sqlite_employees'''\n",
    "create_mysql_database(database_query)"
   ]
  }
 ],
 "metadata": {
  "kernelspec": {
   "display_name": "Python 3",
   "language": "python",
   "name": "python3"
  },
  "language_info": {
   "codemirror_mode": {
    "name": "ipython",
    "version": 3
   },
   "file_extension": ".py",
   "mimetype": "text/x-python",
   "name": "python",
   "nbconvert_exporter": "python",
   "pygments_lexer": "ipython3",
   "version": "3.11.2"
  },
  "orig_nbformat": 4
 },
 "nbformat": 4,
 "nbformat_minor": 2
}
