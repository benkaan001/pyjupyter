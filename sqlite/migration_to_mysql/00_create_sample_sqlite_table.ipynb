{
 "cells": [
  {
   "cell_type": "code",
   "execution_count": 1,
   "metadata": {},
   "outputs": [],
   "source": [
    "import sqlite3"
   ]
  },
  {
   "cell_type": "code",
   "execution_count": 2,
   "metadata": {},
   "outputs": [],
   "source": [
    "import sqlite3\n",
    "\n",
    "def create_table() -> None:\n",
    "    with sqlite3.connect('employee_database.db') as conn:\n",
    "        cursor = conn.cursor()\n",
    "        \n",
    "        try:\n",
    "            # Drop the employees table\n",
    "            cursor.execute('''DROP TABLE IF EXISTS employees;''')\n",
    "            \n",
    "            # Create the employees table\n",
    "            cursor.execute('''CREATE TABLE employees (\n",
    "                        id INTEGER PRIMARY KEY,\n",
    "                        name TEXT NOT NULL,\n",
    "                        age INTEGER,\n",
    "                        department TEXT,\n",
    "                        position TEXT,\n",
    "                        salary REAL\n",
    "                        );''')\n",
    "            \n",
    "            # Insert some sample data into the employees table\n",
    "            employees = [\n",
    "                (1, 'John Smith', 35, 'Sales', 'Sales Manager', 150_000.00),\n",
    "                (2, 'Jane Doe', 28, 'Marketing', 'Marketing Coordinator', 135_000.00),\n",
    "                (3, 'Bob Johnson', 42, 'IT', 'Software Engineer', 160_000.00),\n",
    "                (4, 'Sara Lee', 30, 'HR', 'HR Manager', 145_000.00),\n",
    "                (5, 'Mike Brown', 38, 'Operations', 'Operations Manager', 155_000.00),\n",
    "            ]\n",
    "        \n",
    "            cursor.executemany('INSERT INTO employees VALUES (?, ?, ?, ?, ?, ?);', employees)\n",
    "            \n",
    "            # Commit the changes\n",
    "            conn.commit()\n",
    "            \n",
    "            print('Table created successfully')\n",
    "            \n",
    "        except Exception as e:\n",
    "            print(f'Error creating table: {e}')\n",
    "            conn.rollback()"
   ]
  },
  {
   "cell_type": "code",
   "execution_count": 3,
   "metadata": {},
   "outputs": [
    {
     "name": "stdout",
     "output_type": "stream",
     "text": [
      "Table created successfully\n"
     ]
    }
   ],
   "source": [
    "create_table()"
   ]
  }
 ],
 "metadata": {
  "kernelspec": {
   "display_name": "Python 3",
   "language": "python",
   "name": "python3"
  },
  "language_info": {
   "codemirror_mode": {
    "name": "ipython",
    "version": 3
   },
   "file_extension": ".py",
   "mimetype": "text/x-python",
   "name": "python",
   "nbconvert_exporter": "python",
   "pygments_lexer": "ipython3",
   "version": "3.11.2"
  },
  "orig_nbformat": 4
 },
 "nbformat": 4,
 "nbformat_minor": 2
}
