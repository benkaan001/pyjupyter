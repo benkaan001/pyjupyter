{
 "cells": [
  {
   "cell_type": "code",
   "execution_count": 1,
   "metadata": {},
   "outputs": [],
   "source": [
    "import sqlite3\n",
    "import mysql.connector\n",
    "import pandas as pd\n",
    "from datetime import datetime\n",
    "import os\n",
    "import warnings\n",
    "\n",
    "HOST = os.getenv(\"HOST\")\n",
    "PASSWORD = os.getenv(\"PASSWORD\")\n",
    "USER = os.getenv(\"USER\")\n",
    "DATABASE = \"sqlite_employees\"\n",
    "\n",
    "# suppress the connection warning regarding swithing to sqlalchemy\n",
    "warnings.filterwarnings('ignore')\n",
    "\n"
   ]
  },
  {
   "attachments": {},
   "cell_type": "markdown",
   "metadata": {},
   "source": [
    "## OPTION 1\n",
    "#### Directly import the function from corresponding notebook(s) with `%run` magic command."
   ]
  },
  {
   "cell_type": "code",
   "execution_count": 2,
   "metadata": {},
   "outputs": [
    {
     "data": {
      "text/plain": [
       "[(0, 'id', 'INTEGER', 0, None, 1),\n",
       " (1, 'name', 'TEXT', 1, None, 0),\n",
       " (2, 'age', 'INTEGER', 0, None, 0),\n",
       " (3, 'department', 'TEXT', 0, None, 0),\n",
       " (4, 'position', 'TEXT', 0, None, 0),\n",
       " (5, 'salary', 'REAL', 0, None, 0)]"
      ]
     },
     "execution_count": 2,
     "metadata": {},
     "output_type": "execute_result"
    }
   ],
   "source": [
    "%run 01_get_sqlite_table_metadata.ipynb import get_sqlite_schema\n",
    "get_sqlite_schema('employees')"
   ]
  },
  {
   "cell_type": "code",
   "execution_count": 3,
   "metadata": {},
   "outputs": [
    {
     "data": {
      "text/plain": [
       "'INT'"
      ]
     },
     "execution_count": 3,
     "metadata": {},
     "output_type": "execute_result"
    }
   ],
   "source": [
    "%run 02_get_mysql_da''ta_type.ipynb import get_mysql_data_type\n",
    "get_mysql_data_type('integer')"
   ]
  },
  {
   "attachments": {},
   "cell_type": "markdown",
   "metadata": {},
   "source": [
    "## (BETTER) OPTION 2\n",
    "#### Create a `utils.py` module and import the functions directly fom that module. "
   ]
  },
  {
   "cell_type": "code",
   "execution_count": 4,
   "metadata": {},
   "outputs": [],
   "source": [
    "from mysql_utils import get_mysql_data_type, get_sqlite_schema"
   ]
  },
  {
   "cell_type": "code",
   "execution_count": 5,
   "metadata": {},
   "outputs": [],
   "source": [
    "def create_mysql_table(table_name: str, schema: list, host: str, user: str, password: str, database: str) -> None:\n",
    "    \"\"\"\n",
    "    Create a MySQL table based on the schema information obtained from a SQLite table\n",
    "\n",
    "    Args:\n",
    "        table_name: The name of the table to create in MySQL\n",
    "        schema: The schema information obtained from the SQLite table\n",
    "        host: The MySQL server host to connect to\n",
    "        user: The MySQL server user to authenticate as\n",
    "        password: The password for the MySQL server user\n",
    "        database: The name of the MySQL database to use\n",
    "    \"\"\"\n",
    "    with mysql.connector.connect(host=host, user=user, password=password, database=database) as conn:\n",
    "        cursor = conn.cursor()\n",
    "\n",
    "        # Drop the table if it exists\n",
    "        cursor.execute(f'DROP TABLE IF EXISTS {table_name}')\n",
    "\n",
    "        # Create the table\n",
    "        create_table_query = f'CREATE TABLE {table_name} ('\n",
    "        for i, (col_id, col_name, col_type, _, _, is_pk) in enumerate(schema):\n",
    "            if i > 0:\n",
    "                create_table_query += ', '\n",
    "            create_table_query += f'{col_name} {get_mysql_data_type(col_type)}'\n",
    "            if is_pk:\n",
    "                create_table_query += ' PRIMARY KEY AUTO_INCREMENT'\n",
    "        create_table_query += ');'\n",
    "        cursor.execute(create_table_query)\n",
    "\n",
    "        # Add a timestamp column to the table\n",
    "        alter_query = f\"\"\"ALTER TABLE {table_name} ADD COLUMN created_at TIMESTAMP DEFAULT CURRENT_TIMESTAMP;\"\"\"\n",
    "        cursor.execute(alter_query)\n",
    "        \n",
    "        # Print the column information as confirmation\n",
    "        describe_query = f\"\"\"SHOW COLUMNS FROM {table_name}\"\"\"\n",
    "        cursor.execute(describe_query)\n",
    "        rows = cursor.fetchall()\n",
    "        print(('FIELD', 'TYPE', 'NULL', 'KEY', 'DEFAULT', 'EXTRA')) # show columns command metadata\n",
    "        for row in rows:\n",
    "            print(row)\n",
    "            # print(tuple(x.decode() if isinstance(x, bytes) else x for x in row))\n",
    "\n",
    "        # Commit the changes\n",
    "        conn.commit()"
   ]
  },
  {
   "cell_type": "code",
   "execution_count": 6,
   "metadata": {},
   "outputs": [
    {
     "name": "stdout",
     "output_type": "stream",
     "text": [
      "('FIELD', 'TYPE', 'NULL', 'KEY', 'DEFAULT', 'EXTRA')\n",
      "('id', b'int', 'NO', 'PRI', None, 'auto_increment')\n",
      "('name', b'varchar(255)', 'YES', '', None, '')\n",
      "('age', b'int', 'YES', '', None, '')\n",
      "('department', b'varchar(255)', 'YES', '', None, '')\n",
      "('position', b'varchar(255)', 'YES', '', None, '')\n",
      "('salary', b'float', 'YES', '', None, '')\n",
      "('created_at', b'timestamp', 'YES', '', b'CURRENT_TIMESTAMP', 'DEFAULT_GENERATED')\n"
     ]
    }
   ],
   "source": [
    "create_mysql_table(table_name='employees', \n",
    "                   schema=get_sqlite_schema('employees'),\n",
    "                   host=HOST,\n",
    "                   user=USER,\n",
    "                   password=PASSWORD,\n",
    "                   database=DATABASE)"
   ]
  },
  {
   "attachments": {},
   "cell_type": "markdown",
   "metadata": {},
   "source": [
    "The `b` prefix before the string in the output above represents a `bytes` object. In Python, a `bytes` object is a squence of bytes(values from 0 to 255) that represetn a sequence of characters.\n",
    "\n",
    "As of Python 3.x, the `decode()` method is not available on `str` objects because they are already Unicode objects. Nevertheles, when we retrieve data from a database using Python, it is often returned as bytes object - due to the internal workings of the `mysql library`. This is because the data may contain non-ASCII characters or special characters that need to be encoded in a specific format.\n",
    "\n",
    "To convert the `bytes` object to a `str` object, we need to use the `decode()` method. "
   ]
  },
  {
   "attachments": {},
   "cell_type": "markdown",
   "metadata": {},
   "source": [
    "## Updated Code"
   ]
  },
  {
   "cell_type": "code",
   "execution_count": 7,
   "metadata": {},
   "outputs": [],
   "source": [
    "def create_mysql_table(table_name: str, schema: list, host: str, user: str, password: str, database: str) -> None:\n",
    "    \"\"\"\n",
    "    Create a MySQL table based on the schema information obtained from a SQLite table\n",
    "\n",
    "    Args:\n",
    "        table_name: The name of the table to create in MySQL\n",
    "        schema: The schema information obtained from the SQLite table\n",
    "        host: The MySQL server host to connect to\n",
    "        user: The MySQL server user to authenticate as\n",
    "        password: The password for the MySQL server user\n",
    "        database: The name of the MySQL database to use\n",
    "    \"\"\"\n",
    "    with mysql.connector.connect(host=host, user=user, password=password, database=database) as conn:\n",
    "        cursor = conn.cursor()\n",
    "\n",
    "        # Drop the table if it exists\n",
    "        cursor.execute(f'DROP TABLE IF EXISTS {table_name}')\n",
    "\n",
    "        # Create the table\n",
    "        create_table_query = f'CREATE TABLE {table_name} ('\n",
    "        for i, (col_id, col_name, col_type, _, _, is_pk) in enumerate(schema):\n",
    "            if i > 0:\n",
    "                create_table_query += ', '\n",
    "            create_table_query += f'{col_name} {get_mysql_data_type(col_type)}'\n",
    "            if is_pk:\n",
    "                create_table_query += ' PRIMARY KEY AUTO_INCREMENT'\n",
    "        create_table_query += ');'\n",
    "        cursor.execute(create_table_query)\n",
    "\n",
    "        # Add a timestamp column to the table\n",
    "        alter_query = f\"\"\"ALTER TABLE {table_name} ADD COLUMN created_at TIMESTAMP DEFAULT CURRENT_TIMESTAMP;\"\"\"\n",
    "        cursor.execute(alter_query)\n",
    "        \n",
    "        # Print the column information as confirmation\n",
    "        describe_query = f\"\"\"SHOW COLUMNS FROM {table_name}\"\"\"\n",
    "        cursor.execute(describe_query)\n",
    "        rows = cursor.fetchall()\n",
    "        print(('FIELD', 'TYPE', 'NULL', 'KEY', 'DEFAULT', 'EXTRA')) # show columns command metadata\n",
    "        for row in rows:\n",
    "            # print(row)\n",
    "            print(tuple(x.decode() if isinstance(x, bytes) else x for x in row))\n",
    "\n",
    "        # Commit the changes\n",
    "        conn.commit()"
   ]
  },
  {
   "cell_type": "code",
   "execution_count": 8,
   "metadata": {},
   "outputs": [
    {
     "name": "stdout",
     "output_type": "stream",
     "text": [
      "('FIELD', 'TYPE', 'NULL', 'KEY', 'DEFAULT', 'EXTRA')\n",
      "('id', 'int', 'NO', 'PRI', None, 'auto_increment')\n",
      "('name', 'varchar(255)', 'YES', '', None, '')\n",
      "('age', 'int', 'YES', '', None, '')\n",
      "('department', 'varchar(255)', 'YES', '', None, '')\n",
      "('position', 'varchar(255)', 'YES', '', None, '')\n",
      "('salary', 'float', 'YES', '', None, '')\n",
      "('created_at', 'timestamp', 'YES', '', 'CURRENT_TIMESTAMP', 'DEFAULT_GENERATED')\n"
     ]
    }
   ],
   "source": [
    "create_mysql_table(table_name='employees', \n",
    "                   schema=get_sqlite_schema('employees'),\n",
    "                   host=HOST,\n",
    "                   user=USER,\n",
    "                   password=PASSWORD,\n",
    "                   database=DATABASE)"
   ]
  }
 ],
 "metadata": {
  "kernelspec": {
   "display_name": "Python 3",
   "language": "python",
   "name": "python3"
  },
  "language_info": {
   "codemirror_mode": {
    "name": "ipython",
    "version": 3
   },
   "file_extension": ".py",
   "mimetype": "text/x-python",
   "name": "python",
   "nbconvert_exporter": "python",
   "pygments_lexer": "ipython3",
   "version": "3.11.2"
  },
  "orig_nbformat": 4
 },
 "nbformat": 4,
 "nbformat_minor": 2
}
