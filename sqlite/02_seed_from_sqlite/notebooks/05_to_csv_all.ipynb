{
 "cells": [
  {
   "attachments": {},
   "cell_type": "markdown",
   "metadata": {},
   "source": [
    "## Need to automate the csv file creation process. "
   ]
  },
  {
   "cell_type": "code",
   "execution_count": 1,
   "metadata": {},
   "outputs": [],
   "source": [
    "import sqlite3\n",
    "import csv \n",
    "import sys \n",
    "sys.path.append('..') # ensure utils is reachable\n",
    "from utils.print_column_names import print_column_names"
   ]
  },
  {
   "cell_type": "code",
   "execution_count": 2,
   "metadata": {},
   "outputs": [
    {
     "name": "stdout",
     "output_type": "stream",
     "text": [
      "['albums', 'sqlite_sequence', 'artists', 'customers', 'employees', 'genres', 'invoices', 'invoice_items', 'media_types', 'playlists', 'playlist_track', 'tracks', 'sqlite_stat1']\n"
     ]
    }
   ],
   "source": [
    "with sqlite3.connect('../databases/MediaStore.db') as conn:\n",
    "    cursor = conn.cursor()\n",
    "    \n",
    "    # retrieve table names from sqlite_master table\n",
    "    cursor.execute(\"\"\" SELECT name FROM sqlite_master WHERE type='table' \"\"\")\n",
    "    table_names = [result[0] for result in cursor.fetchall()]\n",
    "    print(table_names)"
   ]
  },
  {
   "cell_type": "code",
   "execution_count": 3,
   "metadata": {},
   "outputs": [
    {
     "name": "stdout",
     "output_type": "stream",
     "text": [
      "albums.csv file has been created successfully.\n",
      "artists.csv file has been created successfully.\n",
      "customers.csv file has been created successfully.\n",
      "employees.csv file has been created successfully.\n",
      "genres.csv file has been created successfully.\n",
      "invoices.csv file has been created successfully.\n",
      "invoice_items.csv file has been created successfully.\n",
      "media_types.csv file has been created successfully.\n",
      "playlists.csv file has been created successfully.\n",
      "playlist_track.csv file has been created successfully.\n",
      "tracks.csv file has been created successfully.\n"
     ]
    }
   ],
   "source": [
    "with sqlite3.connect('../databases/MediaStore.db') as conn:\n",
    "    cursor = conn.cursor()\n",
    "    \n",
    "    # retrieve table names from sqlite_master table\n",
    "    cursor.execute(\"\"\" SELECT name FROM sqlite_master WHERE type='table' \"\"\")\n",
    "    \n",
    "    # exclude the built in statistical tables\n",
    "    table_names = [result[0] for result in cursor.fetchall() if not result[0].startswith('sqlite')]\n",
    "    for table_name in table_names:\n",
    "        \n",
    "        # Get the table data \n",
    "        cursor.execute(f\"\"\"SELECT * FROM {table_name}\"\"\")\n",
    "        table_data = cursor.fetchall()\n",
    "        \n",
    "        # Write the table data to a csv file\n",
    "        with open(f'../output/{table_name}.csv', 'w', newline='') as f:\n",
    "            writer = csv.writer(f)\n",
    "            column_names = print_column_names(table_name)\n",
    "            writer.writerow(column_names)\n",
    "            writer.writerows(table_data)\n",
    "            print(f\"{table_name}.csv file has been created successfully.\")\n",
    "\n",
    "        "
   ]
  }
 ],
 "metadata": {
  "kernelspec": {
   "display_name": "Python 3",
   "language": "python",
   "name": "python3"
  },
  "language_info": {
   "codemirror_mode": {
    "name": "ipython",
    "version": 3
   },
   "file_extension": ".py",
   "mimetype": "text/x-python",
   "name": "python",
   "nbconvert_exporter": "python",
   "pygments_lexer": "ipython3",
   "version": "3.11.2"
  },
  "orig_nbformat": 4
 },
 "nbformat": 4,
 "nbformat_minor": 2
}
