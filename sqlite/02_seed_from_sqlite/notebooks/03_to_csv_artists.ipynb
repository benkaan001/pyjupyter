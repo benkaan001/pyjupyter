{
 "cells": [
  {
   "cell_type": "code",
   "execution_count": 1,
   "metadata": {},
   "outputs": [],
   "source": [
    "import sqlite3\n",
    "import csv "
   ]
  },
  {
   "cell_type": "code",
   "execution_count": 2,
   "metadata": {},
   "outputs": [
    {
     "name": "stdout",
     "output_type": "stream",
     "text": [
      "artists created successfully!\n"
     ]
    }
   ],
   "source": [
    "# Connect to the sqlite database\n",
    "with sqlite3.connect('../databases/MediaStore.db') as conn:\n",
    "    cursor = conn.cursor()\n",
    "    \n",
    "    # Get the arists data from sqlite\n",
    "    table_name = \"artists\"\n",
    "    cursor.execute(f\"\"\"SELECT * FROM {table_name}\"\"\")\n",
    "    artist_data = cursor.fetchall()\n",
    "    \n",
    "    # Write the Aritst data to a CSV file\n",
    "    with open(f'../output/{table_name}.csv', 'w', newline='') as f:\n",
    "        writer = csv.writer(f)\n",
    "        writer.writerow(['ArtistId', 'Name'])\n",
    "        writer.writerows(artist_data)\n",
    "        print(f'{table_name} created successfully!')"
   ]
  }
 ],
 "metadata": {
  "kernelspec": {
   "display_name": "Python 3",
   "language": "python",
   "name": "python3"
  },
  "language_info": {
   "codemirror_mode": {
    "name": "ipython",
    "version": 3
   },
   "file_extension": ".py",
   "mimetype": "text/x-python",
   "name": "python",
   "nbconvert_exporter": "python",
   "pygments_lexer": "ipython3",
   "version": "3.11.2"
  },
  "orig_nbformat": 4
 },
 "nbformat": 4,
 "nbformat_minor": 2
}
