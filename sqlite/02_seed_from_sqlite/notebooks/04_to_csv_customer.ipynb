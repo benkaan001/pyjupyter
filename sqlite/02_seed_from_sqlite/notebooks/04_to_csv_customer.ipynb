{
 "cells": [
  {
   "attachments": {},
   "cell_type": "markdown",
   "metadata": {},
   "source": [
    "## Need to create a util function to generate column names."
   ]
  },
  {
   "cell_type": "code",
   "execution_count": 1,
   "metadata": {},
   "outputs": [],
   "source": [
    "import sqlite3\n",
    "import csv \n",
    "import sys \n",
    "sys.path.append('..') # ensure utils is reachable\n",
    "from utils.print_column_names import print_column_names"
   ]
  },
  {
   "cell_type": "code",
   "execution_count": 2,
   "metadata": {},
   "outputs": [
    {
     "name": "stdout",
     "output_type": "stream",
     "text": [
      "    Column names are: ['CustomerId', 'FirstName', 'LastName', 'Company', 'Address', 'City', 'State', 'Country', 'PostalCode', 'Phone', 'Fax', 'Email', 'SupportRepId']\n",
      "\n",
      "customers created successfully!\n"
     ]
    }
   ],
   "source": [
    "# Connect to the sqlite database\n",
    "with sqlite3.connect('../databases/MediaStore.db') as conn:\n",
    "    cursor = conn.cursor()\n",
    "    \n",
    "    # Get the Customers data from sqlite\n",
    "    table_name = \"customers\"\n",
    "    cursor.execute(f\"\"\"SELECT * FROM {table_name}\"\"\")\n",
    "    customers_data = cursor.fetchall()\n",
    "    \n",
    "    # Write the Customers data to a CSV file\n",
    "    with open(f'../output/{table_name}.csv', 'w', newline='') as f:\n",
    "        writer = csv.writer(f)\n",
    "        column_names = print_column_names(table_name)\n",
    "        print(f\"    Column names are: {column_names}\\n\")\n",
    "        writer.writerow(column_names)\n",
    "        writer.writerows(customers_data)\n",
    "        print(f'{table_name} created successfully!')"
   ]
  }
 ],
 "metadata": {
  "kernelspec": {
   "display_name": "Python 3",
   "language": "python",
   "name": "python3"
  },
  "language_info": {
   "codemirror_mode": {
    "name": "ipython",
    "version": 3
   },
   "file_extension": ".py",
   "mimetype": "text/x-python",
   "name": "python",
   "nbconvert_exporter": "python",
   "pygments_lexer": "ipython3",
   "version": "3.11.2"
  },
  "orig_nbformat": 4
 },
 "nbformat": 4,
 "nbformat_minor": 2
}
