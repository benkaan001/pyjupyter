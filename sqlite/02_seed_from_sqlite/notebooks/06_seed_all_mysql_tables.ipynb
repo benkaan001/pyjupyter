{
 "cells": [
  {
   "cell_type": "code",
   "execution_count": 1,
   "metadata": {},
   "outputs": [],
   "source": [
    "import mysql.connector\n",
    "import csv\n",
    "import sys \n",
    "sys.path.append('..')\n",
    "from utils.config import MYSQL_CONFIG"
   ]
  },
  {
   "cell_type": "code",
   "execution_count": 2,
   "metadata": {},
   "outputs": [
    {
     "name": "stdout",
     "output_type": "stream",
     "text": [
      "[('albums',), ('artists',), ('customers',), ('employees',), ('genres',), ('invoice_items',), ('invoices',), ('media_types',), ('playlist_track',), ('playlists',), ('tracks',)]\n"
     ]
    }
   ],
   "source": [
    "with mysql.connector.connect(**MYSQL_CONFIG) as conn:\n",
    "    cursor = conn.cursor()\n",
    "        \n",
    "    # Execute the SHOW TABLES command\n",
    "    cursor.execute(\"SHOW TABLES\")\n",
    "        \n",
    "    # Iterate over the results \n",
    "    tables = cursor.fetchall()\n",
    "    print(tables)"
   ]
  },
  {
   "cell_type": "code",
   "execution_count": 3,
   "metadata": {},
   "outputs": [
    {
     "name": "stdout",
     "output_type": "stream",
     "text": [
      "['albums', 'artists', 'customers', 'employees', 'genres', 'invoice_items', 'invoices', 'media_types', 'playlist_track', 'playlists', 'tracks']\n"
     ]
    }
   ],
   "source": [
    "with mysql.connector.connect(**MYSQL_CONFIG) as conn:\n",
    "    cursor = conn.cursor()\n",
    "        \n",
    "    # Execute the SHOW TABLES command\n",
    "    cursor.execute(\"SHOW TABLES\")\n",
    "        \n",
    "    # Iterate over the results \n",
    "    tables = [table[0] for table in cursor.fetchall()]\n",
    "    print(tables)"
   ]
  },
  {
   "cell_type": "code",
   "execution_count": 4,
   "metadata": {},
   "outputs": [
    {
     "data": {
      "text/plain": [
       "['albums',\n",
       " 'artists',\n",
       " 'customers',\n",
       " 'employees',\n",
       " 'genres',\n",
       " 'invoice_items',\n",
       " 'invoices',\n",
       " 'media_types',\n",
       " 'playlist_track',\n",
       " 'playlists',\n",
       " 'tracks']"
      ]
     },
     "execution_count": 4,
     "metadata": {},
     "output_type": "execute_result"
    }
   ],
   "source": [
    "def get_table_names():\n",
    "    with mysql.connector.connect(**MYSQL_CONFIG) as conn:\n",
    "        cursor = conn.cursor()\n",
    "        \n",
    "        # Execute the SHOW TABLES command\n",
    "        cursor.execute(\"SHOW TABLES\")\n",
    "        \n",
    "        # Iterate over the results and return the first item in the tuple\n",
    "        tables = [table[0] for table in cursor.fetchall()]\n",
    "        \n",
    "        return tables\n",
    "\n",
    "get_table_names()"
   ]
  },
  {
   "cell_type": "code",
   "execution_count": 5,
   "metadata": {},
   "outputs": [],
   "source": [
    "def seed_table(table_name: str, csv_file_path: str) -> int:\n",
    "    \"\"\"\n",
    "    Seeds the specified table with data from a CSV file.\n",
    "\n",
    "    Args:\n",
    "        table_name (str): The name of the table to seed.\n",
    "        csv_file_path (str): The path to the CSV file containing the data.\n",
    "\n",
    "    Returns:\n",
    "        int: The number of rows inserted into the table.\n",
    "    \"\"\"\n",
    "    with mysql.connector.connect(**MYSQL_CONFIG) as conn:\n",
    "        cursor = conn.cursor()\n",
    "        \n",
    "        # Disable foreign key checks\n",
    "        cursor.execute('SET foreign_key_checks = 0')\n",
    "        \n",
    "        # Load the data from the CSV file inot MySQL\n",
    "        with open(csv_file_path) as f:\n",
    "            csv_data = csv.reader(f)\n",
    "            next(csv_data) # skip the header row\n",
    "            rows_inserted = 0\n",
    "            for row in csv_data:\n",
    "                # replace the empty strings with None values\n",
    "                row = [None if value == \"\" else value for value in row]\n",
    "                place_holders = ', '.join(['%s']*len(row))\n",
    "                query =f\"\"\"INSERT INTO {table_name} VALUES( {place_holders})\"\"\"\n",
    "                try:\n",
    "                    cursor.execute(query, row)\n",
    "                    rows_inserted += 1\n",
    "                except Exception as e:\n",
    "                    print(e)\n",
    "        \n",
    "        # Commit the changes \n",
    "        conn.commit()\n",
    "        cursor.execute('SET foreign_key_checks = 1')\n",
    "        \n",
    "    return rows_inserted"
   ]
  },
  {
   "cell_type": "code",
   "execution_count": 6,
   "metadata": {},
   "outputs": [
    {
     "name": "stdout",
     "output_type": "stream",
     "text": [
      "275 rows inserted into artists table.\n",
      "347 rows inserted into albums table.\n",
      "25 rows inserted into genres table.\n",
      "5 rows inserted into media_types table.\n",
      "3503 rows inserted into tracks table.\n",
      "8 rows inserted into employees table.\n",
      "59 rows inserted into customers table.\n",
      "412 rows inserted into invoices table.\n",
      "2240 rows inserted into invoice_items table.\n",
      "18 rows inserted into playlists table.\n",
      "8715 rows inserted into playlist_track table.\n"
     ]
    }
   ],
   "source": [
    "# Loop through each table and seed it with data from the correspoinding CSV file \n",
    "# table_names = get_table_names() # due to FK constraint need to seed the tables in this order\n",
    "table_names = ['artists', 'albums', 'genres', 'media_types', 'tracks', \\\n",
    "    'employees', 'customers', 'invoices', 'invoice_items', 'playlists', 'playlist_track' ]\n",
    "for table_name in table_names:\n",
    "    csv_file_path = f\"../output/{table_name.lower()}.csv\"\n",
    "    \n",
    "    rows_inserted = seed_table(table_name, csv_file_path)\n",
    "    print(f\"{rows_inserted} rows inserted into {table_name} table.\")\n",
    "    "
   ]
  }
 ],
 "metadata": {
  "kernelspec": {
   "display_name": "Python 3",
   "language": "python",
   "name": "python3"
  },
  "language_info": {
   "codemirror_mode": {
    "name": "ipython",
    "version": 3
   },
   "file_extension": ".py",
   "mimetype": "text/x-python",
   "name": "python",
   "nbconvert_exporter": "python",
   "pygments_lexer": "ipython3",
   "version": "3.11.2"
  },
  "orig_nbformat": 4
 },
 "nbformat": 4,
 "nbformat_minor": 2
}
