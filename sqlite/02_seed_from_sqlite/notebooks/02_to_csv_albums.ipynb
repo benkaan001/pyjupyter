{
 "cells": [
  {
   "cell_type": "code",
   "execution_count": 1,
   "metadata": {},
   "outputs": [],
   "source": [
    "import sqlite3\n",
    "import csv "
   ]
  },
  {
   "attachments": {},
   "cell_type": "markdown",
   "metadata": {},
   "source": [
    "## Get the table names first."
   ]
  },
  {
   "cell_type": "code",
   "execution_count": 2,
   "metadata": {},
   "outputs": [
    {
     "name": "stdout",
     "output_type": "stream",
     "text": [
      "['albums', 'sqlite_sequence', 'artists', 'customers', 'employees', 'genres', 'invoices', 'invoice_items', 'media_types', 'playlists', 'playlist_track', 'tracks', 'sqlite_stat1']\n"
     ]
    }
   ],
   "source": [
    "# Connect to the sqlite database\n",
    "with sqlite3.connect('../databases/MediaStore.db') as conn:\n",
    "    cursor = conn.cursor()\n",
    "    cursor.execute(\"SELECT name FROM sqlite_master WHERE type='table';\")\n",
    "    table_names = [result[0] for result in cursor.fetchall()]\n",
    "    print(table_names)"
   ]
  },
  {
   "cell_type": "code",
   "execution_count": 3,
   "metadata": {},
   "outputs": [
    {
     "name": "stdout",
     "output_type": "stream",
     "text": [
      "albums created successfully.\n"
     ]
    }
   ],
   "source": [
    "# Connect to the sqlite database\n",
    "with sqlite3.connect('../databases/MediaStore.db') as conn:\n",
    "    cursor = conn.cursor()\n",
    "    \n",
    "    # Get the album data from sqlite\n",
    "    table_name = 'albums'\n",
    "    cursor.execute(f\"\"\"SELECT * FROM {table_name}\"\"\")\n",
    "    album_data = cursor.fetchall()\n",
    "    \n",
    "    # Write the Album data to a CSV file\n",
    "    with open(f'../output/{table_name}.csv', 'w', newline='') as f:\n",
    "        writer = csv.writer(f)\n",
    "        writer.writerow(['AlbumId', 'Title', 'ArtistId'])\n",
    "        writer.writerows(album_data)\n",
    "        print(f\"{table_name} created successfully.\")"
   ]
  }
 ],
 "metadata": {
  "kernelspec": {
   "display_name": "Python 3",
   "language": "python",
   "name": "python3"
  },
  "language_info": {
   "codemirror_mode": {
    "name": "ipython",
    "version": 3
   },
   "file_extension": ".py",
   "mimetype": "text/x-python",
   "name": "python",
   "nbconvert_exporter": "python",
   "pygments_lexer": "ipython3",
   "version": "3.11.2"
  },
  "orig_nbformat": 4
 },
 "nbformat": 4,
 "nbformat_minor": 2
}
