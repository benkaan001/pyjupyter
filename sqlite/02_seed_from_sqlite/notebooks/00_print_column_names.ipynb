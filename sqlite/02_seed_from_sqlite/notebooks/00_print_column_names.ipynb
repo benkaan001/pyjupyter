{
 "cells": [
  {
   "cell_type": "code",
   "execution_count": 1,
   "metadata": {},
   "outputs": [],
   "source": [
    "import sqlite3"
   ]
  },
  {
   "cell_type": "code",
   "execution_count": 2,
   "metadata": {},
   "outputs": [],
   "source": [
    "def print_column_names(table_name):\n",
    "    with sqlite3.connect('../databases/MediaStore.db') as conn:\n",
    "        cursor = conn.cursor()\n",
    "\n",
    "        # Get the column names of the specified table\n",
    "        cursor.execute(f\"PRAGMA table_info({table_name})\")\n",
    "        column_names =[col[1] for col in cursor.fetchall()]\n",
    "\n",
    "        return column_names"
   ]
  },
  {
   "cell_type": "code",
   "execution_count": 3,
   "metadata": {},
   "outputs": [
    {
     "data": {
      "text/plain": [
       "['CustomerId',\n",
       " 'FirstName',\n",
       " 'LastName',\n",
       " 'Company',\n",
       " 'Address',\n",
       " 'City',\n",
       " 'State',\n",
       " 'Country',\n",
       " 'PostalCode',\n",
       " 'Phone',\n",
       " 'Fax',\n",
       " 'Email',\n",
       " 'SupportRepId']"
      ]
     },
     "execution_count": 3,
     "metadata": {},
     "output_type": "execute_result"
    }
   ],
   "source": [
    "print_column_names('customers')"
   ]
  }
 ],
 "metadata": {
  "kernelspec": {
   "display_name": "Python 3",
   "language": "python",
   "name": "python3"
  },
  "language_info": {
   "codemirror_mode": {
    "name": "ipython",
    "version": 3
   },
   "file_extension": ".py",
   "mimetype": "text/x-python",
   "name": "python",
   "nbconvert_exporter": "python",
   "pygments_lexer": "ipython3",
   "version": "3.11.2"
  },
  "orig_nbformat": 4
 },
 "nbformat": 4,
 "nbformat_minor": 2
}
