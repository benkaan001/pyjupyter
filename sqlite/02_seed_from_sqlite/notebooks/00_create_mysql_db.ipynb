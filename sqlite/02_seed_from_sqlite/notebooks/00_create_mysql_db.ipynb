{
 "cells": [
  {
   "cell_type": "code",
   "execution_count": 1,
   "metadata": {},
   "outputs": [],
   "source": [
    "import mysql.connector\n",
    "import sys \n",
    "sys.path.append('..') # add the path of the utils folder\n",
    "from utils.config import MYSQL_CONFIG_CREATE_DB"
   ]
  },
  {
   "cell_type": "code",
   "execution_count": 2,
   "metadata": {},
   "outputs": [
    {
     "name": "stdout",
     "output_type": "stream",
     "text": [
      "`SQLITE_MEDIASTORE` database has been created sucessfully!\n"
     ]
    }
   ],
   "source": [
    "def create_mysql_database(query):\n",
    "    try:\n",
    "        with mysql.connector.connect(**MYSQL_CONFIG_CREATE_DB) as mysql_conn:\n",
    "            with mysql_conn.cursor() as cursor:\n",
    "                cursor.execute(query)\n",
    "                print(f\"`{query.split()[-1].upper()}` database has been created sucessfully!\")\n",
    "    except mysql.connector.Error as e:\n",
    "        print(f\"Error creating database: {e}\")\n",
    "\n",
    "database_query = '''CREATE DATABASE IF NOT EXISTS sqlite_MediaStore'''\n",
    "create_mysql_database(database_query)"
   ]
  }
 ],
 "metadata": {
  "kernelspec": {
   "display_name": "Python 3",
   "language": "python",
   "name": "python3"
  },
  "language_info": {
   "codemirror_mode": {
    "name": "ipython",
    "version": 3
   },
   "file_extension": ".py",
   "mimetype": "text/x-python",
   "name": "python",
   "nbconvert_exporter": "python",
   "pygments_lexer": "ipython3",
   "version": "3.11.2"
  },
  "orig_nbformat": 4
 },
 "nbformat": 4,
 "nbformat_minor": 2
}
