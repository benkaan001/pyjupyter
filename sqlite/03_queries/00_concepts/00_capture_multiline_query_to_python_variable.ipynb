{
 "cells": [
  {
   "cell_type": "code",
   "execution_count": 1,
   "metadata": {},
   "outputs": [],
   "source": [
    "%run ../utils/setup_notebook.ipynb"
   ]
  },
  {
   "attachments": {},
   "cell_type": "markdown",
   "metadata": {},
   "source": [
    "There are different ways to capture multi-line query into a python variable. \n",
    "\n",
    "1. Save the query into a `TEMP TABLE` and use `SELECT *` in a single line.\n",
    "2. Use the `<<` operator as shown below."
   ]
  },
  {
   "attachments": {},
   "cell_type": "markdown",
   "metadata": {},
   "source": [
    "## OPTION 1"
   ]
  },
  {
   "cell_type": "code",
   "execution_count": 2,
   "metadata": {
    "vscode": {
     "languageId": "sql"
    }
   },
   "outputs": [
    {
     "data": {
      "text/plain": [
       "[]"
      ]
     },
     "execution_count": 2,
     "metadata": {},
     "output_type": "execute_result"
    }
   ],
   "source": [
    "%%sql\n",
    "\n",
    "-- Step 1.Save the results to a temp_table\n",
    "CREATE TEMPORARY TABLE temp_table AS \n",
    "SELECT c.Country, \n",
    "    AVG(i.Total / t.CustomerCount) AS AvgRevenuePerCustomer,\n",
    "    t.TotalRevenue\n",
    "FROM customers c\n",
    "JOIN (\n",
    "    SELECT BillingCountry, \n",
    "        COUNT(DISTINCT CustomerId) AS CustomerCount, \n",
    "        TRUNCATE(SUM(Total), 2) AS TotalRevenue\n",
    "    FROM invoices\n",
    "    GROUP BY BillingCountry\n",
    "    HAVING COUNT(DISTINCT CustomerId) > 3\n",
    ") t ON c.Country = t.BillingCountry\n",
    "JOIN invoices i ON c.CustomerId = i.CustomerId\n",
    "GROUP BY c.Country\n",
    "ORDER BY AvgRevenuePerCustomer DESC;"
   ]
  },
  {
   "cell_type": "code",
   "execution_count": 3,
   "metadata": {},
   "outputs": [
    {
     "data": {
      "text/html": [
       "<table>\n",
       "    <thead>\n",
       "        <tr>\n",
       "            <th>Country</th>\n",
       "            <th>AvgRevenuePerCustomer</th>\n",
       "            <th>TotalRevenue</th>\n",
       "        </tr>\n",
       "    </thead>\n",
       "    <tbody>\n",
       "        <tr>\n",
       "            <td>Germany</td>\n",
       "            <td>1.397142857142857</td>\n",
       "            <td>156.48</td>\n",
       "        </tr>\n",
       "        <tr>\n",
       "            <td>France</td>\n",
       "            <td>1.1148571428571432</td>\n",
       "            <td>195.09</td>\n",
       "        </tr>\n",
       "        <tr>\n",
       "            <td>Brazil</td>\n",
       "            <td>1.0862857142857145</td>\n",
       "            <td>190.09</td>\n",
       "        </tr>\n",
       "        <tr>\n",
       "            <td>Canada</td>\n",
       "            <td>0.6784821428571428</td>\n",
       "            <td>303.95</td>\n",
       "        </tr>\n",
       "        <tr>\n",
       "            <td>USA</td>\n",
       "            <td>0.442147083685545</td>\n",
       "            <td>523.06</td>\n",
       "        </tr>\n",
       "    </tbody>\n",
       "</table>"
      ],
      "text/plain": [
       "[('Germany', 1.397142857142857, 156.48),\n",
       " ('France', 1.1148571428571432, 195.09),\n",
       " ('Brazil', 1.0862857142857145, 190.09),\n",
       " ('Canada', 0.6784821428571428, 303.95),\n",
       " ('USA', 0.442147083685545, 523.06)]"
      ]
     },
     "execution_count": 3,
     "metadata": {},
     "output_type": "execute_result"
    }
   ],
   "source": [
    "option1_result = %sql SELECT * FROM temp_table\n",
    "option1_result"
   ]
  },
  {
   "attachments": {},
   "cell_type": "markdown",
   "metadata": {},
   "source": [
    "## OPTION 2"
   ]
  },
  {
   "cell_type": "code",
   "execution_count": 5,
   "metadata": {},
   "outputs": [
    {
     "name": "stdout",
     "output_type": "stream",
     "text": [
      "Returning data to local variable option2_result\n"
     ]
    }
   ],
   "source": [
    "%%sql option2_result << SELECT c.Country, \n",
    "    AVG(i.Total / t.CustomerCount) AS AvgRevenuePerCustomer,\n",
    "    t.TotalRevenue\n",
    "FROM customers c\n",
    "JOIN (\n",
    "    SELECT BillingCountry, \n",
    "        COUNT(DISTINCT CustomerId) AS CustomerCount, \n",
    "        TRUNCATE(SUM(Total), 2) AS TotalRevenue\n",
    "    FROM invoices\n",
    "    GROUP BY BillingCountry\n",
    "    HAVING COUNT(DISTINCT CustomerId) > 3\n",
    ") t ON c.Country = t.BillingCountry\n",
    "JOIN invoices i ON c.CustomerId = i.CustomerId\n",
    "GROUP BY c.Country\n",
    "ORDER BY AvgRevenuePerCustomer DESC;"
   ]
  },
  {
   "cell_type": "code",
   "execution_count": 6,
   "metadata": {},
   "outputs": [
    {
     "data": {
      "text/html": [
       "<table>\n",
       "    <thead>\n",
       "        <tr>\n",
       "            <th>Country</th>\n",
       "            <th>AvgRevenuePerCustomer</th>\n",
       "            <th>TotalRevenue</th>\n",
       "        </tr>\n",
       "    </thead>\n",
       "    <tbody>\n",
       "        <tr>\n",
       "            <td>Germany</td>\n",
       "            <td>1.397142857142857</td>\n",
       "            <td>156.48</td>\n",
       "        </tr>\n",
       "        <tr>\n",
       "            <td>France</td>\n",
       "            <td>1.1148571428571432</td>\n",
       "            <td>195.09</td>\n",
       "        </tr>\n",
       "        <tr>\n",
       "            <td>Brazil</td>\n",
       "            <td>1.0862857142857145</td>\n",
       "            <td>190.09</td>\n",
       "        </tr>\n",
       "        <tr>\n",
       "            <td>Canada</td>\n",
       "            <td>0.6784821428571428</td>\n",
       "            <td>303.95</td>\n",
       "        </tr>\n",
       "        <tr>\n",
       "            <td>USA</td>\n",
       "            <td>0.442147083685545</td>\n",
       "            <td>523.06</td>\n",
       "        </tr>\n",
       "    </tbody>\n",
       "</table>"
      ],
      "text/plain": [
       "[('Germany', 1.397142857142857, 156.48),\n",
       " ('France', 1.1148571428571432, 195.09),\n",
       " ('Brazil', 1.0862857142857145, 190.09),\n",
       " ('Canada', 0.6784821428571428, 303.95),\n",
       " ('USA', 0.442147083685545, 523.06)]"
      ]
     },
     "execution_count": 6,
     "metadata": {},
     "output_type": "execute_result"
    }
   ],
   "source": [
    "option2_result"
   ]
  }
 ],
 "metadata": {
  "kernelspec": {
   "display_name": "Python 3",
   "language": "python",
   "name": "python3"
  },
  "language_info": {
   "codemirror_mode": {
    "name": "ipython",
    "version": 3
   },
   "file_extension": ".py",
   "mimetype": "text/x-python",
   "name": "python",
   "nbconvert_exporter": "python",
   "pygments_lexer": "ipython3",
   "version": "3.11.2"
  },
  "orig_nbformat": 4
 },
 "nbformat": 4,
 "nbformat_minor": 2
}
