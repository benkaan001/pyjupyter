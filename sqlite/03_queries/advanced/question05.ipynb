{
 "cells": [
  {
   "attachments": {},
   "cell_type": "markdown",
   "metadata": {},
   "source": [
    "## Question 5\n",
    "`Write a query to retrieve the names of all customers who have made a purchase within 45 days of their last purchase in 2010.`\n",
    "\n",
    "(Hint: use the LAG() window function and the TIMESTAMPDIFF() function)\n",
    "\n",
    "## Expected Output:\n",
    "\n",
    "|   CustomerId |   TotalPurchase | PurchaseDate   | PreviousPurchaseDate   |\n",
    "|-------------:|----------------:|:---------------|:-----------------------|\n",
    "|            3 |           13.86 | 2010-04-21     | 2010-03-11             |\n",
    "|            7 |           18.86 | 2010-01-18     | 2009-12-08             |\n",
    "|           12 |           13.86 | 2010-12-25     | 2010-11-14             |\n",
    "|           16 |           13.86 | 2010-09-23     | 2010-08-13             |\n",
    "|           20 |           13.86 | 2010-06-22     | 2010-05-12             |\n",
    "|           24 |           15.86 | 2010-03-21     | 2010-02-08             |\n",
    "|           33 |           13.86 | 2010-11-24     | 2010-10-14             |\n",
    "|           37 |           13.86 | 2010-08-23     | 2010-07-13             |\n",
    "|           41 |           13.86 | 2010-05-22     | 2010-04-11             |\n",
    "|           45 |           21.86 | 2010-02-18     | 2010-01-08             |\n",
    "|           54 |           13.86 | 2010-10-24     | 2010-09-13             |\n",
    "|           58 |           13.86 | 2010-07-23     | 2010-06-12             |"
   ]
  },
  {
   "cell_type": "code",
   "execution_count": 1,
   "metadata": {},
   "outputs": [],
   "source": [
    "%run ../utils/setup_notebook.ipynb\n",
    "import sys \n",
    "sys.path.append('../')\n",
    "from utils.format_sql_result import format_sql_result"
   ]
  },
  {
   "cell_type": "code",
   "execution_count": 2,
   "metadata": {
    "vscode": {
     "languageId": "sql"
    }
   },
   "outputs": [
    {
     "data": {
      "text/html": [
       "<table>\n",
       "    <thead>\n",
       "        <tr>\n",
       "            <th>CustomerId</th>\n",
       "            <th>FirstName</th>\n",
       "            <th>LastName</th>\n",
       "            <th>Company</th>\n",
       "            <th>Address</th>\n",
       "            <th>City</th>\n",
       "            <th>State</th>\n",
       "            <th>Country</th>\n",
       "            <th>PostalCode</th>\n",
       "            <th>Phone</th>\n",
       "            <th>Fax</th>\n",
       "            <th>Email</th>\n",
       "            <th>SupportRepId</th>\n",
       "        </tr>\n",
       "    </thead>\n",
       "    <tbody>\n",
       "        <tr>\n",
       "            <td>1</td>\n",
       "            <td>Luís</td>\n",
       "            <td>Gonçalves</td>\n",
       "            <td>Embraer - Empresa Brasileira de Aeronáutica S.A.</td>\n",
       "            <td>Av. Brigadeiro Faria Lima, 2170</td>\n",
       "            <td>São José dos Campos</td>\n",
       "            <td>SP</td>\n",
       "            <td>Brazil</td>\n",
       "            <td>12227-000</td>\n",
       "            <td>+55 (12) 3923-5555</td>\n",
       "            <td>+55 (12) 3923-5566</td>\n",
       "            <td>luisg@embraer.com.br</td>\n",
       "            <td>3</td>\n",
       "        </tr>\n",
       "    </tbody>\n",
       "</table>"
      ],
      "text/plain": [
       "[(1, 'Luís', 'Gonçalves', 'Embraer - Empresa Brasileira de Aeronáutica S.A.', 'Av. Brigadeiro Faria Lima, 2170', 'São José dos Campos', 'SP', 'Brazil', '12227-000', '+55 (12) 3923-5555', '+55 (12) 3923-5566', 'luisg@embraer.com.br', 3)]"
      ]
     },
     "execution_count": 2,
     "metadata": {},
     "output_type": "execute_result"
    }
   ],
   "source": [
    "%%sql\n",
    "\n",
    "SELECT *\n",
    "FROM customers \n",
    "LIMIT 1;"
   ]
  },
  {
   "cell_type": "code",
   "execution_count": 3,
   "metadata": {
    "vscode": {
     "languageId": "sql"
    }
   },
   "outputs": [
    {
     "data": {
      "text/html": [
       "<table>\n",
       "    <thead>\n",
       "        <tr>\n",
       "            <th>InvoiceId</th>\n",
       "            <th>CustomerId</th>\n",
       "            <th>InvoiceDate</th>\n",
       "            <th>BillingAddress</th>\n",
       "            <th>BillingCity</th>\n",
       "            <th>BillingState</th>\n",
       "            <th>BillingCountry</th>\n",
       "            <th>BillingPostalCode</th>\n",
       "            <th>Total</th>\n",
       "        </tr>\n",
       "    </thead>\n",
       "    <tbody>\n",
       "        <tr>\n",
       "            <td>1</td>\n",
       "            <td>2</td>\n",
       "            <td>2009-01-01 00:00:00</td>\n",
       "            <td>Theodor-Heuss-Straße 34</td>\n",
       "            <td>Stuttgart</td>\n",
       "            <td>None</td>\n",
       "            <td>Germany</td>\n",
       "            <td>70174</td>\n",
       "            <td>1.98</td>\n",
       "        </tr>\n",
       "    </tbody>\n",
       "</table>"
      ],
      "text/plain": [
       "[(1, 2, '2009-01-01 00:00:00', 'Theodor-Heuss-Straße 34', 'Stuttgart', None, 'Germany', '70174', 1.98)]"
      ]
     },
     "execution_count": 3,
     "metadata": {},
     "output_type": "execute_result"
    }
   ],
   "source": [
    "%%sql\n",
    "\n",
    "SELECT *\n",
    "FROM invoices\n",
    "LIMIT 1;"
   ]
  },
  {
   "cell_type": "code",
   "execution_count": 9,
   "metadata": {
    "vscode": {
     "languageId": "sql"
    }
   },
   "outputs": [
    {
     "data": {
      "text/html": [
       "<table>\n",
       "    <thead>\n",
       "        <tr>\n",
       "            <th>CustomerId</th>\n",
       "            <th>TotalPurchase</th>\n",
       "            <th>PurchaseDay</th>\n",
       "        </tr>\n",
       "    </thead>\n",
       "    <tbody>\n",
       "        <tr>\n",
       "            <td>1</td>\n",
       "            <td>3.98</td>\n",
       "            <td>2010-03-11</td>\n",
       "        </tr>\n",
       "        <tr>\n",
       "            <td>1</td>\n",
       "            <td>3.96</td>\n",
       "            <td>2010-06-13</td>\n",
       "        </tr>\n",
       "        <tr>\n",
       "            <td>1</td>\n",
       "            <td>5.94</td>\n",
       "            <td>2010-09-15</td>\n",
       "        </tr>\n",
       "        <tr>\n",
       "            <td>1</td>\n",
       "            <td>0.99</td>\n",
       "            <td>2011-05-06</td>\n",
       "        </tr>\n",
       "        <tr>\n",
       "            <td>1</td>\n",
       "            <td>1.98</td>\n",
       "            <td>2012-10-27</td>\n",
       "        </tr>\n",
       "    </tbody>\n",
       "</table>"
      ],
      "text/plain": [
       "[(1, 3.98, datetime.date(2010, 3, 11)),\n",
       " (1, 3.96, datetime.date(2010, 6, 13)),\n",
       " (1, 5.94, datetime.date(2010, 9, 15)),\n",
       " (1, 0.99, datetime.date(2011, 5, 6)),\n",
       " (1, 1.98, datetime.date(2012, 10, 27))]"
      ]
     },
     "execution_count": 9,
     "metadata": {},
     "output_type": "execute_result"
    }
   ],
   "source": [
    "%%sql \n",
    "\n",
    "SELECT c.CustomerId, SUM(i.Total)  AS TotalPurchase, \n",
    "DATE(i.InvoiceDate) AS PurchaseDate\n",
    "FROM customers c \n",
    "JOIN invoices i ON c.CustomerId = i.CustomerId\n",
    "GROUP BY c.CustomerId, PurchaseDate\n",
    "LIMIT 5;\n",
    "\n"
   ]
  },
  {
   "cell_type": "code",
   "execution_count": 16,
   "metadata": {
    "vscode": {
     "languageId": "sql"
    }
   },
   "outputs": [
    {
     "data": {
      "text/html": [
       "<table>\n",
       "    <thead>\n",
       "        <tr>\n",
       "            <th>CustomerId</th>\n",
       "            <th>TotalPurchase</th>\n",
       "            <th>PurchaseDate</th>\n",
       "            <th>PreviousPurchaseDate</th>\n",
       "        </tr>\n",
       "    </thead>\n",
       "    <tbody>\n",
       "        <tr>\n",
       "            <td>1</td>\n",
       "            <td>3.98</td>\n",
       "            <td>2010-03-11</td>\n",
       "            <td>None</td>\n",
       "        </tr>\n",
       "        <tr>\n",
       "            <td>1</td>\n",
       "            <td>3.96</td>\n",
       "            <td>2010-06-13</td>\n",
       "            <td>2010-03-11</td>\n",
       "        </tr>\n",
       "        <tr>\n",
       "            <td>1</td>\n",
       "            <td>5.94</td>\n",
       "            <td>2010-09-15</td>\n",
       "            <td>2010-06-13</td>\n",
       "        </tr>\n",
       "        <tr>\n",
       "            <td>1</td>\n",
       "            <td>0.99</td>\n",
       "            <td>2011-05-06</td>\n",
       "            <td>2010-09-15</td>\n",
       "        </tr>\n",
       "        <tr>\n",
       "            <td>1</td>\n",
       "            <td>1.98</td>\n",
       "            <td>2012-10-27</td>\n",
       "            <td>2011-05-06</td>\n",
       "        </tr>\n",
       "    </tbody>\n",
       "</table>"
      ],
      "text/plain": [
       "[(1, 3.98, datetime.date(2010, 3, 11), None),\n",
       " (1, 3.96, datetime.date(2010, 6, 13), datetime.date(2010, 3, 11)),\n",
       " (1, 5.94, datetime.date(2010, 9, 15), datetime.date(2010, 6, 13)),\n",
       " (1, 0.99, datetime.date(2011, 5, 6), datetime.date(2010, 9, 15)),\n",
       " (1, 1.98, datetime.date(2012, 10, 27), datetime.date(2011, 5, 6))]"
      ]
     },
     "execution_count": 16,
     "metadata": {},
     "output_type": "execute_result"
    }
   ],
   "source": [
    "%%sql \n",
    "\n",
    "-- no reference to PreviousPurchaseDate in a WHERE clause in the SELECT statement\n",
    "WITH customer_purchases AS(\n",
    "    SELECT c.CustomerId, \n",
    "        SUM(i.Total) AS TotalPurchase, \n",
    "        DATE(i.InvoiceDate) AS PurchaseDate\n",
    "    FROM customers c \n",
    "    JOIN invoices i ON c.CustomerId = i.CustomerId\n",
    "    GROUP BY c.CustomerId, PurchaseDate\n",
    ")\n",
    "SELECT \n",
    "    CustomerId,\n",
    "    TotalPurchase,\n",
    "    PurchaseDate,\n",
    "    LAG(PurchaseDate, 1) OVER(\n",
    "        PARTITION BY CustomerId \n",
    "        ORDER BY PurchaseDate) AS PreviousPurchaseDate\n",
    "FROM customer_purchases\n",
    "LIMIT 5;"
   ]
  },
  {
   "attachments": {},
   "cell_type": "markdown",
   "metadata": {},
   "source": [
    "#### ` `**WINDOW FUNCTIONS**`  such as  `**LAG()**`  are evaluated after  `**WHERE**` clause. Therefore, the WHERE clause cannot reference a column alias defined using a window function.`\n",
    "\n",
    "#### ⛔️ `MUST USE THE WINDOW FUNCTION INSIDE A `**Common Table Expression(CTE)**` or `**Subquery!**``"
   ]
  },
  {
   "cell_type": "code",
   "execution_count": 19,
   "metadata": {
    "vscode": {
     "languageId": "sql"
    }
   },
   "outputs": [
    {
     "name": "stdout",
     "output_type": "stream",
     "text": [
      "(mysql.connector.errors.ProgrammingError) 1054 (42S22): Unknown column 'PreviousPurchaseDate' in 'where clause'\n",
      "[SQL: WITH customer_purchases AS(\n",
      "    SELECT c.CustomerId, \n",
      "        SUM(i.Total) AS TotalPurchase, \n",
      "        DATE(i.InvoiceDate) AS PurchaseDate\n",
      "    FROM customers c \n",
      "    JOIN invoices i ON c.CustomerId = i.CustomerId\n",
      "    GROUP BY c.CustomerId, PurchaseDate\n",
      ")\n",
      "SELECT \n",
      "    CustomerId,\n",
      "    TotalPurchase,\n",
      "    PurchaseDate,\n",
      "    LAG(PurchaseDate, 1) OVER(\n",
      "        PARTITION BY CustomerId \n",
      "        ORDER BY PurchaseDate) AS PreviousPurchaseDate\n",
      "FROM customer_purchases\n",
      "WHERE PreviousPurchaseDate IS NOT NULL AND \n",
      "    TIMESTAMPDIFF(DAY, PreviousPurchaseDate, PurchaseDate) <= 30]\n",
      "(Background on this error at: https://sqlalche.me/e/20/f405)\n"
     ]
    }
   ],
   "source": [
    "%%sql \n",
    "\n",
    "-- results in error \n",
    "WITH customer_purchases AS(\n",
    "    SELECT c.CustomerId, \n",
    "        SUM(i.Total) AS TotalPurchase, \n",
    "        DATE(i.InvoiceDate) AS PurchaseDate\n",
    "    FROM customers c \n",
    "    JOIN invoices i ON c.CustomerId = i.CustomerId\n",
    "    GROUP BY c.CustomerId, PurchaseDate\n",
    ")\n",
    "SELECT \n",
    "    CustomerId,\n",
    "    TotalPurchase,\n",
    "    PurchaseDate,\n",
    "    LAG(PurchaseDate, 1) OVER(\n",
    "        PARTITION BY CustomerId \n",
    "        ORDER BY PurchaseDate) AS PreviousPurchaseDate\n",
    "FROM customer_purchases\n",
    "WHERE PreviousPurchaseDate IS NOT NULL AND \n",
    "    TIMESTAMPDIFF(DAY, PreviousPurchaseDate, PurchaseDate) <= 30"
   ]
  },
  {
   "cell_type": "code",
   "execution_count": 22,
   "metadata": {
    "vscode": {
     "languageId": "sql"
    }
   },
   "outputs": [
    {
     "name": "stdout",
     "output_type": "stream",
     "text": [
      "(mysql.connector.errors.DatabaseError) 3593 (HY000): You cannot use the window function 'lag' in this context.'\n",
      "[SQL: -- results in error \n",
      "WITH customer_purchases AS(\n",
      "    SELECT c.CustomerId, \n",
      "        SUM(i.Total) AS TotalPurchase, \n",
      "        DATE(i.InvoiceDate) AS PurchaseDate\n",
      "    FROM customers c \n",
      "    JOIN invoices i ON c.CustomerId = i.CustomerId\n",
      "    GROUP BY c.CustomerId, PurchaseDate\n",
      ")\n",
      "SELECT \n",
      "    CustomerId,\n",
      "    TotalPurchase,\n",
      "    PurchaseDate,\n",
      "    LAG(PurchaseDate, 1) OVER(\n",
      "        PARTITION BY CustomerId \n",
      "        ORDER BY PurchaseDate) AS PreviousPurchaseDate\n",
      "FROM customer_purchases\n",
      "WHERE LAG(PurchaseDate, 1) OVER(\n",
      "        PARTITION BY CustomerId \n",
      "        ORDER BY PurchaseDate) IS NOT NULL AND \n",
      "    TIMESTAMPDIFF(DAY, LAG(PurchaseDate, 1) OVER(\n",
      "        PARTITION BY CustomerId \n",
      "        ORDER BY PurchaseDate), PurchaseDate) <= 30]\n",
      "(Background on this error at: https://sqlalche.me/e/20/4xp6)\n"
     ]
    }
   ],
   "source": [
    "%%sql \n",
    "\n",
    "-- difficult to read and results in error \n",
    "WITH customer_purchases AS(\n",
    "    SELECT c.CustomerId, \n",
    "        SUM(i.Total) AS TotalPurchase, \n",
    "        DATE(i.InvoiceDate) AS PurchaseDate\n",
    "    FROM customers c \n",
    "    JOIN invoices i ON c.CustomerId = i.CustomerId\n",
    "    GROUP BY c.CustomerId, PurchaseDate\n",
    ")\n",
    "SELECT \n",
    "    CustomerId,\n",
    "    TotalPurchase,\n",
    "    PurchaseDate,\n",
    "    LAG(PurchaseDate, 1) OVER(\n",
    "        PARTITION BY CustomerId \n",
    "        ORDER BY PurchaseDate) AS PreviousPurchaseDate\n",
    "FROM customer_purchases\n",
    "WHERE LAG(PurchaseDate, 1) OVER(\n",
    "        PARTITION BY CustomerId \n",
    "        ORDER BY PurchaseDate) IS NOT NULL AND \n",
    "    TIMESTAMPDIFF(DAY, LAG(PurchaseDate, 1) OVER(\n",
    "        PARTITION BY CustomerId \n",
    "        ORDER BY PurchaseDate), PurchaseDate) <= 30\n"
   ]
  },
  {
   "cell_type": "code",
   "execution_count": 38,
   "metadata": {
    "vscode": {
     "languageId": "sql"
    }
   },
   "outputs": [
    {
     "data": {
      "text/html": [
       "<table>\n",
       "    <thead>\n",
       "        <tr>\n",
       "            <th>CustomerId</th>\n",
       "            <th>TotalPurchase</th>\n",
       "            <th>PurchaseDate</th>\n",
       "            <th>PreviousPurchaseDate</th>\n",
       "        </tr>\n",
       "    </thead>\n",
       "    <tbody>\n",
       "        <tr>\n",
       "            <td>3</td>\n",
       "            <td>13.86</td>\n",
       "            <td>2010-04-21</td>\n",
       "            <td>2010-03-11</td>\n",
       "        </tr>\n",
       "        <tr>\n",
       "            <td>7</td>\n",
       "            <td>18.86</td>\n",
       "            <td>2010-01-18</td>\n",
       "            <td>2009-12-08</td>\n",
       "        </tr>\n",
       "        <tr>\n",
       "            <td>12</td>\n",
       "            <td>13.86</td>\n",
       "            <td>2010-12-25</td>\n",
       "            <td>2010-11-14</td>\n",
       "        </tr>\n",
       "        <tr>\n",
       "            <td>16</td>\n",
       "            <td>13.86</td>\n",
       "            <td>2010-09-23</td>\n",
       "            <td>2010-08-13</td>\n",
       "        </tr>\n",
       "        <tr>\n",
       "            <td>20</td>\n",
       "            <td>13.86</td>\n",
       "            <td>2010-06-22</td>\n",
       "            <td>2010-05-12</td>\n",
       "        </tr>\n",
       "        <tr>\n",
       "            <td>24</td>\n",
       "            <td>15.86</td>\n",
       "            <td>2010-03-21</td>\n",
       "            <td>2010-02-08</td>\n",
       "        </tr>\n",
       "        <tr>\n",
       "            <td>33</td>\n",
       "            <td>13.86</td>\n",
       "            <td>2010-11-24</td>\n",
       "            <td>2010-10-14</td>\n",
       "        </tr>\n",
       "        <tr>\n",
       "            <td>37</td>\n",
       "            <td>13.86</td>\n",
       "            <td>2010-08-23</td>\n",
       "            <td>2010-07-13</td>\n",
       "        </tr>\n",
       "        <tr>\n",
       "            <td>41</td>\n",
       "            <td>13.86</td>\n",
       "            <td>2010-05-22</td>\n",
       "            <td>2010-04-11</td>\n",
       "        </tr>\n",
       "        <tr>\n",
       "            <td>45</td>\n",
       "            <td>21.86</td>\n",
       "            <td>2010-02-18</td>\n",
       "            <td>2010-01-08</td>\n",
       "        </tr>\n",
       "        <tr>\n",
       "            <td>54</td>\n",
       "            <td>13.86</td>\n",
       "            <td>2010-10-24</td>\n",
       "            <td>2010-09-13</td>\n",
       "        </tr>\n",
       "        <tr>\n",
       "            <td>58</td>\n",
       "            <td>13.86</td>\n",
       "            <td>2010-07-23</td>\n",
       "            <td>2010-06-12</td>\n",
       "        </tr>\n",
       "    </tbody>\n",
       "</table>"
      ],
      "text/plain": [
       "[(3, 13.86, datetime.date(2010, 4, 21), datetime.date(2010, 3, 11)),\n",
       " (7, 18.86, datetime.date(2010, 1, 18), datetime.date(2009, 12, 8)),\n",
       " (12, 13.86, datetime.date(2010, 12, 25), datetime.date(2010, 11, 14)),\n",
       " (16, 13.86, datetime.date(2010, 9, 23), datetime.date(2010, 8, 13)),\n",
       " (20, 13.86, datetime.date(2010, 6, 22), datetime.date(2010, 5, 12)),\n",
       " (24, 15.86, datetime.date(2010, 3, 21), datetime.date(2010, 2, 8)),\n",
       " (33, 13.86, datetime.date(2010, 11, 24), datetime.date(2010, 10, 14)),\n",
       " (37, 13.86, datetime.date(2010, 8, 23), datetime.date(2010, 7, 13)),\n",
       " (41, 13.86, datetime.date(2010, 5, 22), datetime.date(2010, 4, 11)),\n",
       " (45, 21.86, datetime.date(2010, 2, 18), datetime.date(2010, 1, 8)),\n",
       " (54, 13.86, datetime.date(2010, 10, 24), datetime.date(2010, 9, 13)),\n",
       " (58, 13.86, datetime.date(2010, 7, 23), datetime.date(2010, 6, 12))]"
      ]
     },
     "execution_count": 38,
     "metadata": {},
     "output_type": "execute_result"
    }
   ],
   "source": [
    "%%sql \n",
    "\n",
    "-- modify the sql_mode of the MySQL server to enable \n",
    "-- non-aggregated columns in the SELECT statement\n",
    "\n",
    "SET sql_mode = '';\n",
    "\n",
    "WITH customer_purchases AS(\n",
    "    SELECT c.CustomerId, \n",
    "        SUM(i.Total) AS TotalPurchase, \n",
    "        DATE(i.InvoiceDate) AS PurchaseDate,\n",
    "        LAG(DATE(i.InvoiceDate), 1) OVER (\n",
    "            PARTITION BY c.CustomerId \n",
    "            ORDER BY DATE(i.InvoiceDate)) AS PreviousPurchaseDate\n",
    "    FROM customers c \n",
    "    JOIN invoices i ON c.CustomerId = i.CustomerId\n",
    "    GROUP BY c.CustomerId, PurchaseDate\n",
    ")\n",
    "SELECT \n",
    "    CustomerId,\n",
    "    TotalPurchase,\n",
    "    PurchaseDate,\n",
    "    PreviousPurchaseDate\n",
    "FROM customer_purchases\n",
    "WHERE PreviousPurchaseDate IS NOT NULL \n",
    "    AND YEAR(PurchaseDate) = 2010\n",
    "    AND TIMESTAMPDIFF(DAY, PreviousPurchaseDate, PurchaseDate) < 45;\n"
   ]
  },
  {
   "attachments": {},
   "cell_type": "markdown",
   "metadata": {},
   "source": [
    "#### Generate the `Expected Output` markdown text input."
   ]
  },
  {
   "cell_type": "code",
   "execution_count": 39,
   "metadata": {
    "vscode": {
     "languageId": "sql"
    }
   },
   "outputs": [
    {
     "name": "stdout",
     "output_type": "stream",
     "text": [
      "Returning data to local variable lag_result\n"
     ]
    }
   ],
   "source": [
    "%%sql lag_result << SET sql_mode = '';\n",
    "\n",
    "WITH customer_purchases AS(\n",
    "    SELECT c.CustomerId, \n",
    "        SUM(i.Total) AS TotalPurchase, \n",
    "        DATE(i.InvoiceDate) AS PurchaseDate,\n",
    "        LAG(DATE(i.InvoiceDate), 1) OVER (\n",
    "            PARTITION BY c.CustomerId \n",
    "            ORDER BY DATE(i.InvoiceDate)) AS PreviousPurchaseDate\n",
    "    FROM customers c \n",
    "    JOIN invoices i ON c.CustomerId = i.CustomerId\n",
    "    GROUP BY c.CustomerId, PurchaseDate\n",
    ")\n",
    "SELECT \n",
    "    CustomerId,\n",
    "    TotalPurchase,\n",
    "    PurchaseDate,\n",
    "    PreviousPurchaseDate\n",
    "FROM customer_purchases\n",
    "WHERE PreviousPurchaseDate IS NOT NULL \n",
    "    AND YEAR(PurchaseDate) = 2010\n",
    "    AND TIMESTAMPDIFF(DAY, PreviousPurchaseDate, PurchaseDate) < 45;"
   ]
  },
  {
   "cell_type": "code",
   "execution_count": 40,
   "metadata": {},
   "outputs": [
    {
     "name": "stdout",
     "output_type": "stream",
     "text": [
      "|   CustomerId |   TotalPurchase | PurchaseDate   | PreviousPurchaseDate   |\n",
      "|-------------:|----------------:|:---------------|:-----------------------|\n",
      "|            3 |           13.86 | 2010-04-21     | 2010-03-11             |\n",
      "|            7 |           18.86 | 2010-01-18     | 2009-12-08             |\n",
      "|           12 |           13.86 | 2010-12-25     | 2010-11-14             |\n",
      "|           16 |           13.86 | 2010-09-23     | 2010-08-13             |\n",
      "|           20 |           13.86 | 2010-06-22     | 2010-05-12             |\n",
      "|           24 |           15.86 | 2010-03-21     | 2010-02-08             |\n",
      "|           33 |           13.86 | 2010-11-24     | 2010-10-14             |\n",
      "|           37 |           13.86 | 2010-08-23     | 2010-07-13             |\n",
      "|           41 |           13.86 | 2010-05-22     | 2010-04-11             |\n",
      "|           45 |           21.86 | 2010-02-18     | 2010-01-08             |\n",
      "|           54 |           13.86 | 2010-10-24     | 2010-09-13             |\n",
      "|           58 |           13.86 | 2010-07-23     | 2010-06-12             |\n"
     ]
    }
   ],
   "source": [
    "format_sql_result(lag_result)"
   ]
  }
 ],
 "metadata": {
  "kernelspec": {
   "display_name": "Python 3",
   "language": "python",
   "name": "python3"
  },
  "language_info": {
   "codemirror_mode": {
    "name": "ipython",
    "version": 3
   },
   "file_extension": ".py",
   "mimetype": "text/x-python",
   "name": "python",
   "nbconvert_exporter": "python",
   "pygments_lexer": "ipython3",
   "version": "3.11.2"
  },
  "orig_nbformat": 4
 },
 "nbformat": 4,
 "nbformat_minor": 2
}
