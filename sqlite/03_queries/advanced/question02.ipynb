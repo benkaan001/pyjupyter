{
 "cells": [
  {
   "attachments": {},
   "cell_type": "markdown",
   "metadata": {},
   "source": [
    "# Question 2\n",
    "\n",
    "`Write a query to retrieve the top 5 customers who have spent the most amount in the first 9 months of year 2012.`\n",
    "\n",
    "(Hint: use the HAVING clause to filter out customers who have only made one purchase)\n",
    "\n",
    "## Expected Output\n",
    "| CustomerId | CustomerFullName   | PurchaseCount | TotalSpend | InvoiceId | FirstPurchaseDate |\n",
    "| ---       | ---                | ---           | ---        | ---       | ---               |\n",
    "| 26        | Richard Cunningham | 14            | 23.86      | 299       | 2012-08-05       |\n",
    "| 55        | Mark Taylor        | 14            | 13.86      | 250       | 2012-01-01       |\n",
    "| 34        | João Fernandes     | 14            | 13.86      | 257       | 2012-02-01       |\n",
    "| 13        | Fernanda Ramos     | 14            | 13.86      | 264       | 2012-03-03       |\n",
    "| 51        | Joakim Johansson   | 14            | 13.86      | 271       | 2012-04-03       |\n"
   ]
  },
  {
   "cell_type": "code",
   "execution_count": 1,
   "metadata": {},
   "outputs": [],
   "source": [
    "%run ../utils/setup_notebook.ipynb"
   ]
  },
  {
   "cell_type": "code",
   "execution_count": 2,
   "metadata": {
    "vscode": {
     "languageId": "sql"
    }
   },
   "outputs": [
    {
     "data": {
      "text/html": [
       "<table>\n",
       "    <thead>\n",
       "        <tr>\n",
       "            <th>CustomerId</th>\n",
       "            <th>FirstName</th>\n",
       "            <th>LastName</th>\n",
       "            <th>Company</th>\n",
       "            <th>Address</th>\n",
       "            <th>City</th>\n",
       "            <th>State</th>\n",
       "            <th>Country</th>\n",
       "            <th>PostalCode</th>\n",
       "            <th>Phone</th>\n",
       "            <th>Fax</th>\n",
       "            <th>Email</th>\n",
       "            <th>SupportRepId</th>\n",
       "        </tr>\n",
       "    </thead>\n",
       "    <tbody>\n",
       "        <tr>\n",
       "            <td>1</td>\n",
       "            <td>Luís</td>\n",
       "            <td>Gonçalves</td>\n",
       "            <td>Embraer - Empresa Brasileira de Aeronáutica S.A.</td>\n",
       "            <td>Av. Brigadeiro Faria Lima, 2170</td>\n",
       "            <td>São José dos Campos</td>\n",
       "            <td>SP</td>\n",
       "            <td>Brazil</td>\n",
       "            <td>12227-000</td>\n",
       "            <td>+55 (12) 3923-5555</td>\n",
       "            <td>+55 (12) 3923-5566</td>\n",
       "            <td>luisg@embraer.com.br</td>\n",
       "            <td>3</td>\n",
       "        </tr>\n",
       "    </tbody>\n",
       "</table>"
      ],
      "text/plain": [
       "[(1, 'Luís', 'Gonçalves', 'Embraer - Empresa Brasileira de Aeronáutica S.A.', 'Av. Brigadeiro Faria Lima, 2170', 'São José dos Campos', 'SP', 'Brazil', '12227-000', '+55 (12) 3923-5555', '+55 (12) 3923-5566', 'luisg@embraer.com.br', 3)]"
      ]
     },
     "execution_count": 2,
     "metadata": {},
     "output_type": "execute_result"
    }
   ],
   "source": [
    "%%sql \n",
    "\n",
    "SELECT *\n",
    "FROM customers \n",
    "LIMIT 1"
   ]
  },
  {
   "cell_type": "code",
   "execution_count": 3,
   "metadata": {
    "vscode": {
     "languageId": "sql"
    }
   },
   "outputs": [
    {
     "data": {
      "text/html": [
       "<table>\n",
       "    <thead>\n",
       "        <tr>\n",
       "            <th>InvoiceId</th>\n",
       "            <th>CustomerId</th>\n",
       "            <th>InvoiceDate</th>\n",
       "            <th>BillingAddress</th>\n",
       "            <th>BillingCity</th>\n",
       "            <th>BillingState</th>\n",
       "            <th>BillingCountry</th>\n",
       "            <th>BillingPostalCode</th>\n",
       "            <th>Total</th>\n",
       "        </tr>\n",
       "    </thead>\n",
       "    <tbody>\n",
       "        <tr>\n",
       "            <td>1</td>\n",
       "            <td>2</td>\n",
       "            <td>2009-01-01 00:00:00</td>\n",
       "            <td>Theodor-Heuss-Straße 34</td>\n",
       "            <td>Stuttgart</td>\n",
       "            <td>None</td>\n",
       "            <td>Germany</td>\n",
       "            <td>70174</td>\n",
       "            <td>1.98</td>\n",
       "        </tr>\n",
       "    </tbody>\n",
       "</table>"
      ],
      "text/plain": [
       "[(1, 2, '2009-01-01 00:00:00', 'Theodor-Heuss-Straße 34', 'Stuttgart', None, 'Germany', '70174', 1.98)]"
      ]
     },
     "execution_count": 3,
     "metadata": {},
     "output_type": "execute_result"
    }
   ],
   "source": [
    "%%sql \n",
    "\n",
    "SELECT *\n",
    "FROM invoices\n",
    "LIMIT 1"
   ]
  },
  {
   "cell_type": "code",
   "execution_count": 4,
   "metadata": {
    "vscode": {
     "languageId": "sql"
    }
   },
   "outputs": [
    {
     "data": {
      "text/html": [
       "<table>\n",
       "    <thead>\n",
       "        <tr>\n",
       "            <th>InvoiceLineId</th>\n",
       "            <th>InvoiceId</th>\n",
       "            <th>TrackId</th>\n",
       "            <th>UnitPrice</th>\n",
       "            <th>Quantity</th>\n",
       "        </tr>\n",
       "    </thead>\n",
       "    <tbody>\n",
       "        <tr>\n",
       "            <td>1</td>\n",
       "            <td>1</td>\n",
       "            <td>2</td>\n",
       "            <td>0.99</td>\n",
       "            <td>1</td>\n",
       "        </tr>\n",
       "    </tbody>\n",
       "</table>"
      ],
      "text/plain": [
       "[(1, 1, 2, 0.99, 1)]"
      ]
     },
     "execution_count": 4,
     "metadata": {},
     "output_type": "execute_result"
    }
   ],
   "source": [
    "%%sql \n",
    "\n",
    "SELECT *\n",
    "FROM invoice_items\n",
    "LIMIT 1"
   ]
  },
  {
   "cell_type": "code",
   "execution_count": 5,
   "metadata": {
    "vscode": {
     "languageId": "sql"
    }
   },
   "outputs": [
    {
     "data": {
      "text/html": [
       "<table>\n",
       "    <thead>\n",
       "        <tr>\n",
       "            <th>TotalInvoiceAmount</th>\n",
       "        </tr>\n",
       "    </thead>\n",
       "    <tbody>\n",
       "        <tr>\n",
       "            <td>25.86</td>\n",
       "        </tr>\n",
       "        <tr>\n",
       "            <td>23.86</td>\n",
       "        </tr>\n",
       "        <tr>\n",
       "            <td>21.86</td>\n",
       "        </tr>\n",
       "        <tr>\n",
       "            <td>21.86</td>\n",
       "        </tr>\n",
       "        <tr>\n",
       "            <td>18.86</td>\n",
       "        </tr>\n",
       "    </tbody>\n",
       "</table>"
      ],
      "text/plain": [
       "[(25.86,), (23.86,), (21.86,), (21.86,), (18.86,)]"
      ]
     },
     "execution_count": 5,
     "metadata": {},
     "output_type": "execute_result"
    }
   ],
   "source": [
    "%%sql \n",
    "\n",
    "SELECT ROUND(SUM(it.UnitPrice * it.Quantity),2) as TotalInvoiceAmount\n",
    "FROM invoice_items it \n",
    "JOIN invoices i ON i.InvoiceId = it.InvoiceId\n",
    "GROUP BY i.InvoiceId\n",
    "ORDER BY TotalInvoiceAmount DESC\n",
    "LIMIT 5\n"
   ]
  },
  {
   "cell_type": "code",
   "execution_count": 6,
   "metadata": {
    "vscode": {
     "languageId": "sql"
    }
   },
   "outputs": [
    {
     "data": {
      "text/html": [
       "<table>\n",
       "    <thead>\n",
       "        <tr>\n",
       "            <th>TotalInvoiceAmount</th>\n",
       "        </tr>\n",
       "    </thead>\n",
       "    <tbody>\n",
       "        <tr>\n",
       "            <td>25.86</td>\n",
       "        </tr>\n",
       "        <tr>\n",
       "            <td>23.86</td>\n",
       "        </tr>\n",
       "        <tr>\n",
       "            <td>21.86</td>\n",
       "        </tr>\n",
       "        <tr>\n",
       "            <td>21.86</td>\n",
       "        </tr>\n",
       "        <tr>\n",
       "            <td>18.86</td>\n",
       "        </tr>\n",
       "    </tbody>\n",
       "</table>"
      ],
      "text/plain": [
       "[(25.86,), (23.86,), (21.86,), (21.86,), (18.86,)]"
      ]
     },
     "execution_count": 6,
     "metadata": {},
     "output_type": "execute_result"
    }
   ],
   "source": [
    "%%sql \n",
    "\n",
    "SELECT i.Total as TotalInvoiceAmount\n",
    "FROM invoice_items it \n",
    "JOIN invoices i ON i.InvoiceId = it.InvoiceId\n",
    "GROUP BY i.InvoiceId\n",
    "ORDER BY TotalInvoiceAmount DESC\n",
    "LIMIT 5"
   ]
  },
  {
   "cell_type": "code",
   "execution_count": 7,
   "metadata": {
    "vscode": {
     "languageId": "sql"
    }
   },
   "outputs": [
    {
     "data": {
      "text/html": [
       "<table>\n",
       "    <thead>\n",
       "        <tr>\n",
       "            <th>CustomerId</th>\n",
       "            <th>CustomerFullName</th>\n",
       "            <th>PurchaseCount</th>\n",
       "            <th>TotalSpend</th>\n",
       "            <th>InvoiceId</th>\n",
       "            <th>FirstPurchaseDate</th>\n",
       "        </tr>\n",
       "    </thead>\n",
       "    <tbody>\n",
       "        <tr>\n",
       "            <td>26</td>\n",
       "            <td>Richard Cunningham</td>\n",
       "            <td>14</td>\n",
       "            <td>23.86</td>\n",
       "            <td>299</td>\n",
       "            <td>2012-08-05</td>\n",
       "        </tr>\n",
       "        <tr>\n",
       "            <td>55</td>\n",
       "            <td>Mark Taylor</td>\n",
       "            <td>14</td>\n",
       "            <td>13.86</td>\n",
       "            <td>250</td>\n",
       "            <td>2012-01-01</td>\n",
       "        </tr>\n",
       "        <tr>\n",
       "            <td>34</td>\n",
       "            <td>João Fernandes</td>\n",
       "            <td>14</td>\n",
       "            <td>13.86</td>\n",
       "            <td>257</td>\n",
       "            <td>2012-02-01</td>\n",
       "        </tr>\n",
       "        <tr>\n",
       "            <td>13</td>\n",
       "            <td>Fernanda Ramos</td>\n",
       "            <td>14</td>\n",
       "            <td>13.86</td>\n",
       "            <td>264</td>\n",
       "            <td>2012-03-03</td>\n",
       "        </tr>\n",
       "        <tr>\n",
       "            <td>51</td>\n",
       "            <td>Joakim Johansson</td>\n",
       "            <td>14</td>\n",
       "            <td>13.86</td>\n",
       "            <td>271</td>\n",
       "            <td>2012-04-03</td>\n",
       "        </tr>\n",
       "    </tbody>\n",
       "</table>"
      ],
      "text/plain": [
       "[(26, 'Richard Cunningham', 14, 23.86, 299, '2012-08-05'),\n",
       " (55, 'Mark Taylor', 14, 13.86, 250, '2012-01-01'),\n",
       " (34, 'João Fernandes', 14, 13.86, 257, '2012-02-01'),\n",
       " (13, 'Fernanda Ramos', 14, 13.86, 264, '2012-03-03'),\n",
       " (51, 'Joakim Johansson', 14, 13.86, 271, '2012-04-03')]"
      ]
     },
     "execution_count": 7,
     "metadata": {},
     "output_type": "execute_result"
    }
   ],
   "source": [
    "%%sql \n",
    "\n",
    "SELECT c.CustomerId, CONCAT(c.FirstName, ' ',c.LastName) AS CustomerFullName,\n",
    "COUNT(i.InvoiceId) AS PurchaseCount,\n",
    "ROUND(SUM(it.UnitPrice * it.Quantity),2) as TotalSpend,\n",
    "i.InvoiceId,\n",
    "DATE_FORMAT(MIN(i.InvoiceDate), '%Y-%m-%d') AS FirstPurchaseDate\n",
    "FROM invoice_items it\n",
    "JOIN invoices i ON i.InvoiceId = it.InvoiceId\n",
    "JOIN customers c ON c.CustomerId = i.CustomerId\n",
    "WHERE i.InvoiceDate BETWEEN '2012-01-01' AND '2012-09-01'\n",
    "GROUP BY i.InvoiceId\n",
    "HAVING PurchaseCount > 10\n",
    "ORDER BY TotalSpend DESC\n",
    "LIMIT 5"
   ]
  }
 ],
 "metadata": {
  "kernelspec": {
   "display_name": "Python 3",
   "language": "python",
   "name": "python3"
  },
  "language_info": {
   "codemirror_mode": {
    "name": "ipython",
    "version": 3
   },
   "file_extension": ".py",
   "mimetype": "text/x-python",
   "name": "python",
   "nbconvert_exporter": "python",
   "pygments_lexer": "ipython3",
   "version": "3.11.2"
  },
  "orig_nbformat": 4
 },
 "nbformat": 4,
 "nbformat_minor": 2
}
