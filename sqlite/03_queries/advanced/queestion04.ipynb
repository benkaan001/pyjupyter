{
 "cells": [
  {
   "attachments": {},
   "cell_type": "markdown",
   "metadata": {},
   "source": [
    "## Question 4\n",
    "`Write a query to retrieve the average revenue per customer for each country in the database, but only include countries with more than 3 customers. Make sure to check for duplicate customer info.`\n",
    "\n",
    "(Hint: use a combination of subqueries and the HAVING clause)\n",
    "\n",
    "## Expected Output\n",
    "\n",
    "| Country   |   AvgRevenuePerCustomer |   TotalRevenue |\n",
    "|:----------|------------------------:|---------------:|\n",
    "| Germany   |                1.39714  |         156.48 |\n",
    "| France    |                1.11486  |         195.09 |\n",
    "| Brazil    |                1.08629  |         190.09 |\n",
    "| Canada    |                0.678482 |         303.95 |\n",
    "| USA       |                0.442147 |         523.06 |"
   ]
  },
  {
   "cell_type": "code",
   "execution_count": 1,
   "metadata": {},
   "outputs": [],
   "source": [
    "%run ../utils/setup_notebook.ipynb"
   ]
  },
  {
   "cell_type": "code",
   "execution_count": 2,
   "metadata": {
    "vscode": {
     "languageId": "sql"
    }
   },
   "outputs": [
    {
     "data": {
      "text/html": [
       "<table>\n",
       "    <thead>\n",
       "        <tr>\n",
       "            <th>InvoiceId</th>\n",
       "            <th>CustomerId</th>\n",
       "            <th>InvoiceDate</th>\n",
       "            <th>BillingAddress</th>\n",
       "            <th>BillingCity</th>\n",
       "            <th>BillingState</th>\n",
       "            <th>BillingCountry</th>\n",
       "            <th>BillingPostalCode</th>\n",
       "            <th>Total</th>\n",
       "        </tr>\n",
       "    </thead>\n",
       "    <tbody>\n",
       "        <tr>\n",
       "            <td>1</td>\n",
       "            <td>2</td>\n",
       "            <td>2009-01-01 00:00:00</td>\n",
       "            <td>Theodor-Heuss-Straße 34</td>\n",
       "            <td>Stuttgart</td>\n",
       "            <td>None</td>\n",
       "            <td>Germany</td>\n",
       "            <td>70174</td>\n",
       "            <td>1.98</td>\n",
       "        </tr>\n",
       "    </tbody>\n",
       "</table>"
      ],
      "text/plain": [
       "[(1, 2, '2009-01-01 00:00:00', 'Theodor-Heuss-Straße 34', 'Stuttgart', None, 'Germany', '70174', 1.98)]"
      ]
     },
     "execution_count": 2,
     "metadata": {},
     "output_type": "execute_result"
    }
   ],
   "source": [
    "%%sql \n",
    "\n",
    "SELECT *\n",
    "FROM invoices\n",
    "LIMIT 1;"
   ]
  },
  {
   "cell_type": "code",
   "execution_count": 3,
   "metadata": {
    "vscode": {
     "languageId": "sql"
    }
   },
   "outputs": [
    {
     "data": {
      "text/html": [
       "<table>\n",
       "    <thead>\n",
       "        <tr>\n",
       "            <th>BillingCountry</th>\n",
       "            <th>CountryCount</th>\n",
       "            <th>AverageRevenue</th>\n",
       "            <th>TotalRevenue</th>\n",
       "        </tr>\n",
       "    </thead>\n",
       "    <tbody>\n",
       "        <tr>\n",
       "            <td>USA</td>\n",
       "            <td>91</td>\n",
       "            <td>5.74</td>\n",
       "            <td>524.0</td>\n",
       "        </tr>\n",
       "        <tr>\n",
       "            <td>Canada</td>\n",
       "            <td>56</td>\n",
       "            <td>5.42</td>\n",
       "            <td>304.0</td>\n",
       "        </tr>\n",
       "        <tr>\n",
       "            <td>France</td>\n",
       "            <td>35</td>\n",
       "            <td>5.57</td>\n",
       "            <td>196.0</td>\n",
       "        </tr>\n",
       "        <tr>\n",
       "            <td>Brazil</td>\n",
       "            <td>35</td>\n",
       "            <td>5.43</td>\n",
       "            <td>191.0</td>\n",
       "        </tr>\n",
       "        <tr>\n",
       "            <td>Germany</td>\n",
       "            <td>28</td>\n",
       "            <td>5.58</td>\n",
       "            <td>157.0</td>\n",
       "        </tr>\n",
       "        <tr>\n",
       "            <td>United Kingdom</td>\n",
       "            <td>21</td>\n",
       "            <td>5.37</td>\n",
       "            <td>113.0</td>\n",
       "        </tr>\n",
       "        <tr>\n",
       "            <td>Czech Republic</td>\n",
       "            <td>14</td>\n",
       "            <td>6.44</td>\n",
       "            <td>91.0</td>\n",
       "        </tr>\n",
       "        <tr>\n",
       "            <td>Portugal</td>\n",
       "            <td>14</td>\n",
       "            <td>5.51</td>\n",
       "            <td>78.0</td>\n",
       "        </tr>\n",
       "        <tr>\n",
       "            <td>India</td>\n",
       "            <td>13</td>\n",
       "            <td>5.78</td>\n",
       "            <td>76.0</td>\n",
       "        </tr>\n",
       "        <tr>\n",
       "            <td>Chile</td>\n",
       "            <td>7</td>\n",
       "            <td>6.65</td>\n",
       "            <td>47.0</td>\n",
       "        </tr>\n",
       "        <tr>\n",
       "            <td>Ireland</td>\n",
       "            <td>7</td>\n",
       "            <td>6.51</td>\n",
       "            <td>46.0</td>\n",
       "        </tr>\n",
       "        <tr>\n",
       "            <td>Hungary</td>\n",
       "            <td>7</td>\n",
       "            <td>6.51</td>\n",
       "            <td>46.0</td>\n",
       "        </tr>\n",
       "        <tr>\n",
       "            <td>Austria</td>\n",
       "            <td>7</td>\n",
       "            <td>6.08</td>\n",
       "            <td>43.0</td>\n",
       "        </tr>\n",
       "        <tr>\n",
       "            <td>Finland</td>\n",
       "            <td>7</td>\n",
       "            <td>5.94</td>\n",
       "            <td>42.0</td>\n",
       "        </tr>\n",
       "        <tr>\n",
       "            <td>Netherlands</td>\n",
       "            <td>7</td>\n",
       "            <td>5.8</td>\n",
       "            <td>41.0</td>\n",
       "        </tr>\n",
       "        <tr>\n",
       "            <td>Norway</td>\n",
       "            <td>7</td>\n",
       "            <td>5.65</td>\n",
       "            <td>40.0</td>\n",
       "        </tr>\n",
       "        <tr>\n",
       "            <td>Sweden</td>\n",
       "            <td>7</td>\n",
       "            <td>5.51</td>\n",
       "            <td>39.0</td>\n",
       "        </tr>\n",
       "        <tr>\n",
       "            <td>Belgium</td>\n",
       "            <td>7</td>\n",
       "            <td>5.37</td>\n",
       "            <td>38.0</td>\n",
       "        </tr>\n",
       "        <tr>\n",
       "            <td>Australia</td>\n",
       "            <td>7</td>\n",
       "            <td>5.37</td>\n",
       "            <td>38.0</td>\n",
       "        </tr>\n",
       "        <tr>\n",
       "            <td>Spain</td>\n",
       "            <td>7</td>\n",
       "            <td>5.37</td>\n",
       "            <td>38.0</td>\n",
       "        </tr>\n",
       "        <tr>\n",
       "            <td>Denmark</td>\n",
       "            <td>7</td>\n",
       "            <td>5.37</td>\n",
       "            <td>38.0</td>\n",
       "        </tr>\n",
       "        <tr>\n",
       "            <td>Italy</td>\n",
       "            <td>7</td>\n",
       "            <td>5.37</td>\n",
       "            <td>38.0</td>\n",
       "        </tr>\n",
       "        <tr>\n",
       "            <td>Poland</td>\n",
       "            <td>7</td>\n",
       "            <td>5.37</td>\n",
       "            <td>38.0</td>\n",
       "        </tr>\n",
       "        <tr>\n",
       "            <td>Argentina</td>\n",
       "            <td>7</td>\n",
       "            <td>5.37</td>\n",
       "            <td>38.0</td>\n",
       "        </tr>\n",
       "    </tbody>\n",
       "</table>"
      ],
      "text/plain": [
       "[('USA', 91, 5.74, 524.0),\n",
       " ('Canada', 56, 5.42, 304.0),\n",
       " ('France', 35, 5.57, 196.0),\n",
       " ('Brazil', 35, 5.43, 191.0),\n",
       " ('Germany', 28, 5.58, 157.0),\n",
       " ('United Kingdom', 21, 5.37, 113.0),\n",
       " ('Czech Republic', 14, 6.44, 91.0),\n",
       " ('Portugal', 14, 5.51, 78.0),\n",
       " ('India', 13, 5.78, 76.0),\n",
       " ('Chile', 7, 6.65, 47.0),\n",
       " ('Ireland', 7, 6.51, 46.0),\n",
       " ('Hungary', 7, 6.51, 46.0),\n",
       " ('Austria', 7, 6.08, 43.0),\n",
       " ('Finland', 7, 5.94, 42.0),\n",
       " ('Netherlands', 7, 5.8, 41.0),\n",
       " ('Norway', 7, 5.65, 40.0),\n",
       " ('Sweden', 7, 5.51, 39.0),\n",
       " ('Belgium', 7, 5.37, 38.0),\n",
       " ('Australia', 7, 5.37, 38.0),\n",
       " ('Spain', 7, 5.37, 38.0),\n",
       " ('Denmark', 7, 5.37, 38.0),\n",
       " ('Italy', 7, 5.37, 38.0),\n",
       " ('Poland', 7, 5.37, 38.0),\n",
       " ('Argentina', 7, 5.37, 38.0)]"
      ]
     },
     "execution_count": 3,
     "metadata": {},
     "output_type": "execute_result"
    }
   ],
   "source": [
    "%%sql \n",
    "\n",
    "SELECT BillingCountry, \n",
    "    COUNT(BillingCountry) CountryCount,  \n",
    "    TRUNCATE(AVG(Total),2) AverageRevenue,\n",
    "    CEILING(SUM(Total)) TotalRevenue\n",
    "FROM invoices\n",
    "GROUP BY BillingCountry\n",
    "HAVING COUNT(CustomerId) > 3\n",
    "ORDER BY TotalRevenue DESC;"
   ]
  },
  {
   "cell_type": "code",
   "execution_count": 4,
   "metadata": {
    "vscode": {
     "languageId": "sql"
    }
   },
   "outputs": [
    {
     "data": {
      "text/html": [
       "<table>\n",
       "    <thead>\n",
       "        <tr>\n",
       "            <th>BillingCountry</th>\n",
       "            <th>CountryCount</th>\n",
       "            <th>AverageRevenue</th>\n",
       "            <th>TotalRevenue</th>\n",
       "        </tr>\n",
       "    </thead>\n",
       "    <tbody>\n",
       "        <tr>\n",
       "            <td>USA</td>\n",
       "            <td>91</td>\n",
       "            <td>5.74</td>\n",
       "            <td>524.0</td>\n",
       "        </tr>\n",
       "        <tr>\n",
       "            <td>Canada</td>\n",
       "            <td>56</td>\n",
       "            <td>5.42</td>\n",
       "            <td>304.0</td>\n",
       "        </tr>\n",
       "        <tr>\n",
       "            <td>France</td>\n",
       "            <td>35</td>\n",
       "            <td>5.57</td>\n",
       "            <td>196.0</td>\n",
       "        </tr>\n",
       "        <tr>\n",
       "            <td>Brazil</td>\n",
       "            <td>35</td>\n",
       "            <td>5.43</td>\n",
       "            <td>191.0</td>\n",
       "        </tr>\n",
       "        <tr>\n",
       "            <td>Germany</td>\n",
       "            <td>28</td>\n",
       "            <td>5.58</td>\n",
       "            <td>157.0</td>\n",
       "        </tr>\n",
       "        <tr>\n",
       "            <td>United Kingdom</td>\n",
       "            <td>21</td>\n",
       "            <td>5.37</td>\n",
       "            <td>113.0</td>\n",
       "        </tr>\n",
       "        <tr>\n",
       "            <td>Czech Republic</td>\n",
       "            <td>14</td>\n",
       "            <td>6.44</td>\n",
       "            <td>91.0</td>\n",
       "        </tr>\n",
       "        <tr>\n",
       "            <td>Portugal</td>\n",
       "            <td>14</td>\n",
       "            <td>5.51</td>\n",
       "            <td>78.0</td>\n",
       "        </tr>\n",
       "        <tr>\n",
       "            <td>India</td>\n",
       "            <td>13</td>\n",
       "            <td>5.78</td>\n",
       "            <td>76.0</td>\n",
       "        </tr>\n",
       "        <tr>\n",
       "            <td>Chile</td>\n",
       "            <td>7</td>\n",
       "            <td>6.65</td>\n",
       "            <td>47.0</td>\n",
       "        </tr>\n",
       "        <tr>\n",
       "            <td>Ireland</td>\n",
       "            <td>7</td>\n",
       "            <td>6.51</td>\n",
       "            <td>46.0</td>\n",
       "        </tr>\n",
       "        <tr>\n",
       "            <td>Hungary</td>\n",
       "            <td>7</td>\n",
       "            <td>6.51</td>\n",
       "            <td>46.0</td>\n",
       "        </tr>\n",
       "        <tr>\n",
       "            <td>Austria</td>\n",
       "            <td>7</td>\n",
       "            <td>6.08</td>\n",
       "            <td>43.0</td>\n",
       "        </tr>\n",
       "        <tr>\n",
       "            <td>Finland</td>\n",
       "            <td>7</td>\n",
       "            <td>5.94</td>\n",
       "            <td>42.0</td>\n",
       "        </tr>\n",
       "        <tr>\n",
       "            <td>Netherlands</td>\n",
       "            <td>7</td>\n",
       "            <td>5.8</td>\n",
       "            <td>41.0</td>\n",
       "        </tr>\n",
       "        <tr>\n",
       "            <td>Norway</td>\n",
       "            <td>7</td>\n",
       "            <td>5.65</td>\n",
       "            <td>40.0</td>\n",
       "        </tr>\n",
       "        <tr>\n",
       "            <td>Sweden</td>\n",
       "            <td>7</td>\n",
       "            <td>5.51</td>\n",
       "            <td>39.0</td>\n",
       "        </tr>\n",
       "        <tr>\n",
       "            <td>Belgium</td>\n",
       "            <td>7</td>\n",
       "            <td>5.37</td>\n",
       "            <td>38.0</td>\n",
       "        </tr>\n",
       "        <tr>\n",
       "            <td>Australia</td>\n",
       "            <td>7</td>\n",
       "            <td>5.37</td>\n",
       "            <td>38.0</td>\n",
       "        </tr>\n",
       "        <tr>\n",
       "            <td>Spain</td>\n",
       "            <td>7</td>\n",
       "            <td>5.37</td>\n",
       "            <td>38.0</td>\n",
       "        </tr>\n",
       "        <tr>\n",
       "            <td>Denmark</td>\n",
       "            <td>7</td>\n",
       "            <td>5.37</td>\n",
       "            <td>38.0</td>\n",
       "        </tr>\n",
       "        <tr>\n",
       "            <td>Italy</td>\n",
       "            <td>7</td>\n",
       "            <td>5.37</td>\n",
       "            <td>38.0</td>\n",
       "        </tr>\n",
       "        <tr>\n",
       "            <td>Poland</td>\n",
       "            <td>7</td>\n",
       "            <td>5.37</td>\n",
       "            <td>38.0</td>\n",
       "        </tr>\n",
       "        <tr>\n",
       "            <td>Argentina</td>\n",
       "            <td>7</td>\n",
       "            <td>5.37</td>\n",
       "            <td>38.0</td>\n",
       "        </tr>\n",
       "    </tbody>\n",
       "</table>"
      ],
      "text/plain": [
       "[('USA', 91, 5.74, 524.0),\n",
       " ('Canada', 56, 5.42, 304.0),\n",
       " ('France', 35, 5.57, 196.0),\n",
       " ('Brazil', 35, 5.43, 191.0),\n",
       " ('Germany', 28, 5.58, 157.0),\n",
       " ('United Kingdom', 21, 5.37, 113.0),\n",
       " ('Czech Republic', 14, 6.44, 91.0),\n",
       " ('Portugal', 14, 5.51, 78.0),\n",
       " ('India', 13, 5.78, 76.0),\n",
       " ('Chile', 7, 6.65, 47.0),\n",
       " ('Ireland', 7, 6.51, 46.0),\n",
       " ('Hungary', 7, 6.51, 46.0),\n",
       " ('Austria', 7, 6.08, 43.0),\n",
       " ('Finland', 7, 5.94, 42.0),\n",
       " ('Netherlands', 7, 5.8, 41.0),\n",
       " ('Norway', 7, 5.65, 40.0),\n",
       " ('Sweden', 7, 5.51, 39.0),\n",
       " ('Belgium', 7, 5.37, 38.0),\n",
       " ('Australia', 7, 5.37, 38.0),\n",
       " ('Spain', 7, 5.37, 38.0),\n",
       " ('Denmark', 7, 5.37, 38.0),\n",
       " ('Italy', 7, 5.37, 38.0),\n",
       " ('Poland', 7, 5.37, 38.0),\n",
       " ('Argentina', 7, 5.37, 38.0)]"
      ]
     },
     "execution_count": 4,
     "metadata": {},
     "output_type": "execute_result"
    }
   ],
   "source": [
    "%%sql \n",
    "--  Create a temporary table with the results of the query\n",
    "CREATE TEMPORARY TABLE temporary_results AS\n",
    "SELECT BillingCountry, \n",
    "    COUNT(BillingCountry) CountryCount,  \n",
    "    TRUNCATE(AVG(Total),2) AverageRevenue,\n",
    "    CEILING(SUM(Total)) TotalRevenue\n",
    "FROM invoices\n",
    "GROUP BY BillingCountry\n",
    "HAVING COUNT(CustomerId) > 3\n",
    "ORDER BY TotalRevenue DESC;\n",
    "\n",
    "SELECT * FROM temporary_results;"
   ]
  },
  {
   "cell_type": "code",
   "execution_count": 5,
   "metadata": {
    "vscode": {
     "languageId": "sql"
    }
   },
   "outputs": [
    {
     "data": {
      "text/html": [
       "<table>\n",
       "    <thead>\n",
       "        <tr>\n",
       "            <th>BillingCountry</th>\n",
       "            <th>CustomerCount</th>\n",
       "            <th>AvgRevenuePerCustomer</th>\n",
       "            <th>TotalRevenue</th>\n",
       "        </tr>\n",
       "    </thead>\n",
       "    <tbody>\n",
       "        <tr>\n",
       "            <td>USA</td>\n",
       "            <td>13</td>\n",
       "            <td>40.23</td>\n",
       "            <td>524.0</td>\n",
       "        </tr>\n",
       "        <tr>\n",
       "            <td>Germany</td>\n",
       "            <td>4</td>\n",
       "            <td>39.12</td>\n",
       "            <td>157.0</td>\n",
       "        </tr>\n",
       "        <tr>\n",
       "            <td>France</td>\n",
       "            <td>5</td>\n",
       "            <td>39.01</td>\n",
       "            <td>196.0</td>\n",
       "        </tr>\n",
       "        <tr>\n",
       "            <td>Brazil</td>\n",
       "            <td>5</td>\n",
       "            <td>38.01</td>\n",
       "            <td>191.0</td>\n",
       "        </tr>\n",
       "        <tr>\n",
       "            <td>Canada</td>\n",
       "            <td>8</td>\n",
       "            <td>37.99</td>\n",
       "            <td>304.0</td>\n",
       "        </tr>\n",
       "    </tbody>\n",
       "</table>"
      ],
      "text/plain": [
       "[('USA', 13, 40.23, 524.0),\n",
       " ('Germany', 4, 39.12, 157.0),\n",
       " ('France', 5, 39.01, 196.0),\n",
       " ('Brazil', 5, 38.01, 191.0),\n",
       " ('Canada', 8, 37.99, 304.0)]"
      ]
     },
     "execution_count": 5,
     "metadata": {},
     "output_type": "execute_result"
    }
   ],
   "source": [
    "%%sql\n",
    "\n",
    "SELECT BillingCountry, \n",
    "       COUNT(DISTINCT CustomerId) AS CustomerCount,\n",
    "       TRUNCATE(SUM(Total) / COUNT(DISTINCT CustomerId), 2) AS AvgRevenuePerCustomer,\n",
    "       CEILING(SUM(Total)) AS TotalRevenue\n",
    "FROM invoices\n",
    "GROUP BY BillingCountry\n",
    "HAVING COUNT(DISTINCT CustomerId) > 3\n",
    "ORDER BY AvgRevenuePerCustomer DESC;\n"
   ]
  },
  {
   "cell_type": "code",
   "execution_count": 6,
   "metadata": {
    "vscode": {
     "languageId": "sql"
    }
   },
   "outputs": [
    {
     "data": {
      "text/html": [
       "<table>\n",
       "    <thead>\n",
       "        <tr>\n",
       "            <th>Country</th>\n",
       "            <th>AvgRevenuePerCustomer</th>\n",
       "            <th>TotalRevenue</th>\n",
       "        </tr>\n",
       "    </thead>\n",
       "    <tbody>\n",
       "        <tr>\n",
       "            <td>Germany</td>\n",
       "            <td>1.397142857142857</td>\n",
       "            <td>156.48</td>\n",
       "        </tr>\n",
       "        <tr>\n",
       "            <td>France</td>\n",
       "            <td>1.1148571428571432</td>\n",
       "            <td>195.09</td>\n",
       "        </tr>\n",
       "        <tr>\n",
       "            <td>Brazil</td>\n",
       "            <td>1.0862857142857145</td>\n",
       "            <td>190.09</td>\n",
       "        </tr>\n",
       "        <tr>\n",
       "            <td>Canada</td>\n",
       "            <td>0.6784821428571428</td>\n",
       "            <td>303.95</td>\n",
       "        </tr>\n",
       "        <tr>\n",
       "            <td>USA</td>\n",
       "            <td>0.442147083685545</td>\n",
       "            <td>523.06</td>\n",
       "        </tr>\n",
       "    </tbody>\n",
       "</table>"
      ],
      "text/plain": [
       "[('Germany', 1.397142857142857, 156.48),\n",
       " ('France', 1.1148571428571432, 195.09),\n",
       " ('Brazil', 1.0862857142857145, 190.09),\n",
       " ('Canada', 0.6784821428571428, 303.95),\n",
       " ('USA', 0.442147083685545, 523.06)]"
      ]
     },
     "execution_count": 6,
     "metadata": {},
     "output_type": "execute_result"
    }
   ],
   "source": [
    "%%sql\n",
    "\n",
    "-- What is the average total per customer by country?\n",
    "\n",
    "SELECT c.Country, \n",
    "    AVG(i.Total / t.CustomerCount) AS AvgRevenuePerCustomer,\n",
    "    t.TotalRevenue\n",
    "FROM customers c\n",
    "JOIN (\n",
    "    SELECT BillingCountry, COUNT(DISTINCT CustomerId) AS CustomerCount, TRUNCATE(SUM(Total), 2) AS TotalRevenue\n",
    "    FROM invoices\n",
    "    GROUP BY BillingCountry\n",
    "    HAVING COUNT(DISTINCT CustomerId) > 3\n",
    ") t ON c.Country = t.BillingCountry\n",
    "JOIN invoices i ON c.CustomerId = i.CustomerId\n",
    "GROUP BY c.Country\n",
    "ORDER BY AvgRevenuePerCustomer DESC;\n"
   ]
  },
  {
   "attachments": {},
   "cell_type": "markdown",
   "metadata": {},
   "source": [
    "# Markdown Function\n",
    "\n",
    "#### `Create a function that takes in a SQL query and returns the output in a Markdown-formatted table`"
   ]
  },
  {
   "cell_type": "code",
   "execution_count": 7,
   "metadata": {
    "vscode": {
     "languageId": "sql"
    }
   },
   "outputs": [
    {
     "data": {
      "text/plain": [
       "[]"
      ]
     },
     "execution_count": 7,
     "metadata": {},
     "output_type": "execute_result"
    }
   ],
   "source": [
    "%%sql\n",
    "\n",
    "-- Step 1.Save the results to a temp_table\n",
    "CREATE TEMPORARY TABLE temp_table AS \n",
    "SELECT c.Country, \n",
    "    AVG(i.Total / t.CustomerCount) AS AvgRevenuePerCustomer,\n",
    "    t.TotalRevenue\n",
    "FROM customers c\n",
    "JOIN (\n",
    "    SELECT BillingCountry, COUNT(DISTINCT CustomerId) AS CustomerCount, TRUNCATE(SUM(Total), 2) AS TotalRevenue\n",
    "    FROM invoices\n",
    "    GROUP BY BillingCountry\n",
    "    HAVING COUNT(DISTINCT CustomerId) > 3\n",
    ") t ON c.Country = t.BillingCountry\n",
    "JOIN invoices i ON c.CustomerId = i.CustomerId\n",
    "GROUP BY c.Country\n",
    "ORDER BY AvgRevenuePerCustomer DESC;"
   ]
  },
  {
   "cell_type": "code",
   "execution_count": 15,
   "metadata": {},
   "outputs": [
    {
     "name": "stdout",
     "output_type": "stream",
     "text": [
      "type(result)=<class 'sql.run.ResultSet'>, \n",
      "\ttype(result.DataFrame())=<class 'pandas.core.frame.DataFrame'>\n",
      "\t\t,dir(result)=['DataFrame', '__add__', '__class__', '__class_getitem__', '__contains__', '__delattr__', '__delitem__', '__dict__', '__dir__', '__doc__', '__eq__', '__format__', '__ge__', '__getattribute__', '__getitem__', '__getstate__', '__gt__', '__hash__', '__iadd__', '__imul__', '__init__', '__init_subclass__', '__iter__', '__le__', '__len__', '__lt__', '__module__', '__mul__', '__ne__', '__new__', '__reduce__', '__reduce_ex__', '__repr__', '__reversed__', '__rmul__', '__setattr__', '__setitem__', '__sizeof__', '__str__', '__subclasshook__', '__weakref__', '_build_columns', '_get_x', '_get_xlabel', '_get_y', '_guess_columns', '_repr_html_', 'append', 'bar', 'clear', 'config', 'copy', 'count', 'csv', 'dict', 'dicts', 'extend', 'field_names', 'guess_pie_columns', 'guess_plot_columns', 'index', 'insert', 'keys', 'pie', 'plot', 'pop', 'pretty', 'remove', 'reverse', 'sort']\n"
     ]
    }
   ],
   "source": [
    "# save the output to a result variable \n",
    "\n",
    "result = %sql SELECT * FROM temp_table;\n",
    "\n",
    "print(f\"{type(result)=}, \\n\\t{type(result.DataFrame())=}\\n\\t\\t,{dir(result)=}\")"
   ]
  },
  {
   "cell_type": "code",
   "execution_count": 8,
   "metadata": {},
   "outputs": [],
   "source": [
    "from IPython.display import Markdown, display \n",
    "\n",
    "\n",
    "def sql_to_markdown(query):\n",
    "    result = %sql $query \n",
    "    df = result.DataFrame()\n",
    "    display(Markdown(df.to_markdown(index=False)))"
   ]
  },
  {
   "cell_type": "code",
   "execution_count": 9,
   "metadata": {},
   "outputs": [
    {
     "name": "stdout",
     "output_type": "stream",
     "text": [
      "['DataFrame', '__add__', '__class__', '__class_getitem__', '__contains__', '__delattr__', '__delitem__', '__dict__', '__dir__', '__doc__', '__eq__', '__format__', '__ge__', '__getattribute__', '__getitem__', '__getstate__', '__gt__', '__hash__', '__iadd__', '__imul__', '__init__', '__init_subclass__', '__iter__', '__le__', '__len__', '__lt__', '__module__', '__mul__', '__ne__', '__new__', '__reduce__', '__reduce_ex__', '__repr__', '__reversed__', '__rmul__', '__setattr__', '__setitem__', '__sizeof__', '__str__', '__subclasshook__', '__weakref__', '_build_columns', '_get_x', '_get_xlabel', '_get_y', '_guess_columns', '_repr_html_', 'append', 'bar', 'clear', 'config', 'copy', 'count', 'csv', 'dict', 'dicts', 'extend', 'field_names', 'guess_pie_columns', 'guess_plot_columns', 'index', 'insert', 'keys', 'pie', 'plot', 'pop', 'pretty', 'remove', 'reverse', 'sort']\n"
     ]
    },
    {
     "data": {
      "text/markdown": [
       "| Country   |   AvgRevenuePerCustomer |   TotalRevenue |\n",
       "|:----------|------------------------:|---------------:|\n",
       "| Germany   |                1.39714  |         156.48 |\n",
       "| France    |                1.11486  |         195.09 |\n",
       "| Brazil    |                1.08629  |         190.09 |\n",
       "| Canada    |                0.678482 |         303.95 |\n",
       "| USA       |                0.442147 |         523.06 |"
      ],
      "text/plain": [
       "<IPython.core.display.Markdown object>"
      ]
     },
     "metadata": {},
     "output_type": "display_data"
    }
   ],
   "source": [
    "sql_to_markdown('SELECT * FROM temp_table')"
   ]
  },
  {
   "attachments": {},
   "cell_type": "markdown",
   "metadata": {},
   "source": [
    "#### `USING tabulate`"
   ]
  },
  {
   "cell_type": "code",
   "execution_count": 17,
   "metadata": {},
   "outputs": [
    {
     "name": "stdout",
     "output_type": "stream",
     "text": [
      "| Country   |   AvgRevenuePerCustomer |   TotalRevenue |\n",
      "|:----------|------------------------:|---------------:|\n",
      "| Germany   |                1.39714  |         156.48 |\n",
      "| France    |                1.11486  |         195.09 |\n",
      "| Brazil    |                1.08629  |         190.09 |\n",
      "| Canada    |                0.678482 |         303.95 |\n",
      "| USA       |                0.442147 |         523.06 |\n"
     ]
    }
   ],
   "source": [
    "from tabulate import tabulate\n",
    "\n",
    "def format_sql_result(result):\n",
    "    headers = result.columns\n",
    "    rows = result.to_records(index=False)\n",
    "    return tabulate(rows, headers=headers, tablefmt='pipe')\n",
    "\n",
    "result = %sql SELECT * FROM temp_table\n",
    "formatted_result = format_sql_result(result.DataFrame())\n",
    "print(formatted_result)\n"
   ]
  },
  {
   "attachments": {},
   "cell_type": "markdown",
   "metadata": {},
   "source": [
    "| Country   |   AvgRevenuePerCustomer |   TotalRevenue |\n",
    "|:----------|------------------------:|---------------:|\n",
    "| Germany   |                1.39714  |         156.48 |\n",
    "| France    |                1.11486  |         195.09 |\n",
    "| Brazil    |                1.08629  |         190.09 |\n",
    "| Canada    |                0.678482 |         303.95 |\n",
    "| USA       |                0.442147 |         523.06 |"
   ]
  }
 ],
 "metadata": {
  "kernelspec": {
   "display_name": "Python 3",
   "language": "python",
   "name": "python3"
  },
  "language_info": {
   "codemirror_mode": {
    "name": "ipython",
    "version": 3
   },
   "file_extension": ".py",
   "mimetype": "text/x-python",
   "name": "python",
   "nbconvert_exporter": "python",
   "pygments_lexer": "ipython3",
   "version": "3.11.2"
  },
  "orig_nbformat": 4
 },
 "nbformat": 4,
 "nbformat_minor": 2
}
