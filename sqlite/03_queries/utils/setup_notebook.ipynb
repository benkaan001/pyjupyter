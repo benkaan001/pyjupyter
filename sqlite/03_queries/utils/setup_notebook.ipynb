{
 "cells": [
  {
   "cell_type": "code",
   "execution_count": null,
   "metadata": {},
   "outputs": [],
   "source": [
    "# add parent folder to the path\n",
    "import sys \n",
    "sys.path.append('..')\n",
    "\n",
    "# import the connection string \n",
    "from utils.create_mysql_connection import sql_conn_str\n",
    "\n",
    " # load the sql notebook extension\n",
    "%load_ext sql      \n",
    "\n",
    "# execute the sql_conn_str string as a SQL query\n",
    "%sql $sql_conn_str \n"
   ]
  }
 ],
 "metadata": {
  "language_info": {
   "name": "python"
  },
  "orig_nbformat": 4
 },
 "nbformat": 4,
 "nbformat_minor": 2
}
