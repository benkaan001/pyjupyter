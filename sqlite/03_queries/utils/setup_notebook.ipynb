{
 "cells": [
  {
   "attachments": {},
   "cell_type": "markdown",
   "metadata": {},
   "source": [
    "```python \n",
    "%config SqlMagic\n",
    "SqlMagic options\n",
    "--------------\n",
    "SqlMagic.autocommit=<Bool>\n",
    "    Current: True\n",
    "    Set autocommit mode\n",
    "SqlMagic.autolimit=<Int>\n",
    "    Current: 0\n",
    "    Automatically limit the size of the returned result sets\n",
    "SqlMagic.autopandas=<Bool>\n",
    "    Current: False\n",
    "    Return Pandas DataFrames instead of regular result sets\n",
    "SqlMagic.column_local_vars=<Bool>\n",
    "    Current: False\n",
    "    Return data into local variables from column names\n",
    "SqlMagic.displaycon=<Bool>\n",
    "    Current: False\n",
    "    Show connection string after execute\n",
    "SqlMagic.displaylimit=<Int>\n",
    "    Current: None\n",
    "    Automatically limit the number of rows displayed (full result set is still\n",
    "    stored)\n",
    "SqlMagic.dsn_filename=<Unicode>\n",
    "    Current: 'odbc.ini'\n",
    "    Path to DSN file. When the first argument is of the form [section], a\n",
    "    sqlalchemy connection string is formed from the matching section in the DSN\n",
    "    file.\n",
    "SqlMagic.feedback=<Bool>\n",
    "    Current: False\n",
    "    Print number of rows affected by DML\n",
    "SqlMagic.short_errors=<Bool>\n",
    "    Current: True\n",
    "    Don't display the full traceback on SQL Programming Error\n",
    "SqlMagic.style=<Unicode>\n",
    "    Current: 'DEFAULT'\n",
    "    Set the table printing style to any of prettytable's defined styles\n",
    "    (currently DEFAULT, MSWORD_FRIENDLY, PLAIN_COLUMNS, RANDOM)\n",
    "\n",
    "In[3]: %config SqlMagic.feedback = False\n",
    "```"
   ]
  },
  {
   "cell_type": "code",
   "execution_count": null,
   "metadata": {},
   "outputs": [],
   "source": [
    "# add parent folder to the path\n",
    "import sys \n",
    "sys.path.append('..')\n",
    "\n",
    "# import the connection string \n",
    "from utils.create_mysql_connection import sql_conn_str\n",
    "\n",
    " # load the sql notebook extension\n",
    "%load_ext sql      \n",
    "\n",
    "# execute the sql_conn_str string as a SQL query\n",
    "%sql $sql_conn_str \n",
    "\n",
    "# turn off feedback \n",
    "%config SqlMagic.feedback = False\n",
    "\n",
    "# hide connection string output\n",
    "%config SqlMagic.displaycon=False\n",
    "\n"
   ]
  }
 ],
 "metadata": {
  "kernelspec": {
   "display_name": "Python 3",
   "language": "python",
   "name": "python3"
  },
  "language_info": {
   "name": "python",
   "version": "3.11.2"
  },
  "orig_nbformat": 4
 },
 "nbformat": 4,
 "nbformat_minor": 2
}
