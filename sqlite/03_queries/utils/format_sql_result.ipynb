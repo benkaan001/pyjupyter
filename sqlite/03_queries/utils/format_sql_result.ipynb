{
 "cells": [
  {
   "cell_type": "code",
   "execution_count": 1,
   "metadata": {},
   "outputs": [],
   "source": [
    "%run setup_notebook.ipynb"
   ]
  },
  {
   "attachments": {},
   "cell_type": "markdown",
   "metadata": {},
   "source": [
    "### Save the query to a python variable `query_result`"
   ]
  },
  {
   "cell_type": "code",
   "execution_count": 2,
   "metadata": {},
   "outputs": [
    {
     "name": "stdout",
     "output_type": "stream",
     "text": [
      "Returning data to local variable query_result\n"
     ]
    }
   ],
   "source": [
    "%%sql query_result << SELECT c.Country, \n",
    "    AVG(i.Total / t.CustomerCount) AS AvgRevenuePerCustomer,\n",
    "    t.TotalRevenue\n",
    "FROM customers c\n",
    "JOIN (\n",
    "    SELECT BillingCountry, \n",
    "        COUNT(DISTINCT CustomerId) AS CustomerCount, \n",
    "        TRUNCATE(SUM(Total), 2) AS TotalRevenue\n",
    "    FROM invoices\n",
    "    GROUP BY BillingCountry\n",
    "    HAVING COUNT(DISTINCT CustomerId) > 3\n",
    ") t ON c.Country = t.BillingCountry\n",
    "JOIN invoices i ON c.CustomerId = i.CustomerId\n",
    "GROUP BY c.Country\n",
    "ORDER BY AvgRevenuePerCustomer DESC;"
   ]
  },
  {
   "attachments": {},
   "cell_type": "markdown",
   "metadata": {},
   "source": [
    "## OPTION 1: \n",
    "\n",
    "#### ***`Using the ResultSet object`***"
   ]
  },
  {
   "cell_type": "code",
   "execution_count": 3,
   "metadata": {},
   "outputs": [
    {
     "data": {
      "text/html": [
       "<table>\n",
       "    <thead>\n",
       "        <tr>\n",
       "            <th>Country</th>\n",
       "            <th>AvgRevenuePerCustomer</th>\n",
       "            <th>TotalRevenue</th>\n",
       "        </tr>\n",
       "    </thead>\n",
       "    <tbody>\n",
       "        <tr>\n",
       "            <td>Germany</td>\n",
       "            <td>1.397142857142857</td>\n",
       "            <td>156.48</td>\n",
       "        </tr>\n",
       "        <tr>\n",
       "            <td>France</td>\n",
       "            <td>1.1148571428571432</td>\n",
       "            <td>195.09</td>\n",
       "        </tr>\n",
       "        <tr>\n",
       "            <td>Brazil</td>\n",
       "            <td>1.0862857142857145</td>\n",
       "            <td>190.09</td>\n",
       "        </tr>\n",
       "        <tr>\n",
       "            <td>Canada</td>\n",
       "            <td>0.6784821428571428</td>\n",
       "            <td>303.95</td>\n",
       "        </tr>\n",
       "        <tr>\n",
       "            <td>USA</td>\n",
       "            <td>0.442147083685545</td>\n",
       "            <td>523.06</td>\n",
       "        </tr>\n",
       "    </tbody>\n",
       "</table>"
      ],
      "text/plain": [
       "[('Germany', 1.397142857142857, 156.48),\n",
       " ('France', 1.1148571428571432, 195.09),\n",
       " ('Brazil', 1.0862857142857145, 190.09),\n",
       " ('Canada', 0.6784821428571428, 303.95),\n",
       " ('USA', 0.442147083685545, 523.06)]"
      ]
     },
     "execution_count": 3,
     "metadata": {},
     "output_type": "execute_result"
    }
   ],
   "source": [
    "# let's see what is saved inside query_result\n",
    "query_result"
   ]
  },
  {
   "cell_type": "code",
   "execution_count": 4,
   "metadata": {},
   "outputs": [
    {
     "data": {
      "text/plain": [
       "['DataFrame',\n",
       " 'append',\n",
       " 'bar',\n",
       " 'clear',\n",
       " 'config',\n",
       " 'copy',\n",
       " 'count',\n",
       " 'csv',\n",
       " 'dict',\n",
       " 'dicts',\n",
       " 'extend',\n",
       " 'index',\n",
       " 'insert',\n",
       " 'keys',\n",
       " 'pie',\n",
       " 'plot',\n",
       " 'pop',\n",
       " 'pretty',\n",
       " 'remove',\n",
       " 'reverse',\n",
       " 'sort']"
      ]
     },
     "execution_count": 4,
     "metadata": {},
     "output_type": "execute_result"
    }
   ],
   "source": [
    "# list all methods available exclude builtins\n",
    "methods = dir(query_result)\n",
    "methods = [ method for method in methods if '_' not in method]\n",
    "methods"
   ]
  },
  {
   "cell_type": "code",
   "execution_count": 5,
   "metadata": {},
   "outputs": [
    {
     "data": {
      "text/plain": [
       "RMKeyView(['Country', 'AvgRevenuePerCustomer', 'TotalRevenue'])"
      ]
     },
     "execution_count": 5,
     "metadata": {},
     "output_type": "execute_result"
    }
   ],
   "source": [
    "# get headers\n",
    "query_result.keys"
   ]
  },
  {
   "cell_type": "code",
   "execution_count": 6,
   "metadata": {},
   "outputs": [
    {
     "data": {
      "text/plain": [
       "['Country', 'AvgRevenuePerCustomer', 'TotalRevenue']"
      ]
     },
     "execution_count": 6,
     "metadata": {},
     "output_type": "execute_result"
    }
   ],
   "source": [
    "# only extract the column names from the query result\n",
    "headers = [col for col in query_result.keys]\n",
    "headers"
   ]
  },
  {
   "cell_type": "code",
   "execution_count": 7,
   "metadata": {},
   "outputs": [
    {
     "data": {
      "text/plain": [
       "<bound method ResultSet.dict of [('Germany', 1.397142857142857, 156.48), ('France', 1.1148571428571432, 195.09), ('Brazil', 1.0862857142857145, 190.09), ('Canada', 0.6784821428571428, 303.95), ('USA', 0.442147083685545, 523.06)]>"
      ]
     },
     "execution_count": 7,
     "metadata": {},
     "output_type": "execute_result"
    }
   ],
   "source": [
    "# get row values\n",
    "query_result.dict"
   ]
  },
  {
   "cell_type": "code",
   "execution_count": 8,
   "metadata": {},
   "outputs": [
    {
     "data": {
      "text/plain": [
       "<bound method ResultSet.dicts of [('Germany', 1.397142857142857, 156.48), ('France', 1.1148571428571432, 195.09), ('Brazil', 1.0862857142857145, 190.09), ('Canada', 0.6784821428571428, 303.95), ('USA', 0.442147083685545, 523.06)]>"
      ]
     },
     "execution_count": 8,
     "metadata": {},
     "output_type": "execute_result"
    }
   ],
   "source": [
    "query_result.dicts"
   ]
  },
  {
   "attachments": {},
   "cell_type": "markdown",
   "metadata": {},
   "source": [
    "### No builtin method to extract row values using ***dict*** or ***dicts*** methods."
   ]
  },
  {
   "cell_type": "code",
   "execution_count": 9,
   "metadata": {},
   "outputs": [
    {
     "data": {
      "text/plain": [
       "[('Germany', 1.397142857142857, 156.48),\n",
       " ('France', 1.1148571428571432, 195.09),\n",
       " ('Brazil', 1.0862857142857145, 190.09),\n",
       " ('Canada', 0.6784821428571428, 303.95),\n",
       " ('USA', 0.442147083685545, 523.06)]"
      ]
     },
     "execution_count": 9,
     "metadata": {},
     "output_type": "execute_result"
    }
   ],
   "source": [
    "# simply iterate over the query_result to save the results in a list\n",
    "rows = [row for row in query_result]\n",
    "rows"
   ]
  },
  {
   "cell_type": "code",
   "execution_count": 10,
   "metadata": {},
   "outputs": [],
   "source": [
    "from tabulate import tabulate \n",
    "\n",
    "def format_sql_result(query_result):\n",
    "    \"\"\"\n",
    "    Format the results of a SQL query stored in a Python variable as a text table using the tabulate library.\n",
    "\n",
    "    Parameters:\n",
    "    query_result (ResultSet): A ResultSet object containing the results of a SQL query.\n",
    "\n",
    "    Returns:\n",
    "    None: The function prints the formatted table to the console using the `print` function.\n",
    "\n",
    "    Example Usage:\n",
    "        >>> format_sql_result(query_result)\n",
    "        | Country   |   AvgRevenuePerCustomer |   TotalRevenue |\n",
    "        |-----------|------------------------|----------------|\n",
    "        | Germany   |                 1.39714|         156.48 |\n",
    "        | France    |                 1.11486|         195.09 |\n",
    "        | Brazil    |                 1.08629|         190.09 |\n",
    "        | Canada    |                 0.67848|         303.95 |\n",
    "        | USA       |                 0.44214|         523.06 |\n",
    "    \"\"\"\n",
    "\n",
    "    header = query_result.keys\n",
    "    rows = [row for row in query_result]\n",
    "    return  print(tabulate(rows, headers=header, tablefmt='pipe'))"
   ]
  },
  {
   "cell_type": "code",
   "execution_count": 11,
   "metadata": {},
   "outputs": [
    {
     "name": "stdout",
     "output_type": "stream",
     "text": [
      "| Country   |   AvgRevenuePerCustomer |   TotalRevenue |\n",
      "|:----------|------------------------:|---------------:|\n",
      "| Germany   |                1.39714  |         156.48 |\n",
      "| France    |                1.11486  |         195.09 |\n",
      "| Brazil    |                1.08629  |         190.09 |\n",
      "| Canada    |                0.678482 |         303.95 |\n",
      "| USA       |                0.442147 |         523.06 |\n"
     ]
    }
   ],
   "source": [
    "format_sql_result(query_result)"
   ]
  },
  {
   "attachments": {},
   "cell_type": "markdown",
   "metadata": {},
   "source": [
    "## OPTION 2: \n",
    "\n",
    "#### ***`Creating a DF using `DataFrame()` method.`***"
   ]
  },
  {
   "cell_type": "code",
   "execution_count": 12,
   "metadata": {},
   "outputs": [
    {
     "name": "stdout",
     "output_type": "stream",
     "text": [
      "Returning data to local variable df_input\n"
     ]
    }
   ],
   "source": [
    "%%sql df_input << SELECT c.Country, \n",
    "    AVG(i.Total / t.CustomerCount) AS AvgRevenuePerCustomer,\n",
    "    t.TotalRevenue\n",
    "FROM customers c\n",
    "JOIN (\n",
    "    SELECT BillingCountry, \n",
    "        COUNT(DISTINCT CustomerId) AS CustomerCount, \n",
    "        TRUNCATE(SUM(Total), 2) AS TotalRevenue\n",
    "    FROM invoices\n",
    "    GROUP BY BillingCountry\n",
    "    HAVING COUNT(DISTINCT CustomerId) > 3\n",
    ") t ON c.Country = t.BillingCountry\n",
    "JOIN invoices i ON c.CustomerId = i.CustomerId\n",
    "GROUP BY c.Country\n",
    "ORDER BY AvgRevenuePerCustomer DESC;"
   ]
  },
  {
   "cell_type": "code",
   "execution_count": 13,
   "metadata": {},
   "outputs": [
    {
     "data": {
      "text/html": [
       "<div>\n",
       "<style scoped>\n",
       "    .dataframe tbody tr th:only-of-type {\n",
       "        vertical-align: middle;\n",
       "    }\n",
       "\n",
       "    .dataframe tbody tr th {\n",
       "        vertical-align: top;\n",
       "    }\n",
       "\n",
       "    .dataframe thead th {\n",
       "        text-align: right;\n",
       "    }\n",
       "</style>\n",
       "<table border=\"1\" class=\"dataframe\">\n",
       "  <thead>\n",
       "    <tr style=\"text-align: right;\">\n",
       "      <th></th>\n",
       "      <th>Country</th>\n",
       "      <th>AvgRevenuePerCustomer</th>\n",
       "      <th>TotalRevenue</th>\n",
       "    </tr>\n",
       "  </thead>\n",
       "  <tbody>\n",
       "    <tr>\n",
       "      <th>0</th>\n",
       "      <td>Germany</td>\n",
       "      <td>1.397143</td>\n",
       "      <td>156.48</td>\n",
       "    </tr>\n",
       "    <tr>\n",
       "      <th>1</th>\n",
       "      <td>France</td>\n",
       "      <td>1.114857</td>\n",
       "      <td>195.09</td>\n",
       "    </tr>\n",
       "    <tr>\n",
       "      <th>2</th>\n",
       "      <td>Brazil</td>\n",
       "      <td>1.086286</td>\n",
       "      <td>190.09</td>\n",
       "    </tr>\n",
       "    <tr>\n",
       "      <th>3</th>\n",
       "      <td>Canada</td>\n",
       "      <td>0.678482</td>\n",
       "      <td>303.95</td>\n",
       "    </tr>\n",
       "    <tr>\n",
       "      <th>4</th>\n",
       "      <td>USA</td>\n",
       "      <td>0.442147</td>\n",
       "      <td>523.06</td>\n",
       "    </tr>\n",
       "  </tbody>\n",
       "</table>\n",
       "</div>"
      ],
      "text/plain": [
       "   Country  AvgRevenuePerCustomer  TotalRevenue\n",
       "0  Germany               1.397143        156.48\n",
       "1   France               1.114857        195.09\n",
       "2   Brazil               1.086286        190.09\n",
       "3   Canada               0.678482        303.95\n",
       "4      USA               0.442147        523.06"
      ]
     },
     "execution_count": 13,
     "metadata": {},
     "output_type": "execute_result"
    }
   ],
   "source": [
    "df = df_input.DataFrame()\n",
    "df "
   ]
  },
  {
   "cell_type": "code",
   "execution_count": 14,
   "metadata": {},
   "outputs": [
    {
     "data": {
      "text/plain": [
       "['Country', 'AvgRevenuePerCustomer', 'TotalRevenue']"
      ]
     },
     "execution_count": 14,
     "metadata": {},
     "output_type": "execute_result"
    }
   ],
   "source": [
    "list(df.columns)"
   ]
  },
  {
   "cell_type": "code",
   "execution_count": 15,
   "metadata": {},
   "outputs": [
    {
     "data": {
      "text/plain": [
       "array([['Germany', 1.397142857142857, 156.48],\n",
       "       ['France', 1.1148571428571432, 195.09],\n",
       "       ['Brazil', 1.0862857142857145, 190.09],\n",
       "       ['Canada', 0.6784821428571428, 303.95],\n",
       "       ['USA', 0.442147083685545, 523.06]], dtype=object)"
      ]
     },
     "execution_count": 15,
     "metadata": {},
     "output_type": "execute_result"
    }
   ],
   "source": [
    "df.values"
   ]
  },
  {
   "cell_type": "code",
   "execution_count": 16,
   "metadata": {},
   "outputs": [
    {
     "data": {
      "text/plain": [
       "[['Germany', 1.397142857142857, 156.48],\n",
       " ['France', 1.1148571428571432, 195.09],\n",
       " ['Brazil', 1.0862857142857145, 190.09],\n",
       " ['Canada', 0.6784821428571428, 303.95],\n",
       " ['USA', 0.442147083685545, 523.06]]"
      ]
     },
     "execution_count": 16,
     "metadata": {},
     "output_type": "execute_result"
    }
   ],
   "source": [
    "rows = df.values.tolist()\n",
    "rows"
   ]
  },
  {
   "cell_type": "code",
   "execution_count": 17,
   "metadata": {},
   "outputs": [],
   "source": [
    "def format_sql_result(sql_variable):\n",
    "    \"\"\"\n",
    "    Takes in a sql variable as input, converts it to a Pandas DataFrame, and formats it as a text table using tabulate.\n",
    "    \n",
    "    Parameters:\n",
    "    -----------\n",
    "    sql_variable : object\n",
    "        A variable containing the result of a SQL query.\n",
    "        \n",
    "    Returns:\n",
    "    --------\n",
    "    None.\n",
    "        Prints the formatted text table to the console.\n",
    "    \"\"\"\n",
    "    df = sql_variable.DataFrame()\n",
    "    header = df.columns\n",
    "    rows = df.values.tolist()\n",
    "    return print(tabulate(rows, headers=header, tablefmt='pipe'))"
   ]
  },
  {
   "cell_type": "code",
   "execution_count": 18,
   "metadata": {},
   "outputs": [
    {
     "name": "stdout",
     "output_type": "stream",
     "text": [
      "| Country   |   AvgRevenuePerCustomer |   TotalRevenue |\n",
      "|:----------|------------------------:|---------------:|\n",
      "| Germany   |                1.39714  |         156.48 |\n",
      "| France    |                1.11486  |         195.09 |\n",
      "| Brazil    |                1.08629  |         190.09 |\n",
      "| Canada    |                0.678482 |         303.95 |\n",
      "| USA       |                0.442147 |         523.06 |\n"
     ]
    }
   ],
   "source": [
    "format_sql_result(df_input)"
   ]
  },
  {
   "attachments": {},
   "cell_type": "markdown",
   "metadata": {
    "notebookRunGroups": {
     "groupValue": "1"
    }
   },
   "source": [
    "### `Paste the output onto a Markdown cell.`"
   ]
  },
  {
   "attachments": {},
   "cell_type": "markdown",
   "metadata": {},
   "source": [
    "\n",
    "| Country   |   AvgRevenuePerCustomer |   TotalRevenue |\n",
    "|:----------|------------------------:|---------------:|\n",
    "| Germany   |                1.39714  |         156.48 |\n",
    "| France    |                1.11486  |         195.09 |\n",
    "| Brazil    |                1.08629  |         190.09 |\n",
    "| Canada    |                0.678482 |         303.95 |\n",
    "| USA       |                0.442147 |         523.06 |"
   ]
  }
 ],
 "metadata": {
  "kernelspec": {
   "display_name": "Python 3",
   "language": "python",
   "name": "python3"
  },
  "language_info": {
   "codemirror_mode": {
    "name": "ipython",
    "version": 3
   },
   "file_extension": ".py",
   "mimetype": "text/x-python",
   "name": "python",
   "nbconvert_exporter": "python",
   "pygments_lexer": "ipython3",
   "version": "3.11.2"
  },
  "orig_nbformat": 4
 },
 "nbformat": 4,
 "nbformat_minor": 2
}
