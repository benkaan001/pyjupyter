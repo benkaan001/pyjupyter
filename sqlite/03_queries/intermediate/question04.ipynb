{
 "cells": [
  {
   "attachments": {},
   "cell_type": "markdown",
   "metadata": {},
   "source": [
    "| PlaylistName               | NumberOfTracks |\n",
    "|----------------------------|-----------------|\n",
    "| Music                     | 3290            |\n",
    "| TV Shows                  | 426             |\n",
    "| Movies                    | 64              |\n",
    "| Brazilian Music           | 39              |\n",
    "| Classical                 | 24              |\n",
    "| Opera                      | 1               |\n"
   ]
  },
  {
   "cell_type": "code",
   "execution_count": null,
   "metadata": {},
   "outputs": [],
   "source": []
  }
 ],
 "metadata": {
  "language_info": {
   "name": "python"
  },
  "orig_nbformat": 4
 },
 "nbformat": 4,
 "nbformat_minor": 2
}
