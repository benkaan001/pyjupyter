{
 "cells": [
  {
   "attachments": {},
   "cell_type": "markdown",
   "metadata": {},
   "source": [
    "| ArtistName          | NumberOfTracks |\n",
    "|---------------------|----------------|\n",
    "| Iron Maiden         | 140            |\n",
    "| Led Zeppelin        | 114            |\n",
    "| U2                  | 112            |\n",
    "| Metallica           | 112            |\n",
    "| Deep Purple         | 92             |\n",
    "| Pearl Jam           | 67             |\n",
    "| Ozzy Osbourne       | 58             |\n",
    "| Foo Fighters        | 44             |\n",
    "| Nirvana             | 43             |\n",
    "| R.E.M.              | 41             |\n",
    "\n"
   ]
  },
  {
   "cell_type": "code",
   "execution_count": null,
   "metadata": {},
   "outputs": [],
   "source": []
  }
 ],
 "metadata": {
  "language_info": {
   "name": "python"
  },
  "orig_nbformat": 4
 },
 "nbformat": 4,
 "nbformat_minor": 2
}
