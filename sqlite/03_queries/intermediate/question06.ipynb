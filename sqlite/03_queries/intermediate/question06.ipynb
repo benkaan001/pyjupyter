{
 "cells": [
  {
   "attachments": {},
   "cell_type": "markdown",
   "metadata": {},
   "source": [
    "| EmployeeName        | TotalSales |\n",
    "|----------------------|------------|\n",
    "| Jane Peacock          | 1731.51   |\n",
    "| Margaret Park         | 1584.00   |\n",
    "| Steve Johnson         | 1393.92   |\n"
   ]
  },
  {
   "cell_type": "code",
   "execution_count": null,
   "metadata": {},
   "outputs": [],
   "source": []
  }
 ],
 "metadata": {
  "language_info": {
   "name": "python"
  },
  "orig_nbformat": 4
 },
 "nbformat": 4,
 "nbformat_minor": 2
}
