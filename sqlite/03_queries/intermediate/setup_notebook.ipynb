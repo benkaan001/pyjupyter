{
 "cells": [
  {
   "cell_type": "code",
   "execution_count": 2,
   "metadata": {},
   "outputs": [],
   "source": [
    "# add parent folder to the path\n",
    "import sys \n",
    "sys.path.append('..')\n",
    "\n",
    "# import the connection string \n",
    "from utils.create_mysql_connection import sql_conn_str\n",
    "\n",
    " # load the sql notebook extension\n",
    "%load_ext sql      \n",
    "\n",
    "# execute the sql_conn_str string as a SQL query\n",
    "%sql $sql_conn_str \n"
   ]
  }
 ],
 "metadata": {
  "kernelspec": {
   "display_name": "Python 3",
   "language": "python",
   "name": "python3"
  },
  "language_info": {
   "codemirror_mode": {
    "name": "ipython",
    "version": 3
   },
   "file_extension": ".py",
   "mimetype": "text/x-python",
   "name": "python",
   "nbconvert_exporter": "python",
   "pygments_lexer": "ipython3",
   "version": "3.11.2"
  },
  "orig_nbformat": 4
 },
 "nbformat": 4,
 "nbformat_minor": 2
}
