{
 "cells": [
  {
   "attachments": {},
   "cell_type": "markdown",
   "metadata": {},
   "source": [
    "| Genre       | TotalSales |\n",
    "|--------------|------------|\n",
    "| Rock         | 2615.32   |\n",
    "| Metal        | 619.20    |\n",
    "| Alternative  | 323.43    |\n",
    "| Latin        | 167.31    |\n",
    "| R&B/Soul     | 146.52    |\n",
    "| Blues        | 124.77    |\n",
    "| Jazz         | 121.77    |\n",
    "| Alternative & Punk| 112.86    |\n",
    "| Easy Listening    | 84.15     |\n",
    "| Pop           | 63.36     |\n"
   ]
  },
  {
   "cell_type": "code",
   "execution_count": null,
   "metadata": {},
   "outputs": [],
   "source": []
  }
 ],
 "metadata": {
  "language_info": {
   "name": "python"
  },
  "orig_nbformat": 4
 },
 "nbformat": 4,
 "nbformat_minor": 2
}
