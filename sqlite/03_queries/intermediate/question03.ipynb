{
 "cells": [
  {
   "attachments": {},
   "cell_type": "markdown",
   "metadata": {},
   "source": [
    "| ArtistName           | NumberOfAlbums |\n",
    "|----------------------|-----------------|\n",
    "| Iron Maiden          | 21              |\n",
    "| Led Zeppelin         | 14              |\n",
    "| Deep Purple          | 11              |\n",
    "| Metallica            | 10              |\n",
    "| U2                   | 10              |\n",
    "| Ozzy Osbourne        | 6               |\n",
    "| Pearl Jam            | 6               |\n",
    "| Red Hot Chili Peppers| 6               |\n",
    "| Faith No More        | 5               |\n",
    "| Foo Fighters         | 4               |\n"
   ]
  },
  {
   "cell_type": "code",
   "execution_count": null,
   "metadata": {},
   "outputs": [],
   "source": []
  }
 ],
 "metadata": {
  "language_info": {
   "name": "python"
  },
  "orig_nbformat": 4
 },
 "nbformat": 4,
 "nbformat_minor": 2
}
