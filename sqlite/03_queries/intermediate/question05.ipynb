{
 "cells": [
  {
   "attachments": {},
   "cell_type": "markdown",
   "metadata": {},
   "source": [
    "| InvoiceMonth | TotalSales |\n",
    "|--------------|------------|\n",
    "| Jan          | 108.90     |\n",
    "| Feb          | 82.17      |\n",
    "| Mar          | 79.20      |\n",
    "| Apr          | 86.13      |\n",
    "| May          | 91.08      |\n",
    "| Jun          | 37.62      |\n"
   ]
  },
  {
   "cell_type": "code",
   "execution_count": null,
   "metadata": {},
   "outputs": [],
   "source": []
  }
 ],
 "metadata": {
  "language_info": {
   "name": "python"
  },
  "orig_nbformat": 4
 },
 "nbformat": 4,
 "nbformat_minor": 2
}
