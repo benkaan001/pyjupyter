{
 "cells": [
  {
   "attachments": {},
   "cell_type": "markdown",
   "metadata": {},
   "source": [
    "### Retrieve the top 10 best-selling genres by the number of tracks sold.\n",
    "\n",
    " - ##### Hint: You will need to\n",
    "    - join the `genres`, `tracks`, and `invoice_items` tables\n",
    "    - use the GROUP BY and SUM functions to calculate the number of tracks sold for each genre, \n",
    "    - and then use the ORDER BY and LIMIT clauses to retrieve the top 10 best-selling genres."
   ]
  },
  {
   "attachments": {},
   "cell_type": "markdown",
   "metadata": {},
   "source": [
    "\n",
    "| FirstName | LastName | InvoiceTotal |\n",
    "|-----------|----------|--------------|\n",
    "| Leonie    | Köhler   | 23.76        |\n",
    "| Bjørn     | Hansen   | 8.91         |\n",
    "| František | Wichterle | 8.91         |\n",
    "| Hugh      | O'Reilly | 8.91         |\n",
    "| Emma      | Jones    | 8.91         |\n",
    "| Wyatt     | Girard   | 8.91         |\n",
    "| Ellie     | Sullivan | 8.91         |\n",
    "| Phil      | Hughes   | 8.91         |\n",
    "| Steve     | Murray   | 8.91         |\n",
    "| Mark      | Philips | 8.91         |\n"
   ]
  },
  {
   "cell_type": "code",
   "execution_count": null,
   "metadata": {},
   "outputs": [],
   "source": []
  }
 ],
 "metadata": {
  "language_info": {
   "name": "python"
  },
  "orig_nbformat": 4
 },
 "nbformat": 4,
 "nbformat_minor": 2
}
