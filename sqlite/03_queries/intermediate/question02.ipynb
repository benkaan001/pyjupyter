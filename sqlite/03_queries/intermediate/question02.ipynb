{
 "cells": [
  {
   "attachments": {},
   "cell_type": "markdown",
   "metadata": {},
   "source": [
    "| AlbumTitle                          | NumberOfTracks |\n",
    "|-------------------------------------|----------------|\n",
    "| Greatest Hits                       | 57             |\n",
    "| Minha Historia                      | 34             |\n",
    "| Greatest Hits                       | 26             |\n",
    "| Unplugged                           | 26             |\n",
    "| The Best Of Billy Cobham            | 22             |\n",
    "| The Essential Miles Davis           | 22             |\n",
    "| The Essential Jimi Hendrix          | 20             |\n",
    "| The Studio Album Collection         | 19             |\n",
    "| The Best Of Buddy Guy - The Mill... | 18             |\n",
    "| The Best Of Muddy Waters            | 18             |\n"
   ]
  },
  {
   "cell_type": "code",
   "execution_count": null,
   "metadata": {},
   "outputs": [],
   "source": []
  }
 ],
 "metadata": {
  "language_info": {
   "name": "python"
  },
  "orig_nbformat": 4
 },
 "nbformat": 4,
 "nbformat_minor": 2
}
