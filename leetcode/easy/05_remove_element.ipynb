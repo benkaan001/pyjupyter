{
 "cells": [
  {
   "attachments": {},
   "cell_type": "markdown",
   "metadata": {},
   "source": [
    "### Given an integer array nums and an integer val, remove all occurrences of val in nums `in-place`. The order of the elements may be changed. Then return the number of elements in nums which are not equal to val.\n",
    "\n",
    "```py\n",
    "\n",
    "Input: nums = [3,2,2,3], val = 3\n",
    "Output: 2, nums = [2,2,_,_]\n",
    "Explanation: Your function should return k = 2, with the first two elements of nums being 2.\n",
    "It does not matter what you leave beyond the returned k (hence they are underscores).\n",
    "\n",
    "\n",
    "Input: nums = [0,1,2,2,3,0,4,2], val = 2\n",
    "Output: 5, nums = [0,1,4,0,3,_,_,_]\n",
    "Explanation: Your function should return k = 5, with the first five elements of nums containing 0, 0, 1, 3, and 4.\n",
    "Note that the five elements can be returned in any order.\n",
    "It does not matter what you leave beyond the returned k (hence they are underscores).\n",
    "```"
   ]
  },
  {
   "cell_type": "code",
   "execution_count": 1,
   "metadata": {},
   "outputs": [],
   "source": [
    "from typing import List\n",
    "\n",
    "def removeElement(nums: List[int], val: int) -> int:\n",
    "    pass \n",
    "\n",
    "nums = [0, 1, 2, 2, 3, 0, 4, 2]\n",
    "val = 2\n",
    "removeElement(nums, val)"
   ]
  },
  {
   "attachments": {},
   "cell_type": "markdown",
   "metadata": {},
   "source": [
    "### Solution does not pass the edge cases"
   ]
  },
  {
   "cell_type": "code",
   "execution_count": 2,
   "metadata": {},
   "outputs": [
    {
     "name": "stdout",
     "output_type": "stream",
     "text": [
      "[0, 1, 3, 0, 4]\n"
     ]
    }
   ],
   "source": [
    "for num in nums:\n",
    "    if val in nums:\n",
    "        nums.remove(val)\n",
    "\n",
    "print(nums)"
   ]
  },
  {
   "cell_type": "code",
   "execution_count": 3,
   "metadata": {},
   "outputs": [
    {
     "name": "stdout",
     "output_type": "stream",
     "text": [
      "[3]\n"
     ]
    }
   ],
   "source": [
    "# failed case visualized\n",
    "nums = [3, 3]\n",
    "val = 3 \n",
    "\n",
    "for num in nums:\n",
    "    if val in nums:\n",
    "        nums.remove(val)\n",
    "\n",
    "print(nums)"
   ]
  },
  {
   "attachments": {},
   "cell_type": "markdown",
   "metadata": {},
   "source": [
    "#### The issue is that `nums.remove(val)` is modifying the list by removing the first occurance of `val`. The question is asking to move the position of the element that is equal to val. \n",
    "\n",
    "#### *`Solution:`* Use two pointers: one to track the current position while iterating over the list, and another pointer to indicate the position where the non-matching elements should be placed. "
   ]
  },
  {
   "cell_type": "code",
   "execution_count": 4,
   "metadata": {},
   "outputs": [
    {
     "name": "stdout",
     "output_type": "stream",
     "text": [
      "0\n"
     ]
    }
   ],
   "source": [
    "pointer = 0\n",
    "nums = [3, 3]\n",
    "val = 3\n",
    "\n",
    "for num in nums:\n",
    "    if num != val:\n",
    "        pointer += 1\n",
    "\n",
    "print(pointer)"
   ]
  },
  {
   "cell_type": "code",
   "execution_count": 5,
   "metadata": {},
   "outputs": [
    {
     "name": "stdout",
     "output_type": "stream",
     "text": [
      "2\n"
     ]
    }
   ],
   "source": [
    "def removeElement(nums: List[int], val: int) -> int:\n",
    "    if not nums:\n",
    "        return 0\n",
    "    \n",
    "    # Initialize a pointer to track the position to place non-matching elements\n",
    "    pointer = 0\n",
    "    \n",
    "    for num in nums:\n",
    "        if num != val:\n",
    "            # If the current element is not equal to val, move it to the correct position using the pointer\n",
    "            nums[pointer] = num\n",
    "            pointer += 1\n",
    "    \n",
    "    # Return the length of the new list after placing non-matching elements in the correct position\n",
    "    return pointer\n",
    "\n",
    "nums = [3, 2, 2, 3]\n",
    "val = 3\n",
    "result = removeElement(nums, val)\n",
    "print(result)\n"
   ]
  }
 ],
 "metadata": {
  "kernelspec": {
   "display_name": "Python 3",
   "language": "python",
   "name": "python3"
  },
  "language_info": {
   "codemirror_mode": {
    "name": "ipython",
    "version": 3
   },
   "file_extension": ".py",
   "mimetype": "text/x-python",
   "name": "python",
   "nbconvert_exporter": "python",
   "pygments_lexer": "ipython3",
   "version": "3.11.2"
  },
  "orig_nbformat": 4
 },
 "nbformat": 4,
 "nbformat_minor": 2
}
