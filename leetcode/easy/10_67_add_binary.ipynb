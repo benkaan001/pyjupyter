{
 "cells": [
  {
   "attachments": {},
   "cell_type": "markdown",
   "metadata": {},
   "source": [
    "### Given two binary strings a and b, return their sum as a binary string.\n",
    "```py\n",
    "Input: a = \"11\", b = \"1\"\n",
    "Output: \"100\"\n",
    "\n",
    "Input: a = \"1010\", b = \"1011\"\n",
    "Output: \"10101\"\n",
    "```"
   ]
  },
  {
   "cell_type": "code",
   "execution_count": 1,
   "metadata": {},
   "outputs": [],
   "source": [
    "def addBinary(a: str, b: str) -> str:\n",
    "    pass \n",
    "\n",
    "a = '1010'\n",
    "b = '1011'\n",
    "# addBinary(a=a, b=b)"
   ]
  },
  {
   "cell_type": "code",
   "execution_count": 2,
   "metadata": {},
   "outputs": [],
   "source": [
    "def addBinary(a: str, b: str) -> str:\n",
    "    output = '' # Initialize an empty string to store the result\n",
    "    \n",
    "    # Initialize pointers for the last digits of the binary strings\n",
    "    i = len(a) - 1\n",
    "    j = len(b) - 1\n",
    "    carry = 0 # to keep track of the carry \n",
    "    \n",
    "    # Iterate over the binary strings from right to left\n",
    "    while i >= 0 or j >= 0:\n",
    "        # Get the current digits from the binary string\n",
    "        digit_a = int(a[i]) if i >= 0 else 0\n",
    "        digit_b = int(b[j]) if j >= 0 else 0\n",
    "        \n",
    "        # Calculate the sum of the current digits along with the carry\n",
    "        digit_sum = digit_a + digit_b + carry \n",
    "        \n",
    "        # Determine the current digit and the carry for the next iteration\n",
    "        current_digit = digit_sum % 2\n",
    "        carry = digit_sum // 2\n",
    "        \n",
    "        # Append the current digit to the output string\n",
    "        output = str(current_digit) + output\n",
    "        \n",
    "        # Move the pointers to the next digit\n",
    "        i -= 1\n",
    "        j -= 1\n",
    "        \n",
    "    # If there is still a carry remaining, append it to the output string\n",
    "    if carry:\n",
    "        output = str(carry) + output\n",
    "    \n",
    "    return output"
   ]
  },
  {
   "cell_type": "code",
   "execution_count": 3,
   "metadata": {},
   "outputs": [
    {
     "data": {
      "text/plain": [
       "'10101'"
      ]
     },
     "execution_count": 3,
     "metadata": {},
     "output_type": "execute_result"
    }
   ],
   "source": [
    "a = '1010'\n",
    "b = '1011'\n",
    "addBinary(a=a, b=b)"
   ]
  }
 ],
 "metadata": {
  "kernelspec": {
   "display_name": "Python 3",
   "language": "python",
   "name": "python3"
  },
  "language_info": {
   "codemirror_mode": {
    "name": "ipython",
    "version": 3
   },
   "file_extension": ".py",
   "mimetype": "text/x-python",
   "name": "python",
   "nbconvert_exporter": "python",
   "pygments_lexer": "ipython3",
   "version": "3.11.2"
  },
  "orig_nbformat": 4
 },
 "nbformat": 4,
 "nbformat_minor": 2
}
