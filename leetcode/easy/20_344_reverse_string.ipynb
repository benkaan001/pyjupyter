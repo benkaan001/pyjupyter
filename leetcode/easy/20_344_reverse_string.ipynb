{
 "cells": [
  {
   "attachments": {},
   "cell_type": "markdown",
   "metadata": {},
   "source": [
    "### Write a function that reverses a string. The input string is given as an array of characters s.\n",
    "\n",
    "*You must do this by modifying the input array in-place with O(1) extra memory.*\n",
    "\n",
    "```py\n",
    "Input: s = [\"H\",\"a\",\"n\",\"n\",\"a\",\"h\"]\n",
    "Output: [\"h\",\"a\",\"n\",\"n\",\"a\",\"H\"]\n",
    "```"
   ]
  },
  {
   "cell_type": "code",
   "execution_count": 1,
   "metadata": {},
   "outputs": [],
   "source": [
    "from typing import List \n",
    "\n",
    "def reverseString(s: List[str]) -> None:\n",
    "    pass \n",
    "\n",
    "s = [\"h\", \"e\", \"l\", \"l\", \"o\"]\n",
    "# reverseString(s=s)"
   ]
  },
  {
   "cell_type": "code",
   "execution_count": 2,
   "metadata": {},
   "outputs": [
    {
     "data": {
      "text/plain": [
       "['o', 'l', 'l', 'e', 'h']"
      ]
     },
     "execution_count": 2,
     "metadata": {},
     "output_type": "execute_result"
    }
   ],
   "source": [
    "s.reverse()\n",
    "s"
   ]
  },
  {
   "attachments": {},
   "cell_type": "markdown",
   "metadata": {},
   "source": [
    "## Without built-in"
   ]
  },
  {
   "cell_type": "code",
   "execution_count": 4,
   "metadata": {},
   "outputs": [
    {
     "data": {
      "text/plain": [
       "'hannaH'"
      ]
     },
     "execution_count": 4,
     "metadata": {},
     "output_type": "execute_result"
    }
   ],
   "source": [
    "s = [\"H\", \"a\", \"n\", \"n\", \"a\", \"h\"]\n",
    "\n",
    "left, right = 0, len(s) - 1  # Set left pointer to the beginning and right pointer to the end\n",
    "\n",
    "while left < right:  # Continue swapping until the pointers meet or cross each other\n",
    "    s[left], s[right] = s[right], s[left]  # Swap the characters at left and right positions\n",
    "    left += 1  # Move the left pointer one step forward\n",
    "    right -= 1  # Move the right pointer one step backward\n",
    "\n",
    "''.join(s)  # Join the characters in the list back into a string"
   ]
  }
 ],
 "metadata": {
  "kernelspec": {
   "display_name": "Python 3",
   "language": "python",
   "name": "python3"
  },
  "language_info": {
   "codemirror_mode": {
    "name": "ipython",
    "version": 3
   },
   "file_extension": ".py",
   "mimetype": "text/x-python",
   "name": "python",
   "nbconvert_exporter": "python",
   "pygments_lexer": "ipython3",
   "version": "3.11.2"
  },
  "orig_nbformat": 4
 },
 "nbformat": 4,
 "nbformat_minor": 2
}
