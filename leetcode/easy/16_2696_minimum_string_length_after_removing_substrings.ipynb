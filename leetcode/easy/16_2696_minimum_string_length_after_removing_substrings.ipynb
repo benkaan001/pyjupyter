{
 "cells": [
  {
   "attachments": {},
   "cell_type": "markdown",
   "metadata": {},
   "source": [
    "#### You are given a string s consisting only of uppercase English letters. You can apply some operations to this string where, in one operation, you can remove any occurrence of one of the substrings `\"AB\"` or `\"CD\"` from s. Return the minimum possible length of the resulting string that you can obtain.\n",
    "\n",
    "*Note that the string concatenates after removing the substring and could produce new \"AB\" or \"CD\" substrings.*\n",
    "\n",
    "```py\n",
    "Input: s = \"ABFCACDB\"\n",
    "Output: 2\n",
    "Explanation: We can do the following operations:\n",
    "- Remove the substring \"ABFCACDB\", so s = \"FCACDB\".\n",
    "- Remove the substring \"FCACDB\", so s = \"FCAB\".\n",
    "- Remove the substring \"FCAB\", so s = \"FC\".\n",
    "So the resulting length of the string is 2.\n",
    "It can be shown that it is the minimum length that we can obtain.\n",
    "\n",
    "Input: s = \"ACBBD\"\n",
    "Output: 5\n",
    "Explanation: We cannot do any operations on the string so the length remains the same.\n",
    "```\n"
   ]
  },
  {
   "cell_type": "code",
   "execution_count": 1,
   "metadata": {},
   "outputs": [],
   "source": [
    "def minLenth(s: str) -> int:\n",
    "    pass \n",
    "\n",
    "s = \"ABFCACDB\"\n",
    "# s = \"ACBBD\"\n",
    "# minLenth(s=s)"
   ]
  },
  {
   "cell_type": "code",
   "execution_count": 3,
   "metadata": {},
   "outputs": [
    {
     "name": "stdout",
     "output_type": "stream",
     "text": [
      " s = 'FCAB'\n",
      " s = 'FC'\n"
     ]
    },
    {
     "data": {
      "text/plain": [
       "2"
      ]
     },
     "execution_count": 3,
     "metadata": {},
     "output_type": "execute_result"
    }
   ],
   "source": [
    "def minLenth(s: str) -> str:\n",
    "    substrings = ['AB', 'CD']\n",
    "    while substrings[0] in s or substrings[1] in s:\n",
    "        s = s.replace(substrings[0], '')\n",
    "        s = s.replace(substrings[1], '')\n",
    "        print(f\"{ s = }\")\n",
    "    return len(s)\n",
    "\n",
    "s = \"ABFCACDB\"\n",
    "minLenth(s)"
   ]
  },
  {
   "cell_type": "code",
   "execution_count": 4,
   "metadata": {},
   "outputs": [
    {
     "data": {
      "text/plain": [
       "5"
      ]
     },
     "execution_count": 4,
     "metadata": {},
     "output_type": "execute_result"
    }
   ],
   "source": [
    "s = \"ACBBD\"\n",
    "minLenth(s)"
   ]
  }
 ],
 "metadata": {
  "kernelspec": {
   "display_name": "Python 3",
   "language": "python",
   "name": "python3"
  },
  "language_info": {
   "codemirror_mode": {
    "name": "ipython",
    "version": 3
   },
   "file_extension": ".py",
   "mimetype": "text/x-python",
   "name": "python",
   "nbconvert_exporter": "python",
   "pygments_lexer": "ipython3",
   "version": "3.11.2"
  },
  "orig_nbformat": 4
 },
 "nbformat": 4,
 "nbformat_minor": 2
}
