{
 "cells": [
  {
   "attachments": {},
   "cell_type": "markdown",
   "metadata": {},
   "source": [
    "### Given a non-negative integer x, return the square root of x rounded down to the nearest integer. The returned integer should be non-negative as well.\n",
    "\n",
    "*You must not use any built-in exponent function or operator.*\n",
    "- `For example, do not use pow(x, 0.5) in c++ or x ** 0.5 in python.`\n",
    "\n",
    "```py\n",
    "Input: x = 4\n",
    "Output: 2\n",
    "Explanation: The square root of 4 is 2, so we return 2.\n",
    "\n",
    "Input: x = 8\n",
    "Output: 2\n",
    "Explanation: The square root of 8 is 2.82842..., and since we round it down to the nearest integer, 2 is returned.\n",
    "```\n"
   ]
  },
  {
   "cell_type": "code",
   "execution_count": 1,
   "metadata": {},
   "outputs": [],
   "source": [
    "def mySqrt(x: int) -> int:\n",
    "    pass \n",
    "\n",
    "x = 8\n",
    "# mySqrt(x=x)"
   ]
  },
  {
   "attachments": {},
   "cell_type": "markdown",
   "metadata": {},
   "source": [
    "\n",
    "\n",
    "Binary Search:\n",
    "\n",
    "   - Start with two pointers, `left` and `right`, initialized to 1 and `x` respectively.\n",
    "   - While `left` is less than or equal to `right`, calculate the midpoint as `(left + right) // 2`.\n",
    "   - Compare the square of the midpoint with `x`:\n",
    "     - If the square is equal to `x`, return the midpoint.\n",
    "     - If the square is less than `x`, update `left` to be `midpoint + 1`.\n",
    "     - If the square is greater than `x`, update `right` to be `midpoint - 1`.\n",
    "   - If the loop exits without finding an exact square root, return `right`.\n",
    "\n",
    "   Binary search helps narrow down the search space by halving it in each iteration, resulting in an efficient solution."
   ]
  },
  {
   "cell_type": "code",
   "execution_count": 2,
   "metadata": {},
   "outputs": [
    {
     "data": {
      "text/plain": [
       "2"
      ]
     },
     "execution_count": 2,
     "metadata": {},
     "output_type": "execute_result"
    }
   ],
   "source": [
    "def mySqrt(x: int) -> int:\n",
    "    if x == 0:\n",
    "        return 0 \n",
    "    \n",
    "    left, right = 1, x \n",
    "    \n",
    "    while left <= right:\n",
    "        # Calculate the midpoint of the current search space\n",
    "        middle = (left + right) // 2\n",
    "        if middle * middle == x:\n",
    "            # If the square of the midpoint is equal to x, we have found the square root\n",
    "            return middle \n",
    "        elif middle * middle < x:\n",
    "            # If the square of the midpoint is less than x, narrow down the search space to the right half\n",
    "            left = middle + 1\n",
    "        else:\n",
    "            # If the square of the midpoint is greater than x, narrow down the search space to the left half\n",
    "            right = middle - 1\n",
    "    # Return the right pointer as the result, which holds the floor value of the square root\n",
    "    return right\n",
    "\n",
    "x = 8\n",
    "mySqrt(x=x)"
   ]
  }
 ],
 "metadata": {
  "kernelspec": {
   "display_name": "Python 3",
   "language": "python",
   "name": "python3"
  },
  "language_info": {
   "codemirror_mode": {
    "name": "ipython",
    "version": 3
   },
   "file_extension": ".py",
   "mimetype": "text/x-python",
   "name": "python",
   "nbconvert_exporter": "python",
   "pygments_lexer": "ipython3",
   "version": "3.11.2"
  },
  "orig_nbformat": 4
 },
 "nbformat": 4,
 "nbformat_minor": 2
}
