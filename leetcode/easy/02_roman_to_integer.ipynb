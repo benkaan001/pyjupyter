{
 "cells": [
  {
   "attachments": {},
   "cell_type": "markdown",
   "metadata": {},
   "source": [
    "Roman numerals are represented by seven different symbols: I, V, X, L, C, D and M.\n",
    "\n",
    "```py\n",
    "Symbol       Value\n",
    "I             1\n",
    "V             5\n",
    "X             10\n",
    "L             50\n",
    "C             100\n",
    "D             500\n",
    "M             1000\n",
    "```\n",
    "For example, 2 is written as II in Roman numeral, just two ones added together. 12 is written as XII, which is simply X + II. The number 27 is written as XXVII, which is XX + V + II.\n",
    "\n",
    "Roman numerals are usually written largest to smallest from left to right. However, the numeral for four is not IIII. Instead, the number four is written as IV. Because the one is before the five we subtract it making four. The same principle applies to the number nine, which is written as IX. There are six instances where subtraction is used:\n",
    "\n",
    "- I can be placed before V (5) and X (10) to make 4 and 9. \n",
    "- X can be placed before L (50) and C (100) to make 40 and 90. \n",
    "- C can be placed before D (500) and M (1000) to make 400 and 900.\n",
    "\n",
    "\n",
    "Given a roman numeral, convert it to an integer.\n",
    "\n",
    "```py\n",
    "Input: s = \"III\"\n",
    "Output: 3\n",
    "Explanation: III = 3\n",
    "\n",
    "Input: s = \"LVIII\"\n",
    "Output: 58\n",
    "Explanation: L = 50, V= 5, III = 3\n",
    "\n",
    "Input: s = \"MCMXCIV\"\n",
    "Output: 1994\n",
    "Explanation: M = 1000, CM = 900, XC = 90 and IV = 4\n",
    "```"
   ]
  },
  {
   "cell_type": "code",
   "execution_count": 1,
   "metadata": {},
   "outputs": [],
   "source": [
    "def romanToInt(s: str) -> int:\n",
    "    pass \n",
    "\n",
    "# s = \"IV\"\n",
    "# s = \"MCMXCIV\"\n",
    "# romanToInt(s)"
   ]
  },
  {
   "cell_type": "code",
   "execution_count": 2,
   "metadata": {},
   "outputs": [
    {
     "data": {
      "text/plain": [
       "[1000, 100, 1000, 10, 100, 1, 5]"
      ]
     },
     "execution_count": 2,
     "metadata": {},
     "output_type": "execute_result"
    }
   ],
   "source": [
    "roman_dict = {\n",
    "\"I\": 1,\n",
    "\"V\": 5,\n",
    "\"X\": 10,\n",
    "\"L\": 50,\n",
    "\"C\": 100,\n",
    "\"D\": 500,\n",
    "\"M\": 1000,\n",
    "}\n",
    "\n",
    "conversion_list = []\n",
    "\n",
    "s = \"MCMXCIV\"\n",
    "\n",
    "for letter in s:\n",
    "    value = roman_dict[letter]\n",
    "    conversion_list.append(value)\n",
    "conversion_list"
   ]
  },
  {
   "cell_type": "code",
   "execution_count": 3,
   "metadata": {},
   "outputs": [
    {
     "data": {
      "text/plain": [
       "2216"
      ]
     },
     "execution_count": 3,
     "metadata": {},
     "output_type": "execute_result"
    }
   ],
   "source": [
    "list_sum = sum(digit for digit in conversion_list)\n",
    "list_sum"
   ]
  },
  {
   "cell_type": "code",
   "execution_count": 4,
   "metadata": {},
   "outputs": [
    {
     "data": {
      "text/plain": [
       "1994"
      ]
     },
     "execution_count": 4,
     "metadata": {},
     "output_type": "execute_result"
    }
   ],
   "source": [
    "for i,digit in enumerate(s):\n",
    "    if digit == 'I' and s[i+1] in ['V', 'X']:\n",
    "        list_sum -= 2\n",
    "    if digit == 'X' and s[i+1] in ['L', 'C']:\n",
    "        list_sum -= 20\n",
    "    if digit == 'C' and s[i+1] in ['D', 'M']:\n",
    "        list_sum -= 200\n",
    "    \n",
    "list_sum"
   ]
  },
  {
   "cell_type": "code",
   "execution_count": 5,
   "metadata": {},
   "outputs": [],
   "source": [
    "def roman_to_integer(s: str) -> int:\n",
    "    roman_dict = {\n",
    "        \"I\": 1,\n",
    "        \"V\": 5,\n",
    "        \"X\": 10,\n",
    "        \"L\": 50,\n",
    "        \"C\": 100,\n",
    "        \"D\": 500,\n",
    "        \"M\": 1000,\n",
    "    }\n",
    "    \n",
    "    conversion_list = []\n",
    "    \n",
    "    # Convert each Roman numeral character to its decimal value and store in conversion_list\n",
    "    for letter in s:\n",
    "        value = roman_dict[letter]\n",
    "        conversion_list.append(value)\n",
    "    \n",
    "    # Calculate the sum of the decimal values in conversion_list\n",
    "    list_sum = sum(digit for digit in conversion_list)\n",
    "    \n",
    "    # Process special cases of subtraction (e.g., IV, IX, XL, XC, CD, CM)\n",
    "    for i, digit in enumerate(s):\n",
    "        if i < len(s) - 1:\n",
    "            if digit == 'I' and s[i+1] in ['V', 'X']:\n",
    "                list_sum -= 2\n",
    "            if digit == 'X' and s[i+1] in ['L', 'C']:\n",
    "                list_sum -= 20\n",
    "            if digit == 'C' and s[i+1] in ['D', 'M']:\n",
    "                list_sum -= 200\n",
    "    \n",
    "    # Return the final integer value after Roman numeral to decimal conversion\n",
    "    return list_sum\n",
    "\n",
    "s = \"MCMXCIV\"\n",
    "romanToInt(s)"
   ]
  },
  {
   "attachments": {},
   "cell_type": "markdown",
   "metadata": {},
   "source": [
    "# Better Approach"
   ]
  },
  {
   "cell_type": "code",
   "execution_count": 6,
   "metadata": {},
   "outputs": [
    {
     "data": {
      "text/plain": [
       "1994"
      ]
     },
     "execution_count": 6,
     "metadata": {},
     "output_type": "execute_result"
    }
   ],
   "source": [
    "def romanToInt(s: str) -> int:\n",
    "    roman_dict = {\n",
    "        \"I\": 1,\n",
    "        \"V\": 5,\n",
    "        \"X\": 10,\n",
    "        \"L\": 50,\n",
    "        \"C\": 100,\n",
    "        \"D\": 500,\n",
    "        \"M\": 1000,\n",
    "    }\n",
    "\n",
    "    # Initialize variables for result and previous numeral value\n",
    "    result = 0\n",
    "    prev_value = 0\n",
    "    \n",
    "    # Iterate through the Roman numeral string in reverse order\n",
    "    for letter in s[::-1]:\n",
    "        current_value = roman_dict[letter]  # Get the decimal value of the current numeral\n",
    "        \n",
    "        # Check if the current numeral value is less than the previous numeral value\n",
    "        if current_value < prev_value:\n",
    "            result -= current_value  # Subtract the current value from the result\n",
    "        else:\n",
    "            result += current_value  # Add the current value to the result\n",
    "        \n",
    "        prev_value = current_value  # Update the previous numeral value for the next iteration\n",
    "    \n",
    "    return result\n",
    "\n",
    "s = \"MCMXCIV\"\n",
    "romanToInt(s)"
   ]
  }
 ],
 "metadata": {
  "kernelspec": {
   "display_name": "Python 3",
   "language": "python",
   "name": "python3"
  },
  "language_info": {
   "codemirror_mode": {
    "name": "ipython",
    "version": 3
   },
   "file_extension": ".py",
   "mimetype": "text/x-python",
   "name": "python",
   "nbconvert_exporter": "python",
   "pygments_lexer": "ipython3",
   "version": "3.11.2"
  },
  "orig_nbformat": 4
 },
 "nbformat": 4,
 "nbformat_minor": 2
}
