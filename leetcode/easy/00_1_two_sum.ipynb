{
 "cells": [
  {
   "attachments": {},
   "cell_type": "markdown",
   "metadata": {},
   "source": [
    "### Given an array of integers nums and an integer target, return indices of the two numbers such that they add up to target.\n",
    "\n",
    "```py\n",
    "\n",
    "Example 1:\n",
    "Input: nums = [2,7,11,15], target = 9\n",
    "Output: [0,1]\n",
    "Explanation: Because nums[0] + nums[1] == 9, we return [0, 1].\n",
    "\n",
    "\n",
    "Example 2:\n",
    "Input: nums = [3,2,4], target = 6\n",
    "Output: [1,2]\n",
    "\n",
    "\n",
    "Example 3:\n",
    "Input: nums = [3,3], target = 6\n",
    "Output: [0,1]\n",
    "```"
   ]
  },
  {
   "cell_type": "code",
   "execution_count": 1,
   "metadata": {},
   "outputs": [],
   "source": [
    "from typing import List \n",
    "\n",
    "def twoSum(nums: List[int], target: int) -> List[int]:\n",
    "    pass \n",
    "\n",
    "nums = [2,7,11,15]\n",
    "target = 9\n",
    "# twoSum(nums, target)"
   ]
  },
  {
   "attachments": {},
   "cell_type": "markdown",
   "metadata": {},
   "source": [
    "# O(n^2) Solution"
   ]
  },
  {
   "cell_type": "code",
   "execution_count": 2,
   "metadata": {},
   "outputs": [
    {
     "name": "stdout",
     "output_type": "stream",
     "text": [
      "[0, 1]\n"
     ]
    }
   ],
   "source": [
    "list_length = len(nums)\n",
    "output = list()\n",
    "\n",
    "for i in range(list_length - 1):\n",
    "    for j in range(i+1, list_length):\n",
    "        if nums[i] + nums[j] == target:\n",
    "            output.extend([i, j])\n",
    "print(output)\n",
    "        "
   ]
  },
  {
   "attachments": {},
   "cell_type": "markdown",
   "metadata": {},
   "source": [
    "# O(n) Solution"
   ]
  },
  {
   "cell_type": "code",
   "execution_count": 3,
   "metadata": {},
   "outputs": [
    {
     "data": {
      "text/plain": [
       "[0, 1]"
      ]
     },
     "execution_count": 3,
     "metadata": {},
     "output_type": "execute_result"
    }
   ],
   "source": [
    "def twoSum(nums: List[int], target: int) -> List[int]:\n",
    "    # Initialize an empty dictionary to store numbers and their indices 'num: index'\n",
    "    nums_dict = dict()\n",
    "    \n",
    "    # Iterate through each number in the list along with its index\n",
    "    for i, first_num in enumerate(nums):\n",
    "        # Calculate the second number by subtracting the current_number(first_num) from target\n",
    "        second_num = target - first_num\n",
    "        \n",
    "        # Check if the second number exists in the dictionary\n",
    "        if second_num in nums_dict:\n",
    "            # If the second number found, return the indices of the two numbers\n",
    "            return [nums_dict[second_num], i]\n",
    "        \n",
    "        # If the first number is not found, add the first number and its index tot he dictionary\n",
    "        nums_dict[first_num] = i \n",
    "        \n",
    "    # If no solution is found, return an empty list\n",
    "    return []\n",
    "        \n",
    "nums = [2,7,11,15]\n",
    "target = 9\n",
    "twoSum(nums, target)"
   ]
  },
  {
   "attachments": {},
   "cell_type": "markdown",
   "metadata": {},
   "source": [
    "# Visual"
   ]
  },
  {
   "cell_type": "code",
   "execution_count": 4,
   "metadata": {},
   "outputs": [
    {
     "name": "stdout",
     "output_type": "stream",
     "text": [
      "second_num = 7\n",
      "second_num = 7 is not found in the dict. Adding first_num =2 to the dict\n",
      "nums_dict = {2: 0}\n",
      "second_num = 2\n",
      "second_num = 2 is found in the dict.\n"
     ]
    },
    {
     "data": {
      "text/plain": [
       "[0, 1]"
      ]
     },
     "execution_count": 4,
     "metadata": {},
     "output_type": "execute_result"
    }
   ],
   "source": [
    "def twoSum(nums: List[int], target: int) -> List[int]:\n",
    "    nums_dict = dict()\n",
    "    \n",
    "    for i,first_num in enumerate(nums):\n",
    "        second_num = target - first_num\n",
    "        print(f\"{second_num = }\")\n",
    "        if second_num in nums_dict:\n",
    "            print(f\"{second_num = } is found in the dict.\")\n",
    "            return [nums_dict[second_num], i]\n",
    "        print(f\"{second_num = } is not found in the dict. Adding {first_num =} to the dict\")\n",
    "        nums_dict[first_num] = i \n",
    "        print(f\"{nums_dict = }\")\n",
    "    \n",
    "    return []\n",
    "\n",
    "nums = [2,7,11,15]\n",
    "target = 9\n",
    "twoSum(nums, target)"
   ]
  }
 ],
 "metadata": {
  "kernelspec": {
   "display_name": "Python 3",
   "language": "python",
   "name": "python3"
  },
  "language_info": {
   "codemirror_mode": {
    "name": "ipython",
    "version": 3
   },
   "file_extension": ".py",
   "mimetype": "text/x-python",
   "name": "python",
   "nbconvert_exporter": "python",
   "pygments_lexer": "ipython3",
   "version": "3.11.2"
  },
  "orig_nbformat": 4
 },
 "nbformat": 4,
 "nbformat_minor": 2
}
