{
 "cells": [
  {
   "attachments": {},
   "cell_type": "markdown",
   "metadata": {},
   "source": [
    "### Given a string s containing just the characters `'('`, `')'`, `'{'`, `'}'`, `'['` and `']'`, determine if the input string is valid.\n",
    "\n",
    "*An input string is valid if:*\n",
    "\n",
    "- Open brackets must be closed by the same type of brackets.\n",
    "- Open brackets must be closed in the correct order.\n",
    "- Every close bracket has a corresponding open bracket of the same type.\n",
    "\n",
    "```py\n",
    "Input: s = \"()\"\n",
    "Output: true\n",
    "\n",
    "Input: s = \"()[]{}\"\n",
    "Output: true\n",
    "\n",
    "Input: s = \"(]\"\n",
    "Output: false\n",
    "```\n"
   ]
  },
  {
   "cell_type": "code",
   "execution_count": 1,
   "metadata": {},
   "outputs": [],
   "source": [
    "def isValid(s: str) -> bool:\n",
    "    pass \n",
    "\n",
    "s = \"()[]{}\"\n",
    "# isValid(s=s)"
   ]
  },
  {
   "attachments": {},
   "cell_type": "markdown",
   "metadata": {},
   "source": [
    "Some ideas on how to approach:\n",
    "\n",
    "1. Stack: Use a stack to keep track of the opening parentheses encountered. As you iterate through the string, whenever you encounter an opening parenthesis, you push it onto the stack. When you encounter a closing parenthesis, you check if it matches the top of the stack (i.e., the corresponding opening parenthesis). If it does, you pop the opening parenthesis from the stack. If there is a mismatch or the stack is empty when encountering a closing parenthesis, the string is invalid. After iterating through the entire string, if the stack is empty, the string is valid.\n",
    "\n",
    "2. Counting: Use counters to keep track of the number of opening and closing parentheses encountered. Initialize two counters, one for opening parentheses and another for closing parentheses. As you iterate through the string, increment the respective counter whenever you encounter the corresponding parenthesis. If the closing parentheses counter exceeds the opening parentheses counter at any point or if the closing parentheses counter is non-zero at the end while the opening parentheses counter is zero, the string is invalid. Otherwise, it is valid.\n",
    "\n",
    "3. Regular Expressions: Use regular expressions to repeatedly replace valid pairs of parentheses with an empty string until no more replacements can be made. If the resulting string is empty, the parentheses are valid; otherwise, they are invalid.\n"
   ]
  },
  {
   "cell_type": "code",
   "execution_count": 2,
   "metadata": {},
   "outputs": [
    {
     "name": "stdout",
     "output_type": "stream",
     "text": [
      "True\n"
     ]
    }
   ],
   "source": [
    "openers = ['(', '[', '{']\n",
    "closers = [')', ']', '}']\n",
    "output = None\n",
    "\n",
    "for i in range (len(openers)):\n",
    "    if s.count(openers[i]) != s.count(closers[i]):\n",
    "        output = False \n",
    "    else:\n",
    "        output = True\n",
    "        \n",
    "print(output)        "
   ]
  },
  {
   "cell_type": "code",
   "execution_count": 3,
   "metadata": {},
   "outputs": [],
   "source": [
    "def isValid(s: str) -> bool:\n",
    "    stack = []\n",
    "    openers = ['(', '[', '{']  # List of opening parentheses\n",
    "    closers = [')', ']', '}']  # List of corresponding closing parentheses\n",
    "\n",
    "    for i in range(len(openers)):\n",
    "        if s.count(openers[i]) != s.count(closers[i]):\n",
    "            return False  # Return False if counts of opening and closing parentheses don't match\n",
    "\n",
    "    for char in s:\n",
    "        if char in openers:\n",
    "            stack.append(char)  # Push opening parentheses onto the stack\n",
    "        elif char in closers:\n",
    "            if not stack:\n",
    "                return False  # Return False if there's a closing parenthesis without a matching opening parenthesis\n",
    "            opener = stack.pop()  # Pop the top opening parenthesis from the stack\n",
    "            if openers.index(opener) != closers.index(char):\n",
    "                return False  # Return False if the popped opener doesn't match the current closer\n",
    "\n",
    "    return not stack  # Return True if the stack is empty (all parentheses are matched and removed), False otherwise\n",
    "\n",
    "    "
   ]
  },
  {
   "cell_type": "code",
   "execution_count": 4,
   "metadata": {},
   "outputs": [
    {
     "data": {
      "text/plain": [
       "True"
      ]
     },
     "execution_count": 4,
     "metadata": {},
     "output_type": "execute_result"
    }
   ],
   "source": [
    "s = \"()[]{}\"\n",
    "isValid(s=s)"
   ]
  },
  {
   "attachments": {},
   "cell_type": "markdown",
   "metadata": {},
   "source": [
    "## Improved with use of a dictionary"
   ]
  },
  {
   "cell_type": "code",
   "execution_count": 5,
   "metadata": {},
   "outputs": [],
   "source": [
    "def isValidV2(s: str) -> bool:\n",
    "    stack = []\n",
    "    char_dict = {'(': ')',  # Mapping opening parentheses to their corresponding closing parentheses\n",
    "                 '[': ']', \n",
    "                 '{': '}'}\n",
    "    \n",
    "    for char in s:\n",
    "        if char in char_dict:  # If the character is an opening parenthesis\n",
    "            stack.append(char)  # Push it onto the stack\n",
    "        elif char in char_dict.values():  # If the character is a closing parenthesis\n",
    "            if stack == [] or char_dict[stack.pop()] != char:  # Check for matching pair\n",
    "                return False  # Return False if the pair is not valid\n",
    "        else:\n",
    "            return False  # Return False if the character is neither an opening nor a closing parenthesis\n",
    "    \n",
    "    return not stack  # Return True if the stack is empty (all parentheses are matched and removed), False otherwise\n"
   ]
  },
  {
   "cell_type": "code",
   "execution_count": 6,
   "metadata": {},
   "outputs": [
    {
     "data": {
      "text/plain": [
       "True"
      ]
     },
     "execution_count": 6,
     "metadata": {},
     "output_type": "execute_result"
    }
   ],
   "source": [
    "s = \"()[]{}\"\n",
    "isValidV2(s=s)"
   ]
  }
 ],
 "metadata": {
  "kernelspec": {
   "display_name": "Python 3",
   "language": "python",
   "name": "python3"
  },
  "language_info": {
   "codemirror_mode": {
    "name": "ipython",
    "version": 3
   },
   "file_extension": ".py",
   "mimetype": "text/x-python",
   "name": "python",
   "nbconvert_exporter": "python",
   "pygments_lexer": "ipython3",
   "version": "3.11.2"
  },
  "orig_nbformat": 4
 },
 "nbformat": 4,
 "nbformat_minor": 2
}
