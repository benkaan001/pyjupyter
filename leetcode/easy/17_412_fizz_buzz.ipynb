{
 "cells": [
  {
   "attachments": {},
   "cell_type": "markdown",
   "metadata": {},
   "source": [
    "### Given an integer n, return a string array answer (1-indexed) where:\n",
    "\n",
    "- answer[i] == \"FizzBuzz\" if i is divisible by 3 and 5.\n",
    "- answer[i] == \"Fizz\" if i is divisible by 3.\n",
    "- answer[i] == \"Buzz\" if i is divisible by 5.\n",
    "- answer[i] == i (as a string) if none of the above conditions are true.\n",
    "\n",
    "```py\n",
    "\n",
    "Input: n = 3\n",
    "Output: [\"1\",\"2\",\"Fizz\"]\n",
    "\n",
    "Input: n = 5\n",
    "Output: [\"1\",\"2\",\"Fizz\",\"4\",\"Buzz\"]\n",
    "\n",
    "Input: n = 15\n",
    "Output: [\"1\",\"2\",\"Fizz\",\"4\",\"Buzz\",\"Fizz\",\"7\",\"8\",\"Fizz\",\"Buzz\",\"11\",\"Fizz\",\"13\",\"14\",\"FizzBuzz\"]\n",
    "```"
   ]
  },
  {
   "cell_type": "code",
   "execution_count": 1,
   "metadata": {},
   "outputs": [],
   "source": [
    "from typing import List\n",
    "\n",
    "def fizzBuzz(n: int) -> List[str]:\n",
    "    pass \n",
    "\n",
    "n = 5\n",
    "# fizzBuzz(n=n)"
   ]
  },
  {
   "cell_type": "code",
   "execution_count": 2,
   "metadata": {},
   "outputs": [
    {
     "data": {
      "text/plain": [
       "['1', '2', 'Fizz', '4', 'Buzz']"
      ]
     },
     "execution_count": 2,
     "metadata": {},
     "output_type": "execute_result"
    }
   ],
   "source": [
    "def fizzBuzz(n: int) -> List[str]:\n",
    "    output = list()\n",
    "    for i in range(1, n+1):\n",
    "        if i % 3 == 0 and i % 5 == 0:\n",
    "            output.append(\"FizzBuzz\")\n",
    "        elif i % 5 == 0:\n",
    "            output.append(\"Buzz\")\n",
    "        elif i % 3 == 0:\n",
    "            output.append(\"Fizz\")\n",
    "        else:\n",
    "            output.append(str(i))\n",
    "    return output\n",
    "n = 5\n",
    "fizzBuzz(n=n)"
   ]
  },
  {
   "cell_type": "code",
   "execution_count": 3,
   "metadata": {},
   "outputs": [
    {
     "data": {
      "text/plain": [
       "['1',\n",
       " '2',\n",
       " 'Fizz',\n",
       " '4',\n",
       " 'Buzz',\n",
       " 'Fizz',\n",
       " '7',\n",
       " '8',\n",
       " 'Fizz',\n",
       " 'Buzz',\n",
       " '11',\n",
       " 'Fizz',\n",
       " '13',\n",
       " '14',\n",
       " 'FizzBuzz']"
      ]
     },
     "execution_count": 3,
     "metadata": {},
     "output_type": "execute_result"
    }
   ],
   "source": [
    "n = 15\n",
    "fizzBuzz(n=n)"
   ]
  }
 ],
 "metadata": {
  "kernelspec": {
   "display_name": "Python 3",
   "language": "python",
   "name": "python3"
  },
  "language_info": {
   "codemirror_mode": {
    "name": "ipython",
    "version": 3
   },
   "file_extension": ".py",
   "mimetype": "text/x-python",
   "name": "python",
   "nbconvert_exporter": "python",
   "pygments_lexer": "ipython3",
   "version": "3.11.2"
  },
  "orig_nbformat": 4
 },
 "nbformat": 4,
 "nbformat_minor": 2
}
