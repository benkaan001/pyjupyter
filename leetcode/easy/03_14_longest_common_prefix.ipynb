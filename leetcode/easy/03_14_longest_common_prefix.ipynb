{
 "cells": [
  {
   "attachments": {},
   "cell_type": "markdown",
   "metadata": {},
   "source": [
    "### Write a function to find the longest common prefix string amongst an array of strings. If there is no common prefix, return an empty string `\"\"`.\n",
    "\n",
    "```py\n",
    "Input: strs = [\"flower\", \"flow\", \"flight\"]\n",
    "Output: \"fl\"\n",
    "\n",
    "Input: strs = [\"dog\", \"racecar\", \"car\"]\n",
    "Output: \"\"\n",
    "Explanation: There is no common prefix among the input strings.\n",
    "```"
   ]
  },
  {
   "cell_type": "code",
   "execution_count": 1,
   "metadata": {},
   "outputs": [],
   "source": [
    "from typing import List\n",
    "def longestCommonPrefix(strs: List[str]) -> str:\n",
    "    pass \n",
    "\n",
    "# strs = [\"cir\", \"car\"]\n",
    "strs = [\"flower\",\"flow\",\"flight\"]\n",
    "# longestCommonPrefix(strs)"
   ]
  },
  {
   "cell_type": "code",
   "execution_count": 2,
   "metadata": {},
   "outputs": [
    {
     "name": "stdout",
     "output_type": "stream",
     "text": [
      "['flow', 'flower', 'flight']\n"
     ]
    }
   ],
   "source": [
    "# order the strings in ascending order of string length \n",
    "strs.sort(key=lambda x: len(x))\n",
    "print(strs)"
   ]
  },
  {
   "cell_type": "code",
   "execution_count": 3,
   "metadata": {},
   "outputs": [
    {
     "data": {
      "text/plain": [
       "'fl'"
      ]
     },
     "execution_count": 3,
     "metadata": {},
     "output_type": "execute_result"
    }
   ],
   "source": [
    "def longestCommonPrefix(strs: List[str]) -> str:\n",
    "    if not strs:\n",
    "        return \"\"\n",
    "    \n",
    "    min_length = min(len(string) for string in strs)\n",
    "    prefix = \"\"\n",
    "    \n",
    "    for i in range(min_length):\n",
    "        common_char = strs[0][i]\n",
    "        for string in strs[1:]:\n",
    "            if string[i] != common_char:\n",
    "                return prefix\n",
    "        prefix += common_char\n",
    "    \n",
    "    return prefix \n",
    "\n",
    "strs = [\"flower\",\"flow\",\"flight\"]\n",
    "longestCommonPrefix(strs)"
   ]
  },
  {
   "cell_type": "code",
   "execution_count": 4,
   "metadata": {},
   "outputs": [
    {
     "data": {
      "text/plain": [
       "'c'"
      ]
     },
     "execution_count": 4,
     "metadata": {},
     "output_type": "execute_result"
    }
   ],
   "source": [
    "strs = [\"cir\", \"car\"]\n",
    "longestCommonPrefix(strs)"
   ]
  },
  {
   "attachments": {},
   "cell_type": "markdown",
   "metadata": {},
   "source": [
    "# O(^n) Solution"
   ]
  },
  {
   "cell_type": "code",
   "execution_count": 7,
   "metadata": {},
   "outputs": [
    {
     "data": {
      "text/plain": [
       "<zip at 0x106184d00>"
      ]
     },
     "execution_count": 7,
     "metadata": {},
     "output_type": "execute_result"
    }
   ],
   "source": [
    "zip(*strs)"
   ]
  },
  {
   "cell_type": "code",
   "execution_count": 9,
   "metadata": {},
   "outputs": [
    {
     "data": {
      "text/plain": [
       "[('c', 'c'), ('i', 'a'), ('r', 'r')]"
      ]
     },
     "execution_count": 9,
     "metadata": {},
     "output_type": "execute_result"
    }
   ],
   "source": [
    "zip_list = list(zip(*strs))\n",
    "zip_list"
   ]
  },
  {
   "cell_type": "code",
   "execution_count": 10,
   "metadata": {},
   "outputs": [
    {
     "data": {
      "text/plain": [
       "['c']"
      ]
     },
     "execution_count": 10,
     "metadata": {},
     "output_type": "execute_result"
    }
   ],
   "source": [
    "common_chars = []\n",
    "\n",
    "for char_tuple in zip_list:\n",
    "    if len(set(char_tuple)) == 1:\n",
    "        common_chars.append(char_tuple[0])\n",
    "    else:\n",
    "        break \n",
    "\n",
    "common_chars"
   ]
  },
  {
   "cell_type": "code",
   "execution_count": 11,
   "metadata": {},
   "outputs": [
    {
     "data": {
      "text/plain": [
       "'c'"
      ]
     },
     "execution_count": 11,
     "metadata": {},
     "output_type": "execute_result"
    }
   ],
   "source": [
    "output = ''.join(char for char in common_chars)\n",
    "output"
   ]
  },
  {
   "cell_type": "code",
   "execution_count": 12,
   "metadata": {},
   "outputs": [
    {
     "data": {
      "text/plain": [
       "'fl'"
      ]
     },
     "execution_count": 12,
     "metadata": {},
     "output_type": "execute_result"
    }
   ],
   "source": [
    "def longestCommonPrefix(strs: List[str]) -> str:\n",
    "    common_chars =[]\n",
    "    char_tuples = list(zip(*strs))\n",
    "    for char_tuple in char_tuples:\n",
    "        if len(set(char_tuple)) == 1:\n",
    "            common_chars.append(char_tuple[0])\n",
    "        else:\n",
    "            break \n",
    "    return ''.join(char for char in common_chars)\n",
    "\n",
    "# strs = [\"cir\", \"car\"]\n",
    "strs = [\"flower\",\"flow\",\"flight\"]\n",
    "longestCommonPrefix(strs)"
   ]
  },
  {
   "attachments": {},
   "cell_type": "markdown",
   "metadata": {},
   "source": [
    "# Solution using a generator"
   ]
  },
  {
   "cell_type": "code",
   "execution_count": 13,
   "metadata": {},
   "outputs": [
    {
     "data": {
      "text/plain": [
       "'fl'"
      ]
     },
     "execution_count": 13,
     "metadata": {},
     "output_type": "execute_result"
    }
   ],
   "source": [
    "def common_prefix_generator(strs):\n",
    "    for chars in zip(*strs):\n",
    "        if len(set(chars)) == 1:\n",
    "            yield chars[0]\n",
    "        else:\n",
    "            break \n",
    "        \n",
    "''.join(common_prefix_generator(strs))"
   ]
  },
  {
   "cell_type": "code",
   "execution_count": 14,
   "metadata": {},
   "outputs": [
    {
     "data": {
      "text/plain": [
       "'fl'"
      ]
     },
     "execution_count": 14,
     "metadata": {},
     "output_type": "execute_result"
    }
   ],
   "source": [
    "def longestCommonPrefix(strs: List[str]) -> str:\n",
    "    \n",
    "    if not strs:\n",
    "        return ''\n",
    "    \n",
    "    def common_prefix_generator():\n",
    "        for chars in zip(*strs):\n",
    "            if len(set(chars)) == 1:\n",
    "                yield chars[0]\n",
    "            else:\n",
    "                break \n",
    "            \n",
    "    return ''.join(common_prefix_generator())\n",
    "\n",
    "longestCommonPrefix(strs)"
   ]
  }
 ],
 "metadata": {
  "kernelspec": {
   "display_name": "Python 3",
   "language": "python",
   "name": "python3"
  },
  "language_info": {
   "codemirror_mode": {
    "name": "ipython",
    "version": 3
   },
   "file_extension": ".py",
   "mimetype": "text/x-python",
   "name": "python",
   "nbconvert_exporter": "python",
   "pygments_lexer": "ipython3",
   "version": "3.11.2"
  },
  "orig_nbformat": 4
 },
 "nbformat": 4,
 "nbformat_minor": 2
}
