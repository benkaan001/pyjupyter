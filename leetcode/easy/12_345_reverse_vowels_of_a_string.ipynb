{
 "cells": [
  {
   "attachments": {},
   "cell_type": "markdown",
   "metadata": {},
   "source": [
    "### Given a string s, reverse only all the vowels in the string and return it.\n",
    "- *The vowels are 'a', 'e', 'i', 'o', and 'u', and they can appear in both lower and upper cases, more than once.*\n",
    "\n",
    "```py\n",
    "Input: s = \"hello\"\n",
    "Output: \"holle\"\n",
    "\n",
    "Input: s = \"leetcode\"\n",
    "Output: \"leotcede\"\n",
    "```"
   ]
  },
  {
   "cell_type": "code",
   "execution_count": 1,
   "metadata": {},
   "outputs": [],
   "source": [
    "def reverseVowels(s: str) -> str:\n",
    "    pass \n",
    "\n",
    "s = 'leetcode'\n",
    "# reverseVowels(s=s)"
   ]
  },
  {
   "cell_type": "code",
   "execution_count": 2,
   "metadata": {},
   "outputs": [
    {
     "data": {
      "text/plain": [
       "['e', 'e', 'o', 'e']"
      ]
     },
     "execution_count": 2,
     "metadata": {},
     "output_type": "execute_result"
    }
   ],
   "source": [
    "vowels = [char for char in s if char in ['a', 'e', 'i', 'o', 'u', 'A', 'E', 'I', 'O', 'U']]\n",
    "vowels"
   ]
  },
  {
   "cell_type": "code",
   "execution_count": 3,
   "metadata": {},
   "outputs": [
    {
     "data": {
      "text/plain": [
       "['e', 'o', 'e', 'e']"
      ]
     },
     "execution_count": 3,
     "metadata": {},
     "output_type": "execute_result"
    }
   ],
   "source": [
    "reversed_vowels = list(reversed(vowels))\n",
    "reversed_vowels"
   ]
  },
  {
   "cell_type": "code",
   "execution_count": 4,
   "metadata": {},
   "outputs": [
    {
     "name": "stdout",
     "output_type": "stream",
     "text": [
      "0 l\n",
      "1 e\n",
      "2 e\n",
      "3 t\n",
      "4 c\n",
      "5 o\n",
      "6 d\n",
      "7 e\n"
     ]
    }
   ],
   "source": [
    "for i,char in enumerate(s):\n",
    "    print(i, char)"
   ]
  },
  {
   "cell_type": "code",
   "execution_count": 5,
   "metadata": {},
   "outputs": [
    {
     "data": {
      "text/plain": [
       "[[1, 'e'], [2, 'e'], [5, 'o'], [7, 'e']]"
      ]
     },
     "execution_count": 5,
     "metadata": {},
     "output_type": "execute_result"
    }
   ],
   "source": [
    "char_matrix = list()\n",
    "\n",
    "for i, char in enumerate(s):\n",
    "    if char in ['a', 'e', 'i', 'o', 'u', 'A', 'E', 'I', 'O', 'U']:\n",
    "        char_matrix.append([i, char])\n",
    "\n",
    "char_matrix"
   ]
  },
  {
   "cell_type": "code",
   "execution_count": 6,
   "metadata": {},
   "outputs": [
    {
     "data": {
      "text/plain": [
       "[[1, 'e'], [2, 'o'], [5, 'e'], [7, 'e']]"
      ]
     },
     "execution_count": 6,
     "metadata": {},
     "output_type": "execute_result"
    }
   ],
   "source": [
    "for i in range(len(char_matrix)):\n",
    "    char_matrix[i][1] = reversed_vowels[i]\n",
    "\n",
    "char_matrix"
   ]
  },
  {
   "cell_type": "code",
   "execution_count": 7,
   "metadata": {},
   "outputs": [
    {
     "data": {
      "text/plain": [
       "['l', 'e', 'e', 't', 'c', 'o', 'd', 'e']"
      ]
     },
     "execution_count": 7,
     "metadata": {},
     "output_type": "execute_result"
    }
   ],
   "source": [
    "string_to_list = list(s)\n",
    "string_to_list"
   ]
  },
  {
   "cell_type": "code",
   "execution_count": 8,
   "metadata": {},
   "outputs": [
    {
     "data": {
      "text/plain": [
       "['l', 'e', 'o', 't', 'c', 'e', 'd', 'e']"
      ]
     },
     "execution_count": 8,
     "metadata": {},
     "output_type": "execute_result"
    }
   ],
   "source": [
    "for i in range(len(char_matrix)):\n",
    "    string_to_list[char_matrix[i][0]] = char_matrix[i][1]\n",
    "\n",
    "string_to_list"
   ]
  },
  {
   "cell_type": "code",
   "execution_count": 9,
   "metadata": {},
   "outputs": [
    {
     "data": {
      "text/plain": [
       "'leotcede'"
      ]
     },
     "execution_count": 9,
     "metadata": {},
     "output_type": "execute_result"
    }
   ],
   "source": [
    "''.join(string_to_list)"
   ]
  },
  {
   "cell_type": "code",
   "execution_count": 10,
   "metadata": {},
   "outputs": [],
   "source": [
    "def reverseVowels(s: str) -> str:\n",
    "    string_to_list = list(s)  # Convert the input string to a list of characters\n",
    "    vowels = [char for char in s if char in ['a', 'e', 'i', 'o', 'u', 'A', 'E', 'I', 'O', 'U']]  # Extract all vowels from the string\n",
    "    reversed_vowels = list(reversed(vowels))  # Reverse the list of vowels\n",
    "    output = ''  # Initialize an empty string for the final output\n",
    "    \n",
    "    char_matrix = list()  # Initialize a list to store the indices and characters of vowels in the string\n",
    "    for i, char in enumerate(string_to_list):  # Iterate over the characters and their corresponding indices\n",
    "        if char in vowels:  # Check if the character is a vowel\n",
    "            char_matrix.append([i, char])  # Add the index and character to the char_matrix list\n",
    "            \n",
    "    for i in range(len(char_matrix)):  # Iterate over the char_matrix list\n",
    "        string_to_list[char_matrix[i][0]] = reversed_vowels[i]  # Replace the vowels in the string with the reversed vowels\n",
    "        \n",
    "    return output.join(string_to_list)  # Join the characters in the list back into a string and return it as the result\n"
   ]
  },
  {
   "cell_type": "code",
   "execution_count": 11,
   "metadata": {},
   "outputs": [
    {
     "data": {
      "text/plain": [
       "'leotcede'"
      ]
     },
     "execution_count": 11,
     "metadata": {},
     "output_type": "execute_result"
    }
   ],
   "source": [
    "s = 'leetcode'\n",
    "reverseVowels(s=s)"
   ]
  },
  {
   "cell_type": "code",
   "execution_count": 12,
   "metadata": {},
   "outputs": [
    {
     "data": {
      "text/plain": [
       "'holle'"
      ]
     },
     "execution_count": 12,
     "metadata": {},
     "output_type": "execute_result"
    }
   ],
   "source": [
    "s = \"hello\"\n",
    "reverseVowels(s=s)"
   ]
  }
 ],
 "metadata": {
  "kernelspec": {
   "display_name": "Python 3",
   "language": "python",
   "name": "python3"
  },
  "language_info": {
   "codemirror_mode": {
    "name": "ipython",
    "version": 3
   },
   "file_extension": ".py",
   "mimetype": "text/x-python",
   "name": "python",
   "nbconvert_exporter": "python",
   "pygments_lexer": "ipython3",
   "version": "3.11.2"
  },
  "orig_nbformat": 4
 },
 "nbformat": 4,
 "nbformat_minor": 2
}
