{
 "cells": [
  {
   "attachments": {},
   "cell_type": "markdown",
   "metadata": {},
   "source": [
    "### Given a positive integer num represented as a string, return the integer num without trailing zeros as a string.\n",
    "\n",
    "```py\n",
    "Input: num = \"51230100\"\n",
    "Output: \"512301\"\n",
    "Explanation: Integer \"51230100\" has 2 trailing zeros, we remove them and return integer \"512301\".\n",
    "\n",
    "Input: num = \"123\"\n",
    "Output: \"123\"\n",
    "Explanation: Integer \"123\" has no trailing zeros, we return integer \"123\".\n",
    "```"
   ]
  },
  {
   "cell_type": "code",
   "execution_count": 1,
   "metadata": {},
   "outputs": [],
   "source": [
    "def removeTrailingZeros(num: str) -> str:\n",
    "    pass \n",
    "\n",
    "num = '51230100'\n",
    "# removeTrailingZeros(num=num)"
   ]
  },
  {
   "cell_type": "code",
   "execution_count": 2,
   "metadata": {},
   "outputs": [
    {
     "data": {
      "text/plain": [
       "'0'"
      ]
     },
     "execution_count": 2,
     "metadata": {},
     "output_type": "execute_result"
    }
   ],
   "source": [
    "num[-1]"
   ]
  },
  {
   "cell_type": "code",
   "execution_count": 3,
   "metadata": {},
   "outputs": [
    {
     "data": {
      "text/plain": [
       "2"
      ]
     },
     "execution_count": 3,
     "metadata": {},
     "output_type": "execute_result"
    }
   ],
   "source": [
    "zero_count = 0\n",
    "for value in num[::-1]:\n",
    "    if value == '0':\n",
    "        zero_count += 1\n",
    "    else:\n",
    "        break \n",
    "zero_count"
   ]
  },
  {
   "cell_type": "code",
   "execution_count": 4,
   "metadata": {},
   "outputs": [
    {
     "data": {
      "text/plain": [
       "'512301'"
      ]
     },
     "execution_count": 4,
     "metadata": {},
     "output_type": "execute_result"
    }
   ],
   "source": [
    "num[:-zero_count]"
   ]
  },
  {
   "cell_type": "code",
   "execution_count": 5,
   "metadata": {},
   "outputs": [],
   "source": [
    "def removeTrailingZeros(num: str) -> str:\n",
    "    \n",
    "    if num[-1] != '0':  # Check if the last character is not '0'\n",
    "        return num  # If it's not '0', there are no trailing zeros, so return the original string\n",
    "    \n",
    "    zero_count = 0  # Initialize a variable to count the number of trailing zeros\n",
    "    for value in num[::-1]:  # Iterate over the characters of the string in reverse order\n",
    "        if value == '0':  # Check if the character is '0'\n",
    "            zero_count += 1  # If it is, increment the zero count\n",
    "        else:\n",
    "            break  # If the character is not '0', stop counting (we've reached a non-zero digit)\n",
    "    \n",
    "    return num[:-zero_count]  # Remove the trailing zeros by slicing the string up to the appropriate index\n",
    "\n",
    "    "
   ]
  },
  {
   "cell_type": "code",
   "execution_count": 6,
   "metadata": {},
   "outputs": [
    {
     "data": {
      "text/plain": [
       "'512301'"
      ]
     },
     "execution_count": 6,
     "metadata": {},
     "output_type": "execute_result"
    }
   ],
   "source": [
    "num = '51230100'\n",
    "removeTrailingZeros(num=num)"
   ]
  },
  {
   "cell_type": "code",
   "execution_count": 7,
   "metadata": {},
   "outputs": [
    {
     "data": {
      "text/plain": [
       "'123'"
      ]
     },
     "execution_count": 7,
     "metadata": {},
     "output_type": "execute_result"
    }
   ],
   "source": [
    "num = \"123\"\n",
    "removeTrailingZeros(num=num)"
   ]
  }
 ],
 "metadata": {
  "kernelspec": {
   "display_name": "Python 3",
   "language": "python",
   "name": "python3"
  },
  "language_info": {
   "codemirror_mode": {
    "name": "ipython",
    "version": 3
   },
   "file_extension": ".py",
   "mimetype": "text/x-python",
   "name": "python",
   "nbconvert_exporter": "python",
   "pygments_lexer": "ipython3",
   "version": "3.11.2"
  },
  "orig_nbformat": 4
 },
 "nbformat": 4,
 "nbformat_minor": 2
}
