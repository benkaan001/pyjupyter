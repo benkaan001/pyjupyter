{
 "cells": [
  {
   "attachments": {},
   "cell_type": "markdown",
   "metadata": {},
   "source": [
    "<center>address.csv"
   ]
  },
  {
   "cell_type": "raw",
   "metadata": {},
   "source": [
    "Name, Age, Address, EmploymentStatus\n",
    "Jerry, 44, '2776 McDowell Street, Nashville, Tennessee', Full-time\n",
    "Tom, 21, '3171 Jessie Street, Westerville, Ohio', Full-time\n",
    "Mike, 32, '1818 Sherman Street, Hope, Kansas', Part-time"
   ]
  },
  {
   "attachments": {},
   "cell_type": "markdown",
   "metadata": {},
   "source": [
    "- `quotechar` refers to the single character string that will wrap the row that contains the delimiter inside the row.\n",
    "- It defaults to `\"`.\n",
    "- `Address` field is quoted in `'` character - i.e. `'2776 McDowell Street, Nashville, Tennessee'`"
   ]
  },
  {
   "attachments": {},
   "cell_type": "markdown",
   "metadata": {},
   "source": [
    "- WITHOUT quotechar, each value inside the Address row is treated as a separate column value as seen below."
   ]
  },
  {
   "cell_type": "code",
   "execution_count": 6,
   "metadata": {},
   "outputs": [
    {
     "name": "stdout",
     "output_type": "stream",
     "text": [
      "['Name', 'Age', 'Address', 'EmploymentStatus']\n",
      "['Jerry', '44', \"'2776 McDowell Street\", 'Nashville', \"Tennessee'\", 'Full-time']\n",
      "['Tom', '21', \"'3171 Jessie Street\", 'Westerville', \"Ohio'\", 'Full-time']\n",
      "['Mike', '32', \"'1818 Sherman Street\", 'Hope', \"Kansas'\", 'Part-time']\n"
     ]
    }
   ],
   "source": [
    "from csv import reader \n",
    "\n",
    "with open(\"address.csv\", \"rt\") as csvfile:\n",
    "    csv_reader = reader(csvfile, skipinitialspace=True) # quotechar='\"' is the default argument\n",
    "\n",
    "    for row in csv_reader:\n",
    "        print(row)"
   ]
  },
  {
   "cell_type": "code",
   "execution_count": 5,
   "metadata": {},
   "outputs": [
    {
     "name": "stdout",
     "output_type": "stream",
     "text": [
      "['Name', 'Age', 'Address', 'EmploymentStatus']\n",
      "['Jerry', '44', '2776 McDowell Street, Nashville, Tennessee', 'Full-time']\n",
      "['Tom', '21', '3171 Jessie Street, Westerville, Ohio', 'Full-time']\n",
      "['Mike', '32', '1818 Sherman Street, Hope, Kansas', 'Part-time']\n"
     ]
    }
   ],
   "source": [
    "with open(\"address.csv\", \"rt\") as csvfile:\n",
    "    csv_reader = reader(csvfile, skipinitialspace=True, quotechar=\"'\")\n",
    "\n",
    "    for row in csv_reader:\n",
    "        print(row)\n"
   ]
  }
 ],
 "metadata": {
  "kernelspec": {
   "display_name": "Python 3",
   "language": "python",
   "name": "python3"
  },
  "language_info": {
   "codemirror_mode": {
    "name": "ipython",
    "version": 3
   },
   "file_extension": ".py",
   "mimetype": "text/x-python",
   "name": "python",
   "nbconvert_exporter": "python",
   "pygments_lexer": "ipython3",
   "version": "3.10.4"
  },
  "orig_nbformat": 4,
  "vscode": {
   "interpreter": {
    "hash": "aee8b7b246df8f9039afb4144a1f6fd8d2ca17a180786b69acc140d282b71a49"
   }
  }
 },
 "nbformat": 4,
 "nbformat_minor": 2
}
