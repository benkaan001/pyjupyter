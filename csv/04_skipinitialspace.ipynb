{
 "cells": [
  {
   "attachments": {},
   "cell_type": "markdown",
   "metadata": {},
   "source": [
    "<center>players.csv"
   ]
  },
  {
   "cell_type": "raw",
   "metadata": {},
   "source": [
    "\"Name\", \"Team\", \"Position\", \"Height(inches)\", \"Weight(lbs)\", \"Age\"\n",
    "\"Adam Donachie\", \"BAL\", \"Catcher\", 74, 180, 22.99\n",
    "\"Paul Bako\", \"BAL\", \"Catcher\", 74, 215, 34.69\n",
    "\"Ramon Hernandez\", \"BAL\", \"Catcher\", 72, 210, 30.78\n",
    "\"Kevin Millar\", \"BAL\", \"First Baseman\", 72, 210, 35.43\n",
    "\"Chris Gomez\", \"BAL\", \"First Baseman\", 73, 188, 35.71\n",
    "\"Brian Roberts\", \"BAL\", \"Second Baseman\", 69, 176, 29.39\n",
    "\"Miguel Tejada\", \"BAL\", \"Shortstop\", 69, 209, 30.77\n",
    "\"Melvin Mora\", \"BAL\", \"Third Baseman\", 71, 200, 35.07"
   ]
  },
  {
   "attachments": {},
   "cell_type": "markdown",
   "metadata": {},
   "source": [
    "- `players` file contains spaces following the delimiter (comma).<br>\n",
    "- `skipinitialspace` controls how the space following the delimiter will be interpreted. When set to `True`, the initial whitesapces will be removed."
   ]
  },
  {
   "cell_type": "code",
   "execution_count": 1,
   "metadata": {},
   "outputs": [
    {
     "name": "stdout",
     "output_type": "stream",
     "text": [
      "['Name', 'Team', 'Position', 'Height(inches)', 'Weight(lbs)', 'Age']\n",
      "['Adam Donachie', 'BAL', 'Catcher', '74', '180', '22.99']\n",
      "['Paul Bako', 'BAL', 'Catcher', '74', '215', '34.69']\n",
      "['Ramon Hernandez', 'BAL', 'Catcher', '72', '210', '30.78']\n",
      "['Kevin Millar', 'BAL', 'First Baseman', '72', '210', '35.43']\n",
      "['Chris Gomez', 'BAL', 'First Baseman', '73', '188', '35.71']\n",
      "['Brian Roberts', 'BAL', 'Second Baseman', '69', '176', '29.39']\n",
      "['Miguel Tejada', 'BAL', 'Shortstop', '69', '209', '30.77']\n",
      "['Melvin Mora', 'BAL', 'Third Baseman', '71', '200', '35.07']\n"
     ]
    }
   ],
   "source": [
    "from csv import reader \n",
    "\n",
    "with open(\"players.csv\", \"rt\") as csvfile:\n",
    "    csv_reader = reader(csvfile, skipinitialspace=True)\n",
    "\n",
    "    for row in csv_reader:\n",
    "        print(row)"
   ]
  },
  {
   "attachments": {},
   "cell_type": "markdown",
   "metadata": {},
   "source": [
    "- Notice the difference with the default `skipinitialspace=False` argument."
   ]
  },
  {
   "cell_type": "code",
   "execution_count": 3,
   "metadata": {},
   "outputs": [
    {
     "name": "stdout",
     "output_type": "stream",
     "text": [
      "['Name', ' \"Team\"', ' \"Position\"', ' \"Height(inches)\"', ' \"Weight(lbs)\"', ' \"Age\"']\n",
      "['Adam Donachie', ' \"BAL\"', ' \"Catcher\"', ' 74', ' 180', ' 22.99']\n",
      "['Paul Bako', ' \"BAL\"', ' \"Catcher\"', ' 74', ' 215', ' 34.69']\n",
      "['Ramon Hernandez', ' \"BAL\"', ' \"Catcher\"', ' 72', ' 210', ' 30.78']\n",
      "['Kevin Millar', ' \"BAL\"', ' \"First Baseman\"', ' 72', ' 210', ' 35.43']\n",
      "['Chris Gomez', ' \"BAL\"', ' \"First Baseman\"', ' 73', ' 188', ' 35.71']\n",
      "['Brian Roberts', ' \"BAL\"', ' \"Second Baseman\"', ' 69', ' 176', ' 29.39']\n",
      "['Miguel Tejada', ' \"BAL\"', ' \"Shortstop\"', ' 69', ' 209', ' 30.77']\n",
      "['Melvin Mora', ' \"BAL\"', ' \"Third Baseman\"', ' 71', ' 200', ' 35.07']\n"
     ]
    }
   ],
   "source": [
    "from csv import reader \n",
    "\n",
    "with open(\"players.csv\", \"rt\") as csvfile:\n",
    "    csv_reader = reader(csvfile) # `skipinitialspace=False` is the default value\n",
    "\n",
    "    for row in csv_reader:\n",
    "        print(row)"
   ]
  }
 ],
 "metadata": {
  "kernelspec": {
   "display_name": "Python 3",
   "language": "python",
   "name": "python3"
  },
  "language_info": {
   "codemirror_mode": {
    "name": "ipython",
    "version": 3
   },
   "file_extension": ".py",
   "mimetype": "text/x-python",
   "name": "python",
   "nbconvert_exporter": "python",
   "pygments_lexer": "ipython3",
   "version": "3.10.4"
  },
  "orig_nbformat": 4,
  "vscode": {
   "interpreter": {
    "hash": "aee8b7b246df8f9039afb4144a1f6fd8d2ca17a180786b69acc140d282b71a49"
   }
  }
 },
 "nbformat": 4,
 "nbformat_minor": 2
}
