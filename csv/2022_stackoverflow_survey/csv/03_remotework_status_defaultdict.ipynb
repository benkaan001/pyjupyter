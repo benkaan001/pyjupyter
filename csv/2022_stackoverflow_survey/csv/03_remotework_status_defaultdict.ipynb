{
 "cells": [
  {
   "attachments": {},
   "cell_type": "markdown",
   "metadata": {},
   "source": [
    "-- Using `defaultdict` from collections module. It will initialize the counts dictionary with default integer values - in this case 0."
   ]
  },
  {
   "cell_type": "code",
   "execution_count": 1,
   "metadata": {},
   "outputs": [
    {
     "name": "stdout",
     "output_type": "stream",
     "text": [
      "Total: 73268\n",
      "\tna_count:14310 -> 19.53%\n",
      "\tremote_count:25341 -> 34.59%\n",
      "\thybrid_count:25021 -> 34.15%\n",
      "\tin_person_count:8596 -> 11.73%\n"
     ]
    }
   ],
   "source": [
    "from csv import DictReader\n",
    "from path import survey_path\n",
    "from collections import defaultdict\n",
    "\n",
    "# initiate a default dictionary with integer values\n",
    "counts = defaultdict(int)\n",
    "\n",
    "with open(survey_path) as f:\n",
    "    csv_reader = DictReader(f)\n",
    "\n",
    "    for row in csv_reader:\n",
    "        if row['RemoteWork'] == 'Fully remote':\n",
    "            counts['remote_count'] += 1\n",
    "        elif row['RemoteWork'][0:6] == 'Hybrid':\n",
    "            counts['hybrid_count'] += 1\n",
    "        elif row['RemoteWork'] == 'Full in-person':\n",
    "            counts['in_person_count'] += 1\n",
    "        else:\n",
    "            counts['na_count'] += 1\n",
    "\n",
    "total_count = sum(value for value in counts.values())\n",
    "\n",
    "\n",
    "print(f\"Total: {total_count}\")\n",
    "\n",
    "for k,v in counts.items():\n",
    "    print(f\"\\t{k}:{v} -> {round(v/total_count*100, 2)}%\")"
   ]
  }
 ],
 "metadata": {
  "kernelspec": {
   "display_name": "Python 3",
   "language": "python",
   "name": "python3"
  },
  "language_info": {
   "codemirror_mode": {
    "name": "ipython",
    "version": 3
   },
   "file_extension": ".py",
   "mimetype": "text/x-python",
   "name": "python",
   "nbconvert_exporter": "python",
   "pygments_lexer": "ipython3",
   "version": "3.10.4"
  },
  "orig_nbformat": 4,
  "vscode": {
   "interpreter": {
    "hash": "aee8b7b246df8f9039afb4144a1f6fd8d2ca17a180786b69acc140d282b71a49"
   }
  }
 },
 "nbformat": 4,
 "nbformat_minor": 2
}
