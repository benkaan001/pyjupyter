{
 "cells": [
  {
   "attachments": {},
   "cell_type": "markdown",
   "metadata": {},
   "source": [
    "<center>dialogues.csv"
   ]
  },
  {
   "cell_type": "raw",
   "metadata": {},
   "source": [
    "Id, Actor, Dialogue\n",
    "1, Harley Betts, \"The suspect told the arresting officer, \"\"I was nowhere near the crime.\"\"\"\n",
    "2, Clyde Esparza, \"John said, \"\"I have just finished reading Browning's 'My Last Duchess.'\"\"\"\n",
    "3, Zack Campbell, \"Bill asked Sandra, \"\"Will you marry me?\"\"\"\n",
    "4, Keziah Chaney, \"The librarian whispered to us, \"\"The sign on the wall says 'Quiet'\"\"\""
   ]
  },
  {
   "attachments": {},
   "cell_type": "markdown",
   "metadata": {},
   "source": [
    "- `doublequote` determines how quotes inside a row are treated. \n",
    "- Default value is set to `True`. Hence, two consecutive quotes are interpreted as one during read as seen below."
   ]
  },
  {
   "cell_type": "code",
   "execution_count": 1,
   "metadata": {},
   "outputs": [
    {
     "name": "stdout",
     "output_type": "stream",
     "text": [
      "['Id', 'Actor', 'Dialogue']\n",
      "['1', 'Harley Betts', 'The suspect told the arresting officer, \"I was nowhere near the crime.\"']\n",
      "['2', 'Clyde Esparza', 'John said, \"I have just finished reading Browning\\'s \\'My Last Duchess.\\'\"']\n",
      "['3', 'Zack Campbell', 'Bill asked Sandra, \"Will you marry me?\"']\n",
      "['4', 'Keziah Chaney', 'The librarian whispered to us, \"The sign on the wall says \\'Quiet\\'\"']\n"
     ]
    }
   ],
   "source": [
    "from csv import reader \n",
    "\n",
    "with open(\"dialogues.csv\", \"rt\") as csvfile:\n",
    "    csv_reader = reader(csvfile, skipinitialspace=True) # doublequot=True is the default arg\n",
    "\n",
    "    for row in csv_reader:\n",
    "        print(row)"
   ]
  },
  {
   "cell_type": "code",
   "execution_count": 2,
   "metadata": {},
   "outputs": [
    {
     "name": "stdout",
     "output_type": "stream",
     "text": [
      "['Id', 'Actor', 'Dialogue']\n",
      "['1', 'Harley Betts', 'The suspect told the arresting officer, \"I was nowhere near the crime.\"\"\"']\n",
      "['2', 'Clyde Esparza', 'John said, \"I have just finished reading Browning\\'s \\'My Last Duchess.\\'\"\"\"']\n",
      "['3', 'Zack Campbell', 'Bill asked Sandra, \"Will you marry me?\"\"\"']\n",
      "['4', 'Keziah Chaney', 'The librarian whispered to us, \"The sign on the wall says \\'Quiet\\'\"\"\"']\n"
     ]
    }
   ],
   "source": [
    "with open(\"dialogues.csv\", \"rt\") as csvfile:\n",
    "    csv_reader = reader(csvfile, skipinitialspace=True, doublequote=False)\n",
    "\n",
    "    for row in csv_reader:\n",
    "        print(row)"
   ]
  }
 ],
 "metadata": {
  "kernelspec": {
   "display_name": "Python 3",
   "language": "python",
   "name": "python3"
  },
  "language_info": {
   "codemirror_mode": {
    "name": "ipython",
    "version": 3
   },
   "file_extension": ".py",
   "mimetype": "text/x-python",
   "name": "python",
   "nbconvert_exporter": "python",
   "pygments_lexer": "ipython3",
   "version": "3.10.4"
  },
  "orig_nbformat": 4,
  "vscode": {
   "interpreter": {
    "hash": "aee8b7b246df8f9039afb4144a1f6fd8d2ca17a180786b69acc140d282b71a49"
   }
  }
 },
 "nbformat": 4,
 "nbformat_minor": 2
}
