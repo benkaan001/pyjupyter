{
 "cells": [
  {
   "attachments": {},
   "cell_type": "markdown",
   "metadata": {},
   "source": [
    "<center>employees_pipe.csv"
   ]
  },
  {
   "cell_type": "raw",
   "metadata": {},
   "source": [
    "id|name|email|age|designation\n",
    "1|John|john@mail.com|24|programmer\n",
    "2|Bob|bob@mail.com|34|designer\n",
    "3|Mary|mary@mail.com|43|sales"
   ]
  },
  {
   "cell_type": "code",
   "execution_count": 3,
   "metadata": {},
   "outputs": [
    {
     "name": "stdout",
     "output_type": "stream",
     "text": [
      "id, name, email, age, designation\n",
      "1, John, john@mail.com, 24, programmer\n",
      "2, Bob, bob@mail.com, 34, designer\n",
      "3, Mary, mary@mail.com, 43, sales\n"
     ]
    }
   ],
   "source": [
    "from csv import reader\n",
    "\n",
    "with open(\"employees_pipe.csv\", \"rt\") as csvfile:\n",
    "    csv_reader = reader(csvfile, delimiter=\"|\")\n",
    "\n",
    "    for row in csv_reader:\n",
    "        print(f\"{row[0]}, {row[1]}, {row[2]}, {row[3]}, {row[4]}\")\n"
   ]
  }
 ],
 "metadata": {
  "kernelspec": {
   "display_name": "Python 3",
   "language": "python",
   "name": "python3"
  },
  "language_info": {
   "codemirror_mode": {
    "name": "ipython",
    "version": 3
   },
   "file_extension": ".py",
   "mimetype": "text/x-python",
   "name": "python",
   "nbconvert_exporter": "python",
   "pygments_lexer": "ipython3",
   "version": "3.10.4 (v3.10.4:9d38120e33, Mar 23 2022, 17:29:05) [Clang 13.0.0 (clang-1300.0.29.30)]"
  },
  "orig_nbformat": 4,
  "vscode": {
   "interpreter": {
    "hash": "aee8b7b246df8f9039afb4144a1f6fd8d2ca17a180786b69acc140d282b71a49"
   }
  }
 },
 "nbformat": 4,
 "nbformat_minor": 2
}
