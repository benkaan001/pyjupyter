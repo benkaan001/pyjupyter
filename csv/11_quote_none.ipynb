{
 "cells": [
  {
   "cell_type": "code",
   "execution_count": 1,
   "metadata": {},
   "outputs": [
    {
     "name": "stdout",
     "output_type": "stream",
     "text": [
      "need to escape, but no escapechar set\n"
     ]
    }
   ],
   "source": [
    "from csv import writer, QUOTE_NONE\n",
    "\n",
    "data = [\n",
    "    [\"id\",\"name\",\"address\",\"zip\"],\n",
    "    [1,\"Hannah\",\"4891 Blackwell Street, Anchorage, Alaska\",99503],\n",
    "    [2,\"Walton\",\"4223 Half and Half Drive, Lemoore, California\",97401],\n",
    "    [3,\"Sam\",\"3952 Little Street, Akron, Ohio\",93704],\n",
    "    [4,\"Chris\",\"3192 Flinderation Road, Arlington Heights, Illinois\",62677],\n",
    "    [5,\"Doug\",\"3236 Walkers Ridge Way, Burr Ridge\",61257]\n",
    "]\n",
    "\n",
    "try:\n",
    "    with open(\"write_quote_none_11.csv\", \"wt\") as csvfile:\n",
    "        csv_writer = writer(csvfile, quoting=QUOTE_NONE)\n",
    "\n",
    "        csv_writer.writerows(data)\n",
    "except Exception as e:\n",
    "    print(e)\n",
    "else:\n",
    "    print(\"success!\")"
   ]
  },
  {
   "attachments": {},
   "cell_type": "markdown",
   "metadata": {},
   "source": [
    "- Since quoting is to None, the writer object is uanble to escape the quotes in the `address` field.\n",
    "- Solution => \n",
    "    - Optional `escapechar` argument needs to be set to `'\\\\'`\n",
    "    "
   ]
  },
  {
   "cell_type": "code",
   "execution_count": 2,
   "metadata": {},
   "outputs": [
    {
     "name": "stdout",
     "output_type": "stream",
     "text": [
      "success!\n"
     ]
    }
   ],
   "source": [
    "try:\n",
    "    with open(\"write_quote_none_11.csv\", \"wt\") as csvfile:\n",
    "        csv_writer = writer(csvfile, quoting=QUOTE_NONE, escapechar='\\\\')\n",
    "\n",
    "        csv_writer.writerows(data)\n",
    "except Exception as e:\n",
    "    print(e)\n",
    "else:\n",
    "    print(\"success!\")"
   ]
  },
  {
   "attachments": {},
   "cell_type": "raw",
   "metadata": {},
   "source": [
    "id,name,address,zip\n",
    "1,Hannah,4891 Blackwell Street\\, Anchorage\\, Alaska,99503\n",
    "2,Walton,4223 Half and Half Drive\\, Lemoore\\, California,97401\n",
    "3,Sam,3952 Little Street\\, Akron\\, Ohio,93704\n",
    "4,Chris,3192 Flinderation Road\\, Arlington Heights\\, Illinois,62677\n",
    "5,Doug,3236 Walkers Ridge Way\\, Burr Ridge,61257"
   ]
  }
 ],
 "metadata": {
  "kernelspec": {
   "display_name": "Python 3",
   "language": "python",
   "name": "python3"
  },
  "language_info": {
   "codemirror_mode": {
    "name": "ipython",
    "version": 3
   },
   "file_extension": ".py",
   "mimetype": "text/x-python",
   "name": "python",
   "nbconvert_exporter": "python",
   "pygments_lexer": "ipython3",
   "version": "3.10.4"
  },
  "orig_nbformat": 4,
  "vscode": {
   "interpreter": {
    "hash": "aee8b7b246df8f9039afb4144a1f6fd8d2ca17a180786b69acc140d282b71a49"
   }
  }
 },
 "nbformat": 4,
 "nbformat_minor": 2
}
