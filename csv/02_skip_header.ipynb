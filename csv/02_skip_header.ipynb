{
 "cells": [
  {
   "attachments": {},
   "cell_type": "markdown",
   "metadata": {},
   "source": [
    "<center>employees.csv"
   ]
  },
  {
   "cell_type": "raw",
   "metadata": {},
   "source": [
    "id,name,email,age,designation\n",
    "1,John,john@mail.com,24,programmer\n",
    "2,Bob,bob@mail.com,34,designer\n",
    "3,Mary,mary@mail.com,43,sales\n"
   ]
  },
  {
   "cell_type": "code",
   "execution_count": 2,
   "metadata": {},
   "outputs": [
    {
     "name": "stdout",
     "output_type": "stream",
     "text": [
      "1, John, john@mail.com, 24, programmer\n",
      "2, Bob, bob@mail.com, 34, designer\n",
      "3, Mary, mary@mail.com, 43, sales\n"
     ]
    }
   ],
   "source": [
    "from csv import reader\n",
    "\n",
    "with open(\"employees.csv\", \"rt\") as csvfile:\n",
    "    csv_reader = reader(csvfile)\n",
    "\n",
    "    next(csv_reader) # skips the first row\n",
    "\n",
    "    for row in csv_reader:\n",
    "        print(f\"{row[0]}, {row[1]}, {row[2]}, {row[3]}, {row[4]}\")\n",
    "    "
   ]
  }
 ],
 "metadata": {
  "kernelspec": {
   "display_name": "Python 3",
   "language": "python",
   "name": "python3"
  },
  "language_info": {
   "codemirror_mode": {
    "name": "ipython",
    "version": 3
   },
   "file_extension": ".py",
   "mimetype": "text/x-python",
   "name": "python",
   "nbconvert_exporter": "python",
   "pygments_lexer": "ipython3",
   "version": "3.10.4"
  },
  "orig_nbformat": 4,
  "vscode": {
   "interpreter": {
    "hash": "aee8b7b246df8f9039afb4144a1f6fd8d2ca17a180786b69acc140d282b71a49"
   }
  }
 },
 "nbformat": 4,
 "nbformat_minor": 2
}
