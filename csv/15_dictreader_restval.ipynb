{
 "cells": [
  {
   "attachments": {},
   "cell_type": "raw",
   "metadata": {},
   "source": [
    "1,Hannah,4891 Blackwell Street\\, Anchorage\\, Alaska,99503\n",
    "2,Walton,4223 Half and Half Drive\\, Lemoore\\, California,97401\n",
    "3,Sam,3952 Little Street\\, Akron\\, Ohio,93704\n",
    "4,Chris,3192 Flinderation Road\\, Arlington Heights\\, Illinois,62677\n",
    "5,Doug,3236 Walkers Ridge Way\\, Burr Ridge,61257"
   ]
  },
  {
   "cell_type": "code",
   "execution_count": 1,
   "metadata": {},
   "outputs": [
    {
     "name": "stdout",
     "output_type": "stream",
     "text": [
      "{'id': '1', 'name': 'Hannah', 'address': '4891 Blackwell Street, Anchorage, Alaska', 'zip': '99503', 'phone': 'NA', 'email': 'NA'}\n",
      "{'id': '2', 'name': 'Walton', 'address': '4223 Half and Half Drive, Lemoore, California', 'zip': '97401', 'phone': 'NA', 'email': 'NA'}\n",
      "{'id': '3', 'name': 'Sam', 'address': '3952 Little Street, Akron, Ohio', 'zip': '93704', 'phone': 'NA', 'email': 'NA'}\n",
      "{'id': '4', 'name': 'Chris', 'address': '3192 Flinderation Road, Arlington Heights, Illinois', 'zip': '62677', 'phone': 'NA', 'email': 'NA'}\n",
      "{'id': '5', 'name': 'Doug', 'address': '3236 Walkers Ridge Way, Burr Ridge', 'zip': '61257', 'phone': 'NA', 'email': 'NA'}\n"
     ]
    }
   ],
   "source": [
    "from csv import DictReader\n",
    "\n",
    "fields = [\"id\", \"name\", \"address\", \"zip\", \"phone\", \"email\"]\n",
    "\n",
    "with open(\"customers.csv\", \"rt\") as csvfile:\n",
    "    csv_reader = DictReader(csvfile, escapechar=\"\\\\\", fieldnames=fields, restkey=\"Extra\", restval=\"NA\")\n",
    "\n",
    "    for row in csv_reader:\n",
    "        print(row)"
   ]
  }
 ],
 "metadata": {
  "kernelspec": {
   "display_name": "Python 3",
   "language": "python",
   "name": "python3"
  },
  "language_info": {
   "codemirror_mode": {
    "name": "ipython",
    "version": 3
   },
   "file_extension": ".py",
   "mimetype": "text/x-python",
   "name": "python",
   "nbconvert_exporter": "python",
   "pygments_lexer": "ipython3",
   "version": "3.10.4 (v3.10.4:9d38120e33, Mar 23 2022, 17:29:05) [Clang 13.0.0 (clang-1300.0.29.30)]"
  },
  "orig_nbformat": 4,
  "vscode": {
   "interpreter": {
    "hash": "aee8b7b246df8f9039afb4144a1f6fd8d2ca17a180786b69acc140d282b71a49"
   }
  }
 },
 "nbformat": 4,
 "nbformat_minor": 2
}
