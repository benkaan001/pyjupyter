{
 "cells": [
  {
   "attachments": {},
   "cell_type": "markdown",
   "metadata": {},
   "source": [
    "<center>comments.csv"
   ]
  },
  {
   "cell_type": "raw",
   "metadata": {},
   "source": [
    "Id, User, Comment\n",
    "1, Bob, \"John said \\\"Hello World\\\"\"\n",
    "2, Tom, \"\\\"The Magician\\\"\"\n",
    "3, Harry, \"\\\"walk around the corner\\\" she explained to the child\"\n",
    "4, Louis, \"He said, \\\"stop pulling the dog's tail\\\"\""
   ]
  },
  {
   "attachments": {},
   "cell_type": "markdown",
   "metadata": {},
   "source": [
    "- `comments.csv` file is using backslash(`\\`) to escape the embedded double quotes - i.e. `\"John said \\\"Hello World\\\"\"`\n",
    "- The default value that csv module uses to escape double quote character is double quote character. `\"\"`\n"
   ]
  },
  {
   "attachments": {},
   "cell_type": "markdown",
   "metadata": {},
   "source": [
    "- With default `escapechar=\"\"` argument, the output will be:"
   ]
  },
  {
   "cell_type": "code",
   "execution_count": 1,
   "metadata": {},
   "outputs": [
    {
     "name": "stdout",
     "output_type": "stream",
     "text": [
      "['Id', 'User', 'Comment']\n",
      "['1', 'Bob', 'John said \\\\Hello World\\\\\"\"']\n",
      "['2', 'Tom', '\\\\The Magician\\\\\"\"']\n",
      "['3', 'Harry', '\\\\walk around the corner\\\\\" she explained to the child\"']\n",
      "['4', 'Louis', 'He said, \\\\stop pulling the dog\\'s tail\\\\\"\"']\n"
     ]
    }
   ],
   "source": [
    "from csv import reader \n",
    "\n",
    "with open(\"comments.csv\", \"rt\") as csvfile:\n",
    "    csv_reader = reader(csvfile, skipinitialspace=True)\n",
    "\n",
    "    for row in csv_reader:\n",
    "        print(row)\n"
   ]
  },
  {
   "cell_type": "code",
   "execution_count": 2,
   "metadata": {},
   "outputs": [
    {
     "name": "stdout",
     "output_type": "stream",
     "text": [
      "['Id', 'User', 'Comment']\n",
      "['1', 'Bob', 'John said \"Hello World\"']\n",
      "['2', 'Tom', '\"The Magician\"']\n",
      "['3', 'Harry', '\"walk around the corner\" she explained to the child']\n",
      "['4', 'Louis', 'He said, \"stop pulling the dog\\'s tail\"']\n"
     ]
    }
   ],
   "source": [
    "with open(\"comments.csv\", \"rt\") as csvfile:\n",
    "    csv_reader = reader(csvfile, skipinitialspace=True, escapechar=\"\\\\\")\n",
    "\n",
    "    for row in csv_reader:\n",
    "        print(row)"
   ]
  }
 ],
 "metadata": {
  "kernelspec": {
   "display_name": "Python 3",
   "language": "python",
   "name": "python3"
  },
  "language_info": {
   "codemirror_mode": {
    "name": "ipython",
    "version": 3
   },
   "file_extension": ".py",
   "mimetype": "text/x-python",
   "name": "python",
   "nbconvert_exporter": "python",
   "pygments_lexer": "ipython3",
   "version": "3.10.4"
  },
  "orig_nbformat": 4,
  "vscode": {
   "interpreter": {
    "hash": "aee8b7b246df8f9039afb4144a1f6fd8d2ca17a180786b69acc140d282b71a49"
   }
  }
 },
 "nbformat": 4,
 "nbformat_minor": 2
}
