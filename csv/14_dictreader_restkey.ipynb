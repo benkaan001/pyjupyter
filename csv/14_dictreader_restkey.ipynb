{
 "cells": [
  {
   "cell_type": "raw",
   "metadata": {},
   "source": [
    "1,Hannah,4891 Blackwell Street\\, Anchorage\\, Alaska,99503\n",
    "2,Walton,4223 Half and Half Drive\\, Lemoore\\, California,97401\n",
    "3,Sam,3952 Little Street\\, Akron\\, Ohio,93704\n",
    "4,Chris,3192 Flinderation Road\\, Arlington Heights\\, Illinois,62677\n",
    "5,Doug,3236 Walkers Ridge Way\\, Burr Ridge,61257"
   ]
  },
  {
   "cell_type": "code",
   "execution_count": 1,
   "metadata": {},
   "outputs": [
    {
     "name": "stdout",
     "output_type": "stream",
     "text": [
      "{'id': '1', 'name': 'Hannah', 'extra': ['4891 Blackwell Street, Anchorage, Alaska', '99503']}\n",
      "{'id': '2', 'name': 'Walton', 'extra': ['4223 Half and Half Drive, Lemoore, California', '97401']}\n",
      "{'id': '3', 'name': 'Sam', 'extra': ['3952 Little Street, Akron, Ohio', '93704']}\n",
      "{'id': '4', 'name': 'Chris', 'extra': ['3192 Flinderation Road, Arlington Heights, Illinois', '62677']}\n",
      "{'id': '5', 'name': 'Doug', 'extra': ['3236 Walkers Ridge Way, Burr Ridge', '61257']}\n"
     ]
    }
   ],
   "source": [
    "from csv import DictReader\n",
    "\n",
    "fields = [\"id\", \"name\"]\n",
    "\n",
    "with open(\"customers.csv\", \"rt\") as csvfile:\n",
    "    csv_reader = DictReader(csvfile, escapechar=\"\\\\\", fieldnames= fields, restkey=\"extra\")\n",
    "\n",
    "    for row in csv_reader:\n",
    "        print(row)"
   ]
  }
 ],
 "metadata": {
  "kernelspec": {
   "display_name": "Python 3",
   "language": "python",
   "name": "python3"
  },
  "language_info": {
   "codemirror_mode": {
    "name": "ipython",
    "version": 3
   },
   "file_extension": ".py",
   "mimetype": "text/x-python",
   "name": "python",
   "nbconvert_exporter": "python",
   "pygments_lexer": "ipython3",
   "version": "3.10.4"
  },
  "orig_nbformat": 4,
  "vscode": {
   "interpreter": {
    "hash": "aee8b7b246df8f9039afb4144a1f6fd8d2ca17a180786b69acc140d282b71a49"
   }
  }
 },
 "nbformat": 4,
 "nbformat_minor": 2
}
