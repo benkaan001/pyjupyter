{
 "cells": [
  {
   "cell_type": "code",
   "execution_count": 1,
   "metadata": {},
   "outputs": [],
   "source": [
    "from csv import DictWriter\n",
    "\n",
    "header = ['id', 'name', 'address'] # 'zip' column is missing\n",
    "\n",
    "rows = [\n",
    "    {'id': 1, 'name': 'Hannah', 'address': '4891 Blackwell Street, Anchorage, Alaska', 'zip': 99503 },\n",
    "    {'id': 2, 'name': 'Walton', 'address': '4223 Half and Half Drive, Lemoore, California', 'zip': 97401 },\n",
    "    {'id': 3, 'name': 'Sam', 'address': '3952 Little Street, Akron, Ohio', 'zip': 93704 },\n",
    "    {'id': 4, 'name': 'Chris', 'address': '3192 Flinderation Road, Arlington Heights, Illinois', 'zip': 62677},\n",
    "    {'id': 5, 'name': 'Doug', 'address': '3236 Walkers Ridge Way, Burr Ridge', 'zip': 61257},\n",
    "]\n",
    "\n",
    "with open('write_dictwriter_17.csv', 'wt') as csvfile:\n",
    "\n",
    "    csv_writer = DictWriter(\n",
    "                 csvfile,\n",
    "                 fieldnames=header,\n",
    "                 restval=\"NA\",\n",
    "                 extrasaction='ignore' # ignore extra values in the dictionary\n",
    "    )\n",
    "\n",
    "    csv_writer.writeheader() # write header\n",
    "\n",
    "    csv_writer.writerows(rows)"
   ]
  },
  {
   "attachments": {},
   "cell_type": "raw",
   "metadata": {},
   "source": [
    "id,name,address\n",
    "1,Hannah,\"4891 Blackwell Street, Anchorage, Alaska\"\n",
    "2,Walton,\"4223 Half and Half Drive, Lemoore, California\"\n",
    "3,Sam,\"3952 Little Street, Akron, Ohio\"\n",
    "4,Chris,\"3192 Flinderation Road, Arlington Heights, Illinois\"\n",
    "5,Doug,\"3236 Walkers Ridge Way, Burr Ridge\"\n"
   ]
  }
 ],
 "metadata": {
  "kernelspec": {
   "display_name": "Python 3",
   "language": "python",
   "name": "python3"
  },
  "language_info": {
   "codemirror_mode": {
    "name": "ipython",
    "version": 3
   },
   "file_extension": ".py",
   "mimetype": "text/x-python",
   "name": "python",
   "nbconvert_exporter": "python",
   "pygments_lexer": "ipython3",
   "version": "3.10.4"
  },
  "orig_nbformat": 4,
  "vscode": {
   "interpreter": {
    "hash": "aee8b7b246df8f9039afb4144a1f6fd8d2ca17a180786b69acc140d282b71a49"
   }
  }
 },
 "nbformat": 4,
 "nbformat_minor": 2
}
