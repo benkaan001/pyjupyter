{
 "cells": [
  {
   "attachments": {},
   "cell_type": "markdown",
   "metadata": {},
   "source": [
    "- `writer` object has two methods:\n",
    "    - `writerow()`, which requires a single row\n",
    "    - `writerows()` which requires a squence object"
   ]
  },
  {
   "cell_type": "code",
   "execution_count": 3,
   "metadata": {},
   "outputs": [],
   "source": [
    "from csv import writer\n",
    "\n",
    "header = ['id', 'name', 'address', 'zip']\n",
    "rows = [\n",
    "    [1, 'Hannah', '4891 Blackwell Street, Anchorage, Alaska', 99503 ],\n",
    "    [2, 'Walton', '4223 Half and Half Drive, Lemoore, California', 97401 ],\n",
    "    [3, 'Sam', '3952 Little Street, Akron, Ohio', 93704],\n",
    "    [4, 'Chris', '3192 Flinderation Road, Arlington Heights, Illinois', 62677],\n",
    "    [5, 'Doug', '3236 Walkers Ridge Way, Burr Ridge', 61257]\n",
    "]\n",
    "\n",
    "with open(\"write_row_08.csv\", \"wt\") as csvfile:\n",
    "    csv_writer = writer(csvfile)\n",
    "\n",
    "    csv_writer.writerow(header) # write the header\n",
    "\n",
    "    for row in rows:\n",
    "        csv_writer.writerow(row)\n"
   ]
  },
  {
   "cell_type": "raw",
   "metadata": {},
   "source": [
    "id,name,address,zip\n",
    "1,Hannah,\"4891 Blackwell Street, Anchorage, Alaska\",99503\n",
    "2,Walton,\"4223 Half and Half Drive, Lemoore, California\",97401\n",
    "3,Sam,\"3952 Little Street, Akron, Ohio\",93704\n",
    "4,Chris,\"3192 Flinderation Road, Arlington Heights, Illinois\",62677\n",
    "5,Doug,\"3236 Walkers Ridge Way, Burr Ridge\",61257"
   ]
  },
  {
   "attachments": {},
   "cell_type": "markdown",
   "metadata": {},
   "source": [
    "- As seen above, only the address field is wrapped in doublequotes `\"\"`. By default, the `quoting` is set to `QUOTE_MINIMAL`."
   ]
  },
  {
   "cell_type": "code",
   "execution_count": 8,
   "metadata": {},
   "outputs": [
    {
     "data": {
      "text/plain": [
       "[['id', 'name', 'address', 'zip'],\n",
       " [1, 'Hannah', '4891 Blackwell Street, Anchorage, Alaska', 99503],\n",
       " [2, 'Walton', '4223 Half and Half Drive, Lemoore, California', 97401],\n",
       " [3, 'Sam', '3952 Little Street, Akron, Ohio', 93704],\n",
       " [4, 'Chris', '3192 Flinderation Road, Arlington Heights, Illinois', 62677],\n",
       " [5, 'Doug', '3236 Walkers Ridge Way, Burr Ridge', 61257]]"
      ]
     },
     "execution_count": 8,
     "metadata": {},
     "output_type": "execute_result"
    }
   ],
   "source": [
    "rows.insert(0, header) # modify the rows for simplicity \n",
    "rows"
   ]
  },
  {
   "cell_type": "code",
   "execution_count": 9,
   "metadata": {},
   "outputs": [],
   "source": [
    "with open(\"write_rows_08.csv\", \"wt\") as csvfile:\n",
    "    csv_writer = writer(csvfile)\n",
    "\n",
    "    csv_writer.writerows(rows)"
   ]
  },
  {
   "cell_type": "raw",
   "metadata": {},
   "source": [
    "id,name,address,zip\n",
    "1,Hannah,\"4891 Blackwell Street, Anchorage, Alaska\",99503\n",
    "2,Walton,\"4223 Half and Half Drive, Lemoore, California\",97401\n",
    "3,Sam,\"3952 Little Street, Akron, Ohio\",93704\n",
    "4,Chris,\"3192 Flinderation Road, Arlington Heights, Illinois\",62677\n",
    "5,Doug,\"3236 Walkers Ridge Way, Burr Ridge\",61257"
   ]
  }
 ],
 "metadata": {
  "kernelspec": {
   "display_name": "Python 3",
   "language": "python",
   "name": "python3"
  },
  "language_info": {
   "codemirror_mode": {
    "name": "ipython",
    "version": 3
   },
   "file_extension": ".py",
   "mimetype": "text/x-python",
   "name": "python",
   "nbconvert_exporter": "python",
   "pygments_lexer": "ipython3",
   "version": "3.10.4 (v3.10.4:9d38120e33, Mar 23 2022, 17:29:05) [Clang 13.0.0 (clang-1300.0.29.30)]"
  },
  "orig_nbformat": 4,
  "vscode": {
   "interpreter": {
    "hash": "aee8b7b246df8f9039afb4144a1f6fd8d2ca17a180786b69acc140d282b71a49"
   }
  }
 },
 "nbformat": 4,
 "nbformat_minor": 2
}
