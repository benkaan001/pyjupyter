{
 "cells": [
  {
   "attachments": {},
   "cell_type": "markdown",
   "metadata": {},
   "source": [
    "<center>employees.csv"
   ]
  },
  {
   "cell_type": "raw",
   "metadata": {},
   "source": [
    "id,name,email,age,designation\n",
    "1,John,john@mail.com,24,programmer\n",
    "2,Bob,bob@mail.com,34,designer\n",
    "3,Mary,mary@mail.com,43,sales\n"
   ]
  },
  {
   "cell_type": "code",
   "execution_count": 5,
   "metadata": {},
   "outputs": [
    {
     "name": "stdout",
     "output_type": "stream",
     "text": [
      "Column names are: id, name, email, age, designation\n",
      "\t['1', 'John', 'john@mail.com', '24', 'programmer']\n",
      "\t['2', 'Bob', 'bob@mail.com', '34', 'designer']\n",
      "\t['3', 'Mary', 'mary@mail.com', '43', 'sales']\n",
      "Read a total of 4 rows.\n"
     ]
    }
   ],
   "source": [
    "from csv import reader\n",
    "\n",
    "with open('employees.csv', 'r') as csvfile:\n",
    "    csv_reader = reader(csvfile)\n",
    "    row_count = 0\n",
    "    for row in csv_reader:\n",
    "        if row_count == 0:\n",
    "            print(f\"Column names are: {', '.join(row)}\")\n",
    "            row_count += 1\n",
    "        else:\n",
    "            print(f\"\\t{row}\")\n",
    "            row_count +=1\n",
    "    print(f\"Read a total of {row_count} rows.\")"
   ]
  },
  {
   "attachments": {},
   "cell_type": "markdown",
   "metadata": {},
   "source": [
    "- Since the reader is returning a list, an alternative way of prininting the contents would be:"
   ]
  },
  {
   "cell_type": "code",
   "execution_count": 8,
   "metadata": {},
   "outputs": [
    {
     "name": "stdout",
     "output_type": "stream",
     "text": [
      "id, name, email, age, designation\n",
      "1, John, john@mail.com, 24, programmer\n",
      "2, Bob, bob@mail.com, 34, designer\n",
      "3, Mary, mary@mail.com, 43, sales\n"
     ]
    }
   ],
   "source": [
    "with open(\"employees.csv\", \"rt\") as csvfile:\n",
    "    csv_reader = reader(csvfile)\n",
    "\n",
    "    for row in csv_reader:\n",
    "        print(f\"{row[0]}, {row[1]}, {row[2]}, {row[3]}, {row[4]}\")"
   ]
  }
 ],
 "metadata": {
  "kernelspec": {
   "display_name": "Python 3",
   "language": "python",
   "name": "python3"
  },
  "language_info": {
   "codemirror_mode": {
    "name": "ipython",
    "version": 3
   },
   "file_extension": ".py",
   "mimetype": "text/x-python",
   "name": "python",
   "nbconvert_exporter": "python",
   "pygments_lexer": "ipython3",
   "version": "3.10.4"
  },
  "orig_nbformat": 4,
  "vscode": {
   "interpreter": {
    "hash": "aee8b7b246df8f9039afb4144a1f6fd8d2ca17a180786b69acc140d282b71a49"
   }
  }
 },
 "nbformat": 4,
 "nbformat_minor": 2
}
