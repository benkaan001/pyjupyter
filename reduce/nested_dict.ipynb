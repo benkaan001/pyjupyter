{
 "cells": [
  {
   "cell_type": "code",
   "execution_count": 4,
   "metadata": {},
   "outputs": [
    {
     "data": {
      "text/plain": [
       "'active'"
      ]
     },
     "execution_count": 4,
     "metadata": {},
     "output_type": "execute_result"
    }
   ],
   "source": [
    "sample_data = {\n",
    "     \"event_type\": \"subscription_created\",\n",
    "         \"content\": {\n",
    "            \"customer\": {\n",
    "                \"created_at\": 1575397900,\n",
    "                \"card_status\": \"card\",\n",
    "                \"subscription\": {\n",
    "                    \"status\": \"active\",\n",
    "                    \"created_at\": 1575397900,\n",
    "                    \"next_billing_at\": 1577817100\n",
    "                }\n",
    "            }\n",
    "        }\n",
    "     }\n",
    "\n",
    "# Let's assume that we want to find out the status of the customer in the given sample data\n",
    "\n",
    "status_key = sample_data[\"content\"][\"customer\"][\"subscription\"][\"status\"]\n",
    "status_key"
   ]
  },
  {
   "cell_type": "code",
   "execution_count": 5,
   "metadata": {},
   "outputs": [
    {
     "data": {
      "text/plain": [
       "'active'"
      ]
     },
     "execution_count": 5,
     "metadata": {},
     "output_type": "execute_result"
    }
   ],
   "source": [
    "from functools import reduce\n",
    "\n",
    "# here is a hard-to-understand reduce implementation\n",
    "def deep_get(input_dict, key_tuple):\n",
    "    \"\"\" Deeply query dictionary of dictionaries from a given key tuple.\"\"\"\n",
    "    return reduce(lambda acc, curr: acc[curr], key_tuple, input_dict)\n",
    "\n",
    "status_key = (\"content\", \"customer\", \"subscription\", \"status\")\n",
    "deep_get(sample_data, status_key)"
   ]
  },
  {
   "cell_type": "code",
   "execution_count": 6,
   "metadata": {},
   "outputs": [
    {
     "data": {
      "text/plain": [
       "'active'"
      ]
     },
     "execution_count": 6,
     "metadata": {},
     "output_type": "execute_result"
    }
   ],
   "source": [
    "# a better approach would be using a for loop\n",
    "\n",
    "def deep_get2(input_dict, key_tuple):\n",
    "    \"\"\"Deeply query dictionary of dictionaries from a given key tuple.\"\"\"\n",
    "    for key in key_tuple:\n",
    "        input_dict = input_dict[key]\n",
    "    return input_dict \n",
    "\n",
    "deep_get2(sample_data, status_key)\n"
   ]
  }
 ],
 "metadata": {
  "kernelspec": {
   "display_name": "Python 3.10.4 64-bit",
   "language": "python",
   "name": "python3"
  },
  "language_info": {
   "codemirror_mode": {
    "name": "ipython",
    "version": 3
   },
   "file_extension": ".py",
   "mimetype": "text/x-python",
   "name": "python",
   "nbconvert_exporter": "python",
   "pygments_lexer": "ipython3",
   "version": "3.10.4"
  },
  "orig_nbformat": 4,
  "vscode": {
   "interpreter": {
    "hash": "aee8b7b246df8f9039afb4144a1f6fd8d2ca17a180786b69acc140d282b71a49"
   }
  }
 },
 "nbformat": 4,
 "nbformat_minor": 2
}
