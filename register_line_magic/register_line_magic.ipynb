{
 "cells": [
  {
   "attachments": {},
   "cell_type": "markdown",
   "metadata": {},
   "source": [
    "## Example 1"
   ]
  },
  {
   "cell_type": "code",
   "execution_count": 1,
   "metadata": {},
   "outputs": [],
   "source": [
    "from IPython.core.magic import register_line_magic\n",
    "\n",
    "@register_line_magic\n",
    "def greet(name):\n",
    "    print(f\"Hola {name}!\")"
   ]
  },
  {
   "cell_type": "code",
   "execution_count": 2,
   "metadata": {},
   "outputs": [
    {
     "name": "stdout",
     "output_type": "stream",
     "text": [
      "Hola Chicken!\n"
     ]
    }
   ],
   "source": [
    "%greet Chicken "
   ]
  },
  {
   "attachments": {},
   "cell_type": "markdown",
   "metadata": {},
   "source": [
    "## Example 2"
   ]
  },
  {
   "cell_type": "code",
   "execution_count": 3,
   "metadata": {},
   "outputs": [],
   "source": [
    "@register_line_magic\n",
    "def sum_of_squares(line):\n",
    "    \"\"\"\n",
    "    Calculate the sum of squares of two numbers.\n",
    "    \n",
    "    Usage:\n",
    "        %sum_of_squares x y \n",
    "    \"\"\"\n",
    "    args = line.split()\n",
    "    if len(args) != 2:\n",
    "        print(f\"\"\"Usage error: %{sum_of_squares.__name__} requires exaxtly two arguments.\n",
    "              You have entered {len(args)}\"\"\")\n",
    "        return \n",
    "    try:\n",
    "        x, y = float(args[0]), float(args[1])\n",
    "        result = x**2 + y**2\n",
    "        print(f\"The sum of squares of {x} and {y} is {result}\")\n",
    "    except ValueError:\n",
    "        print(\"Invalid input: x and y must be numbers\")"
   ]
  },
  {
   "cell_type": "code",
   "execution_count": 4,
   "metadata": {},
   "outputs": [
    {
     "name": "stdout",
     "output_type": "stream",
     "text": [
      "The sum of squares of 4.0 and 5.0 is 41.0\n"
     ]
    }
   ],
   "source": [
    "%sum_of_squares 4 5"
   ]
  },
  {
   "cell_type": "code",
   "execution_count": 5,
   "metadata": {},
   "outputs": [
    {
     "name": "stdout",
     "output_type": "stream",
     "text": [
      "Invalid input: x and y must be numbers\n"
     ]
    }
   ],
   "source": [
    "%sum_of_squares abc def"
   ]
  },
  {
   "cell_type": "code",
   "execution_count": 6,
   "metadata": {},
   "outputs": [
    {
     "name": "stdout",
     "output_type": "stream",
     "text": [
      "Usage error: %sum_of_squares requires exaxtly two arguments.\n",
      "              You have entered 1\n"
     ]
    }
   ],
   "source": [
    "%sum_of_squares 10"
   ]
  }
 ],
 "metadata": {
  "kernelspec": {
   "display_name": "Python 3",
   "language": "python",
   "name": "python3"
  },
  "language_info": {
   "codemirror_mode": {
    "name": "ipython",
    "version": 3
   },
   "file_extension": ".py",
   "mimetype": "text/x-python",
   "name": "python",
   "nbconvert_exporter": "python",
   "pygments_lexer": "ipython3",
   "version": "3.11.2"
  },
  "orig_nbformat": 4
 },
 "nbformat": 4,
 "nbformat_minor": 2
}
