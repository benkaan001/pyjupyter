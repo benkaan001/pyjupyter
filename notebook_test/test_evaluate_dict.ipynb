{
 "cells": [
  {
   "cell_type": "code",
   "execution_count": 19,
   "metadata": {},
   "outputs": [],
   "source": [
    "import unittest"
   ]
  },
  {
   "cell_type": "code",
   "execution_count": 20,
   "metadata": {},
   "outputs": [],
   "source": [
    "%run evaluate_dict.ipynb import find_lowcal_items"
   ]
  },
  {
   "cell_type": "code",
   "execution_count": 21,
   "metadata": {},
   "outputs": [
    {
     "name": "stderr",
     "output_type": "stream",
     "text": [
      "F\n",
      "======================================================================\n",
      "FAIL: test_find_lowcal_items (__main__.TestEvaluateDict)\n",
      "----------------------------------------------------------------------\n",
      "Traceback (most recent call last):\n",
      "  File \"/var/folders/2w/g1xqblv11xdc789plh7y3tsw0000gn/T/ipykernel_4707/1088524810.py\", line 7, in test_find_lowcal_items\n",
      "    assert user_output == expected_output, \\\n",
      "AssertionError: Expected ['HealthyFoods'], but got ['OkayFoods', 'BadFoods']\n",
      "\n",
      "----------------------------------------------------------------------\n",
      "Ran 1 test in 0.001s\n",
      "\n",
      "FAILED (failures=1)\n"
     ]
    }
   ],
   "source": [
    "class TestEvaluateDict(unittest.TestCase):\n",
    "\n",
    "    def test_find_lowcal_items(self):\n",
    "        expected_output = ['HealthyFoods']\n",
    "        user_output = find_lowcal_items(foods)\n",
    "\n",
    "        assert user_output == expected_output, \\\n",
    "            f\"Expected {expected_output}, but got {user_output}\"\n",
    "\n",
    "if __name__ == '__main__':\n",
    "    unittest.main(argv=[''], exit=False)"
   ]
  }
 ],
 "metadata": {
  "kernelspec": {
   "display_name": "Python 3",
   "language": "python",
   "name": "python3"
  },
  "language_info": {
   "codemirror_mode": {
    "name": "ipython",
    "version": 3
   },
   "file_extension": ".py",
   "mimetype": "text/x-python",
   "name": "python",
   "nbconvert_exporter": "python",
   "pygments_lexer": "ipython3",
   "version": "3.10.4"
  },
  "orig_nbformat": 4,
  "vscode": {
   "interpreter": {
    "hash": "aee8b7b246df8f9039afb4144a1f6fd8d2ca17a180786b69acc140d282b71a49"
   }
  }
 },
 "nbformat": 4,
 "nbformat_minor": 2
}
