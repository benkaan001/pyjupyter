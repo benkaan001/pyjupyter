{
 "cells": [
  {
   "attachments": {},
   "cell_type": "markdown",
   "metadata": {},
   "source": [
    "### Create a markdown hyperlink generator"
   ]
  },
  {
   "cell_type": "code",
   "execution_count": 1,
   "metadata": {},
   "outputs": [],
   "source": [
    "def generate_markdown_text(title):\n",
    "    \"\"\"\n",
    "    Generate markdown text for a given string.\n",
    "\n",
    "    This function takes a string `s` as input and returns a markdown-formatted\n",
    "    string. The input string should have a prefix separated by a period (e.g.,\n",
    "    \"1. Introduction\"), followed by a description of the text.\n",
    "\n",
    "    Parameters:\n",
    "    s (str): The input string.\n",
    "\n",
    "    Returns:\n",
    "    str: A markdown-formatted string, including a bullet point with the prefix,\n",
    "         the description in square brackets, and an anchor link based on the\n",
    "         words in the original string.\n",
    "    \"\"\"\n",
    "    parts = title.split('.', maxsplit=1)\n",
    "    prefix = parts[0]\n",
    "    no_prefix_s = parts[1].strip()\n",
    "    anchor = '#-' + '-'.join(title.split())\n",
    "    return f'{prefix}. [{no_prefix_s}]({anchor})'"
   ]
  },
  {
   "cell_type": "code",
   "execution_count": 2,
   "metadata": {},
   "outputs": [
    {
     "data": {
      "text/plain": [
       "'1. [Find columns that are composed of missing values only.](#-1.Find-columns-that-are-composed-of-missing-values-only.)'"
      ]
     },
     "execution_count": 2,
     "metadata": {},
     "output_type": "execute_result"
    }
   ],
   "source": [
    "generate_markdown_text('1.Find columns that are composed of missing values only.')"
   ]
  }
 ],
 "metadata": {
  "kernelspec": {
   "display_name": "Python 3",
   "language": "python",
   "name": "python3"
  },
  "language_info": {
   "codemirror_mode": {
    "name": "ipython",
    "version": 3
   },
   "file_extension": ".py",
   "mimetype": "text/x-python",
   "name": "python",
   "nbconvert_exporter": "python",
   "pygments_lexer": "ipython3",
   "version": "3.10.4"
  },
  "orig_nbformat": 4,
  "vscode": {
   "interpreter": {
    "hash": "aee8b7b246df8f9039afb4144a1f6fd8d2ca17a180786b69acc140d282b71a49"
   }
  }
 },
 "nbformat": 4,
 "nbformat_minor": 2
}
