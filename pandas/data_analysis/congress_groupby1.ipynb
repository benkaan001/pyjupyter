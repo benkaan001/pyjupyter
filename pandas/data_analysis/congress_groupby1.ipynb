{
 "cells": [
  {
   "cell_type": "code",
   "execution_count": 478,
   "metadata": {},
   "outputs": [],
   "source": [
    "import pandas as pd \n",
    "import numpy as np\n",
    "pd.set_option('display.max_columns', 200)\n",
    "import matplotlib.pyplot as plt"
   ]
  },
  {
   "attachments": {},
   "cell_type": "markdown",
   "metadata": {},
   "source": [
    "### <center>GENERATE MARKDOWN TEXT"
   ]
  },
  {
   "cell_type": "code",
   "execution_count": 479,
   "metadata": {},
   "outputs": [
    {
     "data": {
      "text/plain": [
       "'i. [Split-apply-combine.](#-i.Split-apply-combine.)'"
      ]
     },
     "execution_count": 479,
     "metadata": {},
     "output_type": "execute_result"
    }
   ],
   "source": [
    "%run ../helper/generate_markdown.ipynb import generate_markdown_text\n",
    "generate_markdown_text('i.Split-apply-combine.')"
   ]
  },
  {
   "attachments": {},
   "cell_type": "markdown",
   "metadata": {},
   "source": [
    "# GroupBy Operations on US Congress Dataset\n",
    "1. [Find columns that are composed of missing values only.](#-1.Find-columns-that-are-composed-of-missing-values-only.)\n",
    "2. [Compare the memory usage of each object column.](#-2.Compare-the-memory-usage-of-each-object-column.)\n",
    "3. [Create a new df and run dtype transformation.](#-3.Create-a-new-df-and-run-dtype-transformation.)\n",
    "4. [Display the count of Congressional members on a state-by-state basis.](#-4.Display-the-count-of-Congressional-members-on-a-state-by-state-basis.)\n",
    "5. [Display the count of Congressional members grouped by their gender on a state-by-state basis.](#-5.Display-the-count-of-Congressional-members-grouped-by-their-gender-on-a-state-by-state-basis.)\n",
    "    - i. [Compare column count in Pandas vs SQL.](#-i.Compare-column-count-in-Pandas-vs-SQL.)\n",
    "    - ii. [Emulate SQL output by changing as_index default value.](#-ii.Emulate-SQL-output-by-changing-as_index-default-value.)\n",
    "    - iii. [Compare ordering of results.](#-iii.Compare-ordering-of-results.)\n",
    "6. [Explore DataFrameGroupBy Object.](#-6.Explore-DataFrameGroupBy.)\n",
    "    - i. [Split-apply-combine.](#-i.Split-apply-combine.)"
   ]
  },
  {
   "cell_type": "code",
   "execution_count": 480,
   "metadata": {},
   "outputs": [
    {
     "data": {
      "text/plain": [
       "(11975, 34)"
      ]
     },
     "execution_count": 480,
     "metadata": {},
     "output_type": "execute_result"
    }
   ],
   "source": [
    "df = pd.read_csv('../data/groupby-data/legislators-historical.csv')\n",
    "\n",
    "df.shape"
   ]
  },
  {
   "cell_type": "code",
   "execution_count": 481,
   "metadata": {},
   "outputs": [
    {
     "data": {
      "text/plain": [
       "Index(['last_name', 'first_name', 'middle_name', 'suffix', 'nickname',\n",
       "       'full_name', 'birthday', 'gender', 'type', 'state', 'district',\n",
       "       'senate_class', 'party', 'url', 'address', 'phone', 'contact_form',\n",
       "       'rss_url', 'twitter', 'facebook', 'youtube', 'youtube_id',\n",
       "       'bioguide_id', 'thomas_id', 'opensecrets_id', 'lis_id', 'fec_ids',\n",
       "       'cspan_id', 'govtrack_id', 'votesmart_id', 'ballotpedia_id',\n",
       "       'washington_post_id', 'icpsr_id', 'wikipedia_id'],\n",
       "      dtype='object')"
      ]
     },
     "execution_count": 481,
     "metadata": {},
     "output_type": "execute_result"
    }
   ],
   "source": [
    "df.columns"
   ]
  },
  {
   "cell_type": "code",
   "execution_count": 482,
   "metadata": {},
   "outputs": [
    {
     "data": {
      "text/html": [
       "<div>\n",
       "<style scoped>\n",
       "    .dataframe tbody tr th:only-of-type {\n",
       "        vertical-align: middle;\n",
       "    }\n",
       "\n",
       "    .dataframe tbody tr th {\n",
       "        vertical-align: top;\n",
       "    }\n",
       "\n",
       "    .dataframe thead th {\n",
       "        text-align: right;\n",
       "    }\n",
       "</style>\n",
       "<table border=\"1\" class=\"dataframe\">\n",
       "  <thead>\n",
       "    <tr style=\"text-align: right;\">\n",
       "      <th></th>\n",
       "      <th>last_name</th>\n",
       "      <th>first_name</th>\n",
       "      <th>middle_name</th>\n",
       "      <th>suffix</th>\n",
       "      <th>nickname</th>\n",
       "      <th>full_name</th>\n",
       "      <th>birthday</th>\n",
       "      <th>gender</th>\n",
       "      <th>type</th>\n",
       "      <th>state</th>\n",
       "      <th>district</th>\n",
       "      <th>senate_class</th>\n",
       "      <th>party</th>\n",
       "      <th>url</th>\n",
       "      <th>address</th>\n",
       "      <th>phone</th>\n",
       "      <th>contact_form</th>\n",
       "      <th>rss_url</th>\n",
       "      <th>twitter</th>\n",
       "      <th>facebook</th>\n",
       "      <th>youtube</th>\n",
       "      <th>youtube_id</th>\n",
       "      <th>bioguide_id</th>\n",
       "      <th>thomas_id</th>\n",
       "      <th>opensecrets_id</th>\n",
       "      <th>lis_id</th>\n",
       "      <th>fec_ids</th>\n",
       "      <th>cspan_id</th>\n",
       "      <th>govtrack_id</th>\n",
       "      <th>votesmart_id</th>\n",
       "      <th>ballotpedia_id</th>\n",
       "      <th>washington_post_id</th>\n",
       "      <th>icpsr_id</th>\n",
       "      <th>wikipedia_id</th>\n",
       "    </tr>\n",
       "  </thead>\n",
       "  <tbody>\n",
       "    <tr>\n",
       "      <th>0</th>\n",
       "      <td>Bassett</td>\n",
       "      <td>Richard</td>\n",
       "      <td>NaN</td>\n",
       "      <td>NaN</td>\n",
       "      <td>NaN</td>\n",
       "      <td>NaN</td>\n",
       "      <td>1745-04-02</td>\n",
       "      <td>M</td>\n",
       "      <td>sen</td>\n",
       "      <td>DE</td>\n",
       "      <td>NaN</td>\n",
       "      <td>2.0</td>\n",
       "      <td>Anti-Administration</td>\n",
       "      <td>NaN</td>\n",
       "      <td>NaN</td>\n",
       "      <td>NaN</td>\n",
       "      <td>NaN</td>\n",
       "      <td>NaN</td>\n",
       "      <td>NaN</td>\n",
       "      <td>NaN</td>\n",
       "      <td>NaN</td>\n",
       "      <td>NaN</td>\n",
       "      <td>B000226</td>\n",
       "      <td>NaN</td>\n",
       "      <td>NaN</td>\n",
       "      <td>NaN</td>\n",
       "      <td>NaN</td>\n",
       "      <td>NaN</td>\n",
       "      <td>401222</td>\n",
       "      <td>NaN</td>\n",
       "      <td>NaN</td>\n",
       "      <td>NaN</td>\n",
       "      <td>507.0</td>\n",
       "      <td>Richard Bassett (politician)</td>\n",
       "    </tr>\n",
       "    <tr>\n",
       "      <th>1</th>\n",
       "      <td>Bland</td>\n",
       "      <td>Theodorick</td>\n",
       "      <td>NaN</td>\n",
       "      <td>NaN</td>\n",
       "      <td>NaN</td>\n",
       "      <td>NaN</td>\n",
       "      <td>1742-03-21</td>\n",
       "      <td>M</td>\n",
       "      <td>rep</td>\n",
       "      <td>VA</td>\n",
       "      <td>9.0</td>\n",
       "      <td>NaN</td>\n",
       "      <td>NaN</td>\n",
       "      <td>NaN</td>\n",
       "      <td>NaN</td>\n",
       "      <td>NaN</td>\n",
       "      <td>NaN</td>\n",
       "      <td>NaN</td>\n",
       "      <td>NaN</td>\n",
       "      <td>NaN</td>\n",
       "      <td>NaN</td>\n",
       "      <td>NaN</td>\n",
       "      <td>B000546</td>\n",
       "      <td>NaN</td>\n",
       "      <td>NaN</td>\n",
       "      <td>NaN</td>\n",
       "      <td>NaN</td>\n",
       "      <td>NaN</td>\n",
       "      <td>401521</td>\n",
       "      <td>NaN</td>\n",
       "      <td>NaN</td>\n",
       "      <td>NaN</td>\n",
       "      <td>786.0</td>\n",
       "      <td>Theodorick Bland (congressman)</td>\n",
       "    </tr>\n",
       "    <tr>\n",
       "      <th>2</th>\n",
       "      <td>Burke</td>\n",
       "      <td>Aedanus</td>\n",
       "      <td>NaN</td>\n",
       "      <td>NaN</td>\n",
       "      <td>NaN</td>\n",
       "      <td>NaN</td>\n",
       "      <td>1743-06-16</td>\n",
       "      <td>M</td>\n",
       "      <td>rep</td>\n",
       "      <td>SC</td>\n",
       "      <td>2.0</td>\n",
       "      <td>NaN</td>\n",
       "      <td>NaN</td>\n",
       "      <td>NaN</td>\n",
       "      <td>NaN</td>\n",
       "      <td>NaN</td>\n",
       "      <td>NaN</td>\n",
       "      <td>NaN</td>\n",
       "      <td>NaN</td>\n",
       "      <td>NaN</td>\n",
       "      <td>NaN</td>\n",
       "      <td>NaN</td>\n",
       "      <td>B001086</td>\n",
       "      <td>NaN</td>\n",
       "      <td>NaN</td>\n",
       "      <td>NaN</td>\n",
       "      <td>NaN</td>\n",
       "      <td>NaN</td>\n",
       "      <td>402032</td>\n",
       "      <td>NaN</td>\n",
       "      <td>NaN</td>\n",
       "      <td>NaN</td>\n",
       "      <td>1260.0</td>\n",
       "      <td>Aedanus Burke</td>\n",
       "    </tr>\n",
       "    <tr>\n",
       "      <th>3</th>\n",
       "      <td>Carroll</td>\n",
       "      <td>Daniel</td>\n",
       "      <td>NaN</td>\n",
       "      <td>NaN</td>\n",
       "      <td>NaN</td>\n",
       "      <td>NaN</td>\n",
       "      <td>1730-07-22</td>\n",
       "      <td>M</td>\n",
       "      <td>rep</td>\n",
       "      <td>MD</td>\n",
       "      <td>6.0</td>\n",
       "      <td>NaN</td>\n",
       "      <td>NaN</td>\n",
       "      <td>NaN</td>\n",
       "      <td>NaN</td>\n",
       "      <td>NaN</td>\n",
       "      <td>NaN</td>\n",
       "      <td>NaN</td>\n",
       "      <td>NaN</td>\n",
       "      <td>NaN</td>\n",
       "      <td>NaN</td>\n",
       "      <td>NaN</td>\n",
       "      <td>C000187</td>\n",
       "      <td>NaN</td>\n",
       "      <td>NaN</td>\n",
       "      <td>NaN</td>\n",
       "      <td>NaN</td>\n",
       "      <td>NaN</td>\n",
       "      <td>402334</td>\n",
       "      <td>NaN</td>\n",
       "      <td>NaN</td>\n",
       "      <td>NaN</td>\n",
       "      <td>1538.0</td>\n",
       "      <td>Daniel Carroll</td>\n",
       "    </tr>\n",
       "    <tr>\n",
       "      <th>4</th>\n",
       "      <td>Clymer</td>\n",
       "      <td>George</td>\n",
       "      <td>NaN</td>\n",
       "      <td>NaN</td>\n",
       "      <td>NaN</td>\n",
       "      <td>NaN</td>\n",
       "      <td>1739-03-16</td>\n",
       "      <td>M</td>\n",
       "      <td>rep</td>\n",
       "      <td>PA</td>\n",
       "      <td>-1.0</td>\n",
       "      <td>NaN</td>\n",
       "      <td>NaN</td>\n",
       "      <td>NaN</td>\n",
       "      <td>NaN</td>\n",
       "      <td>NaN</td>\n",
       "      <td>NaN</td>\n",
       "      <td>NaN</td>\n",
       "      <td>NaN</td>\n",
       "      <td>NaN</td>\n",
       "      <td>NaN</td>\n",
       "      <td>NaN</td>\n",
       "      <td>C000538</td>\n",
       "      <td>NaN</td>\n",
       "      <td>NaN</td>\n",
       "      <td>NaN</td>\n",
       "      <td>NaN</td>\n",
       "      <td>NaN</td>\n",
       "      <td>402671</td>\n",
       "      <td>NaN</td>\n",
       "      <td>NaN</td>\n",
       "      <td>NaN</td>\n",
       "      <td>1859.0</td>\n",
       "      <td>George Clymer</td>\n",
       "    </tr>\n",
       "  </tbody>\n",
       "</table>\n",
       "</div>"
      ],
      "text/plain": [
       "  last_name  first_name middle_name suffix nickname full_name    birthday  \\\n",
       "0   Bassett     Richard         NaN    NaN      NaN       NaN  1745-04-02   \n",
       "1     Bland  Theodorick         NaN    NaN      NaN       NaN  1742-03-21   \n",
       "2     Burke     Aedanus         NaN    NaN      NaN       NaN  1743-06-16   \n",
       "3   Carroll      Daniel         NaN    NaN      NaN       NaN  1730-07-22   \n",
       "4    Clymer      George         NaN    NaN      NaN       NaN  1739-03-16   \n",
       "\n",
       "  gender type state  district  senate_class                party  url address  \\\n",
       "0      M  sen    DE       NaN           2.0  Anti-Administration  NaN     NaN   \n",
       "1      M  rep    VA       9.0           NaN                  NaN  NaN     NaN   \n",
       "2      M  rep    SC       2.0           NaN                  NaN  NaN     NaN   \n",
       "3      M  rep    MD       6.0           NaN                  NaN  NaN     NaN   \n",
       "4      M  rep    PA      -1.0           NaN                  NaN  NaN     NaN   \n",
       "\n",
       "  phone contact_form rss_url  twitter  facebook  youtube  youtube_id  \\\n",
       "0   NaN          NaN     NaN      NaN       NaN      NaN         NaN   \n",
       "1   NaN          NaN     NaN      NaN       NaN      NaN         NaN   \n",
       "2   NaN          NaN     NaN      NaN       NaN      NaN         NaN   \n",
       "3   NaN          NaN     NaN      NaN       NaN      NaN         NaN   \n",
       "4   NaN          NaN     NaN      NaN       NaN      NaN         NaN   \n",
       "\n",
       "  bioguide_id  thomas_id opensecrets_id lis_id fec_ids  cspan_id  govtrack_id  \\\n",
       "0     B000226        NaN            NaN    NaN     NaN       NaN       401222   \n",
       "1     B000546        NaN            NaN    NaN     NaN       NaN       401521   \n",
       "2     B001086        NaN            NaN    NaN     NaN       NaN       402032   \n",
       "3     C000187        NaN            NaN    NaN     NaN       NaN       402334   \n",
       "4     C000538        NaN            NaN    NaN     NaN       NaN       402671   \n",
       "\n",
       "   votesmart_id ballotpedia_id  washington_post_id  icpsr_id  \\\n",
       "0           NaN            NaN                 NaN     507.0   \n",
       "1           NaN            NaN                 NaN     786.0   \n",
       "2           NaN            NaN                 NaN    1260.0   \n",
       "3           NaN            NaN                 NaN    1538.0   \n",
       "4           NaN            NaN                 NaN    1859.0   \n",
       "\n",
       "                     wikipedia_id  \n",
       "0    Richard Bassett (politician)  \n",
       "1  Theodorick Bland (congressman)  \n",
       "2                   Aedanus Burke  \n",
       "3                  Daniel Carroll  \n",
       "4                   George Clymer  "
      ]
     },
     "execution_count": 482,
     "metadata": {},
     "output_type": "execute_result"
    }
   ],
   "source": [
    "df.head()"
   ]
  },
  {
   "attachments": {},
   "cell_type": "markdown",
   "metadata": {},
   "source": [
    "## 1.Find columns that are composed of missing values only."
   ]
  },
  {
   "attachments": {},
   "cell_type": "markdown",
   "metadata": {},
   "source": [
    "### Using `isnull().all()`"
   ]
  },
  {
   "cell_type": "code",
   "execution_count": 483,
   "metadata": {},
   "outputs": [
    {
     "data": {
      "text/plain": [
       "last_name             False\n",
       "first_name            False\n",
       "middle_name           False\n",
       "suffix                False\n",
       "nickname              False\n",
       "full_name             False\n",
       "birthday              False\n",
       "gender                False\n",
       "type                  False\n",
       "state                 False\n",
       "district              False\n",
       "senate_class          False\n",
       "party                 False\n",
       "url                   False\n",
       "address               False\n",
       "phone                 False\n",
       "contact_form          False\n",
       "rss_url               False\n",
       "twitter                True\n",
       "facebook               True\n",
       "youtube                True\n",
       "youtube_id             True\n",
       "bioguide_id           False\n",
       "thomas_id             False\n",
       "opensecrets_id        False\n",
       "lis_id                False\n",
       "fec_ids               False\n",
       "cspan_id              False\n",
       "govtrack_id           False\n",
       "votesmart_id          False\n",
       "ballotpedia_id        False\n",
       "washington_post_id     True\n",
       "icpsr_id              False\n",
       "wikipedia_id          False\n",
       "dtype: bool"
      ]
     },
     "execution_count": 483,
     "metadata": {},
     "output_type": "execute_result"
    }
   ],
   "source": [
    "\n",
    "df.isnull().all()"
   ]
  },
  {
   "cell_type": "code",
   "execution_count": 484,
   "metadata": {},
   "outputs": [
    {
     "data": {
      "text/plain": [
       "Index(['twitter', 'facebook', 'youtube', 'youtube_id', 'washington_post_id'], dtype='object')"
      ]
     },
     "execution_count": 484,
     "metadata": {},
     "output_type": "execute_result"
    }
   ],
   "source": [
    "null_col_list = df.columns[df.isnull().all()]\n",
    "null_col_list"
   ]
  },
  {
   "cell_type": "code",
   "execution_count": 485,
   "metadata": {},
   "outputs": [
    {
     "data": {
      "text/plain": [
       "['twitter', 'facebook', 'youtube', 'youtube_id', 'washington_post_id']"
      ]
     },
     "execution_count": 485,
     "metadata": {},
     "output_type": "execute_result"
    }
   ],
   "source": [
    "null_col_list = df.columns[df.isnull().all()].to_list()\n",
    "null_col_list"
   ]
  },
  {
   "cell_type": "code",
   "execution_count": 486,
   "metadata": {},
   "outputs": [
    {
     "data": {
      "text/plain": [
       "Index(['last_name', 'first_name', 'middle_name', 'suffix', 'nickname',\n",
       "       'full_name', 'birthday', 'gender', 'type', 'state', 'district',\n",
       "       'senate_class', 'party', 'url', 'address', 'phone', 'contact_form',\n",
       "       'rss_url', 'bioguide_id', 'thomas_id', 'opensecrets_id', 'lis_id',\n",
       "       'fec_ids', 'cspan_id', 'govtrack_id', 'votesmart_id', 'ballotpedia_id',\n",
       "       'icpsr_id', 'wikipedia_id'],\n",
       "      dtype='object')"
      ]
     },
     "execution_count": 486,
     "metadata": {},
     "output_type": "execute_result"
    }
   ],
   "source": [
    "df.drop(null_col_list, axis=1).columns"
   ]
  },
  {
   "attachments": {},
   "cell_type": "markdown",
   "metadata": {},
   "source": [
    "### Using `dropna(how='all')`."
   ]
  },
  {
   "cell_type": "code",
   "execution_count": 487,
   "metadata": {},
   "outputs": [
    {
     "data": {
      "text/plain": [
       "Index(['last_name', 'first_name', 'middle_name', 'suffix', 'nickname',\n",
       "       'full_name', 'birthday', 'gender', 'type', 'state', 'district',\n",
       "       'senate_class', 'party', 'url', 'address', 'phone', 'contact_form',\n",
       "       'rss_url', 'bioguide_id', 'thomas_id', 'opensecrets_id', 'lis_id',\n",
       "       'fec_ids', 'cspan_id', 'govtrack_id', 'votesmart_id', 'ballotpedia_id',\n",
       "       'icpsr_id', 'wikipedia_id'],\n",
       "      dtype='object')"
      ]
     },
     "execution_count": 487,
     "metadata": {},
     "output_type": "execute_result"
    }
   ],
   "source": [
    "df.dropna(how='all', axis=1).columns"
   ]
  },
  {
   "cell_type": "code",
   "execution_count": 488,
   "metadata": {},
   "outputs": [
    {
     "data": {
      "text/plain": [
       "(11975, 29)"
      ]
     },
     "execution_count": 488,
     "metadata": {},
     "output_type": "execute_result"
    }
   ],
   "source": [
    "df = df.dropna(how='all', axis=1)\n",
    "\n",
    "df.shape"
   ]
  },
  {
   "cell_type": "code",
   "execution_count": 489,
   "metadata": {},
   "outputs": [
    {
     "data": {
      "text/plain": [
       "last_name          object\n",
       "first_name         object\n",
       "middle_name        object\n",
       "suffix             object\n",
       "nickname           object\n",
       "full_name          object\n",
       "birthday           object\n",
       "gender             object\n",
       "type               object\n",
       "state              object\n",
       "district          float64\n",
       "senate_class      float64\n",
       "party              object\n",
       "url                object\n",
       "address            object\n",
       "phone              object\n",
       "contact_form       object\n",
       "rss_url            object\n",
       "bioguide_id        object\n",
       "thomas_id         float64\n",
       "opensecrets_id     object\n",
       "lis_id             object\n",
       "fec_ids            object\n",
       "cspan_id          float64\n",
       "govtrack_id         int64\n",
       "votesmart_id      float64\n",
       "ballotpedia_id     object\n",
       "icpsr_id          float64\n",
       "wikipedia_id       object\n",
       "dtype: object"
      ]
     },
     "execution_count": 489,
     "metadata": {},
     "output_type": "execute_result"
    }
   ],
   "source": [
    "df.dtypes"
   ]
  },
  {
   "cell_type": "code",
   "execution_count": 490,
   "metadata": {},
   "outputs": [
    {
     "data": {
      "text/plain": [
       "last_name             0\n",
       "first_name            0\n",
       "middle_name        3617\n",
       "suffix            11553\n",
       "nickname          11748\n",
       "full_name         11634\n",
       "birthday            553\n",
       "gender                0\n",
       "type                  0\n",
       "state                 0\n",
       "district           1829\n",
       "senate_class      10146\n",
       "party               234\n",
       "url               11329\n",
       "address           11626\n",
       "phone             11630\n",
       "contact_form      11754\n",
       "rss_url           11772\n",
       "bioguide_id           0\n",
       "thomas_id         10175\n",
       "opensecrets_id    11310\n",
       "lis_id            11784\n",
       "fec_ids           11437\n",
       "cspan_id          11560\n",
       "govtrack_id           0\n",
       "votesmart_id      11417\n",
       "ballotpedia_id    11784\n",
       "icpsr_id            212\n",
       "wikipedia_id          2\n",
       "dtype: int64"
      ]
     },
     "execution_count": 490,
     "metadata": {},
     "output_type": "execute_result"
    }
   ],
   "source": [
    "df.isnull().sum()"
   ]
  },
  {
   "attachments": {},
   "cell_type": "markdown",
   "metadata": {},
   "source": [
    "[BACK TO TOP][def]\n",
    "\n",
    "[def]:#-GroupBy-Operations-on-US-Congress-Dataset "
   ]
  },
  {
   "attachments": {},
   "cell_type": "markdown",
   "metadata": {},
   "source": [
    "## 2.Compare the memory usage of each object column."
   ]
  },
  {
   "cell_type": "code",
   "execution_count": 491,
   "metadata": {},
   "outputs": [
    {
     "data": {
      "text/plain": [
       "['last_name',\n",
       " 'first_name',\n",
       " 'middle_name',\n",
       " 'suffix',\n",
       " 'nickname',\n",
       " 'full_name',\n",
       " 'birthday',\n",
       " 'gender',\n",
       " 'type',\n",
       " 'state',\n",
       " 'party',\n",
       " 'url',\n",
       " 'address',\n",
       " 'phone',\n",
       " 'contact_form',\n",
       " 'rss_url',\n",
       " 'bioguide_id',\n",
       " 'opensecrets_id',\n",
       " 'lis_id',\n",
       " 'fec_ids',\n",
       " 'ballotpedia_id',\n",
       " 'wikipedia_id']"
      ]
     },
     "execution_count": 491,
     "metadata": {},
     "output_type": "execute_result"
    }
   ],
   "source": [
    "# create a list of columns of object type\n",
    "df_cols = [col for col in df.columns.to_list() if df[col].dtype == 'object'] \n",
    "df_cols"
   ]
  },
  {
   "cell_type": "code",
   "execution_count": 492,
   "metadata": {},
   "outputs": [
    {
     "data": {
      "text/plain": [
       "{'column_diff': {'last_name': 255844,\n",
       "  'first_name': 598233,\n",
       "  'middle_name': 368248,\n",
       "  'suffix': 382561,\n",
       "  'nickname': 365930,\n",
       "  'full_name': 340042,\n",
       "  'birthday': -210990,\n",
       "  'gender': 682351,\n",
       "  'type': 706297,\n",
       "  'state': 689024,\n",
       "  'district': 368697,\n",
       "  'senate_class': 371093,\n",
       "  'party': 763190,\n",
       "  'url': 322113,\n",
       "  'address': 340537,\n",
       "  'phone': 343778,\n",
       "  'contact_form': 344496,\n",
       "  'rss_url': 344570,\n",
       "  'bioguide_id': -288182,\n",
       "  'thomas_id': 278762,\n",
       "  'opensecrets_id': 321418,\n",
       "  'lis_id': 348970,\n",
       "  'fec_ids': 325482,\n",
       "  'cspan_id': 339378,\n",
       "  'govtrack_id': 47118,\n",
       "  'votesmart_id': 338234,\n",
       "  'ballotpedia_id': 348970,\n",
       "  'icpsr_id': 914,\n",
       "  'wikipedia_id': -288118},\n",
       " 'total_diff': 9148960}"
      ]
     },
     "execution_count": 492,
     "metadata": {},
     "output_type": "execute_result"
    }
   ],
   "source": [
    "def check_memory_usage(df, col_type='object'):\n",
    "    \"\"\"\n",
    "    Calculates the memory usage of each column in the specified DataFrame `df`,\n",
    "    after converting the column to the specified data type `col_type`.\n",
    "\n",
    "    Args:\n",
    "        df (pandas.DataFrame): The DataFrame for which to calculate memory usage.\n",
    "        col_type (str, optional): The data type to which each column should be\n",
    "            converted before calculating memory usage. Defaults to 'object'.\n",
    "\n",
    "    Returns:\n",
    "        dict: A dictionary containing the memory usage of each column in bytes,\n",
    "        after conversion to the specified data type. The dictionary also includes\n",
    "        the total memory usage of the DataFrame in bytes.\n",
    "\n",
    "    \"\"\"\n",
    "    memory_dict = {}\n",
    "    for col in df.columns:\n",
    "        memory_dict[col] = df[col].astype(col_type).memory_usage(deep=True, index=False)\n",
    "    memory_dict['total_memory_usage'] = sum(memory_dict.values())\n",
    "    return memory_dict\n",
    "\n",
    "\n",
    "\n",
    "\n",
    "def memory_usage_difference(df, col_type1='object', col_type2='category'):\n",
    "    \"\"\"\n",
    "    Calculates the difference in memory usage between two different column data types for a given DataFrame.\n",
    "    \n",
    "    Parameters:\n",
    "        df (pandas.DataFrame): The DataFrame for which to calculate the memory usage difference.\n",
    "        col_type1 (str, optional): The first column data type. Defaults to 'object'.\n",
    "        col_type2 (str, optional): The second column data type. Defaults to 'category'.\n",
    "    \n",
    "    Returns:\n",
    "        dict: A dictionary containing the memory usage difference (in bytes) for each column and the total difference.\n",
    "    \"\"\"\n",
    "    # Get memory usage for both column data types\n",
    "    memory_usage1 = check_memory_usage(df, col_type=col_type1)\n",
    "    memory_usage2 = check_memory_usage(df, col_type=col_type2)\n",
    "\n",
    "    # Calculate the difference in memory usage\n",
    "    diff_dict = {}\n",
    "    for col in df.columns:\n",
    "        diff_dict[col] = memory_usage1[col] - memory_usage2[col]\n",
    "\n",
    "    # Calculate total difference\n",
    "    total_diff = sum(diff_dict.values())\n",
    "\n",
    "    # Create output dictionary\n",
    "    output_dict = {\n",
    "        'column_diff': diff_dict,\n",
    "        'total_diff': total_diff\n",
    "    }\n",
    "\n",
    "    return output_dict\n",
    "\n",
    "memory_usage_difference(df)"
   ]
  },
  {
   "attachments": {},
   "cell_type": "markdown",
   "metadata": {},
   "source": [
    "### More readable version including rounded percentage usage values."
   ]
  },
  {
   "cell_type": "code",
   "execution_count": 493,
   "metadata": {},
   "outputs": [],
   "source": [
    "def memory_usage_difference(df, col_type1='object', col_type2='category'):\n",
    "    \"\"\"\n",
    "    Calculates the difference in memory usage between two different column data types for a given DataFrame.\n",
    "    \n",
    "    Parameters:\n",
    "        df (pandas.DataFrame): The DataFrame for which to calculate the memory usage difference.\n",
    "        col_type1 (str, optional): The first column data type. Defaults to 'object'.\n",
    "        col_type2 (str, optional): The second column data type. Defaults to 'category'.\n",
    "    \n",
    "    Returns:\n",
    "        dict: A dictionary containing the memory usage difference (in bytes) for each column and the total difference.\n",
    "    \"\"\"\n",
    "    # Get memory usage for both column data types\n",
    "    memory_usage1 = check_memory_usage(df, col_type=col_type1)\n",
    "    memory_usage2 = check_memory_usage(df, col_type=col_type2)\n",
    "\n",
    "    # Calculate the difference in memory usage\n",
    "    diff_dict = {}\n",
    "    for col in df.columns:\n",
    "        diff = memory_usage1[col] - memory_usage2[col]\n",
    "        diff_pct = 100 * diff / memory_usage1[col]\n",
    "        diff_dict[col] = {\n",
    "            'diff_bytes': diff,\n",
    "            'diff_percent': f\"{round(diff_pct)}%\"\n",
    "        }\n",
    "\n",
    "    # Calculate total difference\n",
    "    total_diff_bytes = sum(diff_dict[col]['diff_bytes'] for col in df.columns)\n",
    "    total_diff_pct = 100 * total_diff_bytes / sum(memory_usage1.values())\n",
    "\n",
    "    # Create output dictionary\n",
    "    output_dict = {\n",
    "        'column_diff': diff_dict,\n",
    "        'total_diff': {\n",
    "            'diff_bytes': total_diff_bytes,\n",
    "            'diff_percent': f\"{round(total_diff_pct)}%\"\n",
    "        }\n",
    "    }\n",
    "\n",
    "    return output_dict"
   ]
  },
  {
   "cell_type": "code",
   "execution_count": 494,
   "metadata": {},
   "outputs": [
    {
     "data": {
      "text/plain": [
       "{'column_diff': {'last_name': {'diff_bytes': 256775, 'diff_percent': '34%'},\n",
       "  'first_name': {'diff_bytes': 598340, 'diff_percent': '79%'},\n",
       "  'middle_name': {'diff_bytes': 368248, 'diff_percent': '57%'},\n",
       "  'suffix': {'diff_bytes': 382561, 'diff_percent': '97%'},\n",
       "  'nickname': {'diff_bytes': 365930, 'diff_percent': '94%'},\n",
       "  'full_name': {'diff_bytes': 340042, 'diff_percent': '86%'},\n",
       "  'birthday': {'diff_bytes': -210990, 'diff_percent': '-27%'},\n",
       "  'gender': {'diff_bytes': 682351, 'diff_percent': '98%'},\n",
       "  'type': {'diff_bytes': 706297, 'diff_percent': '98%'},\n",
       "  'state': {'diff_bytes': 689024, 'diff_percent': '98%'},\n",
       "  'district': {'diff_bytes': 368697, 'diff_percent': '96%'},\n",
       "  'senate_class': {'diff_bytes': 371093, 'diff_percent': '97%'},\n",
       "  'party': {'diff_bytes': 763190, 'diff_percent': '98%'},\n",
       "  'url': {'diff_bytes': 322113, 'diff_percent': '77%'},\n",
       "  'address': {'diff_bytes': 340537, 'diff_percent': '83%'},\n",
       "  'phone': {'diff_bytes': 343778, 'diff_percent': '87%'},\n",
       "  'contact_form': {'diff_bytes': 344496, 'diff_percent': '86%'},\n",
       "  'rss_url': {'diff_bytes': 344570, 'diff_percent': '87%'},\n",
       "  'bioguide_id': {'diff_bytes': -288182, 'diff_percent': '-38%'},\n",
       "  'thomas_id': {'diff_bytes': 278762, 'diff_percent': '73%'},\n",
       "  'opensecrets_id': {'diff_bytes': 321418, 'diff_percent': '79%'},\n",
       "  'lis_id': {'diff_bytes': 348970, 'diff_percent': '90%'},\n",
       "  'fec_ids': {'diff_bytes': 325482, 'diff_percent': '81%'},\n",
       "  'cspan_id': {'diff_bytes': 339378, 'diff_percent': '89%'},\n",
       "  'govtrack_id': {'diff_bytes': 47118, 'diff_percent': '11%'},\n",
       "  'votesmart_id': {'diff_bytes': 338234, 'diff_percent': '88%'},\n",
       "  'ballotpedia_id': {'diff_bytes': 348970, 'diff_percent': '89%'},\n",
       "  'icpsr_id': {'diff_bytes': 914, 'diff_percent': '0%'},\n",
       "  'wikipedia_id': {'diff_bytes': -288118, 'diff_percent': '-32%'}},\n",
       " 'total_diff': {'diff_bytes': 9149998, 'diff_percent': '30%'}}"
      ]
     },
     "execution_count": 494,
     "metadata": {},
     "output_type": "execute_result"
    }
   ],
   "source": [
    "output = memory_usage_difference(df)\n",
    "output"
   ]
  },
  {
   "cell_type": "code",
   "execution_count": 495,
   "metadata": {},
   "outputs": [
    {
     "name": "stdout",
     "output_type": "stream",
     "text": [
      "{   'column_diff': {   'address': {'diff_bytes': 340537, 'diff_percent': '83%'},\n",
      "                       'ballotpedia_id': {   'diff_bytes': 348970,\n",
      "                                             'diff_percent': '89%'},\n",
      "                       'bioguide_id': {   'diff_bytes': -288182,\n",
      "                                          'diff_percent': '-38%'},\n",
      "                       'birthday': {   'diff_bytes': -210990,\n",
      "                                       'diff_percent': '-27%'},\n",
      "                       'contact_form': {   'diff_bytes': 344496,\n",
      "                                           'diff_percent': '86%'},\n",
      "                       'cspan_id': {   'diff_bytes': 339378,\n",
      "                                       'diff_percent': '89%'},\n",
      "                       'district': {   'diff_bytes': 368697,\n",
      "                                       'diff_percent': '96%'},\n",
      "                       'fec_ids': {'diff_bytes': 325482, 'diff_percent': '81%'},\n",
      "                       'first_name': {   'diff_bytes': 598340,\n",
      "                                         'diff_percent': '79%'},\n",
      "                       'full_name': {   'diff_bytes': 340042,\n",
      "                                        'diff_percent': '86%'},\n",
      "                       'gender': {'diff_bytes': 682351, 'diff_percent': '98%'},\n",
      "                       'govtrack_id': {   'diff_bytes': 47118,\n",
      "                                          'diff_percent': '11%'},\n",
      "                       'icpsr_id': {'diff_bytes': 914, 'diff_percent': '0%'},\n",
      "                       'last_name': {   'diff_bytes': 256775,\n",
      "                                        'diff_percent': '34%'},\n",
      "                       'lis_id': {'diff_bytes': 348970, 'diff_percent': '90%'},\n",
      "                       'middle_name': {   'diff_bytes': 368248,\n",
      "                                          'diff_percent': '57%'},\n",
      "                       'nickname': {   'diff_bytes': 365930,\n",
      "                                       'diff_percent': '94%'},\n",
      "                       'opensecrets_id': {   'diff_bytes': 321418,\n",
      "                                             'diff_percent': '79%'},\n",
      "                       'party': {'diff_bytes': 763190, 'diff_percent': '98%'},\n",
      "                       'phone': {'diff_bytes': 343778, 'diff_percent': '87%'},\n",
      "                       'rss_url': {'diff_bytes': 344570, 'diff_percent': '87%'},\n",
      "                       'senate_class': {   'diff_bytes': 371093,\n",
      "                                           'diff_percent': '97%'},\n",
      "                       'state': {'diff_bytes': 689024, 'diff_percent': '98%'},\n",
      "                       'suffix': {'diff_bytes': 382561, 'diff_percent': '97%'},\n",
      "                       'thomas_id': {   'diff_bytes': 278762,\n",
      "                                        'diff_percent': '73%'},\n",
      "                       'type': {'diff_bytes': 706297, 'diff_percent': '98%'},\n",
      "                       'url': {'diff_bytes': 322113, 'diff_percent': '77%'},\n",
      "                       'votesmart_id': {   'diff_bytes': 338234,\n",
      "                                           'diff_percent': '88%'},\n",
      "                       'wikipedia_id': {   'diff_bytes': -288118,\n",
      "                                           'diff_percent': '-32%'}},\n",
      "    'total_diff': {'diff_bytes': 9149998, 'diff_percent': '30%'}}\n"
     ]
    }
   ],
   "source": [
    "import pprint\n",
    "\n",
    "pp = pprint.PrettyPrinter(indent=4)\n",
    "\n",
    "pp.pprint(output)"
   ]
  },
  {
   "attachments": {},
   "cell_type": "markdown",
   "metadata": {},
   "source": [
    "### Image representation of the column differences."
   ]
  },
  {
   "attachments": {},
   "cell_type": "markdown",
   "metadata": {},
   "source": [
    "\n",
    "<!-- ![alt text](../assets/pprint.png) -->\n",
    "\n",
    "<img src=\"../assets/pprint.png\" alt=\"output image\" width=\"50%\"/>\n",
    "\n"
   ]
  },
  {
   "attachments": {},
   "cell_type": "markdown",
   "metadata": {},
   "source": [
    "## 3.Create a new df and run dtype transformation."
   ]
  },
  {
   "cell_type": "code",
   "execution_count": 496,
   "metadata": {},
   "outputs": [
    {
     "name": "stdout",
     "output_type": "stream",
     "text": [
      "['first_name', 'last_name', 'gender', 'type', 'state', 'party']\n"
     ]
    },
    {
     "data": {
      "text/html": [
       "<div>\n",
       "<style scoped>\n",
       "    .dataframe tbody tr th:only-of-type {\n",
       "        vertical-align: middle;\n",
       "    }\n",
       "\n",
       "    .dataframe tbody tr th {\n",
       "        vertical-align: top;\n",
       "    }\n",
       "\n",
       "    .dataframe thead th {\n",
       "        text-align: right;\n",
       "    }\n",
       "</style>\n",
       "<table border=\"1\" class=\"dataframe\">\n",
       "  <thead>\n",
       "    <tr style=\"text-align: right;\">\n",
       "      <th></th>\n",
       "      <th>last_name</th>\n",
       "      <th>first_name</th>\n",
       "      <th>birthday</th>\n",
       "      <th>gender</th>\n",
       "      <th>type</th>\n",
       "      <th>state</th>\n",
       "      <th>party</th>\n",
       "    </tr>\n",
       "  </thead>\n",
       "  <tbody>\n",
       "    <tr>\n",
       "      <th>11965</th>\n",
       "      <td>Lewis</td>\n",
       "      <td>Jason</td>\n",
       "      <td>1955-09-23</td>\n",
       "      <td>M</td>\n",
       "      <td>rep</td>\n",
       "      <td>MN</td>\n",
       "      <td>Republican</td>\n",
       "    </tr>\n",
       "    <tr>\n",
       "      <th>11966</th>\n",
       "      <td>Kihuen</td>\n",
       "      <td>Ruben</td>\n",
       "      <td>1980-04-25</td>\n",
       "      <td>M</td>\n",
       "      <td>rep</td>\n",
       "      <td>NV</td>\n",
       "      <td>Democrat</td>\n",
       "    </tr>\n",
       "    <tr>\n",
       "      <th>11967</th>\n",
       "      <td>Faso</td>\n",
       "      <td>John</td>\n",
       "      <td>1952-08-25</td>\n",
       "      <td>M</td>\n",
       "      <td>rep</td>\n",
       "      <td>NY</td>\n",
       "      <td>Republican</td>\n",
       "    </tr>\n",
       "    <tr>\n",
       "      <th>11968</th>\n",
       "      <td>Tenney</td>\n",
       "      <td>Claudia</td>\n",
       "      <td>1961-02-04</td>\n",
       "      <td>F</td>\n",
       "      <td>rep</td>\n",
       "      <td>NY</td>\n",
       "      <td>Republican</td>\n",
       "    </tr>\n",
       "    <tr>\n",
       "      <th>11969</th>\n",
       "      <td>Taylor</td>\n",
       "      <td>Scott</td>\n",
       "      <td>1979-06-27</td>\n",
       "      <td>M</td>\n",
       "      <td>rep</td>\n",
       "      <td>VA</td>\n",
       "      <td>Republican</td>\n",
       "    </tr>\n",
       "    <tr>\n",
       "      <th>11970</th>\n",
       "      <td>Garrett</td>\n",
       "      <td>Thomas</td>\n",
       "      <td>1972-03-27</td>\n",
       "      <td>M</td>\n",
       "      <td>rep</td>\n",
       "      <td>VA</td>\n",
       "      <td>Republican</td>\n",
       "    </tr>\n",
       "    <tr>\n",
       "      <th>11971</th>\n",
       "      <td>Handel</td>\n",
       "      <td>Karen</td>\n",
       "      <td>1962-04-18</td>\n",
       "      <td>F</td>\n",
       "      <td>rep</td>\n",
       "      <td>GA</td>\n",
       "      <td>Republican</td>\n",
       "    </tr>\n",
       "    <tr>\n",
       "      <th>11972</th>\n",
       "      <td>Jones</td>\n",
       "      <td>Brenda</td>\n",
       "      <td>1959-10-24</td>\n",
       "      <td>F</td>\n",
       "      <td>rep</td>\n",
       "      <td>MI</td>\n",
       "      <td>Democrat</td>\n",
       "    </tr>\n",
       "    <tr>\n",
       "      <th>11973</th>\n",
       "      <td>Marino</td>\n",
       "      <td>Tom</td>\n",
       "      <td>1952-08-15</td>\n",
       "      <td>M</td>\n",
       "      <td>rep</td>\n",
       "      <td>PA</td>\n",
       "      <td>Republican</td>\n",
       "    </tr>\n",
       "    <tr>\n",
       "      <th>11974</th>\n",
       "      <td>Jones</td>\n",
       "      <td>Walter</td>\n",
       "      <td>1943-02-10</td>\n",
       "      <td>M</td>\n",
       "      <td>rep</td>\n",
       "      <td>NC</td>\n",
       "      <td>Republican</td>\n",
       "    </tr>\n",
       "  </tbody>\n",
       "</table>\n",
       "</div>"
      ],
      "text/plain": [
       "      last_name first_name   birthday gender type state       party\n",
       "11965     Lewis      Jason 1955-09-23      M  rep    MN  Republican\n",
       "11966    Kihuen      Ruben 1980-04-25      M  rep    NV    Democrat\n",
       "11967      Faso       John 1952-08-25      M  rep    NY  Republican\n",
       "11968    Tenney    Claudia 1961-02-04      F  rep    NY  Republican\n",
       "11969    Taylor      Scott 1979-06-27      M  rep    VA  Republican\n",
       "11970   Garrett     Thomas 1972-03-27      M  rep    VA  Republican\n",
       "11971    Handel      Karen 1962-04-18      F  rep    GA  Republican\n",
       "11972     Jones     Brenda 1959-10-24      F  rep    MI    Democrat\n",
       "11973    Marino        Tom 1952-08-15      M  rep    PA  Republican\n",
       "11974     Jones     Walter 1943-02-10      M  rep    NC  Republican"
      ]
     },
     "execution_count": 496,
     "metadata": {},
     "output_type": "execute_result"
    }
   ],
   "source": [
    "# define dtypes, use categorical dtype\n",
    "\n",
    "dtypes = {\n",
    "    \"first_name\": \"category\",\n",
    "    \"last_name\": \"category\",\n",
    "    \"gender\": \"category\",\n",
    "    \"type\": \"category\",\n",
    "    \"state\": \"category\",\n",
    "    \"party\": \"category\",\n",
    "}\n",
    "\n",
    "print(list(dtypes))\n",
    "\n",
    "df = pd.read_csv(\n",
    "    \"../data/groupby-data/legislators-historical.csv\",\n",
    "    dtype=dtypes,\n",
    "    usecols=list(dtypes) + [\"birthday\"], # add birthday column\n",
    "    parse_dates=[\"birthday\"]\n",
    ")\n",
    "\n",
    "# check the last 10 records\n",
    "df.tail(10)"
   ]
  },
  {
   "cell_type": "code",
   "execution_count": 497,
   "metadata": {},
   "outputs": [
    {
     "data": {
      "text/plain": [
       "last_name           category\n",
       "first_name          category\n",
       "birthday      datetime64[ns]\n",
       "gender              category\n",
       "type                category\n",
       "state               category\n",
       "party               category\n",
       "dtype: object"
      ]
     },
     "execution_count": 497,
     "metadata": {},
     "output_type": "execute_result"
    }
   ],
   "source": [
    "df.dtypes"
   ]
  },
  {
   "attachments": {},
   "cell_type": "markdown",
   "metadata": {},
   "source": [
    "[BACK TO TOP][def]\n",
    "\n",
    "[def]:#-GroupBy-Operations-on-US-Congress-Dataset "
   ]
  },
  {
   "attachments": {},
   "cell_type": "markdown",
   "metadata": {},
   "source": [
    "## 4.Display the count of Congressional members on a state-by-state basis."
   ]
  },
  {
   "attachments": {},
   "cell_type": "markdown",
   "metadata": {},
   "source": [
    "```sql\n",
    "SELECT state, COUNT(last_name)\n",
    "FROM df\n",
    "GROUP BY state\n",
    "ORDER BY state\n",
    "```"
   ]
  },
  {
   "attachments": {},
   "cell_type": "markdown",
   "metadata": {},
   "source": [
    "\n",
    "<div align=\"center\">\n",
    "    <code>\n",
    "        <pre>\n",
    "            <strong>SQL QUERY: </strong>\n",
    "        SELECT state, COUNT(last_name)\n",
    "        FROM df\n",
    "        GROUP BY state\n",
    "        ORDER BY state\n",
    "        </pre>\n",
    "    </code>\n",
    "\n",
    "</div>"
   ]
  },
  {
   "cell_type": "code",
   "execution_count": 498,
   "metadata": {},
   "outputs": [
    {
     "data": {
      "text/plain": [
       "state\n",
       "AK      16\n",
       "AL     206\n",
       "AR     117\n",
       "AS       2\n",
       "AZ      48\n",
       "CA     361\n",
       "CO      90\n",
       "CT     240\n",
       "DC       2\n",
       "DE      97\n",
       "DK       9\n",
       "FL     155\n",
       "GA     309\n",
       "GU       4\n",
       "HI      23\n",
       "IA     202\n",
       "ID      59\n",
       "IL     486\n",
       "IN     341\n",
       "KS     141\n",
       "KY     373\n",
       "LA     197\n",
       "MA     426\n",
       "MD     305\n",
       "ME     175\n",
       "MI     294\n",
       "MN     160\n",
       "MO     333\n",
       "MS     155\n",
       "MT      52\n",
       "NC     354\n",
       "ND      44\n",
       "NE     127\n",
       "NH     181\n",
       "NJ     359\n",
       "NM      54\n",
       "NV      56\n",
       "NY    1461\n",
       "OH     674\n",
       "OK      92\n",
       "OL       2\n",
       "OR      89\n",
       "PA    1053\n",
       "PI      13\n",
       "PR      19\n",
       "RI     107\n",
       "SC     251\n",
       "SD      51\n",
       "TN     299\n",
       "TX     256\n",
       "UT      53\n",
       "VA     432\n",
       "VI       4\n",
       "VT     115\n",
       "WA      95\n",
       "WI     196\n",
       "WV     120\n",
       "WY      40\n",
       "Name: last_name, dtype: int64"
      ]
     },
     "execution_count": 498,
     "metadata": {},
     "output_type": "execute_result"
    }
   ],
   "source": [
    "df.groupby('state').last_name\\\n",
    "    .count() \\\n",
    "    .sort_index()"
   ]
  },
  {
   "cell_type": "code",
   "execution_count": 499,
   "metadata": {},
   "outputs": [
    {
     "data": {
      "text/plain": [
       "<AxesSubplot:xlabel='state'>"
      ]
     },
     "execution_count": 499,
     "metadata": {},
     "output_type": "execute_result"
    },
    {
     "data": {
      "image/png": "[encoded data removed]",
      "text/plain": [
       "<Figure size 432x288 with 1 Axes>"
      ]
     },
     "metadata": {
      "needs_background": "light"
     },
     "output_type": "display_data"
    }
   ],
   "source": [
    "df.groupby('state').last_name\\\n",
    "    .count() \\\n",
    "    .sort_values(ascending=False) \\\n",
    "    .plot(kind='bar')"
   ]
  },
  {
   "attachments": {},
   "cell_type": "markdown",
   "metadata": {},
   "source": [
    "[BACK TO TOP][def]\n",
    "\n",
    "[def]: #-GroupBy-Operations-on-US-Congress-Dataset "
   ]
  },
  {
   "attachments": {},
   "cell_type": "markdown",
   "metadata": {},
   "source": [
    "### 5.Display the count of Congressional members grouped by their gender on a state-by-state basis."
   ]
  },
  {
   "attachments": {},
   "cell_type": "markdown",
   "metadata": {},
   "source": [
    "\n",
    "<div align=\"center\">\n",
    "    <code>\n",
    "        <pre>\n",
    "            <strong>SQL QUERY: </strong>\n",
    "            <i>\n",
    "        SELECT state, gender, COUNT(last_name)\n",
    "        FROM df\n",
    "        GROUP BY state, gender\n",
    "        ORDER BY state, gender;\n",
    "        </pre>\n",
    "    </code>\n",
    "\n",
    "</div>"
   ]
  },
  {
   "cell_type": "code",
   "execution_count": 500,
   "metadata": {},
   "outputs": [
    {
     "data": {
      "text/plain": [
       "state  gender\n",
       "AK     F           0\n",
       "       M          16\n",
       "AL     F           3\n",
       "       M         203\n",
       "AR     F           5\n",
       "       M         112\n",
       "AS     F           0\n",
       "       M           2\n",
       "AZ     F           3\n",
       "       M          45\n",
       "Name: last_name, dtype: int64"
      ]
     },
     "execution_count": 500,
     "metadata": {},
     "output_type": "execute_result"
    }
   ],
   "source": [
    "df.groupby(['state', 'gender']).last_name.count().head(10)"
   ]
  },
  {
   "attachments": {},
   "cell_type": "markdown",
   "metadata": {},
   "source": [
    "### i.Compare column count in Pandas vs SQL."
   ]
  },
  {
   "cell_type": "code",
   "execution_count": 501,
   "metadata": {},
   "outputs": [
    {
     "data": {
      "text/plain": [
       "pandas.core.series.Series"
      ]
     },
     "execution_count": 501,
     "metadata": {},
     "output_type": "execute_result"
    }
   ],
   "source": [
    "# sql query results in three columns, while the pandas result in a MultiIndex column by default\n",
    "n_by_state_gender = df.groupby(['state', 'gender']).last_name.count()\n",
    "type(n_by_state_gender)"
   ]
  },
  {
   "cell_type": "code",
   "execution_count": 502,
   "metadata": {},
   "outputs": [
    {
     "data": {
      "text/plain": [
       "pandas.core.indexes.multi.MultiIndex"
      ]
     },
     "execution_count": 502,
     "metadata": {},
     "output_type": "execute_result"
    }
   ],
   "source": [
    "type(n_by_state_gender.index)\n"
   ]
  },
  {
   "cell_type": "code",
   "execution_count": 503,
   "metadata": {},
   "outputs": [
    {
     "data": {
      "text/plain": [
       "MultiIndex([('AK', 'F'),\n",
       "            ('AK', 'M'),\n",
       "            ('AL', 'F'),\n",
       "            ('AL', 'M'),\n",
       "            ('AR', 'F')],\n",
       "           names=['state', 'gender'])"
      ]
     },
     "execution_count": 503,
     "metadata": {},
     "output_type": "execute_result"
    }
   ],
   "source": [
    "# print the first 5 index values\n",
    "n_by_state_gender.index[0:5]"
   ]
  },
  {
   "attachments": {},
   "cell_type": "markdown",
   "metadata": {},
   "source": [
    "#### ii.Emulate SQL output by changing as_index default value."
   ]
  },
  {
   "cell_type": "code",
   "execution_count": 504,
   "metadata": {},
   "outputs": [
    {
     "data": {
      "text/html": [
       "<div>\n",
       "<style scoped>\n",
       "    .dataframe tbody tr th:only-of-type {\n",
       "        vertical-align: middle;\n",
       "    }\n",
       "\n",
       "    .dataframe tbody tr th {\n",
       "        vertical-align: top;\n",
       "    }\n",
       "\n",
       "    .dataframe thead th {\n",
       "        text-align: right;\n",
       "    }\n",
       "</style>\n",
       "<table border=\"1\" class=\"dataframe\">\n",
       "  <thead>\n",
       "    <tr style=\"text-align: right;\">\n",
       "      <th></th>\n",
       "      <th>state</th>\n",
       "      <th>gender</th>\n",
       "      <th>last_name</th>\n",
       "    </tr>\n",
       "  </thead>\n",
       "  <tbody>\n",
       "    <tr>\n",
       "      <th>0</th>\n",
       "      <td>AK</td>\n",
       "      <td>F</td>\n",
       "      <td>0</td>\n",
       "    </tr>\n",
       "    <tr>\n",
       "      <th>1</th>\n",
       "      <td>AK</td>\n",
       "      <td>M</td>\n",
       "      <td>16</td>\n",
       "    </tr>\n",
       "    <tr>\n",
       "      <th>2</th>\n",
       "      <td>AL</td>\n",
       "      <td>F</td>\n",
       "      <td>3</td>\n",
       "    </tr>\n",
       "    <tr>\n",
       "      <th>3</th>\n",
       "      <td>AL</td>\n",
       "      <td>M</td>\n",
       "      <td>203</td>\n",
       "    </tr>\n",
       "    <tr>\n",
       "      <th>4</th>\n",
       "      <td>AR</td>\n",
       "      <td>F</td>\n",
       "      <td>5</td>\n",
       "    </tr>\n",
       "    <tr>\n",
       "      <th>...</th>\n",
       "      <td>...</td>\n",
       "      <td>...</td>\n",
       "      <td>...</td>\n",
       "    </tr>\n",
       "    <tr>\n",
       "      <th>111</th>\n",
       "      <td>WI</td>\n",
       "      <td>M</td>\n",
       "      <td>196</td>\n",
       "    </tr>\n",
       "    <tr>\n",
       "      <th>112</th>\n",
       "      <td>WV</td>\n",
       "      <td>F</td>\n",
       "      <td>1</td>\n",
       "    </tr>\n",
       "    <tr>\n",
       "      <th>113</th>\n",
       "      <td>WV</td>\n",
       "      <td>M</td>\n",
       "      <td>119</td>\n",
       "    </tr>\n",
       "    <tr>\n",
       "      <th>114</th>\n",
       "      <td>WY</td>\n",
       "      <td>F</td>\n",
       "      <td>2</td>\n",
       "    </tr>\n",
       "    <tr>\n",
       "      <th>115</th>\n",
       "      <td>WY</td>\n",
       "      <td>M</td>\n",
       "      <td>38</td>\n",
       "    </tr>\n",
       "  </tbody>\n",
       "</table>\n",
       "<p>116 rows × 3 columns</p>\n",
       "</div>"
      ],
      "text/plain": [
       "    state gender  last_name\n",
       "0      AK      F          0\n",
       "1      AK      M         16\n",
       "2      AL      F          3\n",
       "3      AL      M        203\n",
       "4      AR      F          5\n",
       "..    ...    ...        ...\n",
       "111    WI      M        196\n",
       "112    WV      F          1\n",
       "113    WV      M        119\n",
       "114    WY      F          2\n",
       "115    WY      M         38\n",
       "\n",
       "[116 rows x 3 columns]"
      ]
     },
     "execution_count": 504,
     "metadata": {},
     "output_type": "execute_result"
    }
   ],
   "source": [
    "# this will produce a DataFrame with three columns and a RangeIndex \n",
    "# instead of a Series with a MultiIndex\n",
    "df.groupby(['state', 'gender'], \n",
    "           as_index=False) \\\n",
    "    .last_name \\\n",
    "    .count()"
   ]
  },
  {
   "attachments": {},
   "cell_type": "markdown",
   "metadata": {},
   "source": [
    "### iii.Compare ordering of results."
   ]
  },
  {
   "cell_type": "code",
   "execution_count": 505,
   "metadata": {},
   "outputs": [
    {
     "data": {
      "text/html": [
       "<div>\n",
       "<style scoped>\n",
       "    .dataframe tbody tr th:only-of-type {\n",
       "        vertical-align: middle;\n",
       "    }\n",
       "\n",
       "    .dataframe tbody tr th {\n",
       "        vertical-align: top;\n",
       "    }\n",
       "\n",
       "    .dataframe thead th {\n",
       "        text-align: right;\n",
       "    }\n",
       "</style>\n",
       "<table border=\"1\" class=\"dataframe\">\n",
       "  <thead>\n",
       "    <tr style=\"text-align: right;\">\n",
       "      <th></th>\n",
       "      <th>state</th>\n",
       "      <th>gender</th>\n",
       "      <th>last_name</th>\n",
       "    </tr>\n",
       "  </thead>\n",
       "  <tbody>\n",
       "    <tr>\n",
       "      <th>0</th>\n",
       "      <td>DE</td>\n",
       "      <td>M</td>\n",
       "      <td>97</td>\n",
       "    </tr>\n",
       "    <tr>\n",
       "      <th>1</th>\n",
       "      <td>DE</td>\n",
       "      <td>F</td>\n",
       "      <td>0</td>\n",
       "    </tr>\n",
       "    <tr>\n",
       "      <th>2</th>\n",
       "      <td>VA</td>\n",
       "      <td>M</td>\n",
       "      <td>428</td>\n",
       "    </tr>\n",
       "    <tr>\n",
       "      <th>3</th>\n",
       "      <td>VA</td>\n",
       "      <td>F</td>\n",
       "      <td>4</td>\n",
       "    </tr>\n",
       "    <tr>\n",
       "      <th>4</th>\n",
       "      <td>SC</td>\n",
       "      <td>M</td>\n",
       "      <td>246</td>\n",
       "    </tr>\n",
       "    <tr>\n",
       "      <th>...</th>\n",
       "      <td>...</td>\n",
       "      <td>...</td>\n",
       "      <td>...</td>\n",
       "    </tr>\n",
       "    <tr>\n",
       "      <th>111</th>\n",
       "      <td>VI</td>\n",
       "      <td>F</td>\n",
       "      <td>1</td>\n",
       "    </tr>\n",
       "    <tr>\n",
       "      <th>112</th>\n",
       "      <td>GU</td>\n",
       "      <td>M</td>\n",
       "      <td>3</td>\n",
       "    </tr>\n",
       "    <tr>\n",
       "      <th>113</th>\n",
       "      <td>GU</td>\n",
       "      <td>F</td>\n",
       "      <td>1</td>\n",
       "    </tr>\n",
       "    <tr>\n",
       "      <th>114</th>\n",
       "      <td>AS</td>\n",
       "      <td>M</td>\n",
       "      <td>2</td>\n",
       "    </tr>\n",
       "    <tr>\n",
       "      <th>115</th>\n",
       "      <td>AS</td>\n",
       "      <td>F</td>\n",
       "      <td>0</td>\n",
       "    </tr>\n",
       "  </tbody>\n",
       "</table>\n",
       "<p>116 rows × 3 columns</p>\n",
       "</div>"
      ],
      "text/plain": [
       "    state gender  last_name\n",
       "0      DE      M         97\n",
       "1      DE      F          0\n",
       "2      VA      M        428\n",
       "3      VA      F          4\n",
       "4      SC      M        246\n",
       "..    ...    ...        ...\n",
       "111    VI      F          1\n",
       "112    GU      M          3\n",
       "113    GU      F          1\n",
       "114    AS      M          2\n",
       "115    AS      F          0\n",
       "\n",
       "[116 rows x 3 columns]"
      ]
     },
     "execution_count": 505,
     "metadata": {},
     "output_type": "execute_result"
    }
   ],
   "source": [
    "# SQL requires ORDER BY for sorted results\n",
    "# while Pandas groupby() sorts by default\n",
    "\n",
    "# this will return results in an unsorted order\n",
    "df.groupby(['state', 'gender'], \n",
    "           as_index=False,\n",
    "           sort=False) \\\n",
    "        .last_name \\\n",
    "        .count() "
   ]
  },
  {
   "attachments": {},
   "cell_type": "markdown",
   "metadata": {},
   "source": [
    "[BACK TO TOP][def]\n",
    "\n",
    "[def]: #-GroupBy-Operations-on-US-Congress-Dataset "
   ]
  },
  {
   "attachments": {},
   "cell_type": "markdown",
   "metadata": {},
   "source": [
    "### 6.Explore DataFrameGroupBy Object."
   ]
  },
  {
   "cell_type": "code",
   "execution_count": 506,
   "metadata": {},
   "outputs": [
    {
     "data": {
      "text/plain": [
       "<pandas.core.groupby.generic.DataFrameGroupBy object at 0x29c4eb400>"
      ]
     },
     "execution_count": 506,
     "metadata": {},
     "output_type": "execute_result"
    }
   ],
   "source": [
    "# DataFrameGroupBy object is lazy in nature.\n",
    "by_state = df.groupby('state')\n",
    "by_state"
   ]
  },
  {
   "attachments": {},
   "cell_type": "markdown",
   "metadata": {},
   "source": [
    "### i.Split-apply-combine."
   ]
  },
  {
   "attachments": {},
   "cell_type": "markdown",
   "metadata": {},
   "source": [
    "- Frequently used chain of three steps:\n",
    "    - `Split` a table into groups.\n",
    "    - `Apply` some operations to each of those smaller tables.\n",
    "    - `Combine` the results."
   ]
  },
  {
   "cell_type": "code",
   "execution_count": 507,
   "metadata": {},
   "outputs": [
    {
     "name": "stdout",
     "output_type": "stream",
     "text": [
      "First 2 entries for 'AK'\n",
      "--------------------------\n",
      "     last_name first_name   birthday gender type state        party\n",
      "6619    Waskey      Frank 1875-04-20      M  rep    AK     Democrat\n",
      "6647      Cale     Thomas 1848-09-17      M  rep    AK  Independent\n",
      "\n",
      "First 2 entries for 'AL'\n",
      "--------------------------\n",
      "    last_name first_name   birthday gender type state       party\n",
      "912   Crowell       John 1780-09-18      M  rep    AL  Republican\n",
      "991    Walker       John 1783-08-12      M  sen    AL  Republican\n",
      "\n",
      "First 2 entries for 'AR'\n",
      "--------------------------\n",
      "     last_name first_name   birthday gender type state party\n",
      "1001     Bates      James 1788-08-25      M  rep    AR   NaN\n",
      "1279    Conway      Henry 1793-03-18      M  rep    AR   NaN\n",
      "\n",
      "First 2 entries for 'AS'\n",
      "--------------------------\n",
      "          last_name first_name   birthday gender type state     party\n",
      "10797         Sunia       Fofó 1937-03-13      M  rep    AS  Democrat\n",
      "11755  Faleomavaega        Eni 1943-08-15      M  rep    AS  Democrat\n",
      "\n"
     ]
    }
   ],
   "source": [
    "counter = 0\n",
    "for state, frame in by_state:\n",
    "    print(f\"First 2 entries for {state!r}\")\n",
    "    print('--------------------------')\n",
    "    print(frame.head(2), end=\"\\n\\n\")\n",
    "    counter += 1\n",
    "    if counter > 3:\n",
    "        break"
   ]
  },
  {
   "cell_type": "code",
   "execution_count": 508,
   "metadata": {},
   "outputs": [
    {
     "data": {
      "text/plain": [
       "Int64Index([    4,    19,    21,    27,    38,    57,    69,    76,    84,\n",
       "               88,\n",
       "            ...\n",
       "            11842, 11866, 11875, 11877, 11887, 11891, 11932, 11945, 11959,\n",
       "            11973],\n",
       "           dtype='int64', length=1053)"
      ]
     },
     "execution_count": 508,
     "metadata": {},
     "output_type": "execute_result"
    }
   ],
   "source": [
    "# groups method returns the index values at which the state equals to \"PA\"\n",
    "by_state.groups['PA']"
   ]
  },
  {
   "cell_type": "code",
   "execution_count": 509,
   "metadata": {},
   "outputs": [
    {
     "data": {
      "text/html": [
       "<div>\n",
       "<style scoped>\n",
       "    .dataframe tbody tr th:only-of-type {\n",
       "        vertical-align: middle;\n",
       "    }\n",
       "\n",
       "    .dataframe tbody tr th {\n",
       "        vertical-align: top;\n",
       "    }\n",
       "\n",
       "    .dataframe thead th {\n",
       "        text-align: right;\n",
       "    }\n",
       "</style>\n",
       "<table border=\"1\" class=\"dataframe\">\n",
       "  <thead>\n",
       "    <tr style=\"text-align: right;\">\n",
       "      <th></th>\n",
       "      <th>last_name</th>\n",
       "      <th>first_name</th>\n",
       "      <th>birthday</th>\n",
       "      <th>gender</th>\n",
       "      <th>type</th>\n",
       "      <th>state</th>\n",
       "      <th>party</th>\n",
       "    </tr>\n",
       "  </thead>\n",
       "  <tbody>\n",
       "    <tr>\n",
       "      <th>4</th>\n",
       "      <td>Clymer</td>\n",
       "      <td>George</td>\n",
       "      <td>1739-03-16</td>\n",
       "      <td>M</td>\n",
       "      <td>rep</td>\n",
       "      <td>PA</td>\n",
       "      <td>NaN</td>\n",
       "    </tr>\n",
       "    <tr>\n",
       "      <th>19</th>\n",
       "      <td>Maclay</td>\n",
       "      <td>William</td>\n",
       "      <td>1737-07-20</td>\n",
       "      <td>M</td>\n",
       "      <td>sen</td>\n",
       "      <td>PA</td>\n",
       "      <td>Anti-Administration</td>\n",
       "    </tr>\n",
       "    <tr>\n",
       "      <th>21</th>\n",
       "      <td>Morris</td>\n",
       "      <td>Robert</td>\n",
       "      <td>1734-01-20</td>\n",
       "      <td>M</td>\n",
       "      <td>sen</td>\n",
       "      <td>PA</td>\n",
       "      <td>Pro-Administration</td>\n",
       "    </tr>\n",
       "  </tbody>\n",
       "</table>\n",
       "</div>"
      ],
      "text/plain": [
       "   last_name first_name   birthday gender type state                party\n",
       "4     Clymer     George 1739-03-16      M  rep    PA                  NaN\n",
       "19    Maclay    William 1737-07-20      M  sen    PA  Anti-Administration\n",
       "21    Morris     Robert 1734-01-20      M  sen    PA   Pro-Administration"
      ]
     },
     "execution_count": 509,
     "metadata": {},
     "output_type": "execute_result"
    }
   ],
   "source": [
    "# lets verify\n",
    "df.iloc[[4,19,21]]"
   ]
  },
  {
   "cell_type": "code",
   "execution_count": 510,
   "metadata": {},
   "outputs": [
    {
     "data": {
      "text/html": [
       "<div>\n",
       "<style scoped>\n",
       "    .dataframe tbody tr th:only-of-type {\n",
       "        vertical-align: middle;\n",
       "    }\n",
       "\n",
       "    .dataframe tbody tr th {\n",
       "        vertical-align: top;\n",
       "    }\n",
       "\n",
       "    .dataframe thead th {\n",
       "        text-align: right;\n",
       "    }\n",
       "</style>\n",
       "<table border=\"1\" class=\"dataframe\">\n",
       "  <thead>\n",
       "    <tr style=\"text-align: right;\">\n",
       "      <th></th>\n",
       "      <th>last_name</th>\n",
       "      <th>first_name</th>\n",
       "      <th>birthday</th>\n",
       "      <th>gender</th>\n",
       "      <th>type</th>\n",
       "      <th>state</th>\n",
       "      <th>party</th>\n",
       "    </tr>\n",
       "  </thead>\n",
       "  <tbody>\n",
       "    <tr>\n",
       "      <th>4</th>\n",
       "      <td>Clymer</td>\n",
       "      <td>George</td>\n",
       "      <td>1739-03-16</td>\n",
       "      <td>M</td>\n",
       "      <td>rep</td>\n",
       "      <td>PA</td>\n",
       "      <td>NaN</td>\n",
       "    </tr>\n",
       "    <tr>\n",
       "      <th>19</th>\n",
       "      <td>Maclay</td>\n",
       "      <td>William</td>\n",
       "      <td>1737-07-20</td>\n",
       "      <td>M</td>\n",
       "      <td>sen</td>\n",
       "      <td>PA</td>\n",
       "      <td>Anti-Administration</td>\n",
       "    </tr>\n",
       "    <tr>\n",
       "      <th>21</th>\n",
       "      <td>Morris</td>\n",
       "      <td>Robert</td>\n",
       "      <td>1734-01-20</td>\n",
       "      <td>M</td>\n",
       "      <td>sen</td>\n",
       "      <td>PA</td>\n",
       "      <td>Pro-Administration</td>\n",
       "    </tr>\n",
       "    <tr>\n",
       "      <th>27</th>\n",
       "      <td>Wynkoop</td>\n",
       "      <td>Henry</td>\n",
       "      <td>1737-03-02</td>\n",
       "      <td>M</td>\n",
       "      <td>rep</td>\n",
       "      <td>PA</td>\n",
       "      <td>NaN</td>\n",
       "    </tr>\n",
       "    <tr>\n",
       "      <th>38</th>\n",
       "      <td>Jacobs</td>\n",
       "      <td>Israel</td>\n",
       "      <td>1726-06-09</td>\n",
       "      <td>M</td>\n",
       "      <td>rep</td>\n",
       "      <td>PA</td>\n",
       "      <td>NaN</td>\n",
       "    </tr>\n",
       "  </tbody>\n",
       "</table>\n",
       "</div>"
      ],
      "text/plain": [
       "   last_name first_name   birthday gender type state                party\n",
       "4     Clymer     George 1739-03-16      M  rep    PA                  NaN\n",
       "19    Maclay    William 1737-07-20      M  sen    PA  Anti-Administration\n",
       "21    Morris     Robert 1734-01-20      M  sen    PA   Pro-Administration\n",
       "27   Wynkoop      Henry 1737-03-02      M  rep    PA                  NaN\n",
       "38    Jacobs     Israel 1726-06-09      M  rep    PA                  NaN"
      ]
     },
     "execution_count": 510,
     "metadata": {},
     "output_type": "execute_result"
    }
   ],
   "source": [
    "# as an alternative to df.loc, get_group returns the sub-table\n",
    "by_state.get_group('PA').head()"
   ]
  },
  {
   "cell_type": "code",
   "execution_count": 511,
   "metadata": {},
   "outputs": [
    {
     "data": {
      "text/html": [
       "<div>\n",
       "<style scoped>\n",
       "    .dataframe tbody tr th:only-of-type {\n",
       "        vertical-align: middle;\n",
       "    }\n",
       "\n",
       "    .dataframe tbody tr th {\n",
       "        vertical-align: top;\n",
       "    }\n",
       "\n",
       "    .dataframe thead th {\n",
       "        text-align: right;\n",
       "    }\n",
       "</style>\n",
       "<table border=\"1\" class=\"dataframe\">\n",
       "  <thead>\n",
       "    <tr style=\"text-align: right;\">\n",
       "      <th></th>\n",
       "      <th>last_name</th>\n",
       "      <th>first_name</th>\n",
       "      <th>birthday</th>\n",
       "      <th>gender</th>\n",
       "      <th>type</th>\n",
       "      <th>state</th>\n",
       "      <th>party</th>\n",
       "    </tr>\n",
       "  </thead>\n",
       "  <tbody>\n",
       "    <tr>\n",
       "      <th>4</th>\n",
       "      <td>Clymer</td>\n",
       "      <td>George</td>\n",
       "      <td>1739-03-16</td>\n",
       "      <td>M</td>\n",
       "      <td>rep</td>\n",
       "      <td>PA</td>\n",
       "      <td>NaN</td>\n",
       "    </tr>\n",
       "    <tr>\n",
       "      <th>19</th>\n",
       "      <td>Maclay</td>\n",
       "      <td>William</td>\n",
       "      <td>1737-07-20</td>\n",
       "      <td>M</td>\n",
       "      <td>sen</td>\n",
       "      <td>PA</td>\n",
       "      <td>Anti-Administration</td>\n",
       "    </tr>\n",
       "    <tr>\n",
       "      <th>21</th>\n",
       "      <td>Morris</td>\n",
       "      <td>Robert</td>\n",
       "      <td>1734-01-20</td>\n",
       "      <td>M</td>\n",
       "      <td>sen</td>\n",
       "      <td>PA</td>\n",
       "      <td>Pro-Administration</td>\n",
       "    </tr>\n",
       "    <tr>\n",
       "      <th>27</th>\n",
       "      <td>Wynkoop</td>\n",
       "      <td>Henry</td>\n",
       "      <td>1737-03-02</td>\n",
       "      <td>M</td>\n",
       "      <td>rep</td>\n",
       "      <td>PA</td>\n",
       "      <td>NaN</td>\n",
       "    </tr>\n",
       "    <tr>\n",
       "      <th>38</th>\n",
       "      <td>Jacobs</td>\n",
       "      <td>Israel</td>\n",
       "      <td>1726-06-09</td>\n",
       "      <td>M</td>\n",
       "      <td>rep</td>\n",
       "      <td>PA</td>\n",
       "      <td>NaN</td>\n",
       "    </tr>\n",
       "  </tbody>\n",
       "</table>\n",
       "</div>"
      ],
      "text/plain": [
       "   last_name first_name   birthday gender type state                party\n",
       "4     Clymer     George 1739-03-16      M  rep    PA                  NaN\n",
       "19    Maclay    William 1737-07-20      M  sen    PA  Anti-Administration\n",
       "21    Morris     Robert 1734-01-20      M  sen    PA   Pro-Administration\n",
       "27   Wynkoop      Henry 1737-03-02      M  rep    PA                  NaN\n",
       "38    Jacobs     Israel 1726-06-09      M  rep    PA                  NaN"
      ]
     },
     "execution_count": 511,
     "metadata": {},
     "output_type": "execute_result"
    }
   ],
   "source": [
    "# using df.loc \n",
    "df.loc[df.state == 'PA'].head()"
   ]
  },
  {
   "attachments": {},
   "cell_type": "markdown",
   "metadata": {},
   "source": [
    "- Apply step applies the same operation to every sub-table that the splitting stage produces."
   ]
  },
  {
   "cell_type": "code",
   "execution_count": 512,
   "metadata": {},
   "outputs": [
    {
     "data": {
      "text/plain": [
       "'AK'"
      ]
     },
     "execution_count": 512,
     "metadata": {},
     "output_type": "execute_result"
    }
   ],
   "source": [
    "# grab the initial U.S. state and the DataFrame with next()\n",
    "state, frame = next(iter(by_state))\n",
    "state"
   ]
  },
  {
   "cell_type": "code",
   "execution_count": 513,
   "metadata": {},
   "outputs": [
    {
     "data": {
      "text/html": [
       "<div>\n",
       "<style scoped>\n",
       "    .dataframe tbody tr th:only-of-type {\n",
       "        vertical-align: middle;\n",
       "    }\n",
       "\n",
       "    .dataframe tbody tr th {\n",
       "        vertical-align: top;\n",
       "    }\n",
       "\n",
       "    .dataframe thead th {\n",
       "        text-align: right;\n",
       "    }\n",
       "</style>\n",
       "<table border=\"1\" class=\"dataframe\">\n",
       "  <thead>\n",
       "    <tr style=\"text-align: right;\">\n",
       "      <th></th>\n",
       "      <th>last_name</th>\n",
       "      <th>first_name</th>\n",
       "      <th>birthday</th>\n",
       "      <th>gender</th>\n",
       "      <th>type</th>\n",
       "      <th>state</th>\n",
       "      <th>party</th>\n",
       "    </tr>\n",
       "  </thead>\n",
       "  <tbody>\n",
       "    <tr>\n",
       "      <th>6619</th>\n",
       "      <td>Waskey</td>\n",
       "      <td>Frank</td>\n",
       "      <td>1875-04-20</td>\n",
       "      <td>M</td>\n",
       "      <td>rep</td>\n",
       "      <td>AK</td>\n",
       "      <td>Democrat</td>\n",
       "    </tr>\n",
       "    <tr>\n",
       "      <th>6647</th>\n",
       "      <td>Cale</td>\n",
       "      <td>Thomas</td>\n",
       "      <td>1848-09-17</td>\n",
       "      <td>M</td>\n",
       "      <td>rep</td>\n",
       "      <td>AK</td>\n",
       "      <td>Independent</td>\n",
       "    </tr>\n",
       "    <tr>\n",
       "      <th>7442</th>\n",
       "      <td>Grigsby</td>\n",
       "      <td>George</td>\n",
       "      <td>1874-12-02</td>\n",
       "      <td>M</td>\n",
       "      <td>rep</td>\n",
       "      <td>AK</td>\n",
       "      <td>NaN</td>\n",
       "    </tr>\n",
       "    <tr>\n",
       "      <th>7501</th>\n",
       "      <td>Sulzer</td>\n",
       "      <td>Charles</td>\n",
       "      <td>1879-02-24</td>\n",
       "      <td>M</td>\n",
       "      <td>rep</td>\n",
       "      <td>AK</td>\n",
       "      <td>NaN</td>\n",
       "    </tr>\n",
       "    <tr>\n",
       "      <th>8039</th>\n",
       "      <td>Sutherland</td>\n",
       "      <td>Daniel</td>\n",
       "      <td>1869-04-17</td>\n",
       "      <td>M</td>\n",
       "      <td>rep</td>\n",
       "      <td>AK</td>\n",
       "      <td>Republican</td>\n",
       "    </tr>\n",
       "  </tbody>\n",
       "</table>\n",
       "</div>"
      ],
      "text/plain": [
       "       last_name first_name   birthday gender type state        party\n",
       "6619      Waskey      Frank 1875-04-20      M  rep    AK     Democrat\n",
       "6647        Cale     Thomas 1848-09-17      M  rep    AK  Independent\n",
       "7442     Grigsby     George 1874-12-02      M  rep    AK          NaN\n",
       "7501      Sulzer    Charles 1879-02-24      M  rep    AK          NaN\n",
       "8039  Sutherland     Daniel 1869-04-17      M  rep    AK   Republican"
      ]
     },
     "execution_count": 513,
     "metadata": {},
     "output_type": "execute_result"
    }
   ],
   "source": [
    "frame.head()"
   ]
  },
  {
   "cell_type": "code",
   "execution_count": 514,
   "metadata": {},
   "outputs": [
    {
     "data": {
      "text/plain": [
       "16"
      ]
     },
     "execution_count": 514,
     "metadata": {},
     "output_type": "execute_result"
    }
   ],
   "source": [
    "frame.last_name.count()"
   ]
  },
  {
   "attachments": {},
   "cell_type": "markdown",
   "metadata": {},
   "source": [
    "[BACK TO TOP][def]\n",
    "\n",
    "[def]: #-GroupBy-Operations-on-US-Congress-Dataset "
   ]
  }
 ],
 "metadata": {
  "kernelspec": {
   "display_name": "Python 3",
   "language": "python",
   "name": "python3"
  },
  "language_info": {
   "codemirror_mode": {
    "name": "ipython",
    "version": 3
   },
   "file_extension": ".py",
   "mimetype": "text/x-python",
   "name": "python",
   "nbconvert_exporter": "python",
   "pygments_lexer": "ipython3",
   "version": "3.10.4"
  },
  "orig_nbformat": 4,
  "vscode": {
   "interpreter": {
    "hash": "aee8b7b246df8f9039afb4144a1f6fd8d2ca17a180786b69acc140d282b71a49"
   }
  }
 },
 "nbformat": 4,
 "nbformat_minor": 2
}
