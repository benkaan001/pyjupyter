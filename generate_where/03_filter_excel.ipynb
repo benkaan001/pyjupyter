{
 "cells": [
  {
   "cell_type": "code",
   "execution_count": 1,
   "metadata": {},
   "outputs": [],
   "source": [
    "import pandas as pd"
   ]
  },
  {
   "cell_type": "code",
   "execution_count": 2,
   "metadata": {},
   "outputs": [
    {
     "data": {
      "text/plain": [
       "{'Validation':     SourceSchema   SourceTable\n",
       " 0   AustinSchema   AustinTable\n",
       " 1   DallasSchema   DallasTable\n",
       " 2  HoustonSchema  HoustonTable\n",
       " 3  SanJoseSchema  SanJoseTable,\n",
       " 'AustinTable':           Name  Age      City\n",
       " 0  AustinAlice   30    Austin\n",
       " 1    AustinBob   25    Dallas\n",
       " 2  AustinCarol   35   Houston\n",
       " 3  AustinDavid   40  San Jose\n",
       " 4    AustinEve   28    Austin,\n",
       " 'DallasTable':           Name  Age      City\n",
       " 0  DallasAlice   30    Austin\n",
       " 1    DallasBob   25    Dallas\n",
       " 2  DallasCarol   35   Houston\n",
       " 3  DallasDavid   40  San Jose\n",
       " 4    DallasEve   28    Austin,\n",
       " 'HoustonTable':            Name  Age      City\n",
       " 0  HoustonAlice   30    Austin\n",
       " 1    HoustonBob   25    Dallas\n",
       " 2  HoustonCarol   35   Houston\n",
       " 3  HoustonDavid   40  San Jose\n",
       " 4    HoustonEve   28    Austin,\n",
       " 'SanJoseTable':            Name  Age      City\n",
       " 0  SanJoseAlice   30    Austin\n",
       " 1    SanJoseBob   25    Dallas\n",
       " 2  SanJoseCarol   35   Houston\n",
       " 3  SanJoseDavid   40  San Jose\n",
       " 4    SanJoseEve   28    Austin}"
      ]
     },
     "execution_count": 2,
     "metadata": {},
     "output_type": "execute_result"
    }
   ],
   "source": [
    "# Load the Excel data\n",
    "excel_file_path = 'ValidationReport.xlsx'\n",
    "excel_data = pd.read_excel(excel_file_path, sheet_name=None)\n",
    "excel_data"
   ]
  },
  {
   "cell_type": "code",
   "execution_count": 3,
   "metadata": {},
   "outputs": [
    {
     "data": {
      "text/html": [
       "<div>\n",
       "<style scoped>\n",
       "    .dataframe tbody tr th:only-of-type {\n",
       "        vertical-align: middle;\n",
       "    }\n",
       "\n",
       "    .dataframe tbody tr th {\n",
       "        vertical-align: top;\n",
       "    }\n",
       "\n",
       "    .dataframe thead th {\n",
       "        text-align: right;\n",
       "    }\n",
       "</style>\n",
       "<table border=\"1\" class=\"dataframe\">\n",
       "  <thead>\n",
       "    <tr style=\"text-align: right;\">\n",
       "      <th></th>\n",
       "      <th>SourceSchema</th>\n",
       "      <th>SourceTable</th>\n",
       "    </tr>\n",
       "  </thead>\n",
       "  <tbody>\n",
       "    <tr>\n",
       "      <th>0</th>\n",
       "      <td>AustinSchema</td>\n",
       "      <td>AustinTable</td>\n",
       "    </tr>\n",
       "    <tr>\n",
       "      <th>1</th>\n",
       "      <td>DallasSchema</td>\n",
       "      <td>DallasTable</td>\n",
       "    </tr>\n",
       "    <tr>\n",
       "      <th>2</th>\n",
       "      <td>HoustonSchema</td>\n",
       "      <td>HoustonTable</td>\n",
       "    </tr>\n",
       "    <tr>\n",
       "      <th>3</th>\n",
       "      <td>SanJoseSchema</td>\n",
       "      <td>SanJoseTable</td>\n",
       "    </tr>\n",
       "  </tbody>\n",
       "</table>\n",
       "</div>"
      ],
      "text/plain": [
       "    SourceSchema   SourceTable\n",
       "0   AustinSchema   AustinTable\n",
       "1   DallasSchema   DallasTable\n",
       "2  HoustonSchema  HoustonTable\n",
       "3  SanJoseSchema  SanJoseTable"
      ]
     },
     "execution_count": 3,
     "metadata": {},
     "output_type": "execute_result"
    }
   ],
   "source": [
    "# Extract SourceSchema and SourceTable from the 'Validation' sheet\n",
    "validation_data = excel_data['Validation']\n",
    "validation_data"
   ]
  },
  {
   "cell_type": "code",
   "execution_count": 4,
   "metadata": {},
   "outputs": [
    {
     "data": {
      "text/plain": [
       "0     AustinSchema\n",
       "1     DallasSchema\n",
       "2    HoustonSchema\n",
       "3    SanJoseSchema\n",
       "Name: SourceSchema, dtype: object"
      ]
     },
     "execution_count": 4,
     "metadata": {},
     "output_type": "execute_result"
    }
   ],
   "source": [
    "validation_data['SourceSchema']"
   ]
  },
  {
   "cell_type": "code",
   "execution_count": 5,
   "metadata": {},
   "outputs": [
    {
     "data": {
      "text/plain": [
       "'AustinSchema'"
      ]
     },
     "execution_count": 5,
     "metadata": {},
     "output_type": "execute_result"
    }
   ],
   "source": [
    "source_schema = validation_data['SourceSchema'][0]\n",
    "source_schema"
   ]
  },
  {
   "cell_type": "code",
   "execution_count": 6,
   "metadata": {},
   "outputs": [
    {
     "data": {
      "text/plain": [
       "0     AustinTable\n",
       "1     DallasTable\n",
       "2    HoustonTable\n",
       "3    SanJoseTable\n",
       "Name: SourceTable, dtype: object"
      ]
     },
     "execution_count": 6,
     "metadata": {},
     "output_type": "execute_result"
    }
   ],
   "source": [
    "validation_data['SourceTable']"
   ]
  },
  {
   "cell_type": "code",
   "execution_count": 7,
   "metadata": {},
   "outputs": [
    {
     "data": {
      "text/plain": [
       "'AustinTable'"
      ]
     },
     "execution_count": 7,
     "metadata": {},
     "output_type": "execute_result"
    }
   ],
   "source": [
    "source_table = validation_data['SourceTable'][0]\n",
    "source_table"
   ]
  },
  {
   "cell_type": "code",
   "execution_count": 8,
   "metadata": {},
   "outputs": [
    {
     "data": {
      "text/plain": [
       "'SELECT * FROM AustinSchema.AustinTable'"
      ]
     },
     "execution_count": 8,
     "metadata": {},
     "output_type": "execute_result"
    }
   ],
   "source": [
    "# Generate the SELECT * statement using SourceSchema and SourceTable\n",
    "select_statement = f\"SELECT * FROM {source_schema}.{source_table}\"\n",
    "select_statement"
   ]
  },
  {
   "cell_type": "code",
   "execution_count": 9,
   "metadata": {},
   "outputs": [
    {
     "data": {
      "text/plain": [
       "['AustinTable', 'DallasTable', 'HoustonTable', 'SanJoseTable']"
      ]
     },
     "execution_count": 9,
     "metadata": {},
     "output_type": "execute_result"
    }
   ],
   "source": [
    "# Generate the WHERE clause using all columns\n",
    "data_sheet_names = [sheet_name for sheet_name in excel_data.keys()\n",
    "                    if sheet_name != 'Validation']\n",
    "data_sheet_names"
   ]
  },
  {
   "cell_type": "code",
   "execution_count": 10,
   "metadata": {},
   "outputs": [
    {
     "data": {
      "text/plain": [
       "[\"Name = 'AustinBob' AND Age = 25 AND City = 'Dallas'\",\n",
       " \"Name = 'AustinCarol' AND Age = 35 AND City = 'Houston'\",\n",
       " \"Name = 'AustinDavid' AND Age = 40 AND City = 'San Jose'\",\n",
       " \"Name = 'AustinEve' AND Age = 28 AND City = 'Austin'\",\n",
       " \"Name = 'DallasBob' AND Age = 25 AND City = 'Dallas'\",\n",
       " \"Name = 'DallasCarol' AND Age = 35 AND City = 'Houston'\",\n",
       " \"Name = 'DallasDavid' AND Age = 40 AND City = 'San Jose'\",\n",
       " \"Name = 'DallasEve' AND Age = 28 AND City = 'Austin'\",\n",
       " \"Name = 'HoustonBob' AND Age = 25 AND City = 'Dallas'\",\n",
       " \"Name = 'HoustonCarol' AND Age = 35 AND City = 'Houston'\",\n",
       " \"Name = 'HoustonDavid' AND Age = 40 AND City = 'San Jose'\",\n",
       " \"Name = 'HoustonEve' AND Age = 28 AND City = 'Austin'\",\n",
       " \"Name = 'SanJoseBob' AND Age = 25 AND City = 'Dallas'\",\n",
       " \"Name = 'SanJoseCarol' AND Age = 35 AND City = 'Houston'\",\n",
       " \"Name = 'SanJoseDavid' AND Age = 40 AND City = 'San Jose'\",\n",
       " \"Name = 'SanJoseEve' AND Age = 28 AND City = 'Austin'\"]"
      ]
     },
     "execution_count": 10,
     "metadata": {},
     "output_type": "execute_result"
    }
   ],
   "source": [
    "where_conditions = []\n",
    "\n",
    "for data_sheet_name in data_sheet_names:\n",
    "    data = excel_data[data_sheet_name].iloc[1:, :] # Skip the header row\n",
    "    for index, row in data.iterrows():\n",
    "        conditions = []\n",
    "        for column, value in row.items():\n",
    "            if isinstance(value, str):\n",
    "                condition = f\"{column} = '{value}'\"\n",
    "            else:\n",
    "                condition = f\"{column} = {value}\"\n",
    "            conditions.append(condition)\n",
    "        where_conditions.append(\" AND \".join(conditions))\n",
    "\n",
    "where_conditions"
   ]
  },
  {
   "cell_type": "code",
   "execution_count": 11,
   "metadata": {},
   "outputs": [
    {
     "name": "stdout",
     "output_type": "stream",
     "text": [
      "SELECT * FROM AustinSchema.AustinTable WHERE (Name = 'AustinBob' AND Age = 25 AND City = 'Dallas') OR (Name = 'AustinCarol' AND Age = 35 AND City = 'Houston') OR (Name = 'AustinDavid' AND Age = 40 AND City = 'San Jose') OR (Name = 'AustinEve' AND Age = 28 AND City = 'Austin') OR (Name = 'DallasBob' AND Age = 25 AND City = 'Dallas') OR (Name = 'DallasCarol' AND Age = 35 AND City = 'Houston') OR (Name = 'DallasDavid' AND Age = 40 AND City = 'San Jose') OR (Name = 'DallasEve' AND Age = 28 AND City = 'Austin') OR (Name = 'HoustonBob' AND Age = 25 AND City = 'Dallas') OR (Name = 'HoustonCarol' AND Age = 35 AND City = 'Houston') OR (Name = 'HoustonDavid' AND Age = 40 AND City = 'San Jose') OR (Name = 'HoustonEve' AND Age = 28 AND City = 'Austin') OR (Name = 'SanJoseBob' AND Age = 25 AND City = 'Dallas') OR (Name = 'SanJoseCarol' AND Age = 35 AND City = 'Houston') OR (Name = 'SanJoseDavid' AND Age = 40 AND City = 'San Jose') OR (Name = 'SanJoseEve' AND Age = 28 AND City = 'Austin')\n"
     ]
    }
   ],
   "source": [
    "# Construct the final SQL query with SELECT statement and WHERE clause\n",
    "final_query = f\"\"\"{select_statement} WHERE {' OR '.join(f'({condition})'\n",
    "        for condition in where_conditions)}\"\"\"\n",
    "\n",
    "print(final_query)"
   ]
  }
 ],
 "metadata": {
  "kernelspec": {
   "display_name": "Python 3",
   "language": "python",
   "name": "python3"
  },
  "language_info": {
   "codemirror_mode": {
    "name": "ipython",
    "version": 3
   },
   "file_extension": ".py",
   "mimetype": "text/x-python",
   "name": "python",
   "nbconvert_exporter": "python",
   "pygments_lexer": "ipython3",
   "version": "3.11.2"
  }
 },
 "nbformat": 4,
 "nbformat_minor": 2
}
