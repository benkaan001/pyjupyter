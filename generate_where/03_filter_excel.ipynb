{
 "cells": [
  {
   "cell_type": "code",
   "execution_count": 1,
   "metadata": {},
   "outputs": [],
   "source": [
    "import pandas as pd"
   ]
  },
  {
   "cell_type": "code",
   "execution_count": 2,
   "metadata": {},
   "outputs": [
    {
     "data": {
      "text/plain": [
       "{'Validation':     SourceSchema   SourceTable\n",
       " 0   AustinSchema   AustinTable\n",
       " 1   DallasSchema   DallasTable\n",
       " 2  HoustonSchema  HoustonTable\n",
       " 3  SanJoseSchema  SanJoseTable,\n",
       " 'AustinTable':           Name  Age      City\n",
       " 0  AustinAlice   30    Austin\n",
       " 1    AustinBob   25    Dallas\n",
       " 2  AustinCarol   35   Houston\n",
       " 3  AustinDavid   40  San Jose\n",
       " 4    AustinEve   28    Austin,\n",
       " 'DallasTable':           Name  Age      City\n",
       " 0  DallasAlice   30    Austin\n",
       " 1    DallasBob   25    Dallas\n",
       " 2  DallasCarol   35   Houston\n",
       " 3  DallasDavid   40  San Jose\n",
       " 4    DallasEve   28    Austin,\n",
       " 'HoustonTable':            Name  Age      City\n",
       " 0  HoustonAlice   30    Austin\n",
       " 1    HoustonBob   25    Dallas\n",
       " 2  HoustonCarol   35   Houston\n",
       " 3  HoustonDavid   40  San Jose\n",
       " 4    HoustonEve   28    Austin,\n",
       " 'SanJoseTable':            Name  Age      City\n",
       " 0  SanJoseAlice   30    Austin\n",
       " 1    SanJoseBob   25    Dallas\n",
       " 2  SanJoseCarol   35   Houston\n",
       " 3  SanJoseDavid   40  San Jose\n",
       " 4    SanJoseEve   28    Austin}"
      ]
     },
     "execution_count": 2,
     "metadata": {},
     "output_type": "execute_result"
    }
   ],
   "source": [
    "# Load the Excel data\n",
    "excel_file_path = 'ValidationReport.xlsx'\n",
    "excel_data = pd.read_excel(excel_file_path, sheet_name=None)\n",
    "excel_data"
   ]
  },
  {
   "cell_type": "code",
   "execution_count": 3,
   "metadata": {},
   "outputs": [
    {
     "data": {
      "text/plain": [
       "{'Validation':     SourceSchema   SourceTable\n",
       " 0   AustinSchema   AustinTable\n",
       " 1   DallasSchema   DallasTable\n",
       " 2  HoustonSchema  HoustonTable\n",
       " 3  SanJoseSchema  SanJoseTable,\n",
       " 'AustinTable':           Name  Age      City\n",
       " 0  AustinAlice   30    Austin\n",
       " 1    AustinBob   25    Dallas\n",
       " 2  AustinCarol   35   Houston\n",
       " 3  AustinDavid   40  San Jose\n",
       " 4    AustinEve   28    Austin,\n",
       " 'DallasTable':           Name  Age      City\n",
       " 0  DallasAlice   30    Austin\n",
       " 1    DallasBob   25    Dallas\n",
       " 2  DallasCarol   35   Houston\n",
       " 3  DallasDavid   40  San Jose\n",
       " 4    DallasEve   28    Austin,\n",
       " 'HoustonTable':            Name  Age      City\n",
       " 0  HoustonAlice   30    Austin\n",
       " 1    HoustonBob   25    Dallas\n",
       " 2  HoustonCarol   35   Houston\n",
       " 3  HoustonDavid   40  San Jose\n",
       " 4    HoustonEve   28    Austin,\n",
       " 'SanJoseTable':            Name  Age      City\n",
       " 0  SanJoseAlice   30    Austin\n",
       " 1    SanJoseBob   25    Dallas\n",
       " 2  SanJoseCarol   35   Houston\n",
       " 3  SanJoseDavid   40  San Jose\n",
       " 4    SanJoseEve   28    Austin}"
      ]
     },
     "execution_count": 3,
     "metadata": {},
     "output_type": "execute_result"
    }
   ],
   "source": [
    "excel_data"
   ]
  },
  {
   "cell_type": "code",
   "execution_count": 4,
   "metadata": {},
   "outputs": [
    {
     "data": {
      "text/html": [
       "<div>\n",
       "<style scoped>\n",
       "    .dataframe tbody tr th:only-of-type {\n",
       "        vertical-align: middle;\n",
       "    }\n",
       "\n",
       "    .dataframe tbody tr th {\n",
       "        vertical-align: top;\n",
       "    }\n",
       "\n",
       "    .dataframe thead th {\n",
       "        text-align: right;\n",
       "    }\n",
       "</style>\n",
       "<table border=\"1\" class=\"dataframe\">\n",
       "  <thead>\n",
       "    <tr style=\"text-align: right;\">\n",
       "      <th></th>\n",
       "      <th>SourceSchema</th>\n",
       "      <th>SourceTable</th>\n",
       "    </tr>\n",
       "  </thead>\n",
       "  <tbody>\n",
       "    <tr>\n",
       "      <th>0</th>\n",
       "      <td>AustinSchema</td>\n",
       "      <td>AustinTable</td>\n",
       "    </tr>\n",
       "    <tr>\n",
       "      <th>1</th>\n",
       "      <td>DallasSchema</td>\n",
       "      <td>DallasTable</td>\n",
       "    </tr>\n",
       "    <tr>\n",
       "      <th>2</th>\n",
       "      <td>HoustonSchema</td>\n",
       "      <td>HoustonTable</td>\n",
       "    </tr>\n",
       "    <tr>\n",
       "      <th>3</th>\n",
       "      <td>SanJoseSchema</td>\n",
       "      <td>SanJoseTable</td>\n",
       "    </tr>\n",
       "  </tbody>\n",
       "</table>\n",
       "</div>"
      ],
      "text/plain": [
       "    SourceSchema   SourceTable\n",
       "0   AustinSchema   AustinTable\n",
       "1   DallasSchema   DallasTable\n",
       "2  HoustonSchema  HoustonTable\n",
       "3  SanJoseSchema  SanJoseTable"
      ]
     },
     "execution_count": 4,
     "metadata": {},
     "output_type": "execute_result"
    }
   ],
   "source": [
    "# Extract SourceSchema and SourceTable from the 'Validation' sheet\n",
    "validation_data = excel_data['Validation']\n",
    "validation_data"
   ]
  },
  {
   "cell_type": "code",
   "execution_count": 5,
   "metadata": {},
   "outputs": [
    {
     "data": {
      "text/plain": [
       "SourceSchema    AustinSchema\n",
       "SourceTable      AustinTable\n",
       "Name: 0, dtype: object"
      ]
     },
     "execution_count": 5,
     "metadata": {},
     "output_type": "execute_result"
    }
   ],
   "source": [
    "validation_data.iloc[0]"
   ]
  },
  {
   "cell_type": "code",
   "execution_count": 6,
   "metadata": {},
   "outputs": [
    {
     "data": {
      "text/plain": [
       "'AustinSchema'"
      ]
     },
     "execution_count": 6,
     "metadata": {},
     "output_type": "execute_result"
    }
   ],
   "source": [
    "validation_data.iloc[0][\"SourceSchema\"]"
   ]
  },
  {
   "cell_type": "code",
   "execution_count": 7,
   "metadata": {},
   "outputs": [
    {
     "data": {
      "text/plain": [
       "'AustinTable'"
      ]
     },
     "metadata": {},
     "output_type": "display_data"
    }
   ],
   "source": [
    "source_schema = validation_data.iloc[0][\"SourceSchema\"]\n",
    "source_table = validation_data.iloc[0][\"SourceTable\"]\n",
    "display(source_table)"
   ]
  },
  {
   "cell_type": "code",
   "execution_count": 8,
   "metadata": {},
   "outputs": [],
   "source": [
    "# Generate the SELECT * statement using SourceSchema and SourceTable\n",
    "select_statement = f\"SELECT * FROM {source_schema}.{source_table}\""
   ]
  },
  {
   "cell_type": "code",
   "execution_count": 9,
   "metadata": {},
   "outputs": [
    {
     "data": {
      "text/plain": [
       "['AustinTable', 'DallasTable', 'HoustonTable', 'SanJoseTable']"
      ]
     },
     "execution_count": 9,
     "metadata": {},
     "output_type": "execute_result"
    }
   ],
   "source": [
    "# Generate the WHERE clause using all columns\n",
    "data_sheet_names = [sheet_name for sheet_name in excel_data.keys()\n",
    "                    if sheet_name != 'Validation']\n",
    "data_sheet_names"
   ]
  },
  {
   "cell_type": "code",
   "execution_count": 16,
   "metadata": {},
   "outputs": [
    {
     "data": {
      "text/plain": [
       "[\"Name = 'AustinAlice' AND Name = 'AustinAlice' = 30 AND City = 'Austin'\",\n",
       " \"Name = 'AustinBob' AND Name = 'AustinBob' = 25 AND City = 'Dallas'\",\n",
       " \"Name = 'AustinCarol' AND Name = 'AustinCarol' = 35 AND City = 'Houston'\",\n",
       " \"Name = 'AustinDavid' AND Name = 'AustinDavid' = 40 AND City = 'San Jose'\",\n",
       " \"Name = 'AustinEve' AND Name = 'AustinEve' = 28 AND City = 'Austin'\",\n",
       " \"Name = 'DallasAlice' AND Name = 'DallasAlice' = 30 AND City = 'Austin'\",\n",
       " \"Name = 'DallasBob' AND Name = 'DallasBob' = 25 AND City = 'Dallas'\",\n",
       " \"Name = 'DallasCarol' AND Name = 'DallasCarol' = 35 AND City = 'Houston'\",\n",
       " \"Name = 'DallasDavid' AND Name = 'DallasDavid' = 40 AND City = 'San Jose'\",\n",
       " \"Name = 'DallasEve' AND Name = 'DallasEve' = 28 AND City = 'Austin'\",\n",
       " \"Name = 'HoustonAlice' AND Name = 'HoustonAlice' = 30 AND City = 'Austin'\",\n",
       " \"Name = 'HoustonBob' AND Name = 'HoustonBob' = 25 AND City = 'Dallas'\",\n",
       " \"Name = 'HoustonCarol' AND Name = 'HoustonCarol' = 35 AND City = 'Houston'\",\n",
       " \"Name = 'HoustonDavid' AND Name = 'HoustonDavid' = 40 AND City = 'San Jose'\",\n",
       " \"Name = 'HoustonEve' AND Name = 'HoustonEve' = 28 AND City = 'Austin'\",\n",
       " \"Name = 'SanJoseAlice' AND Name = 'SanJoseAlice' = 30 AND City = 'Austin'\",\n",
       " \"Name = 'SanJoseBob' AND Name = 'SanJoseBob' = 25 AND City = 'Dallas'\",\n",
       " \"Name = 'SanJoseCarol' AND Name = 'SanJoseCarol' = 35 AND City = 'Houston'\",\n",
       " \"Name = 'SanJoseDavid' AND Name = 'SanJoseDavid' = 40 AND City = 'San Jose'\",\n",
       " \"Name = 'SanJoseEve' AND Name = 'SanJoseEve' = 28 AND City = 'Austin'\"]"
      ]
     },
     "execution_count": 16,
     "metadata": {},
     "output_type": "execute_result"
    }
   ],
   "source": [
    "where_conditions = []\n",
    "\n",
    "for data_sheet_name in data_sheet_names:\n",
    "    data = excel_data[data_sheet_name]\n",
    "    for index, row in data.iterrows():\n",
    "        conditions = []\n",
    "        for column, value in row.items():\n",
    "            if isinstance(value, str):\n",
    "                condition = f\"{column} = '{value}'\"\n",
    "            else:\n",
    "                condition = f\"{condition} = {value}\"\n",
    "            conditions.append(condition)\n",
    "        where_conditions.append(\" AND \".join(conditions))\n",
    "\n",
    "where_conditions"
   ]
  },
  {
   "cell_type": "code",
   "execution_count": 11,
   "metadata": {},
   "outputs": [
    {
     "name": "stdout",
     "output_type": "stream",
     "text": [
      "SELECT * FROM AustinSchema.AustinTable WHERE (City = 'Austin') OR (City = 'Dallas') OR (City = 'Houston') OR (City = 'San Jose') OR (City = 'Austin') OR (City = 'Austin') OR (City = 'Dallas') OR (City = 'Houston') OR (City = 'San Jose') OR (City = 'Austin') OR (City = 'Austin') OR (City = 'Dallas') OR (City = 'Houston') OR (City = 'San Jose') OR (City = 'Austin') OR (City = 'Austin') OR (City = 'Dallas') OR (City = 'Houston') OR (City = 'San Jose') OR (City = 'Austin')\n"
     ]
    }
   ],
   "source": [
    "# Construct the final SQL query with SELECT statement and WHERE clause\n",
    "final_query = f\"\"\"{select_statement} WHERE {' OR '.join(f'({condition})'\n",
    "        for condition in where_conditions)}\"\"\"\n",
    "\n",
    "print(final_query)"
   ]
  }
 ],
 "metadata": {
  "kernelspec": {
   "display_name": "Python 3",
   "language": "python",
   "name": "python3"
  },
  "language_info": {
   "codemirror_mode": {
    "name": "ipython",
    "version": 3
   },
   "file_extension": ".py",
   "mimetype": "text/x-python",
   "name": "python",
   "nbconvert_exporter": "python",
   "pygments_lexer": "ipython3",
   "version": "3.11.2"
  }
 },
 "nbformat": 4,
 "nbformat_minor": 2
}
