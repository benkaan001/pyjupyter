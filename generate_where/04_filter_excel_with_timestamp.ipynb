{
 "cells": [
  {
   "cell_type": "code",
   "execution_count": 1,
   "metadata": {},
   "outputs": [],
   "source": [
    "import pandas as pd"
   ]
  },
  {
   "cell_type": "code",
   "execution_count": 2,
   "metadata": {},
   "outputs": [
    {
     "data": {
      "text/plain": [
       "'09/01/2023'"
      ]
     },
     "execution_count": 2,
     "metadata": {},
     "output_type": "execute_result"
    }
   ],
   "source": [
    "excel_date = '2023-01-09'\n",
    "pd.to_datetime(excel_date).strftime('%d/%m/%Y')"
   ]
  },
  {
   "cell_type": "code",
   "execution_count": 3,
   "metadata": {},
   "outputs": [
    {
     "data": {
      "text/plain": [
       "'1/9/2023'"
      ]
     },
     "execution_count": 3,
     "metadata": {},
     "output_type": "execute_result"
    }
   ],
   "source": [
    "pd.to_datetime(excel_date).strftime('%-m/%-d/%Y')"
   ]
  },
  {
   "cell_type": "code",
   "execution_count": 4,
   "metadata": {},
   "outputs": [
    {
     "data": {
      "text/plain": [
       "'1/9/2023 12:55:43.000000'"
      ]
     },
     "execution_count": 4,
     "metadata": {},
     "output_type": "execute_result"
    }
   ],
   "source": [
    "excel_timestamp = '2023-01-09 12:55:43.000000'\n",
    "pd.to_datetime(excel_timestamp).strftime('%-m/%-d/%Y %H:%M:%S.000000')"
   ]
  },
  {
   "cell_type": "code",
   "execution_count": 5,
   "metadata": {},
   "outputs": [
    {
     "data": {
      "text/plain": [
       "[\"TIMESTAMP '2023-01-09 12:55:43.300000'\",\n",
       " \"TIMESTAMP '2023-03-08 01:00:15.000000'\",\n",
       " \"TIMESTAMP '2023-05-25 10:30:45.000800'\"]"
      ]
     },
     "execution_count": 5,
     "metadata": {},
     "output_type": "execute_result"
    }
   ],
   "source": [
    "# Convert Excel timestamps to Teradata timestamp format for use in a query filter\n",
    "excel_timestamps = ['2023-01-09 12:55:43.300000', '2023-03-08 01:00:15', '2023-05-25 10:30:45.000800']\n",
    "\n",
    "formatted_timestamps = []\n",
    "for timestamp in excel_timestamps:\n",
    "    if '.' not in timestamp:\n",
    "        timestamp += '.000000'\n",
    "    formatted_timestamps.append(f\"TIMESTAMP '{timestamp}'\")\n",
    "\n",
    "formatted_timestamps\n"
   ]
  },
  {
   "cell_type": "code",
   "execution_count": 6,
   "metadata": {},
   "outputs": [
    {
     "data": {
      "text/plain": [
       "[\"DATE '2023-01-09'\", \"DATE '2023-01-09'\", \"DATE '2023-01-09'\"]"
      ]
     },
     "execution_count": 6,
     "metadata": {},
     "output_type": "execute_result"
    }
   ],
   "source": [
    "# Convert Excel dates to Teradata date format for use in a query filter\n",
    "excel_dates = ['2023-01-09', '2023-03-08', '2023-09-29']\n",
    "\n",
    "formatted_dates = []\n",
    "for date in excel_dates:\n",
    "    formatted_dates.append(f\"DATE '{excel_date}'\")\n",
    "\n",
    "formatted_dates\n"
   ]
  },
  {
   "cell_type": "markdown",
   "metadata": {},
   "source": [
    "## Find Teradata Date and Timestamp values"
   ]
  },
  {
   "cell_type": "code",
   "execution_count": 7,
   "metadata": {},
   "outputs": [],
   "source": [
    "def convert_to_teradata_timestamp(timestamp_value):\n",
    "    # Convert timestamp to the format 'M/D/YYYY HH:MI:SS.000000'\n",
    "    if '.' in timestamp_value:\n",
    "        return pd.to_datetime(timestamp_value).strftime('%-m/%-d/%Y %H:%M:%S.%f')\n",
    "\n",
    "    return pd.to_datetime(timestamp_value).strftime('%-m/%-d/%Y %H:%M:%S.000000')"
   ]
  },
  {
   "cell_type": "code",
   "execution_count": 8,
   "metadata": {},
   "outputs": [
    {
     "name": "stdout",
     "output_type": "stream",
     "text": [
      "1/9/2023 12:55:43.300000\n",
      "3/8/2023 01:00:15.000000\n",
      "5/25/2023 10:30:45.100800\n"
     ]
    }
   ],
   "source": [
    "excel_timestamps = ['2023-01-09 12:55:43.300000', '2023-03-08 01:00:15', '2023-05-25 10:30:45.100800']\n",
    "for tmstp in excel_timestamps:\n",
    "    formatted_timestamp = convert_to_teradata_timestamp(tmstp)\n",
    "    print(formatted_timestamp)"
   ]
  },
  {
   "cell_type": "code",
   "execution_count": 9,
   "metadata": {},
   "outputs": [],
   "source": [
    "def convert_to_teradata_date(date_value):\n",
    "    # Convert date to the format 'M/D/YYYY'\n",
    "    return pd.to_datetime(date_value).strftime('%-m/%-d/%Y')"
   ]
  },
  {
   "cell_type": "code",
   "execution_count": 10,
   "metadata": {},
   "outputs": [
    {
     "name": "stdout",
     "output_type": "stream",
     "text": [
      "1/9/2023\n",
      "3/8/2023\n",
      "9/29/2023\n"
     ]
    }
   ],
   "source": [
    "excel_dates = ['2023-01-09', '2023-03-08', '2023-09-29']\n",
    "\n",
    "for date in excel_dates:\n",
    "    formatted_date = convert_to_teradata_date(date)\n",
    "    print(formatted_date)"
   ]
  },
  {
   "cell_type": "markdown",
   "metadata": {},
   "source": [
    "## Teradata Date Pattern"
   ]
  },
  {
   "cell_type": "code",
   "execution_count": 11,
   "metadata": {},
   "outputs": [
    {
     "data": {
      "text/plain": [
       "['1/9/2023', '3/8/2023', '9/29/2023']"
      ]
     },
     "execution_count": 11,
     "metadata": {},
     "output_type": "execute_result"
    }
   ],
   "source": [
    "teradata_dates = [ convert_to_teradata_date(date) for date in excel_dates]\n",
    "teradata_dates"
   ]
  },
  {
   "cell_type": "code",
   "execution_count": 12,
   "metadata": {},
   "outputs": [
    {
     "name": "stdout",
     "output_type": "stream",
     "text": [
      "TeradataDate = 1/9/2023\n",
      "TeradataDate = 3/8/2023\n",
      "TeradataDate = 9/29/2023\n"
     ]
    }
   ],
   "source": [
    "import re\n",
    "\n",
    "date_pattern = r'\\d{1,2}/\\d{1,2}/\\d{4}'\n",
    "for date in teradata_dates:\n",
    "    if re.match(date_pattern, date):\n",
    "        print(f\"TeradataDate = {date}\")\n"
   ]
  },
  {
   "cell_type": "markdown",
   "metadata": {},
   "source": [
    "## Teradata Timestamp Pattern"
   ]
  },
  {
   "cell_type": "code",
   "execution_count": 13,
   "metadata": {},
   "outputs": [
    {
     "data": {
      "text/plain": [
       "['1/9/2023 12:55:43.300000',\n",
       " '3/8/2023 01:00:15.000000',\n",
       " '5/25/2023 10:30:45.100800']"
      ]
     },
     "execution_count": 13,
     "metadata": {},
     "output_type": "execute_result"
    }
   ],
   "source": [
    "teradata_timestamps = [convert_to_teradata_timestamp(tmstp) for tmstp in excel_timestamps]\n",
    "teradata_timestamps"
   ]
  },
  {
   "cell_type": "code",
   "execution_count": 14,
   "metadata": {},
   "outputs": [
    {
     "name": "stdout",
     "output_type": "stream",
     "text": [
      "TeradataTimestamp = 1/9/2023 12:55:43.300000\n",
      "TeradataTimestamp = 3/8/2023 01:00:15.000000\n",
      "TeradataTimestamp = 5/25/2023 10:30:45.100800\n"
     ]
    }
   ],
   "source": [
    "# '1/9/2023 12:55:43.000000'\n",
    "timestamp_pattern = r'\\d{1,2}/\\d{1,2}/\\d{4} \\d{1,2}:\\d{1,2}:\\d{1,2}\\.\\d+'\n",
    "for tmstp in teradata_timestamps:\n",
    "    if re.match(timestamp_pattern, tmstp):\n",
    "        print(f\"TeradataTimestamp = {tmstp}\")"
   ]
  }
 ],
 "metadata": {
  "kernelspec": {
   "display_name": "Python 3",
   "language": "python",
   "name": "python3"
  },
  "language_info": {
   "codemirror_mode": {
    "name": "ipython",
    "version": 3
   },
   "file_extension": ".py",
   "mimetype": "text/x-python",
   "name": "python",
   "nbconvert_exporter": "python",
   "pygments_lexer": "ipython3",
   "version": "3.11.2"
  }
 },
 "nbformat": 4,
 "nbformat_minor": 2
}
