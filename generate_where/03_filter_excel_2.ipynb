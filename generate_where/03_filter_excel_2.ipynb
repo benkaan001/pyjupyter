{
 "cells": [
  {
   "cell_type": "code",
   "execution_count": 1,
   "metadata": {},
   "outputs": [],
   "source": [
    "import pandas as pd"
   ]
  },
  {
   "cell_type": "code",
   "execution_count": 2,
   "metadata": {},
   "outputs": [
    {
     "data": {
      "text/plain": [
       "dict"
      ]
     },
     "execution_count": 2,
     "metadata": {},
     "output_type": "execute_result"
    }
   ],
   "source": [
    "excel_file_path = 'ValidationReport.xlsx'\n",
    "excel_data = pd.read_excel(excel_file_path, sheet_name=None)\n",
    "type(excel_data)\n"
   ]
  },
  {
   "cell_type": "code",
   "execution_count": 3,
   "metadata": {},
   "outputs": [
    {
     "data": {
      "text/html": [
       "<div>\n",
       "<style scoped>\n",
       "    .dataframe tbody tr th:only-of-type {\n",
       "        vertical-align: middle;\n",
       "    }\n",
       "\n",
       "    .dataframe tbody tr th {\n",
       "        vertical-align: top;\n",
       "    }\n",
       "\n",
       "    .dataframe thead th {\n",
       "        text-align: right;\n",
       "    }\n",
       "</style>\n",
       "<table border=\"1\" class=\"dataframe\">\n",
       "  <thead>\n",
       "    <tr style=\"text-align: right;\">\n",
       "      <th></th>\n",
       "      <th>SourceSchema</th>\n",
       "      <th>SourceTable</th>\n",
       "    </tr>\n",
       "  </thead>\n",
       "  <tbody>\n",
       "    <tr>\n",
       "      <th>0</th>\n",
       "      <td>AustinSchema</td>\n",
       "      <td>AustinTable</td>\n",
       "    </tr>\n",
       "    <tr>\n",
       "      <th>1</th>\n",
       "      <td>DallasSchema</td>\n",
       "      <td>DallasTable</td>\n",
       "    </tr>\n",
       "    <tr>\n",
       "      <th>2</th>\n",
       "      <td>HoustonSchema</td>\n",
       "      <td>HoustonTable</td>\n",
       "    </tr>\n",
       "    <tr>\n",
       "      <th>3</th>\n",
       "      <td>SanJoseSchema</td>\n",
       "      <td>SanJoseTable</td>\n",
       "    </tr>\n",
       "  </tbody>\n",
       "</table>\n",
       "</div>"
      ],
      "text/plain": [
       "    SourceSchema   SourceTable\n",
       "0   AustinSchema   AustinTable\n",
       "1   DallasSchema   DallasTable\n",
       "2  HoustonSchema  HoustonTable\n",
       "3  SanJoseSchema  SanJoseTable"
      ]
     },
     "execution_count": 3,
     "metadata": {},
     "output_type": "execute_result"
    }
   ],
   "source": [
    "validation_data = excel_data[\"Validation\"]\n",
    "validation_data"
   ]
  },
  {
   "cell_type": "code",
   "execution_count": 4,
   "metadata": {},
   "outputs": [
    {
     "data": {
      "text/html": [
       "<div>\n",
       "<style scoped>\n",
       "    .dataframe tbody tr th:only-of-type {\n",
       "        vertical-align: middle;\n",
       "    }\n",
       "\n",
       "    .dataframe tbody tr th {\n",
       "        vertical-align: top;\n",
       "    }\n",
       "\n",
       "    .dataframe thead th {\n",
       "        text-align: right;\n",
       "    }\n",
       "</style>\n",
       "<table border=\"1\" class=\"dataframe\">\n",
       "  <thead>\n",
       "    <tr style=\"text-align: right;\">\n",
       "      <th></th>\n",
       "      <th>SourceSchema</th>\n",
       "      <th>SourceTable</th>\n",
       "    </tr>\n",
       "  </thead>\n",
       "  <tbody>\n",
       "    <tr>\n",
       "      <th>3</th>\n",
       "      <td>SanJoseSchema</td>\n",
       "      <td>SanJoseTable</td>\n",
       "    </tr>\n",
       "  </tbody>\n",
       "</table>\n",
       "</div>"
      ],
      "text/plain": [
       "    SourceSchema   SourceTable\n",
       "3  SanJoseSchema  SanJoseTable"
      ]
     },
     "execution_count": 4,
     "metadata": {},
     "output_type": "execute_result"
    }
   ],
   "source": [
    "table_name = \"SanJoseTable\"\n",
    "source_schema = validation_data[validation_data['SourceTable'] == table_name]\n",
    "source_schema\n"
   ]
  },
  {
   "cell_type": "code",
   "execution_count": 5,
   "metadata": {},
   "outputs": [
    {
     "data": {
      "text/plain": [
       "3    SanJoseSchema\n",
       "Name: SourceSchema, dtype: object"
      ]
     },
     "execution_count": 5,
     "metadata": {},
     "output_type": "execute_result"
    }
   ],
   "source": [
    "source_schema[\"SourceSchema\"]"
   ]
  },
  {
   "cell_type": "code",
   "execution_count": 6,
   "metadata": {},
   "outputs": [
    {
     "data": {
      "text/plain": [
       "array(['SanJoseSchema'], dtype=object)"
      ]
     },
     "execution_count": 6,
     "metadata": {},
     "output_type": "execute_result"
    }
   ],
   "source": [
    "source_schema[\"SourceSchema\"].values"
   ]
  },
  {
   "cell_type": "code",
   "execution_count": 7,
   "metadata": {},
   "outputs": [
    {
     "data": {
      "text/plain": [
       "'SanJoseSchema'"
      ]
     },
     "execution_count": 7,
     "metadata": {},
     "output_type": "execute_result"
    }
   ],
   "source": [
    "source_schema[\"SourceSchema\"].values[0]"
   ]
  },
  {
   "cell_type": "code",
   "execution_count": 23,
   "metadata": {},
   "outputs": [],
   "source": [
    "def generate_select_statement(excel_file_path: str, table_name: str) -> str:\n",
    "    \"\"\"\n",
    "    Generate a SELECT statement for a given table name from the Excel file.\n",
    "\n",
    "    Parameters:\n",
    "    excel_file_path (str): Path to the Excel file (.xlsx) containing the data.\n",
    "    table_name (str): Name of the table for which to generate the SELECT statement.\n",
    "\n",
    "    Returns:\n",
    "    str: The generated SELECT statement.\n",
    "    \"\"\"\n",
    "    # Load the Excel data\n",
    "    excel_data = pd.read_excel(excel_file_path, sheet_name=None)\n",
    "\n",
    "    # Extract SourceSchema for the given table from the 'Validation' sheet\n",
    "    validation_data = excel_data['Validation']\n",
    "    source_schema = validation_data[validation_data['SourceTable'] == table_name]['SourceSchema'].values\n",
    "\n",
    "    if not source_schema:\n",
    "        return f\"Table name '{table_name}' not found in the validation data.\"\n",
    "    source_schema = source_schema[0]\n",
    "    print(f\"SourceSchema is {source_schema}.\")\n",
    "\n",
    "    # Generate the SELECT * statement using SourceSchema and the given table name\n",
    "    select_statement = f\"SELECT * FROM {source_schema}.{table_name} WHERE \"\n",
    "\n",
    "    # Generate the WHERE clause using all columns for the specified table\n",
    "    data = excel_data[table_name].iloc[1:, :]  # Skip the header row\n",
    "    where_conditions = []\n",
    "\n",
    "    for _, row in data.iterrows():\n",
    "        conditions = []\n",
    "        for column, value in row.items():\n",
    "            if isinstance(value, str):\n",
    "                condition = f\"{column} = '{value}'\"\n",
    "            else:\n",
    "                condition = f\"{column} = {value}\"\n",
    "            conditions.append(condition)\n",
    "        where_conditions.append(\" AND \".join(conditions))\n",
    "\n",
    "    select_statement += ' OR '.join(f'({condition})' for condition in where_conditions)\n",
    "    return select_statement\n"
   ]
  },
  {
   "cell_type": "code",
   "execution_count": 24,
   "metadata": {},
   "outputs": [
    {
     "name": "stdout",
     "output_type": "stream",
     "text": [
      "SourceSchema is AustinSchema.\n",
      "Generated SELECT statement:\n",
      "SELECT * FROM AustinSchema.AustinTable WHERE (Name = 'AustinBob' AND Age = 25 AND City = 'Dallas') OR (Name = 'AustinCarol' AND Age = 35 AND City = 'Houston') OR (Name = 'AustinDavid' AND Age = 40 AND City = 'San Jose') OR (Name = 'AustinEve' AND Age = 28 AND City = 'Austin')\n"
     ]
    }
   ],
   "source": [
    "# Example usage\n",
    "excel_file_path = \"ValidationReport.xlsx\"\n",
    "table_name = \"AustinTable\"\n",
    "select_query = generate_select_statement(excel_file_path, table_name)\n",
    "print(\"Generated SELECT statement:\")\n",
    "print(select_query)"
   ]
  }
 ],
 "metadata": {
  "kernelspec": {
   "display_name": "Python 3",
   "language": "python",
   "name": "python3"
  },
  "language_info": {
   "codemirror_mode": {
    "name": "ipython",
    "version": 3
   },
   "file_extension": ".py",
   "mimetype": "text/x-python",
   "name": "python",
   "nbconvert_exporter": "python",
   "pygments_lexer": "ipython3",
   "version": "3.11.2"
  }
 },
 "nbformat": 4,
 "nbformat_minor": 2
}
