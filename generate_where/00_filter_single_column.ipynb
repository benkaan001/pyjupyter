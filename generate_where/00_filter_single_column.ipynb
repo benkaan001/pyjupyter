{
 "cells": [
  {
   "cell_type": "code",
   "execution_count": 1,
   "metadata": {},
   "outputs": [],
   "source": [
    "import pandas as pd"
   ]
  },
  {
   "cell_type": "code",
   "execution_count": 2,
   "metadata": {},
   "outputs": [
    {
     "data": {
      "text/html": [
       "<div>\n",
       "<style scoped>\n",
       "    .dataframe tbody tr th:only-of-type {\n",
       "        vertical-align: middle;\n",
       "    }\n",
       "\n",
       "    .dataframe tbody tr th {\n",
       "        vertical-align: top;\n",
       "    }\n",
       "\n",
       "    .dataframe thead th {\n",
       "        text-align: right;\n",
       "    }\n",
       "</style>\n",
       "<table border=\"1\" class=\"dataframe\">\n",
       "  <thead>\n",
       "    <tr style=\"text-align: right;\">\n",
       "      <th></th>\n",
       "      <th>Name</th>\n",
       "      <th>Age</th>\n",
       "      <th>City</th>\n",
       "      <th>Temp</th>\n",
       "    </tr>\n",
       "  </thead>\n",
       "  <tbody>\n",
       "    <tr>\n",
       "      <th>0</th>\n",
       "      <td>Alice</td>\n",
       "      <td>30</td>\n",
       "      <td>Austin</td>\n",
       "      <td>90.2</td>\n",
       "    </tr>\n",
       "    <tr>\n",
       "      <th>1</th>\n",
       "      <td>Bob</td>\n",
       "      <td>25</td>\n",
       "      <td>Dallas</td>\n",
       "      <td>91.9</td>\n",
       "    </tr>\n",
       "    <tr>\n",
       "      <th>2</th>\n",
       "      <td>Carol</td>\n",
       "      <td>35</td>\n",
       "      <td>Houston</td>\n",
       "      <td>93.5</td>\n",
       "    </tr>\n",
       "    <tr>\n",
       "      <th>3</th>\n",
       "      <td>David</td>\n",
       "      <td>40</td>\n",
       "      <td>San Jose</td>\n",
       "      <td>75.0</td>\n",
       "    </tr>\n",
       "    <tr>\n",
       "      <th>4</th>\n",
       "      <td>Eve</td>\n",
       "      <td>28</td>\n",
       "      <td>Austin</td>\n",
       "      <td>90.2</td>\n",
       "    </tr>\n",
       "  </tbody>\n",
       "</table>\n",
       "</div>"
      ],
      "text/plain": [
       "    Name  Age      City  Temp\n",
       "0  Alice   30    Austin  90.2\n",
       "1    Bob   25    Dallas  91.9\n",
       "2  Carol   35   Houston  93.5\n",
       "3  David   40  San Jose  75.0\n",
       "4    Eve   28    Austin  90.2"
      ]
     },
     "execution_count": 2,
     "metadata": {},
     "output_type": "execute_result"
    }
   ],
   "source": [
    "# Load the CSV data\n",
    "file_path = 'sample_data.txt'\n",
    "df = pd.read_csv(file_path)\n",
    "df"
   ]
  },
  {
   "cell_type": "code",
   "execution_count": 3,
   "metadata": {},
   "outputs": [
    {
     "name": "stdout",
     "output_type": "stream",
     "text": [
      "0\t\n",
      "Name     Alice\n",
      "Age         30\n",
      "City    Austin\n",
      "Temp      90.2\n",
      "Name: 0, dtype: object\n"
     ]
    }
   ],
   "source": [
    "for index, row in df.iterrows():\n",
    "    print(f\"{index}\\t\\n{row}\")\n",
    "    break"
   ]
  },
  {
   "cell_type": "code",
   "execution_count": 4,
   "metadata": {},
   "outputs": [
    {
     "name": "stdout",
     "output_type": "stream",
     "text": [
      "Row 1 WHERE clause: WHERE Name = 'Alice' AND Age = 30 AND City = 'Austin' AND Temp = 90.2\n",
      "Row 2 WHERE clause: WHERE Name = 'Bob' AND Age = 25 AND City = 'Dallas' AND Temp = 91.9\n",
      "Row 3 WHERE clause: WHERE Name = 'Carol' AND Age = 35 AND City = 'Houston' AND Temp = 93.5\n",
      "Row 4 WHERE clause: WHERE Name = 'David' AND Age = 40 AND City = 'San Jose' AND Temp = 75.0\n",
      "Row 5 WHERE clause: WHERE Name = 'Eve' AND Age = 28 AND City = 'Austin' AND Temp = 90.2\n"
     ]
    }
   ],
   "source": [
    "for index, row in df.iterrows():\n",
    "    where_clause = 'WHERE '\n",
    "    conditions = []\n",
    "    for column, value in row.items():\n",
    "        if isinstance(value, str):\n",
    "            condition = f\"{column} = '{value}'\"\n",
    "        else:\n",
    "            condition = f\"{column} = {value}\"\n",
    "        conditions.append(condition)\n",
    "    where_clause += \" AND \".join(conditions)\n",
    "    print(f\"Row {index + 1} WHERE clause: {where_clause}\")"
   ]
  },
  {
   "cell_type": "code",
   "execution_count": 5,
   "metadata": {},
   "outputs": [
    {
     "name": "stdout",
     "output_type": "stream",
     "text": [
      "WHERE Name = 'Alice' AND Age = 30 AND City = 'Austin' AND Temp = 90.2\n",
      "WHERE Name = 'Bob' AND Age = 25 AND City = 'Dallas' AND Temp = 91.9\n",
      "WHERE Name = 'Carol' AND Age = 35 AND City = 'Houston' AND Temp = 93.5\n",
      "WHERE Name = 'David' AND Age = 40 AND City = 'San Jose' AND Temp = 75.0\n",
      "WHERE Name = 'Eve' AND Age = 28 AND City = 'Austin' AND Temp = 90.2\n"
     ]
    }
   ],
   "source": [
    "def generate_where_clause(row) -> str:\n",
    "    where_clause = 'WHERE '\n",
    "    conditions = []\n",
    "    for column, value in row.items():\n",
    "        if isinstance(value, str):\n",
    "            condition = f\"{column} = '{value}'\"\n",
    "        else:\n",
    "            condition = f\"{column} = {value}\"\n",
    "        conditions.append(condition)\n",
    "    where_clause += \" AND \".join(conditions)\n",
    "    return where_clause\n",
    "\n",
    "# Iterate over each row and generate the WHERE clause\n",
    "for _, row in df.iterrows():\n",
    "    where_clause = generate_where_clause(row)\n",
    "    print(f\"{where_clause}\")\n"
   ]
  }
 ],
 "metadata": {
  "kernelspec": {
   "display_name": "Python 3",
   "language": "python",
   "name": "python3"
  },
  "language_info": {
   "codemirror_mode": {
    "name": "ipython",
    "version": 3
   },
   "file_extension": ".py",
   "mimetype": "text/x-python",
   "name": "python",
   "nbconvert_exporter": "python",
   "pygments_lexer": "ipython3",
   "version": "3.11.2"
  }
 },
 "nbformat": 4,
 "nbformat_minor": 2
}
