{
 "cells": [
  {
   "cell_type": "code",
   "execution_count": 1,
   "metadata": {},
   "outputs": [],
   "source": [
    "# def my_function(values):\n",
    "#     # Write your code here\n",
    "#     output = [x*2 for x in values if x % 2 == 0 and x > 5]\n",
    "#     return output\n",
    "\n",
    "# values = [1, 2, 3, 4, 5, 6, 7, 8, 9, 10]\n",
    "# output = my_function(values)\n",
    "# print(f\"Your output is {output}\")\n",
    "\n",
    "# %run ./tests/test_sample.ipynb import test_output\n",
    "# try:\n",
    "#     test_output(output)\n",
    "# except AssertionError as e:\n",
    "#     print(e)"
   ]
  },
  {
   "cell_type": "code",
   "execution_count": 2,
   "metadata": {},
   "outputs": [
    {
     "data": {
      "application/vnd.jupyter.widget-view+json": {
       "model_id": "c155397724b74af69d62fa39a5182e16",
       "version_major": 2,
       "version_minor": 0
      },
      "text/plain": [
       "Button(description='Run Tests', style=ButtonStyle())"
      ]
     },
     "metadata": {},
     "output_type": "display_data"
    },
    {
     "data": {
      "application/vnd.jupyter.widget-view+json": {
       "model_id": "ad21588f66d74558b45f9916f18ab0f7",
       "version_major": 2,
       "version_minor": 0
      },
      "text/plain": [
       "Output()"
      ]
     },
     "metadata": {},
     "output_type": "display_data"
    }
   ],
   "source": [
    "import ipywidgets as widgets\n",
    "from IPython.display import display, clear_output\n",
    "\n",
    "# Define the function\n",
    "def my_function(values):\n",
    "    output = [x*2 for x in values if x % 2 == 0 and x > 5]\n",
    "    return output\n",
    "\n",
    "# Define the input values\n",
    "values = [1, 2, 3, 4, 5, 6, 7, 8, 9, 10]\n",
    "\n",
    "# Define the output widget\n",
    "out = widgets.Output()\n",
    "\n",
    "# Define the function to run the tests\n",
    "def run_tests(button):\n",
    "    with out:\n",
    "        clear_output()\n",
    "        # Run the function and assign the output to a variable\n",
    "        output = my_function(values)\n",
    "        print(f\"Your output is {output}\")\n",
    "\n",
    "        # Run the tests\n",
    "        %run ./tests/test_sample.ipynb import test_output\n",
    "\n",
    "        try:\n",
    "            test_output(output)\n",
    "        except AssertionError as e:\n",
    "            print(f\"Test failed: {e}\")\n",
    "\n",
    "# Define the button and link it to the run_tests function\n",
    "button = widgets.Button(description=\"Run Tests\")\n",
    "button.on_click(run_tests)\n",
    "\n",
    "# Display the button and output widget\n",
    "display(button)\n",
    "display(out)\n"
   ]
  }
 ],
 "metadata": {
  "kernelspec": {
   "display_name": "Python 3",
   "language": "python",
   "name": "python3"
  },
  "language_info": {
   "codemirror_mode": {
    "name": "ipython",
    "version": 3
   },
   "file_extension": ".py",
   "mimetype": "text/x-python",
   "name": "python",
   "nbconvert_exporter": "python",
   "pygments_lexer": "ipython3",
   "version": "3.11.2"
  },
  "orig_nbformat": 4
 },
 "nbformat": 4,
 "nbformat_minor": 2
}
