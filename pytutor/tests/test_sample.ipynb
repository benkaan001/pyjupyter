{
 "cells": [
  {
   "cell_type": "code",
   "execution_count": null,
   "metadata": {},
   "outputs": [],
   "source": [
    "def test_output(output):\n",
    "    values = [1, 2, 3, 4, 5, 6, 7, 8, 9, 10]\n",
    "    expected_output = [x*2 for x in values if x % 2 == 0 and x > 5]\n",
    "    expected_len = len(expected_output)\n",
    "    \n",
    "    # Check that the output is a list\n",
    "    assert isinstance(output, list), \"Output should be a list\"\n",
    "\n",
    "    # Check that the output is not the same as the input values list\n",
    "    assert output != values, \"Output should not be the same as the input values list\"\n",
    "\n",
    "    # Check that the output length is correct based on the input values list\n",
    "    assert len(output) == expected_len, f\"Output length should be {expected_len}\"\n",
    "\n",
    "    # Check that the output is correct\n",
    "    assert output == expected_output, f\"Output should be {expected_output}\"\n",
    "\n",
    "    print(\"Output is correct\")\n"
   ]
  }
 ],
 "metadata": {
  "kernelspec": {
   "display_name": "Python 3",
   "language": "python",
   "name": "python3"
  },
  "language_info": {
   "codemirror_mode": {
    "name": "ipython",
    "version": 3
   },
   "file_extension": ".py",
   "mimetype": "text/x-python",
   "name": "python",
   "nbconvert_exporter": "python",
   "pygments_lexer": "ipython3",
   "version": "3.11.2"
  },
  "orig_nbformat": 4
 },
 "nbformat": 4,
 "nbformat_minor": 2
}
