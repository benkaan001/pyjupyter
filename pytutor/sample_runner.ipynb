{
 "cells": [
  {
   "cell_type": "code",
   "execution_count": 1,
   "metadata": {},
   "outputs": [
    {
     "data": {
      "application/vnd.jupyter.widget-view+json": {
       "model_id": "4a58c8a7cce14ec2ba2e404a47c70e2a",
       "version_major": 2,
       "version_minor": 0
      },
      "text/plain": [
       "Button(description='Run Tests', style=ButtonStyle())"
      ]
     },
     "metadata": {},
     "output_type": "display_data"
    },
    {
     "data": {
      "application/vnd.jupyter.widget-view+json": {
       "model_id": "bbe1cb02ac63486180be80aacd812078",
       "version_major": 2,
       "version_minor": 0
      },
      "text/plain": [
       "Output()"
      ]
     },
     "metadata": {},
     "output_type": "display_data"
    },
    {
     "data": {
      "application/vnd.jupyter.widget-view+json": {
       "model_id": "2b0decf6ae544958beebcf90ef2f3858",
       "version_major": 2,
       "version_minor": 0
      },
      "text/plain": [
       "Output()"
      ]
     },
     "metadata": {},
     "output_type": "display_data"
    }
   ],
   "source": [
    "import ipywidgets as widgets\n",
    "from IPython.display import display, clear_output\n",
    "\n",
    "# Define the input values\n",
    "values = [1, 2, 3, 4, 5, 6, 7, 8, 9, 10]\n",
    "\n",
    "# Define the output widget\n",
    "out = widgets.Output()\n",
    "\n",
    "# Define the function to run the tests\n",
    "def run_tests(button):\n",
    "    with out:\n",
    "        clear_output()\n",
    "        # Run the function and assign the output to a variable\n",
    "        %run ./sample.ipynb\n",
    "        output = my_function(values)\n",
    "        print(f\"Your output: {output}\")\n",
    "\n",
    "        # Run the tests\n",
    "        %run ./tests/test_sample.ipynb import test_output\n",
    "\n",
    "        try:\n",
    "            test_output(output)\n",
    "            print(\"All tests passed!\")\n",
    "        except AssertionError as e:\n",
    "            print(f\"Test failed: {e}\")\n",
    "\n",
    "# Define the button and link it to the run_tests function\n",
    "button = widgets.Button(description=\"Run Tests\")\n",
    "button.on_click(run_tests)\n",
    "\n",
    "# Display the button and output widget\n",
    "display(button)\n",
    "display(out)\n"
   ]
  }
 ],
 "metadata": {
  "kernelspec": {
   "display_name": "Python 3",
   "language": "python",
   "name": "python3"
  },
  "language_info": {
   "codemirror_mode": {
    "name": "ipython",
    "version": 3
   },
   "file_extension": ".py",
   "mimetype": "text/x-python",
   "name": "python",
   "nbconvert_exporter": "python",
   "pygments_lexer": "ipython3",
   "version": "3.11.2"
  },
  "orig_nbformat": 4
 },
 "nbformat": 4,
 "nbformat_minor": 2
}
